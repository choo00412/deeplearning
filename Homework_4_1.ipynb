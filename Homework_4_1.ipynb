{
 "cells": [
  {
   "cell_type": "markdown",
   "metadata": {
    "id": "0FjsllkPEDO2"
   },
   "source": [
    "#####    \n",
    "학번: 2021136138   \n",
    "이름: 추승연"
   ]
  },
  {
   "cell_type": "markdown",
   "metadata": {
    "id": "dziJ83JoEVFL"
   },
   "source": [
    "# [문제 1]    \n",
    "수업 자료에서 제시하고 있는 다음 코드들을 Colab으로 옮겨 실행하고 각 결과를 Colab내에 잘 정리하여 제시하기"
   ]
  },
  {
   "cell_type": "code",
   "execution_count": 17,
   "metadata": {},
   "outputs": [
    {
     "name": "stdout",
     "output_type": "stream",
     "text": [
      "/home/work/dl_choo\n"
     ]
    }
   ],
   "source": [
    "import os\n",
    "print(os.getcwd())  # 현재 작업 디렉터리 출력\n"
   ]
  },
  {
   "cell_type": "code",
   "execution_count": 18,
   "metadata": {},
   "outputs": [],
   "source": [
    "BASE_PATH = os.getcwd()  # 현재 디렉터리를 BASE_PATH로 설정\n"
   ]
  },
  {
   "cell_type": "code",
   "execution_count": 19,
   "metadata": {},
   "outputs": [],
   "source": [
    "btc_krw_path = os.path.join(BASE_PATH, \"BTC_KRW.csv\")\n"
   ]
  },
  {
   "cell_type": "code",
   "execution_count": 1,
   "metadata": {
    "scrolled": true
   },
   "outputs": [
    {
     "name": "stdout",
     "output_type": "stream",
     "text": [
      "Defaulting to user installation because normal site-packages is not writeable\n",
      "Looking in indexes: https://pypi.org/simple, https://pypi.ngc.nvidia.com\n",
      "Collecting yfinance\n",
      "  Downloading yfinance-0.2.50-py2.py3-none-any.whl.metadata (5.5 kB)\n",
      "Requirement already satisfied: pandas>=1.3.0 in /usr/local/lib/python3.10/dist-packages (from yfinance) (1.5.3)\n",
      "Requirement already satisfied: numpy>=1.16.5 in /usr/local/lib/python3.10/dist-packages (from yfinance) (1.24.4)\n",
      "Requirement already satisfied: requests>=2.31 in /usr/local/lib/python3.10/dist-packages (from yfinance) (2.31.0)\n",
      "Collecting multitasking>=0.0.7 (from yfinance)\n",
      "  Downloading multitasking-0.0.11-py3-none-any.whl.metadata (5.5 kB)\n",
      "Requirement already satisfied: lxml>=4.9.1 in /usr/local/lib/python3.10/dist-packages (from yfinance) (4.9.1)\n",
      "Requirement already satisfied: platformdirs>=2.0.0 in /usr/local/lib/python3.10/dist-packages (from yfinance) (4.2.0)\n",
      "Requirement already satisfied: pytz>=2022.5 in /usr/local/lib/python3.10/dist-packages (from yfinance) (2024.1)\n",
      "Collecting frozendict>=2.3.4 (from yfinance)\n",
      "  Downloading frozendict-2.4.6-cp310-cp310-manylinux_2_17_x86_64.manylinux2014_x86_64.whl.metadata (23 kB)\n",
      "Collecting peewee>=3.16.2 (from yfinance)\n",
      "  Downloading peewee-3.17.8.tar.gz (948 kB)\n",
      "\u001b[2K     \u001b[90m━━━━━━━━━━━━━━━━━━━━━━━━━━━━━━━━━━━━━━\u001b[0m \u001b[32m948.2/948.2 kB\u001b[0m \u001b[31m38.7 MB/s\u001b[0m eta \u001b[36m0:00:00\u001b[0m\n",
      "\u001b[?25h  Installing build dependencies ... \u001b[?25ldone\n",
      "\u001b[?25h  Getting requirements to build wheel ... \u001b[?25ldone\n",
      "\u001b[?25h  Preparing metadata (pyproject.toml) ... \u001b[?25ldone\n",
      "\u001b[?25hCollecting beautifulsoup4>=4.11.1 (from yfinance)\n",
      "  Downloading beautifulsoup4-4.12.3-py3-none-any.whl.metadata (3.8 kB)\n",
      "Collecting html5lib>=1.1 (from yfinance)\n",
      "  Downloading html5lib-1.1-py2.py3-none-any.whl.metadata (16 kB)\n",
      "Requirement already satisfied: soupsieve>1.2 in /usr/local/lib/python3.10/dist-packages (from beautifulsoup4>=4.11.1->yfinance) (2.5)\n",
      "Requirement already satisfied: six>=1.9 in /usr/local/lib/python3.10/dist-packages (from html5lib>=1.1->yfinance) (1.16.0)\n",
      "Requirement already satisfied: webencodings in /usr/local/lib/python3.10/dist-packages (from html5lib>=1.1->yfinance) (0.5.1)\n",
      "Requirement already satisfied: python-dateutil>=2.8.1 in /usr/local/lib/python3.10/dist-packages (from pandas>=1.3.0->yfinance) (2.9.0.post0)\n",
      "Requirement already satisfied: charset-normalizer<4,>=2 in /usr/local/lib/python3.10/dist-packages (from requests>=2.31->yfinance) (3.3.2)\n",
      "Requirement already satisfied: idna<4,>=2.5 in /usr/local/lib/python3.10/dist-packages (from requests>=2.31->yfinance) (3.6)\n",
      "Requirement already satisfied: urllib3<3,>=1.21.1 in /usr/local/lib/python3.10/dist-packages (from requests>=2.31->yfinance) (1.26.18)\n",
      "Requirement already satisfied: certifi>=2017.4.17 in /usr/local/lib/python3.10/dist-packages (from requests>=2.31->yfinance) (2024.2.2)\n",
      "Downloading yfinance-0.2.50-py2.py3-none-any.whl (102 kB)\n",
      "\u001b[2K   \u001b[90m━━━━━━━━━━━━━━━━━━━━━━━━━━━━━━━━━━━━━━━\u001b[0m \u001b[32m102.2/102.2 kB\u001b[0m \u001b[31m268.6 MB/s\u001b[0m eta \u001b[36m0:00:00\u001b[0m\n",
      "\u001b[?25hDownloading beautifulsoup4-4.12.3-py3-none-any.whl (147 kB)\n",
      "\u001b[2K   \u001b[90m━━━━━━━━━━━━━━━━━━━━━━━━━━━━━━━━━━━━━━━\u001b[0m \u001b[32m147.9/147.9 kB\u001b[0m \u001b[31m137.0 MB/s\u001b[0m eta \u001b[36m0:00:00\u001b[0m\n",
      "\u001b[?25hDownloading frozendict-2.4.6-cp310-cp310-manylinux_2_17_x86_64.manylinux2014_x86_64.whl (117 kB)\n",
      "\u001b[2K   \u001b[90m━━━━━━━━━━━━━━━━━━━━━━━━━━━━━━━━━━━━━━━\u001b[0m \u001b[32m117.4/117.4 kB\u001b[0m \u001b[31m235.7 MB/s\u001b[0m eta \u001b[36m0:00:00\u001b[0m\n",
      "\u001b[?25hDownloading html5lib-1.1-py2.py3-none-any.whl (112 kB)\n",
      "\u001b[2K   \u001b[90m━━━━━━━━━━━━━━━━━━━━━━━━━━━━━━━━━━━━━━━\u001b[0m \u001b[32m112.2/112.2 kB\u001b[0m \u001b[31m241.6 MB/s\u001b[0m eta \u001b[36m0:00:00\u001b[0m\n",
      "\u001b[?25hDownloading multitasking-0.0.11-py3-none-any.whl (8.5 kB)\n",
      "Building wheels for collected packages: peewee\n",
      "  Building wheel for peewee (pyproject.toml) ... \u001b[?25ldone\n",
      "\u001b[?25h  Created wheel for peewee: filename=peewee-3.17.8-cp310-cp310-linux_x86_64.whl size=843016 sha256=d69194559fbd93bdaa7bbc67021ac016a702350ccab63061d7a4eeb0355deeb7\n",
      "  Stored in directory: /tmp/pip-ephem-wheel-cache-b189ge9d/wheels/75/79/e5/8838db0594cc6c587142fd2563356392ade6255c5930411069\n",
      "Successfully built peewee\n",
      "\u001b[33mDEPRECATION: devscripts 2.22.1ubuntu1 has a non-standard version number. pip 24.1 will enforce this behaviour change. A possible replacement is to upgrade to a newer version of devscripts or contact the author to suggest that they release a version with a conforming version number. Discussion can be found at https://github.com/pypa/pip/issues/12063\u001b[0m\u001b[33m\n",
      "\u001b[0mInstalling collected packages: peewee, multitasking, html5lib, frozendict, beautifulsoup4, yfinance\n",
      "\u001b[31mERROR: pip's dependency resolver does not currently take into account all the packages that are installed. This behaviour is the source of the following dependency conflicts.\n",
      "konlpy 0.5.2 requires beautifulsoup4==4.6.0, but you have beautifulsoup4 4.12.3 which is incompatible.\u001b[0m\u001b[31m\n",
      "\u001b[0mSuccessfully installed beautifulsoup4-4.12.3 frozendict-2.4.6 html5lib-1.1 multitasking-0.0.11 peewee-3.17.8 yfinance-0.2.50\n",
      "\n",
      "\u001b[1m[\u001b[0m\u001b[34;49mnotice\u001b[0m\u001b[1;39;49m]\u001b[0m\u001b[39;49m A new release of pip is available: \u001b[0m\u001b[31;49m24.0\u001b[0m\u001b[39;49m -> \u001b[0m\u001b[32;49m24.3.1\u001b[0m\n",
      "\u001b[1m[\u001b[0m\u001b[34;49mnotice\u001b[0m\u001b[1;39;49m]\u001b[0m\u001b[39;49m To update, run: \u001b[0m\u001b[32;49mpython3 -m pip install --upgrade pip\u001b[0m\n",
      "Note: you may need to restart the kernel to use updated packages.\n"
     ]
    }
   ],
   "source": [
    "pip install yfinance"
   ]
  },
  {
   "cell_type": "markdown",
   "metadata": {
    "id": "8ym_3NsJJ-3p"
   },
   "source": [
    "## 기본 코드"
   ]
  },
  {
   "cell_type": "markdown",
   "metadata": {
    "id": "KR5O0HbOccbA"
   },
   "source": [
    "##### wandb"
   ]
  },
  {
   "cell_type": "code",
   "execution_count": 20,
   "metadata": {
    "colab": {
     "base_uri": "https://localhost:8080/"
    },
    "executionInfo": {
     "elapsed": 13666,
     "status": "ok",
     "timestamp": 1702642133373,
     "user": {
      "displayName": "NULL JO",
      "userId": "17442773596076107047"
     },
     "user_tz": -540
    },
    "id": "C8PaxWvIoxXo",
    "outputId": "a5385d20-1dd7-4031-ac65-75aa6c84403d"
   },
   "outputs": [],
   "source": [
    "# 설치\n",
    "!pip install --upgrade wandb -qq"
   ]
  },
  {
   "cell_type": "code",
   "execution_count": 21,
   "metadata": {
    "colab": {
     "base_uri": "https://localhost:8080/",
     "height": 71
    },
    "executionInfo": {
     "elapsed": 11741,
     "status": "ok",
     "timestamp": 1702642235604,
     "user": {
      "displayName": "NULL JO",
      "userId": "17442773596076107047"
     },
     "user_tz": -540
    },
    "id": "GoWEwYGvwLWB",
    "outputId": "6f6c652e-ad9c-485c-8ccb-aaaaae38ee36"
   },
   "outputs": [
    {
     "name": "stderr",
     "output_type": "stream",
     "text": [
      "\u001b[34m\u001b[1mwandb\u001b[0m: \u001b[33mWARNING\u001b[0m Calling wandb.login() after wandb.init() has no effect.\n"
     ]
    },
    {
     "data": {
      "text/plain": [
       "True"
      ]
     },
     "execution_count": 21,
     "metadata": {},
     "output_type": "execute_result"
    }
   ],
   "source": [
    "# 로그인\n",
    "\n",
    "import wandb\n",
    "wandb.login()"
   ]
  },
  {
   "cell_type": "markdown",
   "metadata": {
    "id": "AsgSAFbqKN8v"
   },
   "source": [
    "##### import"
   ]
  },
  {
   "cell_type": "code",
   "execution_count": 22,
   "metadata": {
    "colab": {
     "base_uri": "https://localhost:8080/"
    },
    "executionInfo": {
     "elapsed": 577,
     "status": "ok",
     "timestamp": 1702642425537,
     "user": {
      "displayName": "NULL JO",
      "userId": "17442773596076107047"
     },
     "user_tz": -540
    },
    "id": "uCTWpZ2BBORl",
    "outputId": "01e29041-84b2-48d2-e32d-38082266d632"
   },
   "outputs": [
    {
     "name": "stdout",
     "output_type": "stream",
     "text": [
      "BASE_PATH 설정: /home/work/dl_choo\n",
      "CHECKPOINT_FILE_PATH 설정: /home/work/dl_choo/checkpoints\n"
     ]
    }
   ],
   "source": [
    "from datetime import datetime\n",
    "import os\n",
    "from pathlib import Path\n",
    "import sys\n",
    "import torch\n",
    "from torch import nn, optim\n",
    "from torch.utils.data import DataLoader, Dataset, random_split\n",
    "from torchvision import datasets, transforms\n",
    "import wandb\n",
    "from matplotlib import pyplot as plt\n",
    "import numpy as np\n",
    "import pandas as pd\n",
    "\n",
    "# Set BASE_PATH (현재 작업 디렉터리 설정)\n",
    "BASE_PATH = \"/home/work/dl_choo\"  # 현재 디렉터리로 설정\n",
    "print(f\"BASE_PATH 설정: {BASE_PATH}\")\n",
    "sys.path.append(BASE_PATH)\n",
    "\n",
    "# Set CHECKPOINT_FILE_PATH (체크포인트 디렉터리 설정)\n",
    "CURRENT_FILE_PATH = os.getcwd()  # 현재 작업 디렉터리를 사용\n",
    "CHECKPOINT_FILE_PATH = os.path.join(CURRENT_FILE_PATH, \"checkpoints\")\n",
    "if not os.path.isdir(CHECKPOINT_FILE_PATH):\n",
    "    os.makedirs(CHECKPOINT_FILE_PATH)\n",
    "print(f\"CHECKPOINT_FILE_PATH 설정: {CHECKPOINT_FILE_PATH}\")\n"
   ]
  },
  {
   "cell_type": "markdown",
   "metadata": {
    "id": "BxS2tZCmc4V9"
   },
   "source": [
    "##### utils"
   ]
  },
  {
   "cell_type": "code",
   "execution_count": 23,
   "metadata": {
    "colab": {
     "base_uri": "https://localhost:8080/"
    },
    "executionInfo": {
     "elapsed": 4,
     "status": "ok",
     "timestamp": 1702642255570,
     "user": {
      "displayName": "NULL JO",
      "userId": "17442773596076107047"
     },
     "user_tz": -540
    },
    "id": "G2e9cjPDZTAM",
    "outputId": "d08b6d9e-5cf8-4f30-c4ac-75fe55ec5f6b"
   },
   "outputs": [
    {
     "name": "stdout",
     "output_type": "stream",
     "text": [
      "Linux\n"
     ]
    }
   ],
   "source": [
    "# _01_code/_99_common_utils/utils.py\n",
    "\n",
    "import os\n",
    "import sys\n",
    "\n",
    "\n",
    "def is_linux():\n",
    "    if sys.platform.startswith(\"linux\"):\n",
    "        return True\n",
    "    else:\n",
    "        return False\n",
    "\n",
    "\n",
    "def is_windows():\n",
    "    if os.name == \"nt\":\n",
    "        return True\n",
    "    else:\n",
    "        return False\n",
    "\n",
    "\n",
    "def is_mac():\n",
    "    if sys.platform == \"darwin\":\n",
    "        return True\n",
    "    else:\n",
    "        return False\n",
    "\n",
    "\n",
    "def get_num_cpu_cores():\n",
    "    import multiprocessing\n",
    "    return multiprocessing.cpu_count()\n",
    "\n",
    "\n",
    "from string import Template\n",
    "\n",
    "class DeltaTemplate(Template):\n",
    "    delimiter = \"%\"\n",
    "\n",
    "    def strfdelta(tdelta, fmt):\n",
    "        d = {\"D\": tdelta.days}\n",
    "        d[\"H\"], rem = divmod(tdelta.seconds, 3600)\n",
    "        d[\"M\"], d[\"S\"] = divmod(rem, 60)\n",
    "        t = DeltaTemplate(fmt)\n",
    "        return t.substitute(**d)\n",
    "\n",
    "\n",
    "def strfdelta(td, fmt):\n",
    "\n",
    "    # Get the timedelta’s sign and absolute number of seconds.\n",
    "    sign = \"-\" if td.days < 0 else \"+\"\n",
    "    secs = abs(td).total_seconds()\n",
    "\n",
    "    # Break the seconds into more readable quantities.\n",
    "    days, rem = divmod(secs, 86400)  # Seconds per day: 24 * 60 * 60\n",
    "    hours, rem = divmod(rem, 3600)  # Seconds per hour: 60 * 60\n",
    "    mins, secs = divmod(rem, 60)\n",
    "\n",
    "    # Format (as per above answers) and return the result string.\n",
    "    t = DeltaTemplate(fmt)\n",
    "    return t.substitute(\n",
    "        s=sign,\n",
    "        D=\"{:d}\".format(int(days)),\n",
    "        H=\"{:02d}\".format(int(hours)),\n",
    "        M=\"{:02d}\".format(int(mins)),\n",
    "        S=\"{:02d}\".format(int(secs)),\n",
    "        )\n",
    "\n",
    "\n",
    "if __name__ == \"__main__\":\n",
    "    if is_linux():\n",
    "        print(\"Linux\")\n",
    "    elif is_windows():\n",
    "        print(\"Windows\")\n",
    "    elif is_mac():\n",
    "        print(\"Mac\")\n",
    "    else:\n",
    "        print(\"<unknown>\")\n"
   ]
  },
  {
   "cell_type": "markdown",
   "metadata": {
    "id": "mJMrMfQUmEWY"
   },
   "source": [
    "##### get_parser"
   ]
  },
  {
   "cell_type": "code",
   "execution_count": 24,
   "metadata": {
    "id": "G3cTUQd5mGvo"
   },
   "outputs": [],
   "source": [
    "import argparse\n",
    "\n",
    "\n",
    "def get_parser():\n",
    "  parser = argparse.ArgumentParser()\n",
    "\n",
    "  parser.add_argument(\n",
    "    \"--wandb\", action=argparse.BooleanOptionalAction, default=False, help=\"True or False\"\n",
    "  )\n",
    "\n",
    "  parser.add_argument(\n",
    "    \"-b\", \"--batch_size\", type=int, default=2048, help=\"Batch size (int, default: 2_048)\"\n",
    "  )\n",
    "\n",
    "  parser.add_argument(\n",
    "    \"-e\", \"--epochs\", type=int, default=10_000, help=\"Number of training epochs (int, default:10_000)\"\n",
    "  )\n",
    "\n",
    "  parser.add_argument(\n",
    "    \"-r\", \"--learning_rate\", type=float, default=1e-4, help=\"Learning rate (float, default: 1e-3)\"\n",
    "  )\n",
    "\n",
    "  parser.add_argument(\n",
    "    \"-w\", \"--weight_decay\", type=float, default=0.0, help=\"Weight decay (float, default: 0.0)\"\n",
    "  )\n",
    "\n",
    "  parser.add_argument(\n",
    "    \"-v\", \"--validation_intervals\", type=int, default=30,\n",
    "    help=\"Number of training epochs between validations (int, default: 10)\"\n",
    "  )\n",
    "\n",
    "  parser.add_argument(\n",
    "    \"-p\", \"--early_stop_patience\", type=int, default=30,\n",
    "    help=\"Number of early stop patience (int, default: 10)\"\n",
    "  )\n",
    "\n",
    "  parser.add_argument(\n",
    "    \"-d\", \"--early_stop_delta\", type=float, default=0.000001,\n",
    "    help=\"Delta value of early stop (float, default: 0.000001)\"\n",
    "  )\n",
    "\n",
    "  return parser\n"
   ]
  },
  {
   "cell_type": "markdown",
   "metadata": {
    "id": "f_YBHFC1c8_0"
   },
   "source": [
    "##### class EarlyStopping"
   ]
  },
  {
   "cell_type": "code",
   "execution_count": 25,
   "metadata": {
    "id": "IL_MrV3MZH7D"
   },
   "outputs": [],
   "source": [
    "import os\n",
    "import torch\n",
    "\n",
    "class EarlyStopping:\n",
    "    \"\"\"Early stops the training if validation loss doesn't improve after a given patience.\"\"\"\n",
    "    def __init__(self, patience=10, delta=0.00001, project_name=None, checkpoint_file_path=None, run_time_str=None):\n",
    "        self.patience = patience\n",
    "        self.counter = 0\n",
    "        self.delta = delta\n",
    "        self.val_loss_min = float('inf')  # 초기값을 무한대로 설정\n",
    "\n",
    "        # 경로 설정 및 생성\n",
    "        self.file_path = os.path.join(checkpoint_file_path, f\"{project_name}_checkpoint_{run_time_str}.pt\")\n",
    "        self.latest_file_path = os.path.join(checkpoint_file_path, f\"{project_name}_checkpoint_latest.pt\")\n",
    "        os.makedirs(checkpoint_file_path, exist_ok=True)\n",
    "\n",
    "    def check_and_save(self, new_validation_loss, model):\n",
    "        early_stop = False\n",
    "\n",
    "        if new_validation_loss < self.val_loss_min - self.delta:\n",
    "            message = f'V_loss decreased ({self.val_loss_min:7.5f} --> {new_validation_loss:7.5f}). Saving model...'\n",
    "            self.save_checkpoint(new_validation_loss, model)\n",
    "            self.val_loss_min = new_validation_loss\n",
    "            self.counter = 0\n",
    "        else:\n",
    "            self.counter += 1\n",
    "            message = f'Early stopping counter: {self.counter} out of {self.patience}'\n",
    "            if self.counter >= self.patience:\n",
    "                early_stop = True\n",
    "                message += \" *** TRAIN EARLY STOPPED! ***\"\n",
    "\n",
    "        return message, early_stop\n",
    "\n",
    "    def save_checkpoint(self, val_loss, model):\n",
    "        \"\"\"Saves model when validation loss decreases.\"\"\"\n",
    "        torch.save(model.state_dict(), self.file_path)\n",
    "        torch.save(model.state_dict(), self.latest_file_path)\n",
    "        self.val_loss_min = val_loss\n"
   ]
  },
  {
   "cell_type": "markdown",
   "metadata": {
    "id": "HZUL6X78Z981"
   },
   "source": [
    "##### class CryptoCurrencyDataset"
   ]
  },
  {
   "cell_type": "code",
   "execution_count": 26,
   "metadata": {
    "id": "dPDv0BHjaDFM"
   },
   "outputs": [],
   "source": [
    "class CryptoCurrencyDataset(Dataset):\n",
    "  def __init__(self, X, y, is_regression=True):\n",
    "    self.X = X\n",
    "    self.y = y\n",
    "\n",
    "    assert len(self.X) == len(self.y)\n",
    "\n",
    "  def __len__(self):\n",
    "    return len(self.X)\n",
    "\n",
    "  def __getitem__(self, idx):\n",
    "    X = self.X[idx]\n",
    "    y = self.y[idx]\n",
    "    return X, y\n",
    "\n",
    "  def __str__(self):\n",
    "    str = \"Data Size: {0}, Input Shape: {1}, Target Shape: {2}\".format(\n",
    "      len(self.X), self.X.shape, self.y.shape\n",
    "    )\n",
    "    return str\n",
    "\n",
    "\n"
   ]
  },
  {
   "cell_type": "markdown",
   "metadata": {
    "id": "MyhBFwl-hrzE"
   },
   "source": [
    "## 실습 코드"
   ]
  },
  {
   "cell_type": "markdown",
   "metadata": {
    "id": "-wNtnRkdKd9_"
   },
   "source": [
    "### _01_code/_11_lstm_and_its_application/g_crypto_currency_regression_train_lstm.py"
   ]
  },
  {
   "cell_type": "markdown",
   "metadata": {
    "id": "KJmVYkg8Z2RH"
   },
   "source": [
    "##### get_crytocurrency_data"
   ]
  },
  {
   "cell_type": "code",
   "execution_count": 27,
   "metadata": {
    "id": "K6UOC3caaG8V"
   },
   "outputs": [],
   "source": [
    "def get_cryptocurrency_data(\n",
    "    sequence_size=10, validation_size=100, test_size=10, target_column='Close', y_normalizer=1.0e7, is_regression=True\n",
    "):\n",
    "    BASE_PATH = \"/home/work/dl_choo/\"  # 실제 파일 경로 설정\n",
    "    btc_krw_path = os.path.join(BASE_PATH, \"BTC_KRW.csv\")  # 파일 경로 설정\n",
    "    df = pd.read_csv(btc_krw_path)  # 데이터 읽기\n",
    "    row_size = len(df)\n",
    "    # ['Date', 'Open', 'High', 'Low', 'Close', 'Volume']\n",
    "    date_list = df['Date']\n",
    "\n",
    "    df = df.drop(columns=['Date'])\n",
    "\n",
    "    data_size = row_size - sequence_size\n",
    "    train_size = data_size - (validation_size + test_size)\n",
    "    #################################################################################################\n",
    "\n",
    "    row_cursor = 0\n",
    "\n",
    "    X_train_list = []\n",
    "    y_train_regression_list = []\n",
    "    y_train_classification_list = []\n",
    "    y_train_date = []\n",
    "    for idx in range(0, train_size):\n",
    "        sequence_data = df.iloc[idx: idx + sequence_size].values  # sequence_data.shape: (sequence_size, 5)\n",
    "        X_train_list.append(torch.from_numpy(sequence_data))\n",
    "        y_train_regression_list.append(df.iloc[idx + sequence_size][target_column])\n",
    "        y_train_classification_list.append(\n",
    "            1 if df.iloc[idx + sequence_size][target_column] >= df.iloc[idx + sequence_size - 1][target_column] else 0\n",
    "        )\n",
    "        y_train_date.append(date_list[idx + sequence_size])\n",
    "        row_cursor += 1\n",
    "\n",
    "    X_train = torch.stack(X_train_list, dim=0).to(torch.float)\n",
    "    y_train_regression = torch.tensor(y_train_regression_list, dtype=torch.float32) / y_normalizer\n",
    "    y_train_classification = torch.tensor(y_train_classification_list, dtype=torch.int64)\n",
    "\n",
    "    m = X_train.mean(dim=0, keepdim=True)\n",
    "    s = X_train.std(dim=0, unbiased=False, keepdim=True)\n",
    "    X_train = (X_train - m) / s\n",
    "\n",
    "    #################################################################################################\n",
    "\n",
    "    X_validation_list = []\n",
    "    y_validation_regression_list = []\n",
    "    y_validation_classification_list = []\n",
    "    y_validation_date = []\n",
    "    for idx in range(row_cursor, row_cursor + validation_size):\n",
    "        sequence_data = df.iloc[idx: idx + sequence_size].values  # sequence_data.shape: (sequence_size, 5)\n",
    "        X_validation_list.append(torch.from_numpy(sequence_data))\n",
    "        y_validation_regression_list.append(df.iloc[idx + sequence_size][target_column])\n",
    "        y_validation_classification_list.append(\n",
    "            1 if df.iloc[idx + sequence_size][target_column] >= df.iloc[idx + sequence_size - 1][target_column] else 0\n",
    "        )\n",
    "        y_validation_date.append(date_list[idx + sequence_size])\n",
    "        row_cursor += 1\n",
    "\n",
    "    X_validation = torch.stack(X_validation_list, dim=0).to(torch.float)\n",
    "    y_validation_regression = torch.tensor(y_validation_regression_list, dtype=torch.float32) / y_normalizer\n",
    "    y_validation_classification = torch.tensor(y_validation_classification_list, dtype=torch.int64)\n",
    "\n",
    "    X_validation = (X_validation - m) / s\n",
    "    #################################################################################################\n",
    "\n",
    "    X_test_list = []\n",
    "    y_test_regression_list = []\n",
    "    y_test_classification_list = []\n",
    "    y_test_date = []\n",
    "    for idx in range(row_cursor, row_cursor + test_size):\n",
    "        sequence_data = df.iloc[idx: idx + sequence_size].values  # sequence_data.shape: (sequence_size, 5)\n",
    "        X_test_list.append(torch.from_numpy(sequence_data))\n",
    "        y_test_regression_list.append(df.iloc[idx + sequence_size][target_column])\n",
    "        y_test_classification_list.append(\n",
    "            1 if df.iloc[idx + sequence_size][target_column] > df.iloc[idx + sequence_size - 1][target_column] else 0\n",
    "        )\n",
    "        y_test_date.append(date_list[idx + sequence_size])\n",
    "        row_cursor += 1\n",
    "\n",
    "    X_test = torch.stack(X_test_list, dim=0).to(torch.float)\n",
    "    y_test_regression = torch.tensor(y_test_regression_list, dtype=torch.float32) / y_normalizer\n",
    "    y_test_classification = torch.tensor(y_test_classification_list, dtype=torch.int64)\n",
    "\n",
    "    X_test = (X_test - m) / s\n",
    "\n",
    "    if is_regression:\n",
    "        return (\n",
    "            X_train, X_validation, X_test,\n",
    "            y_train_regression, y_validation_regression, y_test_regression,\n",
    "            y_train_date, y_validation_date, y_test_date\n",
    "        )\n",
    "    else:\n",
    "        return (\n",
    "            X_train, X_validation, X_test,\n",
    "            y_train_classification, y_validation_classification, y_test_classification,\n",
    "            y_train_date, y_validation_date, y_test_date\n",
    "        )\n"
   ]
  },
  {
   "cell_type": "markdown",
   "metadata": {
    "id": "lzFPaG2I11PC"
   },
   "source": [
    "##### get_btc_krw_data"
   ]
  },
  {
   "cell_type": "code",
   "execution_count": 57,
   "metadata": {
    "id": "kht1XPU-1QSJ"
   },
   "outputs": [],
   "source": [
    "def get_btc_krw_data(sequence_size=10, validation_size=100, test_size=10, target_column='Close', y_normalizer=1.0e7):\n",
    "    # CSV 파일 읽기 (첫 번째 줄을 열 이름으로 설정)\n",
    "    df = pd.read_csv('BTC_KRW.csv', header=0)\n",
    "    \n",
    "    # 열 이름 설정\n",
    "    df.columns = ['Date', 'Close', 'High', 'Low', 'Open', 'Volume']\n",
    "    \n",
    "    # 데이터 타입 변환\n",
    "    df['Date'] = pd.to_datetime(df['Date'], format='%Y.%m.%d')  # 날짜 열 변환\n",
    "    numeric_columns = ['Close', 'High', 'Low', 'Open', 'Volume']\n",
    "    df[numeric_columns] = df[numeric_columns].apply(pd.to_numeric, errors='coerce')  # 숫자 열 변환\n",
    "    \n",
    "    # NaN 값 처리\n",
    "    if df.isnull().any().any():\n",
    "        print(\"NaN 값이 발견되었습니다. 이를 0으로 채웁니다.\")\n",
    "        df = df.fillna(0)\n",
    "\n",
    "    # 날짜 열 제거 (학습에는 필요 없으므로)\n",
    "    df = df.drop(columns=['Date'])\n",
    "\n",
    "    # 데이터셋 분리\n",
    "    data_size = len(df) - sequence_size\n",
    "    train_size = data_size - (validation_size + test_size)\n",
    "\n",
    "    # 학습 데이터 준비\n",
    "    X_train, y_train = [], []\n",
    "    for i in range(train_size):\n",
    "        X_train.append(torch.tensor(df.iloc[i:i + sequence_size].values, dtype=torch.float32))\n",
    "        y_train.append(torch.tensor(df.iloc[i + sequence_size][target_column], dtype=torch.float32) / y_normalizer)\n",
    "\n",
    "    # 검증 데이터 준비\n",
    "    X_validation, y_validation = [], []\n",
    "    for i in range(train_size, train_size + validation_size):\n",
    "        X_validation.append(torch.tensor(df.iloc[i:i + sequence_size].values, dtype=torch.float32))\n",
    "        y_validation.append(torch.tensor(df.iloc[i + sequence_size][target_column], dtype=torch.float32) / y_normalizer)\n",
    "\n",
    "    # 테스트 데이터 준비\n",
    "    X_test, y_test = [], []\n",
    "    for i in range(train_size + validation_size, len(df) - sequence_size):\n",
    "        X_test.append(torch.tensor(df.iloc[i:i + sequence_size].values, dtype=torch.float32))\n",
    "        y_test.append(torch.tensor(df.iloc[i + sequence_size][target_column], dtype=torch.float32) / y_normalizer)\n",
    "\n",
    "    # DataLoader 반환\n",
    "    train_dataset = TensorDataset(torch.stack(X_train), torch.stack(y_train))\n",
    "    validation_dataset = TensorDataset(torch.stack(X_validation), torch.stack(y_validation))\n",
    "    test_dataset = TensorDataset(torch.stack(X_test), torch.stack(y_test))\n",
    "\n",
    "    train_loader = DataLoader(train_dataset, batch_size=2048, shuffle=True)\n",
    "    validation_loader = DataLoader(validation_dataset, batch_size=2048, shuffle=False)\n",
    "    test_loader = DataLoader(test_dataset, batch_size=2048, shuffle=False)\n",
    "\n",
    "    return train_loader, validation_loader, test_loader\n"
   ]
  },
  {
   "cell_type": "markdown",
   "metadata": {
    "id": "lYQzd550ZYny"
   },
   "source": [
    "##### class RegressionTrainer"
   ]
  },
  {
   "cell_type": "code",
   "execution_count": 52,
   "metadata": {
    "id": "uMxmlBTcZWBl"
   },
   "outputs": [],
   "source": [
    "class RegressionTrainer:\n",
    "  def __init__(\n",
    "    self, project_name, model, optimizer, train_data_loader, validation_data_loader, transforms,\n",
    "    run_time_str, wandb, device, checkpoint_file_path\n",
    "  ):\n",
    "    self.project_name = project_name\n",
    "    self.model = model\n",
    "    self.optimizer = optimizer\n",
    "    self.train_data_loader = train_data_loader\n",
    "    self.validation_data_loader = validation_data_loader\n",
    "    self.transforms = transforms\n",
    "    self.run_time_str = run_time_str\n",
    "    self.wandb = wandb\n",
    "    self.device = device\n",
    "    self.checkpoint_file_path = checkpoint_file_path\n",
    "\n",
    "    # Use a built-in loss function\n",
    "    self.loss_fn = nn.MSELoss()\n",
    "\n",
    "  def do_train(self):\n",
    "    self.model.train()  # Explained at 'Diverse Techniques' section\n",
    "\n",
    "    loss_train = 0.0\n",
    "    num_trains = 0\n",
    "\n",
    "    for train_batch in self.train_data_loader:\n",
    "      input_train, target_train = train_batch\n",
    "      input_train = input_train.to(device=self.device)\n",
    "      target_train = target_train.to(device=self.device)\n",
    "\n",
    "      if self.transforms:\n",
    "        input_train = self.transforms(input_train)\n",
    "\n",
    "      output_train = self.model(input_train)\n",
    "\n",
    "      loss = self.loss_fn(output_train.squeeze(dim=-1), target_train)\n",
    "\n",
    "      loss_train += loss.item()\n",
    "\n",
    "      num_trains += 1\n",
    "\n",
    "      self.optimizer.zero_grad()\n",
    "      loss.backward()\n",
    "      self.optimizer.step()\n",
    "\n",
    "    train_loss = loss_train / num_trains\n",
    "\n",
    "    return train_loss\n",
    "\n",
    "  def do_validation(self):\n",
    "    self.model.eval()   # Explained at 'Diverse Techniques' section\n",
    "\n",
    "    loss_validation = 0.0\n",
    "    num_validations = 0\n",
    "\n",
    "    with torch.no_grad():\n",
    "      for validation_batch in self.validation_data_loader:\n",
    "        input_validation, target_validation = validation_batch\n",
    "        input_validation = input_validation.to(device=self.device)\n",
    "        target_validation = target_validation.to(device=self.device)\n",
    "\n",
    "        if self.transforms:\n",
    "          input_validation = self.transforms(input_validation)\n",
    "\n",
    "        output_validation = self.model(input_validation)\n",
    "\n",
    "        loss_validation += self.loss_fn(output_validation.squeeze(dim=-1), target_validation).item()\n",
    "\n",
    "        num_validations += 1\n",
    "\n",
    "    validation_loss = loss_validation / num_validations\n",
    "\n",
    "    return validation_loss\n",
    "\n",
    "  def train_loop(self):\n",
    "    early_stopping = EarlyStopping(\n",
    "      patience=self.wandb.config.early_stop_patience,\n",
    "      delta=self.wandb.config.early_stop_delta,\n",
    "      project_name=self.project_name,\n",
    "      checkpoint_file_path=self.checkpoint_file_path,\n",
    "      run_time_str=self.run_time_str\n",
    "    )\n",
    "    n_epochs = self.wandb.config.epochs\n",
    "    training_start_time = datetime.now()\n",
    "\n",
    "    for epoch in range(1, n_epochs + 1):\n",
    "      train_loss = self.do_train()\n",
    "\n",
    "      if epoch == 1 or epoch % self.wandb.config.validation_intervals == 0:\n",
    "        validation_loss = self.do_validation()\n",
    "\n",
    "        elapsed_time = datetime.now() - training_start_time\n",
    "        epoch_per_second = 1000 * epoch / elapsed_time.microseconds\n",
    "\n",
    "        message, early_stop = early_stopping.check_and_save(validation_loss, self.model)\n",
    "\n",
    "        print(\n",
    "          f\"[Epoch {epoch:>3}] \"\n",
    "          f\"T_loss: {train_loss:7.5f}, \"\n",
    "          f\"V_loss: {validation_loss:7.5f}, \"\n",
    "          f\"{message} | \"\n",
    "          f\"T_time: {strfdelta(elapsed_time, '%H:%M:%S')}, \"\n",
    "          f\"T_speed: {epoch_per_second:4.3f}\"\n",
    "        )\n",
    "\n",
    "        self.wandb.log({\n",
    "          \"Epoch\": epoch,\n",
    "          \"Training loss\": train_loss,\n",
    "          \"Validation loss\": validation_loss,\n",
    "          \"Training speed (epochs/sec.)\": epoch_per_second,\n",
    "        })\n",
    "\n",
    "        if early_stop:\n",
    "          break\n",
    "\n",
    "    elapsed_time = datetime.now() - training_start_time\n",
    "    print(f\"Final training time: {strfdelta(elapsed_time, '%H:%M:%S')}\")\n"
   ]
  },
  {
   "cell_type": "markdown",
   "metadata": {
    "id": "06yFhih4135Z"
   },
   "source": [
    "##### get_model"
   ]
  },
  {
   "cell_type": "code",
   "execution_count": 53,
   "metadata": {
    "id": "h85ZC3DvKh1f"
   },
   "outputs": [],
   "source": [
    "def get_model():\n",
    "  class MyModel(nn.Module):\n",
    "    def __init__(self, n_input, n_output):\n",
    "      super().__init__()\n",
    "\n",
    "      self.lstm = nn.LSTM(input_size=n_input, hidden_size=128, num_layers=2, batch_first=True)\n",
    "      self.fcn = nn.Linear(in_features=128, out_features=n_output)\n",
    "\n",
    "    def forward(self, x):\n",
    "      x, hidden = self.lstm(x)\n",
    "      x = x[:, -1, :]  # x.shape: [32, 128]\n",
    "      x = self.fcn(x)\n",
    "      return x\n",
    "\n",
    "  my_model = MyModel(n_input=5, n_output=1)\n",
    "\n",
    "  return my_model"
   ]
  },
  {
   "cell_type": "markdown",
   "metadata": {
    "id": "hTcsut7K1-GX"
   },
   "source": [
    "##### main"
   ]
  },
  {
   "cell_type": "code",
   "execution_count": 54,
   "metadata": {
    "id": "tIpZ79WzbyO2"
   },
   "outputs": [],
   "source": [
    "def main(args):\n",
    "  run_time_str = datetime.now().astimezone().strftime('%Y-%m-%d_%H-%M-%S')\n",
    "\n",
    "  config = {\n",
    "    'epochs': args.epochs,\n",
    "    'batch_size': args.batch_size,\n",
    "    'validation_intervals': args.validation_intervals,\n",
    "    'learning_rate': args.learning_rate,\n",
    "    'early_stop_patience': args.early_stop_patience,\n",
    "    'early_stop_delta': args.early_stop_delta,\n",
    "    'weight_decay': args.weight_decay\n",
    "  }\n",
    "\n",
    "  project_name = \"lstm_regression_btc_krw\"\n",
    "  wandb.init(\n",
    "    mode=\"online\" if args.wandb else \"disabled\",\n",
    "    project=project_name,\n",
    "    notes=\"btc_krw experiment with lstm\",\n",
    "    tags=[\"lstm\", \"regression\", \"btc_krw\"],\n",
    "    name=run_time_str,\n",
    "    config=config\n",
    "  )\n",
    "  print(args)\n",
    "  print(wandb.config)\n",
    "\n",
    "  train_data_loader, validation_data_loader, _ = get_btc_krw_data()\n",
    "  device = torch.device(\"cuda:0\" if torch.cuda.is_available() else \"cpu\")\n",
    "  print(f\"Training on device {device}.\")\n",
    "\n",
    "  model = get_model()\n",
    "  model.to(device)\n",
    "  wandb.watch(model)\n",
    "\n",
    "  optimizer = optim.Adam(model.parameters(), lr=wandb.config.learning_rate, weight_decay=wandb.config.weight_decay)\n",
    "\n",
    "  regression_trainer = RegressionTrainer(\n",
    "    project_name, model, optimizer, train_data_loader, validation_data_loader, None,\n",
    "    run_time_str, wandb, device, CHECKPOINT_FILE_PATH\n",
    "  )\n",
    "  regression_trainer.train_loop()\n",
    "\n",
    "  wandb.finish()"
   ]
  },
  {
   "cell_type": "markdown",
   "metadata": {
    "id": "Z6YYTRqp2BXW"
   },
   "source": [
    "##### run"
   ]
  },
  {
   "cell_type": "code",
   "execution_count": 58,
   "metadata": {
    "colab": {
     "base_uri": "https://localhost:8080/",
     "height": 1000,
     "referenced_widgets": [
      "4103c14755ee4cf2883e5a746162c50d",
      "b9cd85afe9d242a28e0cc4b7be2483c1",
      "21e0247ef0b044a4b6f2a725be0a3320",
      "600c542dd4644f09967fd3a71b34bb2c",
      "f05a667d48d74c7190a1ef48ee708be8",
      "1b9bf5481abf4b74b9f525d0ef517e88",
      "36f325e2ca124eff92b9812f72ee6326",
      "8b9f24800ee94e0b9e530239a55759fe",
      "075434bf2732439699e7e0941b9f06df",
      "b44e7f57eb6144bdad0308a54c1b3c12",
      "8f322971d9934f26b6be77040419acde",
      "dda10713dd534bb6a716d0802496725b",
      "2188fb3f695747f1b053d3159228c351",
      "88aa5fe752774513a1bddaf2d7732b32",
      "4416a2e859eb46cf980340cf5fe06f3f",
      "33d3d86b6e4242dca19b7aa59f1fc446"
     ]
    },
    "executionInfo": {
     "elapsed": 247248,
     "status": "ok",
     "timestamp": 1702642803685,
     "user": {
      "displayName": "NULL JO",
      "userId": "17442773596076107047"
     },
     "user_tz": -540
    },
    "id": "v8yS1VNMZFCj",
    "outputId": "a0537ca7-0cdd-40cf-cfbe-74bd07fdeb9c",
    "scrolled": true
   },
   "outputs": [
    {
     "data": {
      "text/html": [
       "Finishing last run (ID:ct473dju) before initializing another..."
      ],
      "text/plain": [
       "<IPython.core.display.HTML object>"
      ]
     },
     "metadata": {},
     "output_type": "display_data"
    },
    {
     "data": {
      "text/html": [
       " View run <strong style=\"color:#cdcd00\">2024-12-03_06-48-39</strong> at: <a href='https://wandb.ai/choo0412-korea-university-of-technology-and-education/lstm_regression_btc_krw/runs/ct473dju' target=\"_blank\">https://wandb.ai/choo0412-korea-university-of-technology-and-education/lstm_regression_btc_krw/runs/ct473dju</a><br/> View project at: <a href='https://wandb.ai/choo0412-korea-university-of-technology-and-education/lstm_regression_btc_krw' target=\"_blank\">https://wandb.ai/choo0412-korea-university-of-technology-and-education/lstm_regression_btc_krw</a><br/>Synced 5 W&B file(s), 0 media file(s), 0 artifact file(s) and 0 other file(s)"
      ],
      "text/plain": [
       "<IPython.core.display.HTML object>"
      ]
     },
     "metadata": {},
     "output_type": "display_data"
    },
    {
     "data": {
      "text/html": [
       "Find logs at: <code>./wandb/run-20241203_064839-ct473dju/logs</code>"
      ],
      "text/plain": [
       "<IPython.core.display.HTML object>"
      ]
     },
     "metadata": {},
     "output_type": "display_data"
    },
    {
     "data": {
      "text/html": [
       "Successfully finished last run (ID:ct473dju). Initializing new run:<br/>"
      ],
      "text/plain": [
       "<IPython.core.display.HTML object>"
      ]
     },
     "metadata": {},
     "output_type": "display_data"
    },
    {
     "data": {
      "text/html": [
       "Tracking run with wandb version 0.18.7"
      ],
      "text/plain": [
       "<IPython.core.display.HTML object>"
      ]
     },
     "metadata": {},
     "output_type": "display_data"
    },
    {
     "data": {
      "text/html": [
       "Run data is saved locally in <code>/home/work/dl_choo/wandb/run-20241203_064942-c90ocrej</code>"
      ],
      "text/plain": [
       "<IPython.core.display.HTML object>"
      ]
     },
     "metadata": {},
     "output_type": "display_data"
    },
    {
     "data": {
      "text/html": [
       "Syncing run <strong><a href='https://wandb.ai/choo0412-korea-university-of-technology-and-education/lstm_regression_btc_krw/runs/c90ocrej' target=\"_blank\">2024-12-03_06-49-42</a></strong> to <a href='https://wandb.ai/choo0412-korea-university-of-technology-and-education/lstm_regression_btc_krw' target=\"_blank\">Weights & Biases</a> (<a href='https://wandb.me/developer-guide' target=\"_blank\">docs</a>)<br/>"
      ],
      "text/plain": [
       "<IPython.core.display.HTML object>"
      ]
     },
     "metadata": {},
     "output_type": "display_data"
    },
    {
     "data": {
      "text/html": [
       " View project at <a href='https://wandb.ai/choo0412-korea-university-of-technology-and-education/lstm_regression_btc_krw' target=\"_blank\">https://wandb.ai/choo0412-korea-university-of-technology-and-education/lstm_regression_btc_krw</a>"
      ],
      "text/plain": [
       "<IPython.core.display.HTML object>"
      ]
     },
     "metadata": {},
     "output_type": "display_data"
    },
    {
     "data": {
      "text/html": [
       " View run at <a href='https://wandb.ai/choo0412-korea-university-of-technology-and-education/lstm_regression_btc_krw/runs/c90ocrej' target=\"_blank\">https://wandb.ai/choo0412-korea-university-of-technology-and-education/lstm_regression_btc_krw/runs/c90ocrej</a>"
      ],
      "text/plain": [
       "<IPython.core.display.HTML object>"
      ]
     },
     "metadata": {},
     "output_type": "display_data"
    },
    {
     "name": "stdout",
     "output_type": "stream",
     "text": [
      "Namespace(wandb=True, batch_size=2048, epochs=10000, learning_rate=0.0001, weight_decay=0.0, validation_intervals=30, early_stop_patience=30, early_stop_delta=1e-06)\n",
      "{'epochs': 10000, 'batch_size': 2048, 'validation_intervals': 30, 'learning_rate': 0.0001, 'early_stop_patience': 30, 'early_stop_delta': 1e-06, 'weight_decay': 0.0}\n",
      "Training on device cuda:0.\n",
      "[Epoch   1] T_loss: 11.18919, V_loss: 83.23045, V_loss decreased (    inf --> 83.23045). Saving model... | T_time: 00:00:00, T_speed: 0.005\n",
      "[Epoch  30] T_loss: 6.61101, V_loss: 57.89265, V_loss decreased (83.23045 --> 57.89265). Saving model... | T_time: 00:00:01, T_speed: 0.037\n",
      "[Epoch  60] T_loss: 6.07941, V_loss: 48.13003, V_loss decreased (57.89265 --> 48.13003). Saving model... | T_time: 00:00:03, T_speed: 0.144\n",
      "[Epoch  90] T_loss: 6.03800, V_loss: 47.86065, V_loss decreased (48.13003 --> 47.86065). Saving model... | T_time: 00:00:05, T_speed: 8.826\n",
      "[Epoch 120] T_loss: 6.04157, V_loss: 47.90630, Early stopping counter: 1 out of 30 | T_time: 00:00:06, T_speed: 0.151\n",
      "[Epoch 150] T_loss: 6.04379, V_loss: 47.85009, V_loss decreased (47.86065 --> 47.85009). Saving model... | T_time: 00:00:08, T_speed: 0.860\n",
      "[Epoch 180] T_loss: 6.03342, V_loss: 47.86441, Early stopping counter: 1 out of 30 | T_time: 00:00:09, T_speed: 0.303\n",
      "[Epoch 210] T_loss: 6.02934, V_loss: 47.82557, V_loss decreased (47.85009 --> 47.82557). Saving model... | T_time: 00:00:10, T_speed: 0.232\n",
      "[Epoch 240] T_loss: 6.01026, V_loss: 47.88249, Early stopping counter: 1 out of 30 | T_time: 00:00:12, T_speed: 1.020\n",
      "[Epoch 270] T_loss: 6.05785, V_loss: 47.87274, Early stopping counter: 2 out of 30 | T_time: 00:00:13, T_speed: 0.398\n",
      "[Epoch 300] T_loss: 6.03952, V_loss: 47.88883, Early stopping counter: 3 out of 30 | T_time: 00:00:15, T_speed: 1.431\n",
      "[Epoch 330] T_loss: 6.02760, V_loss: 47.91708, Early stopping counter: 4 out of 30 | T_time: 00:00:16, T_speed: 0.443\n",
      "[Epoch 360] T_loss: 6.01674, V_loss: 47.86850, Early stopping counter: 5 out of 30 | T_time: 00:00:18, T_speed: 0.778\n",
      "[Epoch 390] T_loss: 6.05590, V_loss: 47.85256, Early stopping counter: 6 out of 30 | T_time: 00:00:19, T_speed: 0.513\n",
      "[Epoch 420] T_loss: 6.05163, V_loss: 47.90311, Early stopping counter: 7 out of 30 | T_time: 00:00:21, T_speed: 5.749\n",
      "[Epoch 450] T_loss: 6.06966, V_loss: 47.91748, Early stopping counter: 8 out of 30 | T_time: 00:00:22, T_speed: 0.798\n",
      "[Epoch 480] T_loss: 6.03484, V_loss: 47.88511, Early stopping counter: 9 out of 30 | T_time: 00:00:24, T_speed: 4.037\n",
      "[Epoch 510] T_loss: 6.07752, V_loss: 47.85812, Early stopping counter: 10 out of 30 | T_time: 00:00:25, T_speed: 0.665\n",
      "[Epoch 540] T_loss: 6.03108, V_loss: 47.79600, V_loss decreased (47.82557 --> 47.79600). Saving model... | T_time: 00:00:27, T_speed: 1.614\n",
      "[Epoch 570] T_loss: 6.03134, V_loss: 47.92070, Early stopping counter: 1 out of 30 | T_time: 00:00:29, T_speed: 167.993\n",
      "[Epoch 600] T_loss: 6.03380, V_loss: 47.88999, Early stopping counter: 2 out of 30 | T_time: 00:00:30, T_speed: 1.611\n",
      "[Epoch 630] T_loss: 6.01618, V_loss: 47.93710, Early stopping counter: 3 out of 30 | T_time: 00:00:31, T_speed: 0.701\n",
      "[Epoch 660] T_loss: 6.05717, V_loss: 47.96718, Early stopping counter: 4 out of 30 | T_time: 00:00:33, T_speed: 1.500\n",
      "[Epoch 690] T_loss: 6.02883, V_loss: 47.89643, Early stopping counter: 5 out of 30 | T_time: 00:00:34, T_speed: 0.717\n",
      "[Epoch 720] T_loss: 6.03039, V_loss: 47.80910, Early stopping counter: 6 out of 30 | T_time: 00:00:36, T_speed: 1.572\n",
      "[Epoch 750] T_loss: 6.01934, V_loss: 47.94037, Early stopping counter: 7 out of 30 | T_time: 00:00:37, T_speed: 0.965\n",
      "[Epoch 780] T_loss: 6.03528, V_loss: 47.88587, Early stopping counter: 8 out of 30 | T_time: 00:00:39, T_speed: 3.459\n",
      "[Epoch 810] T_loss: 6.05137, V_loss: 47.93698, Early stopping counter: 9 out of 30 | T_time: 00:00:40, T_speed: 1.095\n",
      "[Epoch 840] T_loss: 6.05739, V_loss: 47.89301, Early stopping counter: 10 out of 30 | T_time: 00:00:42, T_speed: 17.828\n",
      "[Epoch 870] T_loss: 6.02706, V_loss: 47.91452, Early stopping counter: 11 out of 30 | T_time: 00:00:43, T_speed: 2.081\n",
      "[Epoch 900] T_loss: 5.97649, V_loss: 47.82218, Early stopping counter: 12 out of 30 | T_time: 00:00:44, T_speed: 0.963\n",
      "[Epoch 930] T_loss: 6.03851, V_loss: 47.98337, Early stopping counter: 13 out of 30 | T_time: 00:00:46, T_speed: 2.025\n",
      "[Epoch 960] T_loss: 6.02699, V_loss: 47.84497, Early stopping counter: 14 out of 30 | T_time: 00:00:47, T_speed: 0.967\n",
      "[Epoch 990] T_loss: 6.05302, V_loss: 47.90847, Early stopping counter: 15 out of 30 | T_time: 00:00:49, T_speed: 2.268\n",
      "[Epoch 1020] T_loss: 6.00180, V_loss: 47.84300, Early stopping counter: 16 out of 30 | T_time: 00:00:50, T_speed: 1.046\n",
      "[Epoch 1050] T_loss: 6.02213, V_loss: 47.92492, Early stopping counter: 17 out of 30 | T_time: 00:00:52, T_speed: 1.901\n",
      "[Epoch 1080] T_loss: 6.03906, V_loss: 47.84866, Early stopping counter: 18 out of 30 | T_time: 00:00:54, T_speed: 15.375\n",
      "[Epoch 1110] T_loss: 6.06896, V_loss: 47.95313, Early stopping counter: 19 out of 30 | T_time: 00:00:55, T_speed: 1.903\n",
      "[Epoch 1140] T_loss: 6.02252, V_loss: 47.86019, Early stopping counter: 20 out of 30 | T_time: 00:00:57, T_speed: 9.777\n",
      "[Epoch 1170] T_loss: 6.01717, V_loss: 47.85659, Early stopping counter: 21 out of 30 | T_time: 00:00:58, T_speed: 1.856\n",
      "[Epoch 1200] T_loss: 6.05962, V_loss: 47.90246, Early stopping counter: 22 out of 30 | T_time: 00:01:00, T_speed: 7.517\n",
      "[Epoch 1230] T_loss: 6.01196, V_loss: 47.94834, Early stopping counter: 23 out of 30 | T_time: 00:01:01, T_speed: 1.853\n",
      "[Epoch 1260] T_loss: 6.06645, V_loss: 47.94199, Early stopping counter: 24 out of 30 | T_time: 00:01:03, T_speed: 3.578\n",
      "[Epoch 1290] T_loss: 6.00721, V_loss: 47.72336, V_loss decreased (47.79600 --> 47.72336). Saving model... | T_time: 00:01:04, T_speed: 1.961\n",
      "[Epoch 1320] T_loss: 6.01886, V_loss: 47.78918, Early stopping counter: 1 out of 30 | T_time: 00:01:05, T_speed: 1.332\n",
      "[Epoch 1350] T_loss: 5.99976, V_loss: 47.98468, Early stopping counter: 2 out of 30 | T_time: 00:01:07, T_speed: 4.397\n",
      "[Epoch 1380] T_loss: 6.00797, V_loss: 47.84120, Early stopping counter: 3 out of 30 | T_time: 00:01:08, T_speed: 2.234\n",
      "[Epoch 1410] T_loss: 6.03453, V_loss: 47.89658, Early stopping counter: 4 out of 30 | T_time: 00:01:10, T_speed: 26.860\n",
      "[Epoch 1440] T_loss: 6.03616, V_loss: 47.95189, Early stopping counter: 5 out of 30 | T_time: 00:01:11, T_speed: 2.503\n",
      "[Epoch 1470] T_loss: 6.04615, V_loss: 48.03759, Early stopping counter: 6 out of 30 | T_time: 00:01:13, T_speed: 12.863\n",
      "[Epoch 1500] T_loss: 6.00273, V_loss: 47.86573, Early stopping counter: 7 out of 30 | T_time: 00:01:14, T_speed: 1.958\n",
      "[Epoch 1530] T_loss: 6.01971, V_loss: 47.91944, Early stopping counter: 8 out of 30 | T_time: 00:01:16, T_speed: 11.114\n",
      "[Epoch 1560] T_loss: 5.98528, V_loss: 47.82862, Early stopping counter: 9 out of 30 | T_time: 00:01:17, T_speed: 2.332\n",
      "[Epoch 1590] T_loss: 6.07457, V_loss: 47.91745, Early stopping counter: 10 out of 30 | T_time: 00:01:19, T_speed: 8.885\n",
      "[Epoch 1620] T_loss: 6.02365, V_loss: 47.80107, Early stopping counter: 11 out of 30 | T_time: 00:01:20, T_speed: 2.331\n",
      "[Epoch 1650] T_loss: 6.01557, V_loss: 47.88698, Early stopping counter: 12 out of 30 | T_time: 00:01:22, T_speed: 7.980\n",
      "[Epoch 1680] T_loss: 6.03342, V_loss: 47.91421, Early stopping counter: 13 out of 30 | T_time: 00:01:23, T_speed: 2.295\n",
      "[Epoch 1710] T_loss: 6.01580, V_loss: 47.89282, Early stopping counter: 14 out of 30 | T_time: 00:01:25, T_speed: 3.768\n",
      "[Epoch 1740] T_loss: 6.01465, V_loss: 47.95568, Early stopping counter: 15 out of 30 | T_time: 00:01:26, T_speed: 2.173\n",
      "[Epoch 1770] T_loss: 6.02301, V_loss: 47.79355, Early stopping counter: 16 out of 30 | T_time: 00:01:28, T_speed: 6.354\n",
      "[Epoch 1800] T_loss: 6.01745, V_loss: 47.77831, Early stopping counter: 17 out of 30 | T_time: 00:01:29, T_speed: 2.572\n",
      "[Epoch 1830] T_loss: 6.02638, V_loss: 47.77196, Early stopping counter: 18 out of 30 | T_time: 00:01:31, T_speed: 7.569\n",
      "[Epoch 1860] T_loss: 6.03705, V_loss: 47.93424, Early stopping counter: 19 out of 30 | T_time: 00:01:32, T_speed: 2.468\n",
      "[Epoch 1890] T_loss: 6.05941, V_loss: 47.91918, Early stopping counter: 20 out of 30 | T_time: 00:01:34, T_speed: 15.302\n",
      "[Epoch 1920] T_loss: 6.02885, V_loss: 47.74477, Early stopping counter: 21 out of 30 | T_time: 00:01:35, T_speed: 4.426\n"
     ]
    },
    {
     "name": "stdout",
     "output_type": "stream",
     "text": [
      "[Epoch 1950] T_loss: 6.02732, V_loss: 47.93109, Early stopping counter: 22 out of 30 | T_time: 00:01:36, T_speed: 2.072\n",
      "[Epoch 1980] T_loss: 6.03597, V_loss: 47.77248, Early stopping counter: 23 out of 30 | T_time: 00:01:38, T_speed: 4.953\n",
      "[Epoch 2010] T_loss: 6.02389, V_loss: 48.06266, Early stopping counter: 24 out of 30 | T_time: 00:01:39, T_speed: 2.122\n",
      "[Epoch 2040] T_loss: 6.01066, V_loss: 47.86543, Early stopping counter: 25 out of 30 | T_time: 00:01:41, T_speed: 4.312\n",
      "[Epoch 2070] T_loss: 6.06120, V_loss: 47.92863, Early stopping counter: 26 out of 30 | T_time: 00:01:42, T_speed: 2.367\n",
      "[Epoch 2100] T_loss: 6.00512, V_loss: 47.87243, Early stopping counter: 27 out of 30 | T_time: 00:01:44, T_speed: 10.830\n",
      "[Epoch 2130] T_loss: 6.04643, V_loss: 48.04612, Early stopping counter: 28 out of 30 | T_time: 00:01:45, T_speed: 2.957\n",
      "[Epoch 2160] T_loss: 6.02542, V_loss: 47.85180, Early stopping counter: 29 out of 30 | T_time: 00:01:47, T_speed: 39.737\n",
      "[Epoch 2190] T_loss: 6.02133, V_loss: 47.85440, Early stopping counter: 30 out of 30 *** TRAIN EARLY STOPPED! *** | T_time: 00:01:48, T_speed: 4.126\n",
      "Final training time: 00:01:48\n"
     ]
    },
    {
     "data": {
      "text/html": [
       "\n",
       "    <style>\n",
       "        .wandb-row {\n",
       "            display: flex;\n",
       "            flex-direction: row;\n",
       "            flex-wrap: wrap;\n",
       "            justify-content: flex-start;\n",
       "            width: 100%;\n",
       "        }\n",
       "        .wandb-col {\n",
       "            display: flex;\n",
       "            flex-direction: column;\n",
       "            flex-basis: 100%;\n",
       "            flex: 1;\n",
       "            padding: 10px;\n",
       "        }\n",
       "    </style>\n",
       "<div class=\"wandb-row\"><div class=\"wandb-col\"><h3>Run history:</h3><br/><table class=\"wandb\"><tr><td>Epoch</td><td>▁▁▁▂▂▂▂▂▂▃▃▃▃▃▃▃▄▄▄▄▄▄▄▅▅▅▅▆▆▆▆▆▆▇▇▇▇▇▇█</td></tr><tr><td>Training loss</td><td>█▂▁▁▁▁▁▁▁▁▁▁▁▁▁▁▁▁▁▁▁▁▁▁▁▁▁▁▁▁▁▁▁▁▁▁▁▁▁▁</td></tr><tr><td>Training speed (epochs/sec.)</td><td>▁▁▃▁▁▁▁▁▁▁▁▂▁▂▁▁▁▂▁▁▁▄▁▃▁▁▁▃▁▁▁▁▂▁▂▁▂▁▂█</td></tr><tr><td>Validation loss</td><td>█▁▁▁▁▁▁▁▁▁▁▁▁▁▁▁▁▁▁▁▁▁▁▁▁▁▁▁▁▁▁▁▁▁▁▁▁▁▁▁</td></tr></table><br/></div><div class=\"wandb-col\"><h3>Run summary:</h3><br/><table class=\"wandb\"><tr><td>Epoch</td><td>2190</td></tr><tr><td>Training loss</td><td>6.02133</td></tr><tr><td>Training speed (epochs/sec.)</td><td>4.12613</td></tr><tr><td>Validation loss</td><td>47.8544</td></tr></table><br/></div></div>"
      ],
      "text/plain": [
       "<IPython.core.display.HTML object>"
      ]
     },
     "metadata": {},
     "output_type": "display_data"
    },
    {
     "data": {
      "text/html": [
       " View run <strong style=\"color:#cdcd00\">2024-12-03_06-49-42</strong> at: <a href='https://wandb.ai/choo0412-korea-university-of-technology-and-education/lstm_regression_btc_krw/runs/c90ocrej' target=\"_blank\">https://wandb.ai/choo0412-korea-university-of-technology-and-education/lstm_regression_btc_krw/runs/c90ocrej</a><br/> View project at: <a href='https://wandb.ai/choo0412-korea-university-of-technology-and-education/lstm_regression_btc_krw' target=\"_blank\">https://wandb.ai/choo0412-korea-university-of-technology-and-education/lstm_regression_btc_krw</a><br/>Synced 5 W&B file(s), 0 media file(s), 0 artifact file(s) and 0 other file(s)"
      ],
      "text/plain": [
       "<IPython.core.display.HTML object>"
      ]
     },
     "metadata": {},
     "output_type": "display_data"
    },
    {
     "data": {
      "text/html": [
       "Find logs at: <code>./wandb/run-20241203_064942-c90ocrej/logs</code>"
      ],
      "text/plain": [
       "<IPython.core.display.HTML object>"
      ]
     },
     "metadata": {},
     "output_type": "display_data"
    }
   ],
   "source": [
    "if __name__ == \"__main__\":\n",
    "  args_str = \"--wandb\"\n",
    "  args_list = args_str.split()\n",
    "\n",
    "  parser = get_parser()\n",
    "  args = parser.parse_args(args_list)\n",
    "  main(args)\n",
    "\n",
    "  # python _01_code/_11_lstm_and_its_application/f_crypto_currency_regression_train_lstm.py --wandb"
   ]
  },
  {
   "cell_type": "markdown",
   "metadata": {
    "id": "8_qhiQ3a1hTe"
   },
   "source": [
    "###### run2"
   ]
  },
  {
   "cell_type": "code",
   "execution_count": 59,
   "metadata": {
    "colab": {
     "base_uri": "https://localhost:8080/",
     "height": 1000,
     "referenced_widgets": [
      "cdae5e3893e847b895e398a159dfc5ae",
      "0c88367f4c91427e853e0c004f15bd32",
      "eae5331de4d6430998f7ebad86f9bf00",
      "66cc61c8a6c5450e8b0fa5379bd4b5a6",
      "66ba32f847be47068377680a3f8d107e",
      "e344a855ea53475ebf003ea472d7da0a",
      "16b0986d31f541d0a1a6d6ee654b99de",
      "bdabc5d9bc3f401bade1fadd128609df",
      "94b0e66782704480abe5bff46ac3f56f",
      "2f9a0609ede54a6f92eadb59f7c34d08",
      "6b9b83b4c06449268c49a656d0ecb0d1",
      "7c605a1e6ebd4f2a9b43fa1c74f96502",
      "f5f9d1f4ff8e4fa69392adc0580d13d5",
      "fcd28a53458347a6969cd240929d1e4f",
      "708b5eb576ca4e09b726a1e50ff03275",
      "6d9426a614cb4ef7a695d2d7664e0773"
     ]
    },
    "executionInfo": {
     "elapsed": 229678,
     "status": "ok",
     "timestamp": 1702448972971,
     "user": {
      "displayName": "NULL JO",
      "userId": "17442773596076107047"
     },
     "user_tz": -540
    },
    "id": "lKrBMZ0e1jxa",
    "outputId": "b00b955f-c42a-4a3d-f5df-14c7f8161632"
   },
   "outputs": [
    {
     "data": {
      "text/html": [
       "Tracking run with wandb version 0.18.7"
      ],
      "text/plain": [
       "<IPython.core.display.HTML object>"
      ]
     },
     "metadata": {},
     "output_type": "display_data"
    },
    {
     "data": {
      "text/html": [
       "Run data is saved locally in <code>/home/work/dl_choo/wandb/run-20241203_065339-zg3cjpyy</code>"
      ],
      "text/plain": [
       "<IPython.core.display.HTML object>"
      ]
     },
     "metadata": {},
     "output_type": "display_data"
    },
    {
     "data": {
      "text/html": [
       "Syncing run <strong><a href='https://wandb.ai/choo0412-korea-university-of-technology-and-education/lstm_regression_btc_krw/runs/zg3cjpyy' target=\"_blank\">2024-12-03_06-53-39</a></strong> to <a href='https://wandb.ai/choo0412-korea-university-of-technology-and-education/lstm_regression_btc_krw' target=\"_blank\">Weights & Biases</a> (<a href='https://wandb.me/developer-guide' target=\"_blank\">docs</a>)<br/>"
      ],
      "text/plain": [
       "<IPython.core.display.HTML object>"
      ]
     },
     "metadata": {},
     "output_type": "display_data"
    },
    {
     "data": {
      "text/html": [
       " View project at <a href='https://wandb.ai/choo0412-korea-university-of-technology-and-education/lstm_regression_btc_krw' target=\"_blank\">https://wandb.ai/choo0412-korea-university-of-technology-and-education/lstm_regression_btc_krw</a>"
      ],
      "text/plain": [
       "<IPython.core.display.HTML object>"
      ]
     },
     "metadata": {},
     "output_type": "display_data"
    },
    {
     "data": {
      "text/html": [
       " View run at <a href='https://wandb.ai/choo0412-korea-university-of-technology-and-education/lstm_regression_btc_krw/runs/zg3cjpyy' target=\"_blank\">https://wandb.ai/choo0412-korea-university-of-technology-and-education/lstm_regression_btc_krw/runs/zg3cjpyy</a>"
      ],
      "text/plain": [
       "<IPython.core.display.HTML object>"
      ]
     },
     "metadata": {},
     "output_type": "display_data"
    },
    {
     "name": "stdout",
     "output_type": "stream",
     "text": [
      "Namespace(wandb=True, batch_size=2048, epochs=10000, learning_rate=0.0001, weight_decay=0.0, validation_intervals=30, early_stop_patience=30, early_stop_delta=1e-06)\n",
      "{'epochs': 10000, 'batch_size': 2048, 'validation_intervals': 30, 'learning_rate': 0.0001, 'early_stop_patience': 30, 'early_stop_delta': 1e-06, 'weight_decay': 0.0}\n",
      "Training on device cuda:0.\n",
      "[Epoch   1] T_loss: 11.70984, V_loss: 85.34174, V_loss decreased (    inf --> 85.34174). Saving model... | T_time: 00:00:00, T_speed: 0.021\n",
      "[Epoch  30] T_loss: 7.28409, V_loss: 63.38629, V_loss decreased (85.34174 --> 63.38629). Saving model... | T_time: 00:00:01, T_speed: 0.053\n",
      "[Epoch  60] T_loss: 6.07665, V_loss: 48.12790, V_loss decreased (63.38629 --> 48.12790). Saving model... | T_time: 00:00:03, T_speed: 0.392\n",
      "[Epoch  90] T_loss: 6.00886, V_loss: 47.90974, V_loss decreased (48.12790 --> 47.90974). Saving model... | T_time: 00:00:04, T_speed: 0.125\n",
      "[Epoch 120] T_loss: 6.07436, V_loss: 47.88315, V_loss decreased (47.90974 --> 47.88315). Saving model... | T_time: 00:00:06, T_speed: 0.422\n",
      "[Epoch 150] T_loss: 6.03109, V_loss: 47.86126, V_loss decreased (47.88315 --> 47.86126). Saving model... | T_time: 00:00:07, T_speed: 0.179\n",
      "[Epoch 180] T_loss: 6.01718, V_loss: 47.92049, Early stopping counter: 1 out of 30 | T_time: 00:00:09, T_speed: 0.846\n",
      "[Epoch 210] T_loss: 6.04204, V_loss: 47.94846, Early stopping counter: 2 out of 30 | T_time: 00:00:10, T_speed: 0.225\n",
      "[Epoch 240] T_loss: 6.06029, V_loss: 47.88959, Early stopping counter: 3 out of 30 | T_time: 00:00:12, T_speed: 0.749\n",
      "[Epoch 270] T_loss: 6.01847, V_loss: 47.80711, V_loss decreased (47.86126 --> 47.80711). Saving model... | T_time: 00:00:13, T_speed: 0.365\n",
      "[Epoch 300] T_loss: 6.04328, V_loss: 47.88792, Early stopping counter: 1 out of 30 | T_time: 00:00:15, T_speed: 1.769\n",
      "[Epoch 330] T_loss: 6.03140, V_loss: 47.98607, Early stopping counter: 2 out of 30 | T_time: 00:00:16, T_speed: 0.477\n",
      "[Epoch 360] T_loss: 6.04486, V_loss: 47.94059, Early stopping counter: 3 out of 30 | T_time: 00:00:18, T_speed: 1.646\n",
      "[Epoch 390] T_loss: 6.01814, V_loss: 47.83007, Early stopping counter: 4 out of 30 | T_time: 00:00:19, T_speed: 0.580\n",
      "[Epoch 420] T_loss: 6.03240, V_loss: 47.86967, Early stopping counter: 5 out of 30 | T_time: 00:00:21, T_speed: 1.603\n",
      "[Epoch 450] T_loss: 6.08971, V_loss: 47.87816, Early stopping counter: 6 out of 30 | T_time: 00:00:22, T_speed: 0.750\n",
      "[Epoch 480] T_loss: 6.04801, V_loss: 47.95584, Early stopping counter: 7 out of 30 | T_time: 00:00:23, T_speed: 0.525\n",
      "[Epoch 510] T_loss: 6.02573, V_loss: 47.91151, Early stopping counter: 8 out of 30 | T_time: 00:00:25, T_speed: 1.743\n",
      "[Epoch 540] T_loss: 5.99010, V_loss: 47.85072, Early stopping counter: 9 out of 30 | T_time: 00:00:26, T_speed: 0.907\n",
      "[Epoch 570] T_loss: 6.05601, V_loss: 47.92547, Early stopping counter: 10 out of 30 | T_time: 00:00:27, T_speed: 0.629\n",
      "[Epoch 600] T_loss: 6.04026, V_loss: 47.90458, Early stopping counter: 11 out of 30 | T_time: 00:00:29, T_speed: 1.985\n",
      "[Epoch 630] T_loss: 6.04620, V_loss: 47.91814, Early stopping counter: 12 out of 30 | T_time: 00:00:30, T_speed: 0.958\n",
      "[Epoch 660] T_loss: 6.04418, V_loss: 47.88462, Early stopping counter: 13 out of 30 | T_time: 00:00:32, T_speed: 2.319\n",
      "[Epoch 690] T_loss: 6.01260, V_loss: 47.90502, Early stopping counter: 14 out of 30 | T_time: 00:00:33, T_speed: 1.151\n",
      "[Epoch 720] T_loss: 6.02170, V_loss: 47.91509, Early stopping counter: 15 out of 30 | T_time: 00:00:34, T_speed: 0.726\n",
      "[Epoch 750] T_loss: 6.07636, V_loss: 47.89408, Early stopping counter: 16 out of 30 | T_time: 00:00:36, T_speed: 1.464\n",
      "[Epoch 780] T_loss: 6.02721, V_loss: 47.91900, Early stopping counter: 17 out of 30 | T_time: 00:00:37, T_speed: 0.920\n",
      "[Epoch 810] T_loss: 6.04852, V_loss: 47.74700, V_loss decreased (47.80711 --> 47.74700). Saving model... | T_time: 00:00:39, T_speed: 2.332\n",
      "[Epoch 840] T_loss: 6.01564, V_loss: 47.84886, Early stopping counter: 1 out of 30 | T_time: 00:00:40, T_speed: 1.172\n",
      "[Epoch 870] T_loss: 6.05875, V_loss: 47.94328, Early stopping counter: 2 out of 30 | T_time: 00:00:42, T_speed: 4.379\n",
      "[Epoch 900] T_loss: 6.04284, V_loss: 47.79770, Early stopping counter: 3 out of 30 | T_time: 00:00:43, T_speed: 1.779\n",
      "[Epoch 930] T_loss: 6.05593, V_loss: 47.82902, Early stopping counter: 4 out of 30 | T_time: 00:00:44, T_speed: 1.011\n",
      "[Epoch 960] T_loss: 6.01931, V_loss: 47.73212, V_loss decreased (47.74700 --> 47.73212). Saving model... | T_time: 00:00:46, T_speed: 3.162\n",
      "[Epoch 990] T_loss: 6.03989, V_loss: 47.97294, Early stopping counter: 1 out of 30 | T_time: 00:00:47, T_speed: 1.163\n",
      "[Epoch 1020] T_loss: 6.05223, V_loss: 47.83665, Early stopping counter: 2 out of 30 | T_time: 00:00:49, T_speed: 2.782\n",
      "[Epoch 1050] T_loss: 6.01135, V_loss: 47.90214, Early stopping counter: 3 out of 30 | T_time: 00:00:50, T_speed: 1.215\n",
      "[Epoch 1080] T_loss: 6.04853, V_loss: 47.91905, Early stopping counter: 4 out of 30 | T_time: 00:00:52, T_speed: 5.631\n",
      "[Epoch 1110] T_loss: 6.02811, V_loss: 47.78873, Early stopping counter: 5 out of 30 | T_time: 00:00:53, T_speed: 1.236\n",
      "[Epoch 1140] T_loss: 6.02690, V_loss: 47.77470, Early stopping counter: 6 out of 30 | T_time: 00:00:55, T_speed: 2.624\n",
      "[Epoch 1170] T_loss: 6.01408, V_loss: 47.93456, Early stopping counter: 7 out of 30 | T_time: 00:00:56, T_speed: 1.227\n",
      "[Epoch 1200] T_loss: 6.06258, V_loss: 47.86098, Early stopping counter: 8 out of 30 | T_time: 00:00:58, T_speed: 4.058\n",
      "[Epoch 1230] T_loss: 6.03167, V_loss: 47.92752, Early stopping counter: 9 out of 30 | T_time: 00:00:59, T_speed: 1.828\n",
      "[Epoch 1260] T_loss: 6.04752, V_loss: 47.86621, Early stopping counter: 10 out of 30 | T_time: 00:01:01, T_speed: 6.807\n",
      "[Epoch 1290] T_loss: 6.01532, V_loss: 47.89798, Early stopping counter: 11 out of 30 | T_time: 00:01:02, T_speed: 1.841\n",
      "[Epoch 1320] T_loss: 6.04247, V_loss: 47.89307, Early stopping counter: 12 out of 30 | T_time: 00:01:04, T_speed: 6.299\n",
      "[Epoch 1350] T_loss: 6.03762, V_loss: 48.09116, Early stopping counter: 13 out of 30 | T_time: 00:01:05, T_speed: 1.526\n",
      "[Epoch 1380] T_loss: 6.04063, V_loss: 47.87607, Early stopping counter: 14 out of 30 | T_time: 00:01:07, T_speed: 5.606\n",
      "[Epoch 1410] T_loss: 6.01741, V_loss: 47.82506, Early stopping counter: 15 out of 30 | T_time: 00:01:08, T_speed: 1.849\n",
      "[Epoch 1440] T_loss: 6.07142, V_loss: 47.82039, Early stopping counter: 16 out of 30 | T_time: 00:01:10, T_speed: 15.946\n",
      "[Epoch 1470] T_loss: 6.00227, V_loss: 47.88355, Early stopping counter: 17 out of 30 | T_time: 00:01:11, T_speed: 3.783\n",
      "[Epoch 1500] T_loss: 6.04713, V_loss: 47.85287, Early stopping counter: 18 out of 30 | T_time: 00:01:12, T_speed: 2.097\n",
      "[Epoch 1530] T_loss: 6.04022, V_loss: 47.90706, Early stopping counter: 19 out of 30 | T_time: 00:01:14, T_speed: 9.546\n",
      "[Epoch 1560] T_loss: 6.04827, V_loss: 47.85344, Early stopping counter: 20 out of 30 | T_time: 00:01:15, T_speed: 2.399\n",
      "[Epoch 1590] T_loss: 5.99711, V_loss: 48.04055, Early stopping counter: 21 out of 30 | T_time: 00:01:17, T_speed: 95.204\n",
      "[Epoch 1620] T_loss: 6.06610, V_loss: 47.87188, Early stopping counter: 22 out of 30 | T_time: 00:01:18, T_speed: 4.906\n",
      "[Epoch 1650] T_loss: 6.04545, V_loss: 47.98732, Early stopping counter: 23 out of 30 | T_time: 00:01:19, T_speed: 2.188\n",
      "[Epoch 1680] T_loss: 5.97724, V_loss: 47.87975, Early stopping counter: 24 out of 30 | T_time: 00:01:21, T_speed: 15.872\n",
      "[Epoch 1710] T_loss: 6.06405, V_loss: 47.86910, Early stopping counter: 25 out of 30 | T_time: 00:01:22, T_speed: 3.355\n",
      "[Epoch 1740] T_loss: 6.03178, V_loss: 48.02642, Early stopping counter: 26 out of 30 | T_time: 00:01:24, T_speed: 199.793\n",
      "[Epoch 1770] T_loss: 6.02821, V_loss: 47.76141, Early stopping counter: 27 out of 30 | T_time: 00:01:25, T_speed: 4.211\n",
      "[Epoch 1800] T_loss: 6.02643, V_loss: 47.92839, Early stopping counter: 28 out of 30 | T_time: 00:01:26, T_speed: 1.944\n",
      "[Epoch 1830] T_loss: 6.07462, V_loss: 47.82861, Early stopping counter: 29 out of 30 | T_time: 00:01:28, T_speed: 5.139\n",
      "[Epoch 1860] T_loss: 6.06243, V_loss: 47.88783, Early stopping counter: 30 out of 30 *** TRAIN EARLY STOPPED! *** | T_time: 00:01:29, T_speed: 2.774\n",
      "Final training time: 00:01:29\n"
     ]
    },
    {
     "data": {
      "text/html": [
       "\n",
       "    <style>\n",
       "        .wandb-row {\n",
       "            display: flex;\n",
       "            flex-direction: row;\n",
       "            flex-wrap: wrap;\n",
       "            justify-content: flex-start;\n",
       "            width: 100%;\n",
       "        }\n",
       "        .wandb-col {\n",
       "            display: flex;\n",
       "            flex-direction: column;\n",
       "            flex-basis: 100%;\n",
       "            flex: 1;\n",
       "            padding: 10px;\n",
       "        }\n",
       "    </style>\n",
       "<div class=\"wandb-row\"><div class=\"wandb-col\"><h3>Run history:</h3><br/><table class=\"wandb\"><tr><td>Epoch</td><td>▁▁▁▂▂▂▂▂▂▂▃▃▃▃▃▄▄▄▄▄▅▅▅▅▅▅▆▆▆▆▇▇▇▇▇▇▇███</td></tr><tr><td>Training loss</td><td>█▃▁▁▁▁▁▁▁▁▁▁▁▁▁▁▁▁▁▁▁▁▁▁▁▁▁▁▁▁▁▁▁▁▁▁▁▁▁▁</td></tr><tr><td>Training speed (epochs/sec.)</td><td>▁▁▁▁▁▁▁▁▁▁▁▁▁▁▁▁▁▁▁▁▁▁▁▁▁▁▁▁▁▁▁▂▁▁▁▂▁█▁▁</td></tr><tr><td>Validation loss</td><td>█▄▁▁▁▁▁▁▁▁▁▁▁▁▁▁▁▁▁▁▁▁▁▁▁▁▁▁▁▁▁▁▁▁▁▁▁▁▁▁</td></tr></table><br/></div><div class=\"wandb-col\"><h3>Run summary:</h3><br/><table class=\"wandb\"><tr><td>Epoch</td><td>1860</td></tr><tr><td>Training loss</td><td>6.06243</td></tr><tr><td>Training speed (epochs/sec.)</td><td>2.77367</td></tr><tr><td>Validation loss</td><td>47.88783</td></tr></table><br/></div></div>"
      ],
      "text/plain": [
       "<IPython.core.display.HTML object>"
      ]
     },
     "metadata": {},
     "output_type": "display_data"
    },
    {
     "data": {
      "text/html": [
       " View run <strong style=\"color:#cdcd00\">2024-12-03_06-53-39</strong> at: <a href='https://wandb.ai/choo0412-korea-university-of-technology-and-education/lstm_regression_btc_krw/runs/zg3cjpyy' target=\"_blank\">https://wandb.ai/choo0412-korea-university-of-technology-and-education/lstm_regression_btc_krw/runs/zg3cjpyy</a><br/> View project at: <a href='https://wandb.ai/choo0412-korea-university-of-technology-and-education/lstm_regression_btc_krw' target=\"_blank\">https://wandb.ai/choo0412-korea-university-of-technology-and-education/lstm_regression_btc_krw</a><br/>Synced 5 W&B file(s), 0 media file(s), 0 artifact file(s) and 0 other file(s)"
      ],
      "text/plain": [
       "<IPython.core.display.HTML object>"
      ]
     },
     "metadata": {},
     "output_type": "display_data"
    },
    {
     "data": {
      "text/html": [
       "Find logs at: <code>./wandb/run-20241203_065339-zg3cjpyy/logs</code>"
      ],
      "text/plain": [
       "<IPython.core.display.HTML object>"
      ]
     },
     "metadata": {},
     "output_type": "display_data"
    }
   ],
   "source": [
    "if __name__ == \"__main__\":\n",
    "  args_str = \"--wandb\"\n",
    "  args_list = args_str.split()\n",
    "\n",
    "  parser = get_parser()\n",
    "  args = parser.parse_args(args_list)\n",
    "  main(args)\n",
    "\n",
    "  # python _01_code/_11_lstm_and_its_application/f_crypto_currency_regression_train_lstm.py --wandb"
   ]
  },
  {
   "cell_type": "markdown",
   "metadata": {
    "id": "iLauQlahhZMP"
   },
   "source": [
    "### _01_code/_11_lstm_and_its_application/h_crypto_currency_regression_test_lstm.py"
   ]
  },
  {
   "cell_type": "markdown",
   "metadata": {
    "id": "6rBIjr1K3JZv"
   },
   "source": [
    "##### test"
   ]
  },
  {
   "cell_type": "code",
   "execution_count": 60,
   "metadata": {
    "id": "zD2P_wn-zp3x"
   },
   "outputs": [],
   "source": [
    "def test(test_model):\n",
    "  _, _, test_data_loader = get_btc_krw_data()\n",
    "\n",
    "  test_model.eval()\n",
    "\n",
    "  y_normalizer = 100\n",
    "\n",
    "  print(\"[TEST DATA]\")\n",
    "  with torch.no_grad():\n",
    "    for test_batch in test_data_loader:\n",
    "      input_test, target_test = test_batch\n",
    "\n",
    "      output_test = test_model(input_test)\n",
    "\n",
    "    for idx, (output, target) in enumerate(zip(output_test, target_test)):\n",
    "      print(\"{0:2}: {1:6,.2f} <--> {2:6,.2f} (Loss: {3:>13,.2f})\".format(\n",
    "        idx,\n",
    "        output.item() * y_normalizer,\n",
    "        target.item() * y_normalizer,\n",
    "        abs(output.squeeze(dim=-1).item() - target.item()) * y_normalizer\n",
    "      ))"
   ]
  },
  {
   "cell_type": "markdown",
   "metadata": {
    "id": "nhjTkiLU3Ll4"
   },
   "source": [
    "##### predict_all"
   ]
  },
  {
   "cell_type": "code",
   "execution_count": 61,
   "metadata": {
    "id": "Jd-VU80wz1hT"
   },
   "outputs": [],
   "source": [
    "def predict_all(test_model):\n",
    "  y_normalizer = 100\n",
    "\n",
    "  X_train, X_validation, X_test, y_train, y_validation, y_test, y_train_date, y_validation_date, y_test_date \\\n",
    "    = get_cryptocurrency_data(\n",
    "      sequence_size=10, validation_size=100, test_size=10,\n",
    "      target_column='Close', y_normalizer=1.0e7, is_regression=True\n",
    "  )\n",
    "\n",
    "  train_crypto_currency_dataset = CryptoCurrencyDataset(X=X_train, y=y_train)\n",
    "  validation_crypto_currency_dataset = CryptoCurrencyDataset(X=X_validation, y=y_validation)\n",
    "  test_crypto_currency_dataset = CryptoCurrencyDataset(X=X_test, y=y_test)\n",
    "\n",
    "  dataset_list = [\n",
    "    train_crypto_currency_dataset, validation_crypto_currency_dataset, test_crypto_currency_dataset\n",
    "  ]\n",
    "  dataset_labels = [\n",
    "    \"train\", \"validation\", \"test\"\n",
    "  ]\n",
    "  num = 0\n",
    "  fig, axs = plt.subplots(3, 1, figsize=(6, 9))\n",
    "\n",
    "  for i in range(3):\n",
    "    X = []\n",
    "    TARGET_Y = []\n",
    "    PREDICTION_Y = []\n",
    "    for data in dataset_list[i]:\n",
    "      input, target = data\n",
    "      prediction = test_model(input.unsqueeze(0)).squeeze(-1).squeeze(-1)\n",
    "\n",
    "      X.append(num)\n",
    "      TARGET_Y.append(target.item() * y_normalizer)\n",
    "      PREDICTION_Y.append(prediction.item() * y_normalizer)\n",
    "\n",
    "      num += 1\n",
    "\n",
    "    axs[i].plot(X, TARGET_Y, label='target')\n",
    "    axs[i].plot(X, PREDICTION_Y, label='prediction')\n",
    "    axs[i].set_title(dataset_labels[i])\n",
    "    axs[i].legend()\n",
    "\n",
    "  plt.tight_layout()\n",
    "  plt.show()"
   ]
  },
  {
   "cell_type": "markdown",
   "metadata": {
    "id": "joSxEFH03Nkg"
   },
   "source": [
    "##### main"
   ]
  },
  {
   "cell_type": "code",
   "execution_count": 62,
   "metadata": {
    "id": "S6GwEWB-z32t"
   },
   "outputs": [],
   "source": [
    "def main(args):\n",
    "  run_time_str = datetime.now().astimezone().strftime('%Y-%m-%d_%H-%M-%S')\n",
    "\n",
    "  config = {\n",
    "    'epochs': args.epochs,\n",
    "    'batch_size': args.batch_size,\n",
    "    'validation_intervals': args.validation_intervals,\n",
    "    'learning_rate': args.learning_rate,\n",
    "    'early_stop_patience': args.early_stop_patience,\n",
    "    'early_stop_delta': args.early_stop_delta,\n",
    "  }\n",
    "\n",
    "  project_name = \"lstm_regression_btc_krw\"\n",
    "  wandb.init(\n",
    "    mode=\"disabled\",\n",
    "    project=project_name,\n",
    "    notes=\"btc_krw experiment with lstm\",\n",
    "    tags=[\"lstm\", \"regression\", \"btc_krw\"],\n",
    "    name=run_time_str,\n",
    "    config=config\n",
    "  )\n",
    "\n",
    "  test_model = get_model()\n",
    "\n",
    "  project_name = \"lstm_regression_btc_krw\"\n",
    "  latest_file_path = os.path.join(\n",
    "    CHECKPOINT_FILE_PATH, f\"{project_name}_checkpoint_latest.pt\"\n",
    "  )\n",
    "  print(\"MODEL FILE: {0}\".format(latest_file_path))\n",
    "  test_model.load_state_dict(torch.load(latest_file_path, map_location=torch.device('cpu')))\n",
    "\n",
    "  test(test_model)\n",
    "  predict_all(test_model)\n"
   ]
  },
  {
   "cell_type": "markdown",
   "metadata": {
    "id": "4oEMqaRY3QNy"
   },
   "source": [
    "##### run"
   ]
  },
  {
   "cell_type": "code",
   "execution_count": null,
   "metadata": {
    "colab": {
     "base_uri": "https://localhost:8080/",
     "height": 1000
    },
    "executionInfo": {
     "elapsed": 4057,
     "status": "ok",
     "timestamp": 1702642936455,
     "user": {
      "displayName": "NULL JO",
      "userId": "17442773596076107047"
     },
     "user_tz": -540
    },
    "id": "V1ESNnDj_DU0",
    "outputId": "9fe384a3-1592-406d-f0f8-9a0c4947f518"
   },
   "outputs": [
    {
     "name": "stdout",
     "output_type": "stream",
     "text": [
      "MODEL FILE: /content/checkpoints/lstm_regression_btc_krw_checkpoint_latest.pt\n",
      "[TEST DATA]\n",
      " 0: 403.66 <--> 405.02 (Loss:          1.36)\n",
      " 1: 402.35 <--> 404.00 (Loss:          1.65)\n",
      " 2: 456.57 <--> 462.33 (Loss:          5.76)\n",
      " 3: 461.27 <--> 468.41 (Loss:          7.14)\n",
      " 4: 462.91 <--> 459.89 (Loss:          3.02)\n",
      " 5: 450.55 <--> 455.68 (Loss:          5.14)\n",
      " 6: 464.27 <--> 464.58 (Loss:          0.31)\n",
      " 7: 472.23 <--> 461.57 (Loss:         10.66)\n",
      " 8: 460.84 <--> 466.85 (Loss:          6.01)\n",
      " 9: 403.87 <--> 444.08 (Loss:         40.21)\n"
     ]
    },
    {
     "data": {
      "image/png": "[encoded data removed]",
      "text/plain": [
       "<Figure size 600x900 with 3 Axes>"
      ]
     },
     "metadata": {},
     "output_type": "display_data"
    }
   ],
   "source": [
    "if __name__ == \"__main__\":\n",
    "  args_str = \"\"\n",
    "  args_list = args_str.split()\n",
    "\n",
    "  parser = get_parser()\n",
    "  args = parser.parse_args(args_list)\n",
    "  main(args)\n"
   ]
  },
  {
   "cell_type": "markdown",
   "metadata": {
    "id": "tgXdr_wwhdIt"
   },
   "source": [
    "### _01_code/_11_lstm_and_its_application/i_crypto_currency_classification_train_lstm.py"
   ]
  },
  {
   "cell_type": "markdown",
   "metadata": {
    "id": "WQM6JAk3cOB4"
   },
   "source": [
    "##### get_crytocurrency_data"
   ]
  },
  {
   "cell_type": "code",
   "execution_count": 63,
   "metadata": {
    "id": "R1pzABkAcOCA"
   },
   "outputs": [],
   "source": [
    "def get_cryptocurrency_data(\n",
    "    sequence_size=10, validation_size=100, test_size=10, target_column='Close', y_normalizer=1.0e7, is_regression=False\n",
    "):\n",
    "    BASE_PATH = \"/home/work/dl_choo\"  # 경로를 명시적으로 설정\n",
    "    btc_krw_path = os.path.join(BASE_PATH, \"BTC_KRW.csv\")\n",
    "    \n",
    "    # 데이터 읽기\n",
    "    if not os.path.exists(btc_krw_path):\n",
    "        raise FileNotFoundError(f\"File not found: {btc_krw_path}\")\n",
    "    df = pd.read_csv(btc_krw_path)\n",
    "\n",
    "    if len(df) < sequence_size + validation_size + test_size:\n",
    "        raise ValueError(\"Dataset is too small for the given parameters.\")\n",
    "\n",
    "    # 'Date' 컬럼 삭제\n",
    "    date_list = df['Date']\n",
    "    df = df.drop(columns=['Date'])\n",
    "\n",
    "    # 데이터셋 크기 계산\n",
    "    data_size = len(df) - sequence_size\n",
    "    train_size = data_size - (validation_size + test_size)\n",
    "    if train_size <= 0:\n",
    "        raise ValueError(\"Insufficient training data. Adjust sequence size or validation/test size.\")\n",
    "\n",
    "    row_cursor = 0\n",
    "\n",
    "    # 데이터 생성 (훈련)\n",
    "    X_train_list = [torch.from_numpy(df.iloc[i: i + sequence_size].values) for i in range(train_size)]\n",
    "    y_train_classification_list = [\n",
    "        1 if df.iloc[i + sequence_size][target_column] >= df.iloc[i + sequence_size - 1][target_column] else 0\n",
    "        for i in range(train_size)\n",
    "    ]\n",
    "    X_train = torch.stack(X_train_list).to(torch.float)\n",
    "    y_train_classification = torch.tensor(y_train_classification_list, dtype=torch.int64)\n",
    "\n",
    "    # 정규화\n",
    "    m, s = X_train.mean(dim=0, keepdim=True), X_train.std(dim=0, keepdim=True)\n",
    "    s[s == 0] = 1e-7\n",
    "    X_train = (X_train - m) / s\n",
    "\n",
    "    # 검증/테스트 데이터 생성\n",
    "    def generate_data(start_idx, end_idx):\n",
    "        X_list, y_list, dates = [], [], []\n",
    "        for i in range(start_idx, end_idx):\n",
    "            sequence_data = df.iloc[i: i + sequence_size].values\n",
    "            X_list.append(torch.from_numpy(sequence_data))\n",
    "            y_list.append(\n",
    "                1 if df.iloc[i + sequence_size][target_column] >= df.iloc[i + sequence_size - 1][target_column] else 0\n",
    "            )\n",
    "            dates.append(date_list[i + sequence_size])\n",
    "        X = torch.stack(X_list).to(torch.float)\n",
    "        y = torch.tensor(y_list, dtype=torch.int64)\n",
    "        return X, y, dates\n",
    "\n",
    "    X_validation, y_validation_classification, validation_dates = generate_data(row_cursor, row_cursor + validation_size)\n",
    "    row_cursor += validation_size\n",
    "    X_test, y_test_classification, test_dates = generate_data(row_cursor, row_cursor + test_size)\n",
    "\n",
    "    # 결과 반환\n",
    "    return (\n",
    "        X_train, X_validation, X_test,\n",
    "        y_train_classification, y_validation_classification, y_test_classification,\n",
    "        date_list[:train_size], validation_dates, test_dates\n",
    "    )\n"
   ]
  },
  {
   "cell_type": "markdown",
   "metadata": {
    "id": "jjKD9MojcVhp"
   },
   "source": [
    "##### get_btc_krw_data"
   ]
  },
  {
   "cell_type": "code",
   "execution_count": 64,
   "metadata": {
    "id": "ybyKX7u9cVhx"
   },
   "outputs": [],
   "source": [
    "def get_btc_krw_data(sequence_size=10, validation_size=100, test_size=10, is_regression=False):\n",
    "  X_train, X_validation, X_test, y_train, y_validation, y_test, y_train_date, y_validation_date, y_test_date \\\n",
    "    = get_cryptocurrency_data(\n",
    "      sequence_size=sequence_size, validation_size=validation_size, test_size=test_size,\n",
    "      target_column='Close', y_normalizer=1.0e7, is_regression=is_regression\n",
    "  )\n",
    "\n",
    "  train_crypto_currency_dataset = CryptoCurrencyDataset(X=X_train, y=y_train)\n",
    "  validation_crypto_currency_dataset = CryptoCurrencyDataset(X=X_validation, y=y_validation)\n",
    "  test_crypto_currency_dataset = CryptoCurrencyDataset(X=X_test, y=y_test)\n",
    "\n",
    "  train_data_loader = DataLoader(\n",
    "    dataset=train_crypto_currency_dataset, batch_size=wandb.config.batch_size, shuffle=True\n",
    "  )\n",
    "  validation_data_loader = DataLoader(\n",
    "    dataset=validation_crypto_currency_dataset, batch_size=wandb.config.batch_size, shuffle=True\n",
    "  )\n",
    "  test_data_loader = DataLoader(\n",
    "    dataset=test_crypto_currency_dataset, batch_size=len(test_crypto_currency_dataset), shuffle=True\n",
    "  )\n",
    "\n",
    "  return train_data_loader, validation_data_loader, test_data_loader"
   ]
  },
  {
   "cell_type": "markdown",
   "metadata": {
    "id": "8aY88FJTBwga"
   },
   "source": [
    "##### ClassificationTrainer"
   ]
  },
  {
   "cell_type": "code",
   "execution_count": 65,
   "metadata": {
    "id": "uaJsbYdjBvXw"
   },
   "outputs": [],
   "source": [
    "class ClassificationTrainer:\n",
    "  def __init__(\n",
    "    self, project_name, model, optimizer, train_data_loader, validation_data_loader, transforms,\n",
    "    run_time_str, wandb, device, checkpoint_file_path\n",
    "  ):\n",
    "    self.project_name = project_name\n",
    "    self.model = model\n",
    "    self.optimizer = optimizer\n",
    "    self.train_data_loader = train_data_loader\n",
    "    self.validation_data_loader = validation_data_loader\n",
    "    self.transforms = transforms\n",
    "    self.run_time_str = run_time_str\n",
    "    self.wandb = wandb\n",
    "    self.device = device\n",
    "    self.checkpoint_file_path = checkpoint_file_path\n",
    "\n",
    "    # Use a built-in loss function\n",
    "    self.loss_fn = nn.CrossEntropyLoss()\n",
    "\n",
    "  def do_train(self):\n",
    "    self.model.train()  # Explained at 'Diverse Techniques' section\n",
    "\n",
    "    loss_train = 0.0\n",
    "    num_corrects_train = 0\n",
    "    num_trained_samples = 0\n",
    "    num_trains = 0\n",
    "\n",
    "    for train_batch in self.train_data_loader:\n",
    "      input_train, target_train = train_batch\n",
    "      input_train = input_train.to(device=self.device)\n",
    "      target_train = target_train.to(device=self.device)\n",
    "\n",
    "      if self.transforms:\n",
    "        input_train = self.transforms(input_train)\n",
    "\n",
    "      output_train = self.model(input_train)\n",
    "\n",
    "      loss = self.loss_fn(output_train, target_train)\n",
    "      loss_train += loss.item()\n",
    "\n",
    "      predicted_train = torch.argmax(output_train, dim=1)\n",
    "      num_corrects_train += torch.sum(torch.eq(predicted_train, target_train)).item()\n",
    "\n",
    "      num_trained_samples += len(input_train)\n",
    "      num_trains += 1\n",
    "\n",
    "      self.optimizer.zero_grad()\n",
    "      loss.backward()\n",
    "      self.optimizer.step()\n",
    "\n",
    "    train_loss = loss_train / num_trains\n",
    "    train_accuracy = 100.0 * num_corrects_train / num_trained_samples\n",
    "\n",
    "    return train_loss, train_accuracy\n",
    "\n",
    "  def do_validation(self):\n",
    "    self.model.eval()   # Explained at 'Diverse Techniques' section\n",
    "\n",
    "    loss_validation = 0.0\n",
    "    num_corrects_validation = 0\n",
    "    num_validated_samples = 0\n",
    "    num_validations = 0\n",
    "\n",
    "    with torch.no_grad():\n",
    "      for validation_batch in self.validation_data_loader:\n",
    "        input_validation, target_validation = validation_batch\n",
    "        input_validation = input_validation.to(device=self.device)\n",
    "        target_validation = target_validation.to(device=self.device)\n",
    "\n",
    "        if self.transforms:\n",
    "          input_validation = self.transforms(input_validation)\n",
    "\n",
    "        output_validation = self.model(input_validation)\n",
    "        loss_validation += self.loss_fn(output_validation, target_validation).item()\n",
    "\n",
    "        predicted_validation = torch.argmax(output_validation, dim=1)\n",
    "        num_corrects_validation += torch.sum(torch.eq(predicted_validation, target_validation)).item()\n",
    "\n",
    "        num_validated_samples += len(input_validation)\n",
    "        num_validations += 1\n",
    "\n",
    "    validation_loss = loss_validation / num_validations\n",
    "    validation_accuracy = 100.0 * num_corrects_validation / num_validated_samples\n",
    "\n",
    "    return validation_loss, validation_accuracy\n",
    "\n",
    "  def train_loop(self):\n",
    "    early_stopping = EarlyStopping(\n",
    "      patience=self.wandb.config.early_stop_patience,\n",
    "      delta=self.wandb.config.early_stop_delta,\n",
    "      project_name=self.project_name,\n",
    "      checkpoint_file_path=self.checkpoint_file_path,\n",
    "      run_time_str=self.run_time_str\n",
    "    )\n",
    "    n_epochs = self.wandb.config.epochs\n",
    "    training_start_time = datetime.now()\n",
    "\n",
    "    for epoch in range(1, n_epochs + 1):\n",
    "      train_loss, train_accuracy = self.do_train()\n",
    "\n",
    "      if epoch == 1 or epoch % self.wandb.config.validation_intervals == 0:\n",
    "        validation_loss, validation_accuracy = self.do_validation()\n",
    "\n",
    "        elapsed_time = datetime.now() - training_start_time\n",
    "        epoch_per_second = 0 if elapsed_time.seconds == 0 else epoch / elapsed_time.seconds\n",
    "\n",
    "        message, early_stop = early_stopping.check_and_save(validation_loss, self.model)\n",
    "\n",
    "        print(\n",
    "          f\"[Epoch {epoch:>3}] \"\n",
    "          f\"T_loss: {train_loss:7.5f}, \"\n",
    "          f\"T_accuracy: {train_accuracy:6.4f} | \"\n",
    "          f\"V_loss: {validation_loss:7.5f}, \"\n",
    "          f\"V_accuracy: {validation_accuracy:6.4f} | \"\n",
    "          f\"{message} | \"\n",
    "          f\"T_time: {strfdelta(elapsed_time, '%H:%M:%S')}, \"\n",
    "          f\"T_speed: {epoch_per_second:4.3f}\"\n",
    "        )\n",
    "\n",
    "        self.wandb.log({\n",
    "          \"Epoch\": epoch,\n",
    "          \"Training loss\": train_loss,\n",
    "          \"Training accuracy (%)\": train_accuracy,\n",
    "          \"Validation loss\": validation_loss,\n",
    "          \"Validation accuracy (%)\": validation_accuracy,\n",
    "          \"Training speed (epochs/sec.)\": epoch_per_second,\n",
    "        })\n",
    "\n",
    "        if early_stop:\n",
    "          break\n",
    "\n",
    "    elapsed_time = datetime.now() - training_start_time\n",
    "    print(f\"Final training time: {strfdelta(elapsed_time, '%H:%M:%S')}\")\n"
   ]
  },
  {
   "cell_type": "markdown",
   "metadata": {
    "id": "cptp-c4l9PEo"
   },
   "source": [
    "##### get_model"
   ]
  },
  {
   "cell_type": "code",
   "execution_count": 66,
   "metadata": {
    "id": "6j74m-Ny8_PX"
   },
   "outputs": [],
   "source": [
    "def get_model():\n",
    "  class MyModel(nn.Module):\n",
    "    def __init__(self, n_input, n_output):\n",
    "      super().__init__()\n",
    "\n",
    "      self.lstm = nn.LSTM(input_size=n_input, hidden_size=256, num_layers=3, batch_first=True)\n",
    "      self.fcn = nn.Linear(in_features=256, out_features=n_output)\n",
    "\n",
    "    def forward(self, x):\n",
    "      x, hidden = self.lstm(x)\n",
    "      x = x[:, -1, :]  # x.shape: [32, 128]\n",
    "      x = self.fcn(x)\n",
    "      return x\n",
    "\n",
    "  my_model = MyModel(n_input=5, n_output=2)\n",
    "\n",
    "  return my_model"
   ]
  },
  {
   "cell_type": "markdown",
   "metadata": {
    "id": "ZL222th89NW4"
   },
   "source": [
    "##### main"
   ]
  },
  {
   "cell_type": "code",
   "execution_count": 67,
   "metadata": {
    "id": "_g4gqLKn9KAZ"
   },
   "outputs": [],
   "source": [
    "def main(args):\n",
    "  run_time_str = datetime.now().astimezone().strftime('%Y-%m-%d_%H-%M-%S')\n",
    "\n",
    "  config = {\n",
    "    'epochs': args.epochs,\n",
    "    'batch_size': args.batch_size,\n",
    "    'validation_intervals': args.validation_intervals,\n",
    "    'learning_rate': args.learning_rate,\n",
    "    'early_stop_patience': args.early_stop_patience,\n",
    "    'early_stop_delta': args.early_stop_delta,\n",
    "    'weight_decay': args.weight_decay\n",
    "  }\n",
    "\n",
    "  project_name = \"lstm_classification_btc_krw\"\n",
    "  wandb.init(\n",
    "    mode=\"online\" if args.wandb else \"disabled\",\n",
    "    project=project_name,\n",
    "    notes=\"btc_krw experiment with lstm\",\n",
    "    tags=[\"lstm\", \"classification\", \"btc_krw\"],\n",
    "    name=run_time_str,\n",
    "    config=config\n",
    "  )\n",
    "  print(args)\n",
    "  print(wandb.config)\n",
    "\n",
    "  train_data_loader, validation_data_loader, _ = get_btc_krw_data(is_regression=False)\n",
    "  device = torch.device(\"cuda:0\" if torch.cuda.is_available() else \"cpu\")\n",
    "  print(f\"Training on device {device}.\")\n",
    "\n",
    "  model = get_model()\n",
    "  model.to(device)\n",
    "  wandb.watch(model)\n",
    "\n",
    "  optimizer = optim.Adam(model.parameters(), lr=wandb.config.learning_rate, weight_decay=wandb.config.weight_decay)\n",
    "\n",
    "  classification_trainer = ClassificationTrainer(\n",
    "    project_name, model, optimizer, train_data_loader, validation_data_loader, None,\n",
    "    run_time_str, wandb, device, CHECKPOINT_FILE_PATH\n",
    "  )\n",
    "  classification_trainer.train_loop()\n",
    "\n",
    "  wandb.finish()\n"
   ]
  },
  {
   "cell_type": "markdown",
   "metadata": {
    "id": "vCNXNyya9Sqf"
   },
   "source": [
    "##### run"
   ]
  },
  {
   "cell_type": "code",
   "execution_count": 68,
   "metadata": {
    "colab": {
     "base_uri": "https://localhost:8080/",
     "height": 1000,
     "referenced_widgets": [
      "0eb2ec8ebfc243f9ac6caa2e315d7712",
      "248fc27571d2428ab054f79b7a62fcb4",
      "3b5f0c8de0494edba57a23605d5c82c0",
      "ce191b0ee2fa42e2afa6a4ffe30d4b08",
      "940432c75d0d46cba7983376ae4fe584",
      "b0dc68c636cc4d39832112b6ba7ca80c",
      "3244bc72fa00482284509c5fa1cf1169",
      "94997c1127884ba286b4d302395eba43"
     ]
    },
    "executionInfo": {
     "elapsed": 483326,
     "status": "ok",
     "timestamp": 1702643884487,
     "user": {
      "displayName": "NULL JO",
      "userId": "17442773596076107047"
     },
     "user_tz": -540
    },
    "id": "6x8KRsYUcjtC",
    "outputId": "9d98d92a-3842-4135-8da6-7cd59b3f12c9"
   },
   "outputs": [
    {
     "data": {
      "text/html": [
       "Tracking run with wandb version 0.18.7"
      ],
      "text/plain": [
       "<IPython.core.display.HTML object>"
      ]
     },
     "metadata": {},
     "output_type": "display_data"
    },
    {
     "data": {
      "text/html": [
       "Run data is saved locally in <code>/home/work/dl_choo/wandb/run-20241203_065845-kduwjuqc</code>"
      ],
      "text/plain": [
       "<IPython.core.display.HTML object>"
      ]
     },
     "metadata": {},
     "output_type": "display_data"
    },
    {
     "data": {
      "text/html": [
       "Syncing run <strong><a href='https://wandb.ai/choo0412-korea-university-of-technology-and-education/lstm_classification_btc_krw/runs/kduwjuqc' target=\"_blank\">2024-12-03_06-58-45</a></strong> to <a href='https://wandb.ai/choo0412-korea-university-of-technology-and-education/lstm_classification_btc_krw' target=\"_blank\">Weights & Biases</a> (<a href='https://wandb.me/developer-guide' target=\"_blank\">docs</a>)<br/>"
      ],
      "text/plain": [
       "<IPython.core.display.HTML object>"
      ]
     },
     "metadata": {},
     "output_type": "display_data"
    },
    {
     "data": {
      "text/html": [
       " View project at <a href='https://wandb.ai/choo0412-korea-university-of-technology-and-education/lstm_classification_btc_krw' target=\"_blank\">https://wandb.ai/choo0412-korea-university-of-technology-and-education/lstm_classification_btc_krw</a>"
      ],
      "text/plain": [
       "<IPython.core.display.HTML object>"
      ]
     },
     "metadata": {},
     "output_type": "display_data"
    },
    {
     "data": {
      "text/html": [
       " View run at <a href='https://wandb.ai/choo0412-korea-university-of-technology-and-education/lstm_classification_btc_krw/runs/kduwjuqc' target=\"_blank\">https://wandb.ai/choo0412-korea-university-of-technology-and-education/lstm_classification_btc_krw/runs/kduwjuqc</a>"
      ],
      "text/plain": [
       "<IPython.core.display.HTML object>"
      ]
     },
     "metadata": {},
     "output_type": "display_data"
    },
    {
     "name": "stdout",
     "output_type": "stream",
     "text": [
      "Namespace(wandb=True, batch_size=2048, epochs=10000, learning_rate=1e-05, weight_decay=0.0, validation_intervals=30, early_stop_patience=100, early_stop_delta=1e-06)\n",
      "{'epochs': 10000, 'batch_size': 2048, 'validation_intervals': 30, 'learning_rate': 1e-05, 'early_stop_patience': 100, 'early_stop_delta': 1e-06, 'weight_decay': 0.0}\n",
      "Training on device cuda:0.\n",
      "[Epoch   1] T_loss: 0.69219, T_accuracy: 52.7993 | V_loss: 0.69341, V_accuracy: 49.0000 | V_loss decreased (    inf --> 0.69341). Saving model... | T_time: 00:00:00, T_speed: 0.000\n",
      "[Epoch  30] T_loss: 0.69135, T_accuracy: 52.7993 | V_loss: 0.69353, V_accuracy: 49.0000 | Early stopping counter: 1 out of 100 | T_time: 00:00:01, T_speed: 30.000\n",
      "[Epoch  60] T_loss: 0.69103, T_accuracy: 52.8548 | V_loss: 0.69323, V_accuracy: 49.0000 | V_loss decreased (0.69341 --> 0.69323). Saving model... | T_time: 00:00:03, T_speed: 20.000\n",
      "[Epoch  90] T_loss: 0.69073, T_accuracy: 53.0765 | V_loss: 0.69296, V_accuracy: 51.0000 | V_loss decreased (0.69323 --> 0.69296). Saving model... | T_time: 00:00:04, T_speed: 22.500\n",
      "[Epoch 120] T_loss: 0.69053, T_accuracy: 53.2705 | V_loss: 0.69318, V_accuracy: 51.0000 | Early stopping counter: 1 out of 100 | T_time: 00:00:06, T_speed: 20.000\n",
      "[Epoch 150] T_loss: 0.69061, T_accuracy: 53.1874 | V_loss: 0.69343, V_accuracy: 51.0000 | Early stopping counter: 2 out of 100 | T_time: 00:00:07, T_speed: 21.429\n",
      "[Epoch 180] T_loss: 0.69036, T_accuracy: 53.4091 | V_loss: 0.69374, V_accuracy: 51.0000 | Early stopping counter: 3 out of 100 | T_time: 00:00:09, T_speed: 20.000\n",
      "[Epoch 210] T_loss: 0.69056, T_accuracy: 53.3537 | V_loss: 0.69406, V_accuracy: 51.0000 | Early stopping counter: 4 out of 100 | T_time: 00:00:10, T_speed: 21.000\n",
      "[Epoch 240] T_loss: 0.69076, T_accuracy: 53.3537 | V_loss: 0.69441, V_accuracy: 51.0000 | Early stopping counter: 5 out of 100 | T_time: 00:00:12, T_speed: 20.000\n",
      "[Epoch 270] T_loss: 0.69051, T_accuracy: 53.3259 | V_loss: 0.69482, V_accuracy: 51.0000 | Early stopping counter: 6 out of 100 | T_time: 00:00:13, T_speed: 20.769\n",
      "[Epoch 300] T_loss: 0.69052, T_accuracy: 53.2982 | V_loss: 0.69522, V_accuracy: 51.0000 | Early stopping counter: 7 out of 100 | T_time: 00:00:15, T_speed: 20.000\n",
      "[Epoch 330] T_loss: 0.69067, T_accuracy: 53.1042 | V_loss: 0.69550, V_accuracy: 51.0000 | Early stopping counter: 8 out of 100 | T_time: 00:00:16, T_speed: 20.625\n",
      "[Epoch 360] T_loss: 0.69054, T_accuracy: 53.0211 | V_loss: 0.69608, V_accuracy: 51.0000 | Early stopping counter: 9 out of 100 | T_time: 00:00:18, T_speed: 20.000\n",
      "[Epoch 390] T_loss: 0.69062, T_accuracy: 53.2428 | V_loss: 0.69657, V_accuracy: 51.0000 | Early stopping counter: 10 out of 100 | T_time: 00:00:19, T_speed: 20.526\n",
      "[Epoch 420] T_loss: 0.69040, T_accuracy: 53.2705 | V_loss: 0.69703, V_accuracy: 51.0000 | Early stopping counter: 11 out of 100 | T_time: 00:00:21, T_speed: 20.000\n",
      "[Epoch 450] T_loss: 0.69080, T_accuracy: 52.9933 | V_loss: 0.69716, V_accuracy: 51.0000 | Early stopping counter: 12 out of 100 | T_time: 00:00:22, T_speed: 20.455\n",
      "[Epoch 480] T_loss: 0.69038, T_accuracy: 53.1042 | V_loss: 0.69809, V_accuracy: 51.0000 | Early stopping counter: 13 out of 100 | T_time: 00:00:24, T_speed: 20.000\n",
      "[Epoch 510] T_loss: 0.69071, T_accuracy: 52.9656 | V_loss: 0.69832, V_accuracy: 51.0000 | Early stopping counter: 14 out of 100 | T_time: 00:00:25, T_speed: 20.400\n",
      "[Epoch 540] T_loss: 0.69077, T_accuracy: 53.0488 | V_loss: 0.69890, V_accuracy: 51.0000 | Early stopping counter: 15 out of 100 | T_time: 00:00:27, T_speed: 20.000\n",
      "[Epoch 570] T_loss: 0.69051, T_accuracy: 53.1596 | V_loss: 0.69920, V_accuracy: 51.0000 | Early stopping counter: 16 out of 100 | T_time: 00:00:29, T_speed: 19.655\n",
      "[Epoch 600] T_loss: 0.69072, T_accuracy: 53.1596 | V_loss: 0.69967, V_accuracy: 51.0000 | Early stopping counter: 17 out of 100 | T_time: 00:00:30, T_speed: 20.000\n",
      "[Epoch 630] T_loss: 0.69016, T_accuracy: 53.1596 | V_loss: 0.69999, V_accuracy: 51.0000 | Early stopping counter: 18 out of 100 | T_time: 00:00:32, T_speed: 19.688\n",
      "[Epoch 660] T_loss: 0.69089, T_accuracy: 53.1596 | V_loss: 0.70031, V_accuracy: 51.0000 | Early stopping counter: 19 out of 100 | T_time: 00:00:33, T_speed: 20.000\n",
      "[Epoch 690] T_loss: 0.69068, T_accuracy: 52.9656 | V_loss: 0.70025, V_accuracy: 51.0000 | Early stopping counter: 20 out of 100 | T_time: 00:00:35, T_speed: 19.714\n",
      "[Epoch 720] T_loss: 0.69018, T_accuracy: 52.9656 | V_loss: 0.70076, V_accuracy: 51.0000 | Early stopping counter: 21 out of 100 | T_time: 00:00:36, T_speed: 20.000\n",
      "[Epoch 750] T_loss: 0.69090, T_accuracy: 53.0211 | V_loss: 0.70085, V_accuracy: 51.0000 | Early stopping counter: 22 out of 100 | T_time: 00:00:38, T_speed: 19.737\n",
      "[Epoch 780] T_loss: 0.69041, T_accuracy: 52.9379 | V_loss: 0.70119, V_accuracy: 51.0000 | Early stopping counter: 23 out of 100 | T_time: 00:00:39, T_speed: 20.000\n",
      "[Epoch 810] T_loss: 0.69069, T_accuracy: 52.9379 | V_loss: 0.70143, V_accuracy: 51.0000 | Early stopping counter: 24 out of 100 | T_time: 00:00:41, T_speed: 19.756\n",
      "[Epoch 840] T_loss: 0.69067, T_accuracy: 52.9102 | V_loss: 0.70167, V_accuracy: 51.0000 | Early stopping counter: 25 out of 100 | T_time: 00:00:42, T_speed: 20.000\n",
      "[Epoch 870] T_loss: 0.69070, T_accuracy: 52.9656 | V_loss: 0.70169, V_accuracy: 51.0000 | Early stopping counter: 26 out of 100 | T_time: 00:00:44, T_speed: 19.773\n",
      "[Epoch 900] T_loss: 0.69098, T_accuracy: 52.9379 | V_loss: 0.70204, V_accuracy: 51.0000 | Early stopping counter: 27 out of 100 | T_time: 00:00:45, T_speed: 20.000\n",
      "[Epoch 930] T_loss: 0.69047, T_accuracy: 52.9656 | V_loss: 0.70210, V_accuracy: 51.0000 | Early stopping counter: 28 out of 100 | T_time: 00:00:46, T_speed: 20.217\n",
      "[Epoch 960] T_loss: 0.69057, T_accuracy: 52.9379 | V_loss: 0.70224, V_accuracy: 51.0000 | Early stopping counter: 29 out of 100 | T_time: 00:00:48, T_speed: 20.000\n",
      "[Epoch 990] T_loss: 0.69048, T_accuracy: 53.0765 | V_loss: 0.70229, V_accuracy: 51.0000 | Early stopping counter: 30 out of 100 | T_time: 00:00:50, T_speed: 19.800\n",
      "[Epoch 1020] T_loss: 0.69046, T_accuracy: 53.0211 | V_loss: 0.70254, V_accuracy: 51.0000 | Early stopping counter: 31 out of 100 | T_time: 00:00:51, T_speed: 20.000\n",
      "[Epoch 1050] T_loss: 0.69070, T_accuracy: 53.0488 | V_loss: 0.70278, V_accuracy: 51.0000 | Early stopping counter: 32 out of 100 | T_time: 00:00:53, T_speed: 19.811\n",
      "[Epoch 1080] T_loss: 0.69066, T_accuracy: 52.9656 | V_loss: 0.70335, V_accuracy: 51.0000 | Early stopping counter: 33 out of 100 | T_time: 00:00:54, T_speed: 20.000\n",
      "[Epoch 1110] T_loss: 0.69078, T_accuracy: 53.0211 | V_loss: 0.70358, V_accuracy: 51.0000 | Early stopping counter: 34 out of 100 | T_time: 00:00:56, T_speed: 19.821\n",
      "[Epoch 1140] T_loss: 0.69035, T_accuracy: 52.9933 | V_loss: 0.70382, V_accuracy: 51.0000 | Early stopping counter: 35 out of 100 | T_time: 00:00:57, T_speed: 20.000\n",
      "[Epoch 1170] T_loss: 0.69074, T_accuracy: 52.9379 | V_loss: 0.70418, V_accuracy: 51.0000 | Early stopping counter: 36 out of 100 | T_time: 00:00:59, T_speed: 19.831\n",
      "[Epoch 1200] T_loss: 0.69084, T_accuracy: 52.8548 | V_loss: 0.70447, V_accuracy: 51.0000 | Early stopping counter: 37 out of 100 | T_time: 00:01:00, T_speed: 20.000\n",
      "[Epoch 1230] T_loss: 0.69073, T_accuracy: 53.0211 | V_loss: 0.70430, V_accuracy: 51.0000 | Early stopping counter: 38 out of 100 | T_time: 00:01:02, T_speed: 19.839\n",
      "[Epoch 1260] T_loss: 0.69058, T_accuracy: 52.9656 | V_loss: 0.70454, V_accuracy: 51.0000 | Early stopping counter: 39 out of 100 | T_time: 00:01:04, T_speed: 19.688\n",
      "[Epoch 1290] T_loss: 0.69082, T_accuracy: 53.0765 | V_loss: 0.70463, V_accuracy: 51.0000 | Early stopping counter: 40 out of 100 | T_time: 00:01:05, T_speed: 19.846\n",
      "[Epoch 1320] T_loss: 0.69049, T_accuracy: 53.0765 | V_loss: 0.70484, V_accuracy: 51.0000 | Early stopping counter: 41 out of 100 | T_time: 00:01:07, T_speed: 19.701\n",
      "[Epoch 1350] T_loss: 0.69058, T_accuracy: 52.9933 | V_loss: 0.70538, V_accuracy: 51.0000 | Early stopping counter: 42 out of 100 | T_time: 00:01:08, T_speed: 19.853\n",
      "[Epoch 1380] T_loss: 0.69072, T_accuracy: 53.0211 | V_loss: 0.70541, V_accuracy: 51.0000 | Early stopping counter: 43 out of 100 | T_time: 00:01:10, T_speed: 19.714\n",
      "[Epoch 1410] T_loss: 0.69053, T_accuracy: 52.9933 | V_loss: 0.70554, V_accuracy: 51.0000 | Early stopping counter: 44 out of 100 | T_time: 00:01:12, T_speed: 19.583\n"
     ]
    },
    {
     "name": "stdout",
     "output_type": "stream",
     "text": [
      "[Epoch 1440] T_loss: 0.69067, T_accuracy: 52.9933 | V_loss: 0.70577, V_accuracy: 51.0000 | Early stopping counter: 45 out of 100 | T_time: 00:01:13, T_speed: 19.726\n",
      "[Epoch 1470] T_loss: 0.69067, T_accuracy: 53.0765 | V_loss: 0.70580, V_accuracy: 51.0000 | Early stopping counter: 46 out of 100 | T_time: 00:01:15, T_speed: 19.600\n",
      "[Epoch 1500] T_loss: 0.69026, T_accuracy: 52.9933 | V_loss: 0.70630, V_accuracy: 51.0000 | Early stopping counter: 47 out of 100 | T_time: 00:01:16, T_speed: 19.737\n",
      "[Epoch 1530] T_loss: 0.69043, T_accuracy: 53.0211 | V_loss: 0.70654, V_accuracy: 51.0000 | Early stopping counter: 48 out of 100 | T_time: 00:01:18, T_speed: 19.615\n",
      "[Epoch 1560] T_loss: 0.69037, T_accuracy: 53.0765 | V_loss: 0.70658, V_accuracy: 51.0000 | Early stopping counter: 49 out of 100 | T_time: 00:01:19, T_speed: 19.747\n",
      "[Epoch 1590] T_loss: 0.69037, T_accuracy: 53.0488 | V_loss: 0.70740, V_accuracy: 51.0000 | Early stopping counter: 50 out of 100 | T_time: 00:01:21, T_speed: 19.630\n",
      "[Epoch 1620] T_loss: 0.69052, T_accuracy: 52.9379 | V_loss: 0.70776, V_accuracy: 51.0000 | Early stopping counter: 51 out of 100 | T_time: 00:01:22, T_speed: 19.756\n",
      "[Epoch 1650] T_loss: 0.69079, T_accuracy: 53.0488 | V_loss: 0.70646, V_accuracy: 51.0000 | Early stopping counter: 52 out of 100 | T_time: 00:01:24, T_speed: 19.643\n",
      "[Epoch 1680] T_loss: 0.69072, T_accuracy: 53.0488 | V_loss: 0.70650, V_accuracy: 51.0000 | Early stopping counter: 53 out of 100 | T_time: 00:01:25, T_speed: 19.765\n",
      "[Epoch 1710] T_loss: 0.69044, T_accuracy: 53.0488 | V_loss: 0.70660, V_accuracy: 51.0000 | Early stopping counter: 54 out of 100 | T_time: 00:01:27, T_speed: 19.655\n",
      "[Epoch 1740] T_loss: 0.69077, T_accuracy: 53.0765 | V_loss: 0.70633, V_accuracy: 51.0000 | Early stopping counter: 55 out of 100 | T_time: 00:01:28, T_speed: 19.773\n",
      "[Epoch 1770] T_loss: 0.69062, T_accuracy: 53.0765 | V_loss: 0.70642, V_accuracy: 51.0000 | Early stopping counter: 56 out of 100 | T_time: 00:01:30, T_speed: 19.667\n",
      "[Epoch 1800] T_loss: 0.69049, T_accuracy: 53.0765 | V_loss: 0.70679, V_accuracy: 51.0000 | Early stopping counter: 57 out of 100 | T_time: 00:01:31, T_speed: 19.780\n",
      "[Epoch 1830] T_loss: 0.69083, T_accuracy: 53.0488 | V_loss: 0.70711, V_accuracy: 51.0000 | Early stopping counter: 58 out of 100 | T_time: 00:01:33, T_speed: 19.677\n",
      "[Epoch 1860] T_loss: 0.69041, T_accuracy: 53.0488 | V_loss: 0.70806, V_accuracy: 51.0000 | Early stopping counter: 59 out of 100 | T_time: 00:01:34, T_speed: 19.787\n",
      "[Epoch 1890] T_loss: 0.69073, T_accuracy: 53.0488 | V_loss: 0.70847, V_accuracy: 51.0000 | Early stopping counter: 60 out of 100 | T_time: 00:01:36, T_speed: 19.688\n",
      "[Epoch 1920] T_loss: 0.69072, T_accuracy: 53.0765 | V_loss: 0.70895, V_accuracy: 51.0000 | Early stopping counter: 61 out of 100 | T_time: 00:01:37, T_speed: 19.794\n",
      "[Epoch 1950] T_loss: 0.69036, T_accuracy: 53.1319 | V_loss: 0.70944, V_accuracy: 51.0000 | Early stopping counter: 62 out of 100 | T_time: 00:01:39, T_speed: 19.697\n",
      "[Epoch 1980] T_loss: 0.69038, T_accuracy: 52.9933 | V_loss: 0.70949, V_accuracy: 51.0000 | Early stopping counter: 63 out of 100 | T_time: 00:01:40, T_speed: 19.800\n",
      "[Epoch 2010] T_loss: 0.69029, T_accuracy: 53.1042 | V_loss: 0.70992, V_accuracy: 51.0000 | Early stopping counter: 64 out of 100 | T_time: 00:01:42, T_speed: 19.706\n",
      "[Epoch 2040] T_loss: 0.69055, T_accuracy: 53.0765 | V_loss: 0.71099, V_accuracy: 51.0000 | Early stopping counter: 65 out of 100 | T_time: 00:01:43, T_speed: 19.806\n",
      "[Epoch 2070] T_loss: 0.69023, T_accuracy: 53.0765 | V_loss: 0.71101, V_accuracy: 51.0000 | Early stopping counter: 66 out of 100 | T_time: 00:01:45, T_speed: 19.714\n",
      "[Epoch 2100] T_loss: 0.69059, T_accuracy: 52.9933 | V_loss: 0.71133, V_accuracy: 51.0000 | Early stopping counter: 67 out of 100 | T_time: 00:01:46, T_speed: 19.811\n",
      "[Epoch 2130] T_loss: 0.69057, T_accuracy: 53.0765 | V_loss: 0.71181, V_accuracy: 51.0000 | Early stopping counter: 68 out of 100 | T_time: 00:01:48, T_speed: 19.722\n",
      "[Epoch 2160] T_loss: 0.69047, T_accuracy: 53.0765 | V_loss: 0.71230, V_accuracy: 51.0000 | Early stopping counter: 69 out of 100 | T_time: 00:01:50, T_speed: 19.636\n",
      "[Epoch 2190] T_loss: 0.69093, T_accuracy: 53.0765 | V_loss: 0.71328, V_accuracy: 51.0000 | Early stopping counter: 70 out of 100 | T_time: 00:01:51, T_speed: 19.730\n",
      "[Epoch 2220] T_loss: 0.69049, T_accuracy: 53.0488 | V_loss: 0.71331, V_accuracy: 51.0000 | Early stopping counter: 71 out of 100 | T_time: 00:01:53, T_speed: 19.646\n",
      "[Epoch 2250] T_loss: 0.69053, T_accuracy: 53.0765 | V_loss: 0.71489, V_accuracy: 51.0000 | Early stopping counter: 72 out of 100 | T_time: 00:01:55, T_speed: 19.565\n",
      "[Epoch 2280] T_loss: 0.69069, T_accuracy: 53.0488 | V_loss: 0.71521, V_accuracy: 51.0000 | Early stopping counter: 73 out of 100 | T_time: 00:01:56, T_speed: 19.655\n",
      "[Epoch 2310] T_loss: 0.69064, T_accuracy: 53.0488 | V_loss: 0.71620, V_accuracy: 51.0000 | Early stopping counter: 74 out of 100 | T_time: 00:01:58, T_speed: 19.576\n",
      "[Epoch 2340] T_loss: 0.69051, T_accuracy: 53.0488 | V_loss: 0.71644, V_accuracy: 51.0000 | Early stopping counter: 75 out of 100 | T_time: 00:01:59, T_speed: 19.664\n",
      "[Epoch 2370] T_loss: 0.69067, T_accuracy: 53.0765 | V_loss: 0.71709, V_accuracy: 51.0000 | Early stopping counter: 76 out of 100 | T_time: 00:02:01, T_speed: 19.587\n",
      "[Epoch 2400] T_loss: 0.69066, T_accuracy: 53.0488 | V_loss: 0.71774, V_accuracy: 51.0000 | Early stopping counter: 77 out of 100 | T_time: 00:02:03, T_speed: 19.512\n",
      "[Epoch 2430] T_loss: 0.69022, T_accuracy: 53.0488 | V_loss: 0.71841, V_accuracy: 51.0000 | Early stopping counter: 78 out of 100 | T_time: 00:02:04, T_speed: 19.597\n",
      "[Epoch 2460] T_loss: 0.69027, T_accuracy: 53.0488 | V_loss: 0.71908, V_accuracy: 51.0000 | Early stopping counter: 79 out of 100 | T_time: 00:02:06, T_speed: 19.524\n",
      "[Epoch 2490] T_loss: 0.69029, T_accuracy: 53.0488 | V_loss: 0.71968, V_accuracy: 51.0000 | Early stopping counter: 80 out of 100 | T_time: 00:02:07, T_speed: 19.606\n",
      "[Epoch 2520] T_loss: 0.69084, T_accuracy: 53.1596 | V_loss: 0.72611, V_accuracy: 51.0000 | Early stopping counter: 81 out of 100 | T_time: 00:02:09, T_speed: 19.535\n",
      "[Epoch 2550] T_loss: 0.69051, T_accuracy: 53.1319 | V_loss: 0.72732, V_accuracy: 51.0000 | Early stopping counter: 82 out of 100 | T_time: 00:02:10, T_speed: 19.615\n",
      "[Epoch 2580] T_loss: 0.69072, T_accuracy: 53.1596 | V_loss: 0.72876, V_accuracy: 51.0000 | Early stopping counter: 83 out of 100 | T_time: 00:02:12, T_speed: 19.545\n",
      "[Epoch 2610] T_loss: 0.69017, T_accuracy: 53.0488 | V_loss: 0.72920, V_accuracy: 51.0000 | Early stopping counter: 84 out of 100 | T_time: 00:02:14, T_speed: 19.478\n",
      "[Epoch 2640] T_loss: 0.69055, T_accuracy: 53.1874 | V_loss: 0.72980, V_accuracy: 51.0000 | Early stopping counter: 85 out of 100 | T_time: 00:02:15, T_speed: 19.556\n",
      "[Epoch 2670] T_loss: 0.69056, T_accuracy: 53.1319 | V_loss: 0.73108, V_accuracy: 51.0000 | Early stopping counter: 86 out of 100 | T_time: 00:02:17, T_speed: 19.489\n",
      "[Epoch 2700] T_loss: 0.69043, T_accuracy: 53.0488 | V_loss: 0.73261, V_accuracy: 51.0000 | Early stopping counter: 87 out of 100 | T_time: 00:02:18, T_speed: 19.565\n",
      "[Epoch 2730] T_loss: 0.69052, T_accuracy: 53.1596 | V_loss: 0.73272, V_accuracy: 51.0000 | Early stopping counter: 88 out of 100 | T_time: 00:02:20, T_speed: 19.500\n",
      "[Epoch 2760] T_loss: 0.69044, T_accuracy: 53.1596 | V_loss: 0.73415, V_accuracy: 51.0000 | Early stopping counter: 89 out of 100 | T_time: 00:02:21, T_speed: 19.574\n",
      "[Epoch 2790] T_loss: 0.69076, T_accuracy: 53.1319 | V_loss: 0.73439, V_accuracy: 51.0000 | Early stopping counter: 90 out of 100 | T_time: 00:02:23, T_speed: 19.510\n",
      "[Epoch 2820] T_loss: 0.69056, T_accuracy: 53.2705 | V_loss: 0.73586, V_accuracy: 51.0000 | Early stopping counter: 91 out of 100 | T_time: 00:02:24, T_speed: 19.583\n",
      "[Epoch 2850] T_loss: 0.69039, T_accuracy: 53.2428 | V_loss: 0.73909, V_accuracy: 51.0000 | Early stopping counter: 92 out of 100 | T_time: 00:02:26, T_speed: 19.521\n",
      "[Epoch 2880] T_loss: 0.69045, T_accuracy: 53.2705 | V_loss: 0.73927, V_accuracy: 51.0000 | Early stopping counter: 93 out of 100 | T_time: 00:02:27, T_speed: 19.592\n",
      "[Epoch 2910] T_loss: 0.69041, T_accuracy: 53.2151 | V_loss: 0.74076, V_accuracy: 51.0000 | Early stopping counter: 94 out of 100 | T_time: 00:02:29, T_speed: 19.530\n"
     ]
    },
    {
     "name": "stdout",
     "output_type": "stream",
     "text": [
      "[Epoch 2940] T_loss: 0.69043, T_accuracy: 53.2151 | V_loss: 0.74184, V_accuracy: 51.0000 | Early stopping counter: 95 out of 100 | T_time: 00:02:30, T_speed: 19.600\n",
      "[Epoch 2970] T_loss: 0.69030, T_accuracy: 53.2151 | V_loss: 0.74293, V_accuracy: 51.0000 | Early stopping counter: 96 out of 100 | T_time: 00:02:32, T_speed: 19.539\n",
      "[Epoch 3000] T_loss: 0.69041, T_accuracy: 53.1596 | V_loss: 0.74382, V_accuracy: 51.0000 | Early stopping counter: 97 out of 100 | T_time: 00:02:34, T_speed: 19.481\n",
      "[Epoch 3030] T_loss: 0.69038, T_accuracy: 53.0765 | V_loss: 0.74541, V_accuracy: 51.0000 | Early stopping counter: 98 out of 100 | T_time: 00:02:35, T_speed: 19.548\n",
      "[Epoch 3060] T_loss: 0.69037, T_accuracy: 53.1042 | V_loss: 0.74679, V_accuracy: 51.0000 | Early stopping counter: 99 out of 100 | T_time: 00:02:37, T_speed: 19.490\n",
      "[Epoch 3090] T_loss: 0.69043, T_accuracy: 53.1042 | V_loss: 0.74770, V_accuracy: 51.0000 | Early stopping counter: 100 out of 100 *** TRAIN EARLY STOPPED! *** | T_time: 00:02:39, T_speed: 19.434\n",
      "Final training time: 00:02:39\n"
     ]
    },
    {
     "data": {
      "text/html": [
       "\n",
       "    <style>\n",
       "        .wandb-row {\n",
       "            display: flex;\n",
       "            flex-direction: row;\n",
       "            flex-wrap: wrap;\n",
       "            justify-content: flex-start;\n",
       "            width: 100%;\n",
       "        }\n",
       "        .wandb-col {\n",
       "            display: flex;\n",
       "            flex-direction: column;\n",
       "            flex-basis: 100%;\n",
       "            flex: 1;\n",
       "            padding: 10px;\n",
       "        }\n",
       "    </style>\n",
       "<div class=\"wandb-row\"><div class=\"wandb-col\"><h3>Run history:</h3><br/><table class=\"wandb\"><tr><td>Epoch</td><td>▁▁▁▁▂▂▂▃▃▃▃▃▄▄▄▄▄▄▄▅▅▅▅▅▅▅▅▆▆▆▆▆▆▆▆▇▇▇██</td></tr><tr><td>Training accuracy (%)</td><td>▁▄█▇▇▃▄▅▃▂▃▄▄▂▄▃▃▄▄▃▄▄▄▅▄▄▄▄▄▅▅▅▄▅▅▆▆▅▄▅</td></tr><tr><td>Training loss</td><td>█▅▃▂▃▂▂▂▃▂▂▃▃▃▃▂▂▃▃▂▂▂▂▂▃▂▂▁▁▄▃▁▁▃▁▂▂▁▂▂</td></tr><tr><td>Training speed (epochs/sec.)</td><td>█▁▂▁▂▁▁▁▁▁▁▁▁▁▁▁▁▁▁▁▁▁▁▁▁▁▁▁▁▁▁▁▁▁▁▁▁▁▁▁</td></tr><tr><td>Validation accuracy (%)</td><td>▁▁██████████████████████████████████████</td></tr><tr><td>Validation loss</td><td>▁▁▁▁▁▁▁▁▂▂▂▂▂▂▂▂▂▂▃▃▃▃▃▃▃▃▃▃▃▄▄▄▅▆▆▆▆▆▇█</td></tr></table><br/></div><div class=\"wandb-col\"><h3>Run summary:</h3><br/><table class=\"wandb\"><tr><td>Epoch</td><td>3090</td></tr><tr><td>Training accuracy (%)</td><td>53.10421</td></tr><tr><td>Training loss</td><td>0.69043</td></tr><tr><td>Training speed (epochs/sec.)</td><td>19.43396</td></tr><tr><td>Validation accuracy (%)</td><td>51</td></tr><tr><td>Validation loss</td><td>0.7477</td></tr></table><br/></div></div>"
      ],
      "text/plain": [
       "<IPython.core.display.HTML object>"
      ]
     },
     "metadata": {},
     "output_type": "display_data"
    },
    {
     "data": {
      "text/html": [
       " View run <strong style=\"color:#cdcd00\">2024-12-03_06-58-45</strong> at: <a href='https://wandb.ai/choo0412-korea-university-of-technology-and-education/lstm_classification_btc_krw/runs/kduwjuqc' target=\"_blank\">https://wandb.ai/choo0412-korea-university-of-technology-and-education/lstm_classification_btc_krw/runs/kduwjuqc</a><br/> View project at: <a href='https://wandb.ai/choo0412-korea-university-of-technology-and-education/lstm_classification_btc_krw' target=\"_blank\">https://wandb.ai/choo0412-korea-university-of-technology-and-education/lstm_classification_btc_krw</a><br/>Synced 5 W&B file(s), 0 media file(s), 0 artifact file(s) and 0 other file(s)"
      ],
      "text/plain": [
       "<IPython.core.display.HTML object>"
      ]
     },
     "metadata": {},
     "output_type": "display_data"
    },
    {
     "data": {
      "text/html": [
       "Find logs at: <code>./wandb/run-20241203_065845-kduwjuqc/logs</code>"
      ],
      "text/plain": [
       "<IPython.core.display.HTML object>"
      ]
     },
     "metadata": {},
     "output_type": "display_data"
    }
   ],
   "source": [
    "if __name__ == \"__main__\":\n",
    "  args_str = \"--wandb -p 100 -r 0.00001\"\n",
    "  args_list = args_str.split()\n",
    "\n",
    "  parser = get_parser()\n",
    "  args = parser.parse_args(args_list)\n",
    "  main(args)\n",
    "\n",
    "  # python _01_code/_11_lstm_and_its_application/i_crypto_currency_classification_train_lstm.py -p 100 -r 0.00001"
   ]
  },
  {
   "cell_type": "markdown",
   "metadata": {
    "id": "Os2ke6pvhf5P"
   },
   "source": [
    "### _01_code/_11_lstm_and_its_application/j_crypto_currency_classification_test_lstm.py"
   ]
  },
  {
   "cell_type": "markdown",
   "metadata": {
    "id": "r5APkzmw9tEh"
   },
   "source": [
    "##### test"
   ]
  },
  {
   "cell_type": "code",
   "execution_count": null,
   "metadata": {
    "id": "lrOWZftl9aq-"
   },
   "outputs": [],
   "source": [
    "def test(test_model):\n",
    "  _, _, test_data_loader = get_btc_krw_data(is_regression=False)\n",
    "\n",
    "  test_model.eval()\n",
    "\n",
    "  num_corrects_test = 0\n",
    "  num_tested_samples = 0\n",
    "\n",
    "  print(\"[TEST DATA]\")\n",
    "  with torch.no_grad():\n",
    "    for test_batch in test_data_loader:\n",
    "      input_test, target_test = test_batch\n",
    "\n",
    "      output_test = test_model(input_test)\n",
    "\n",
    "      predicted_test = torch.argmax(output_test, dim=1)\n",
    "      num_corrects_test += torch.sum(torch.eq(predicted_test, target_test))\n",
    "\n",
    "      num_tested_samples += len(input_test)\n",
    "\n",
    "    test_accuracy = 100.0 * num_corrects_test / num_tested_samples\n",
    "\n",
    "    print(f\"TEST RESULTS: {test_accuracy:6.3f}%\")\n",
    "\n",
    "    for idx, (output, target) in enumerate(zip(output_test, target_test)):\n",
    "      print(\"{0:2}: {1:6,.2f} <--> {2:6,.2f}\".format(\n",
    "        idx, torch.argmax(output).item(), target.item()\n",
    "      ))\n"
   ]
  },
  {
   "cell_type": "markdown",
   "metadata": {
    "id": "HUtr51gQ9upt"
   },
   "source": [
    "##### main"
   ]
  },
  {
   "cell_type": "code",
   "execution_count": null,
   "metadata": {
    "id": "j9B6S9Zg9jYR"
   },
   "outputs": [],
   "source": [
    "def main(args):\n",
    "  run_time_str = datetime.now().astimezone().strftime('%Y-%m-%d_%H-%M-%S')\n",
    "\n",
    "  config = {\n",
    "    'epochs': args.epochs,\n",
    "    'batch_size': args.batch_size,\n",
    "    'validation_intervals': args.validation_intervals,\n",
    "    'learning_rate': args.learning_rate,\n",
    "    'early_stop_patience': args.early_stop_patience,\n",
    "    'early_stop_delta': args.early_stop_delta,\n",
    "  }\n",
    "\n",
    "  project_name = \"lstm_classification_btc_krw\"\n",
    "  wandb.init(\n",
    "    mode=\"disabled\",\n",
    "    project=project_name,\n",
    "    notes=\"btc_krw experiment with lstm\",\n",
    "    tags=[\"lstm\", \"regression\", \"btc_krw\"],\n",
    "    name=run_time_str,\n",
    "    config=config\n",
    "  )\n",
    "\n",
    "  test_model = get_model()\n",
    "\n",
    "  latest_file_path = os.path.join(\n",
    "    CHECKPOINT_FILE_PATH, f\"{project_name}_checkpoint_latest.pt\"\n",
    "  )\n",
    "  print(\"MODEL FILE: {0}\".format(latest_file_path))\n",
    "  test_model.load_state_dict(torch.load(latest_file_path, map_location=torch.device('cpu')))\n",
    "\n",
    "  test(test_model)"
   ]
  },
  {
   "cell_type": "markdown",
   "metadata": {
    "id": "9u2V_qRh9v47"
   },
   "source": [
    "##### run"
   ]
  },
  {
   "cell_type": "code",
   "execution_count": null,
   "metadata": {
    "colab": {
     "base_uri": "https://localhost:8080/",
     "height": 254
    },
    "executionInfo": {
     "elapsed": 648,
     "status": "ok",
     "timestamp": 1702643914182,
     "user": {
      "displayName": "NULL JO",
      "userId": "17442773596076107047"
     },
     "user_tz": -540
    },
    "id": "Pawo4m9XfESD",
    "outputId": "c6261be7-103a-4f42-c4b8-638f62403fe6"
   },
   "outputs": [
    {
     "name": "stdout",
     "output_type": "stream",
     "text": [
      "MODEL FILE: /content/checkpoints/lstm_classification_btc_krw_checkpoint_latest.pt\n",
      "[TEST DATA]\n",
      "TEST RESULTS: 80.000%\n",
      " 0:   0.00 <-->   0.00\n",
      " 1:   1.00 <-->   1.00\n",
      " 2:   1.00 <-->   1.00\n",
      " 3:   0.00 <-->   1.00\n",
      " 4:   0.00 <-->   0.00\n",
      " 5:   1.00 <-->   1.00\n",
      " 6:   1.00 <-->   1.00\n",
      " 7:   0.00 <-->   0.00\n",
      " 8:   0.00 <-->   1.00\n",
      " 9:   1.00 <-->   1.00\n"
     ]
    }
   ],
   "source": [
    "if __name__ == \"__main__\":\n",
    "  args_str = \"\"\n",
    "  args_list = args_str.split()\n",
    "\n",
    "  parser = get_parser()\n",
    "  args = parser.parse_args(args_list)\n",
    "  main(args)"
   ]
  },
  {
   "cell_type": "markdown",
   "metadata": {
    "id": "s1yxY1C7aW0r"
   },
   "source": [
    "## 숙제 후기"
   ]
  },
  {
   "cell_type": "markdown",
   "metadata": {
    "id": "7VDt9_Vcaa0Z"
   },
   "source": [
    "이번 실습에서는 LSTM(Long Short-Term Memory) 모델을 이용하여 비트코인 가격 데이터를 Classification(분류)과 Regression(회귀) 방식으로 처리해보았습니다. LSTM은 시계열 데이터를 다루는 데 적합한 인공 신경망 모델로, 데이터의 시간적 순서를 학습하는 데 강점을 가지고 있습니다.\n",
    "\n",
    "Classification과 Regression 코드의 차이점은 주로 사용된 Trainer 클래스, 모델의 출력 크기, 손실 함수, 그리고 데이터 처리 방식에서 드러났습니다. Classification에서는 ClassificationTrainer를 사용하고, 모델의 출력 크기를 2로 설정하며, 손실 함수로 nn.CrossEntropyLoss()를 적용했습니다. 반면, Regression에서는 RegressionTrainer를 사용하고, 출력 크기를 1로 설정하며, 손실 함수로 nn.MSELoss()를 사용했습니다. 또한, 데이터 처리 함수의 is_regression 인자를 각각 True와 False로 설정하여 작업에 맞는 데이터를 생성했습니다.\n",
    "\n",
    "실습 결과, Classification 작업은 수업 시간에 보았던 결과와 유사한 그래프를 나타냈으며, 예측 그래프가 실제 데이터와 비교적 잘 일치했습니다. 반면, Regression 작업은 그래프가 난해한 형태를 보였고, 과적합(Overfitting)이 발생한 것으로 예상됩니다. 다만, Regression 결과가 왜 이러한 문제를 보였는지에 대해서는 명확히 분석하지 못했고, 추가적인 연구와 개선이 필요하다고 느꼈습니다.\n",
    "\n",
    "이번 실습을 통해 LSTM 모델을 이용하여 시계열 데이터를 처리하는 과정을 이해할 수 있었습니다. Classification과 Regression 문제에서 데이터를 처리하고 모델을 학습시키는 방식의 차이를 비교할 수 있었으며, 모델의 성능을 평가하고 문제를 진단하는 경험도 얻었습니다. 특히, 시계열 데이터를 다룰 때 발생할 수 있는 어려움과 이를 해결하기 위한 개선 방안을 고민하게 되는 유익한 시간이었습니다.\n",
    "\n",
    "LSTM을 활용해 비트코인 데이터를 다루며, 모델의 예측 능력을 향상시키기 위해 더 나은 데이터 전처리와 하이퍼파라미터 튜닝의 중요성을 깨닫게 되었습니다."
   ]
  }
 ],
 "metadata": {
  "accelerator": "GPU",
  "colab": {
   "authorship_tag": "ABX9TyPeb6W9OnrYcbR2h7bpB+5J",
   "collapsed_sections": [
    "8ym_3NsJJ-3p",
    "KR5O0HbOccbA",
    "AsgSAFbqKN8v",
    "BxS2tZCmc4V9",
    "mJMrMfQUmEWY",
    "f_YBHFC1c8_0",
    "HZUL6X78Z981",
    "MyhBFwl-hrzE",
    "-wNtnRkdKd9_",
    "KJmVYkg8Z2RH",
    "lzFPaG2I11PC",
    "lYQzd550ZYny",
    "06yFhih4135Z",
    "hTcsut7K1-GX",
    "Z6YYTRqp2BXW",
    "8_qhiQ3a1hTe",
    "iLauQlahhZMP",
    "6rBIjr1K3JZv",
    "nhjTkiLU3Ll4",
    "joSxEFH03Nkg",
    "4oEMqaRY3QNy",
    "tgXdr_wwhdIt",
    "WQM6JAk3cOB4",
    "jjKD9MojcVhp",
    "8aY88FJTBwga",
    "cptp-c4l9PEo",
    "ZL222th89NW4",
    "vCNXNyya9Sqf",
    "r5APkzmw9tEh",
    "HUtr51gQ9upt",
    "9u2V_qRh9v47",
    "s1yxY1C7aW0r"
   ],
   "gpuType": "T4",
   "mount_file_id": "1s_UACAFwtQ1nWjK5oY6w7iFQHxx150Mk",
   "provenance": []
  },
  "kernelspec": {
   "display_name": "PyTorch 2.3 (NGC 24.03/Python 3.10) on Backend.AI",
   "language": "python",
   "name": "python3"
  },
  "language_info": {
   "codemirror_mode": {
    "name": "ipython",
    "version": 3
   },
   "file_extension": ".py",
   "mimetype": "text/x-python",
   "name": "python",
   "nbconvert_exporter": "python",
   "pygments_lexer": "ipython3",
   "version": "3.10.12"
  },
  "widgets": {
   "application/vnd.jupyter.widget-state+json": {
    "075434bf2732439699e7e0941b9f06df": {
     "model_module": "@jupyter-widgets/controls",
     "model_module_version": "1.5.0",
     "model_name": "VBoxModel",
     "state": {
      "_dom_classes": [],
      "_model_module": "@jupyter-widgets/controls",
      "_model_module_version": "1.5.0",
      "_model_name": "VBoxModel",
      "_view_count": null,
      "_view_module": "@jupyter-widgets/controls",
      "_view_module_version": "1.5.0",
      "_view_name": "VBoxView",
      "box_style": "",
      "children": [
       "IPY_MODEL_b44e7f57eb6144bdad0308a54c1b3c12",
       "IPY_MODEL_8f322971d9934f26b6be77040419acde"
      ],
      "layout": "IPY_MODEL_dda10713dd534bb6a716d0802496725b"
     }
    },
    "0c88367f4c91427e853e0c004f15bd32": {
     "model_module": "@jupyter-widgets/controls",
     "model_module_version": "1.5.0",
     "model_name": "LabelModel",
     "state": {
      "_dom_classes": [],
      "_model_module": "@jupyter-widgets/controls",
      "_model_module_version": "1.5.0",
      "_model_name": "LabelModel",
      "_view_count": null,
      "_view_module": "@jupyter-widgets/controls",
      "_view_module_version": "1.5.0",
      "_view_name": "LabelView",
      "description": "",
      "description_tooltip": null,
      "layout": "IPY_MODEL_66ba32f847be47068377680a3f8d107e",
      "placeholder": "​",
      "style": "IPY_MODEL_e344a855ea53475ebf003ea472d7da0a",
      "value": "0.011 MB of 0.011 MB uploaded\r"
     }
    },
    "0eb2ec8ebfc243f9ac6caa2e315d7712": {
     "model_module": "@jupyter-widgets/controls",
     "model_module_version": "1.5.0",
     "model_name": "VBoxModel",
     "state": {
      "_dom_classes": [],
      "_model_module": "@jupyter-widgets/controls",
      "_model_module_version": "1.5.0",
      "_model_name": "VBoxModel",
      "_view_count": null,
      "_view_module": "@jupyter-widgets/controls",
      "_view_module_version": "1.5.0",
      "_view_name": "VBoxView",
      "box_style": "",
      "children": [
       "IPY_MODEL_248fc27571d2428ab054f79b7a62fcb4",
       "IPY_MODEL_3b5f0c8de0494edba57a23605d5c82c0"
      ],
      "layout": "IPY_MODEL_ce191b0ee2fa42e2afa6a4ffe30d4b08"
     }
    },
    "16b0986d31f541d0a1a6d6ee654b99de": {
     "model_module": "@jupyter-widgets/base",
     "model_module_version": "1.2.0",
     "model_name": "LayoutModel",
     "state": {
      "_model_module": "@jupyter-widgets/base",
      "_model_module_version": "1.2.0",
      "_model_name": "LayoutModel",
      "_view_count": null,
      "_view_module": "@jupyter-widgets/base",
      "_view_module_version": "1.2.0",
      "_view_name": "LayoutView",
      "align_content": null,
      "align_items": null,
      "align_self": null,
      "border": null,
      "bottom": null,
      "display": null,
      "flex": null,
      "flex_flow": null,
      "grid_area": null,
      "grid_auto_columns": null,
      "grid_auto_flow": null,
      "grid_auto_rows": null,
      "grid_column": null,
      "grid_gap": null,
      "grid_row": null,
      "grid_template_areas": null,
      "grid_template_columns": null,
      "grid_template_rows": null,
      "height": null,
      "justify_content": null,
      "justify_items": null,
      "left": null,
      "margin": null,
      "max_height": null,
      "max_width": null,
      "min_height": null,
      "min_width": null,
      "object_fit": null,
      "object_position": null,
      "order": null,
      "overflow": null,
      "overflow_x": null,
      "overflow_y": null,
      "padding": null,
      "right": null,
      "top": null,
      "visibility": null,
      "width": null
     }
    },
    "1b9bf5481abf4b74b9f525d0ef517e88": {
     "model_module": "@jupyter-widgets/controls",
     "model_module_version": "1.5.0",
     "model_name": "DescriptionStyleModel",
     "state": {
      "_model_module": "@jupyter-widgets/controls",
      "_model_module_version": "1.5.0",
      "_model_name": "DescriptionStyleModel",
      "_view_count": null,
      "_view_module": "@jupyter-widgets/base",
      "_view_module_version": "1.2.0",
      "_view_name": "StyleView",
      "description_width": ""
     }
    },
    "2188fb3f695747f1b053d3159228c351": {
     "model_module": "@jupyter-widgets/base",
     "model_module_version": "1.2.0",
     "model_name": "LayoutModel",
     "state": {
      "_model_module": "@jupyter-widgets/base",
      "_model_module_version": "1.2.0",
      "_model_name": "LayoutModel",
      "_view_count": null,
      "_view_module": "@jupyter-widgets/base",
      "_view_module_version": "1.2.0",
      "_view_name": "LayoutView",
      "align_content": null,
      "align_items": null,
      "align_self": null,
      "border": null,
      "bottom": null,
      "display": null,
      "flex": null,
      "flex_flow": null,
      "grid_area": null,
      "grid_auto_columns": null,
      "grid_auto_flow": null,
      "grid_auto_rows": null,
      "grid_column": null,
      "grid_gap": null,
      "grid_row": null,
      "grid_template_areas": null,
      "grid_template_columns": null,
      "grid_template_rows": null,
      "height": null,
      "justify_content": null,
      "justify_items": null,
      "left": null,
      "margin": null,
      "max_height": null,
      "max_width": null,
      "min_height": null,
      "min_width": null,
      "object_fit": null,
      "object_position": null,
      "order": null,
      "overflow": null,
      "overflow_x": null,
      "overflow_y": null,
      "padding": null,
      "right": null,
      "top": null,
      "visibility": null,
      "width": null
     }
    },
    "21e0247ef0b044a4b6f2a725be0a3320": {
     "model_module": "@jupyter-widgets/controls",
     "model_module_version": "1.5.0",
     "model_name": "FloatProgressModel",
     "state": {
      "_dom_classes": [],
      "_model_module": "@jupyter-widgets/controls",
      "_model_module_version": "1.5.0",
      "_model_name": "FloatProgressModel",
      "_view_count": null,
      "_view_module": "@jupyter-widgets/controls",
      "_view_module_version": "1.5.0",
      "_view_name": "ProgressView",
      "bar_style": "",
      "description": "",
      "description_tooltip": null,
      "layout": "IPY_MODEL_36f325e2ca124eff92b9812f72ee6326",
      "max": 1,
      "min": 0,
      "orientation": "horizontal",
      "style": "IPY_MODEL_8b9f24800ee94e0b9e530239a55759fe",
      "value": 1
     }
    },
    "248fc27571d2428ab054f79b7a62fcb4": {
     "model_module": "@jupyter-widgets/controls",
     "model_module_version": "1.5.0",
     "model_name": "LabelModel",
     "state": {
      "_dom_classes": [],
      "_model_module": "@jupyter-widgets/controls",
      "_model_module_version": "1.5.0",
      "_model_name": "LabelModel",
      "_view_count": null,
      "_view_module": "@jupyter-widgets/controls",
      "_view_module_version": "1.5.0",
      "_view_name": "LabelView",
      "description": "",
      "description_tooltip": null,
      "layout": "IPY_MODEL_940432c75d0d46cba7983376ae4fe584",
      "placeholder": "​",
      "style": "IPY_MODEL_b0dc68c636cc4d39832112b6ba7ca80c",
      "value": "0.063 MB of 0.063 MB uploaded\r"
     }
    },
    "2f9a0609ede54a6f92eadb59f7c34d08": {
     "model_module": "@jupyter-widgets/controls",
     "model_module_version": "1.5.0",
     "model_name": "LabelModel",
     "state": {
      "_dom_classes": [],
      "_model_module": "@jupyter-widgets/controls",
      "_model_module_version": "1.5.0",
      "_model_name": "LabelModel",
      "_view_count": null,
      "_view_module": "@jupyter-widgets/controls",
      "_view_module_version": "1.5.0",
      "_view_name": "LabelView",
      "description": "",
      "description_tooltip": null,
      "layout": "IPY_MODEL_f5f9d1f4ff8e4fa69392adc0580d13d5",
      "placeholder": "​",
      "style": "IPY_MODEL_fcd28a53458347a6969cd240929d1e4f",
      "value": "0.043 MB of 0.043 MB uploaded\r"
     }
    },
    "3244bc72fa00482284509c5fa1cf1169": {
     "model_module": "@jupyter-widgets/base",
     "model_module_version": "1.2.0",
     "model_name": "LayoutModel",
     "state": {
      "_model_module": "@jupyter-widgets/base",
      "_model_module_version": "1.2.0",
      "_model_name": "LayoutModel",
      "_view_count": null,
      "_view_module": "@jupyter-widgets/base",
      "_view_module_version": "1.2.0",
      "_view_name": "LayoutView",
      "align_content": null,
      "align_items": null,
      "align_self": null,
      "border": null,
      "bottom": null,
      "display": null,
      "flex": null,
      "flex_flow": null,
      "grid_area": null,
      "grid_auto_columns": null,
      "grid_auto_flow": null,
      "grid_auto_rows": null,
      "grid_column": null,
      "grid_gap": null,
      "grid_row": null,
      "grid_template_areas": null,
      "grid_template_columns": null,
      "grid_template_rows": null,
      "height": null,
      "justify_content": null,
      "justify_items": null,
      "left": null,
      "margin": null,
      "max_height": null,
      "max_width": null,
      "min_height": null,
      "min_width": null,
      "object_fit": null,
      "object_position": null,
      "order": null,
      "overflow": null,
      "overflow_x": null,
      "overflow_y": null,
      "padding": null,
      "right": null,
      "top": null,
      "visibility": null,
      "width": null
     }
    },
    "33d3d86b6e4242dca19b7aa59f1fc446": {
     "model_module": "@jupyter-widgets/controls",
     "model_module_version": "1.5.0",
     "model_name": "ProgressStyleModel",
     "state": {
      "_model_module": "@jupyter-widgets/controls",
      "_model_module_version": "1.5.0",
      "_model_name": "ProgressStyleModel",
      "_view_count": null,
      "_view_module": "@jupyter-widgets/base",
      "_view_module_version": "1.2.0",
      "_view_name": "StyleView",
      "bar_color": null,
      "description_width": ""
     }
    },
    "36f325e2ca124eff92b9812f72ee6326": {
     "model_module": "@jupyter-widgets/base",
     "model_module_version": "1.2.0",
     "model_name": "LayoutModel",
     "state": {
      "_model_module": "@jupyter-widgets/base",
      "_model_module_version": "1.2.0",
      "_model_name": "LayoutModel",
      "_view_count": null,
      "_view_module": "@jupyter-widgets/base",
      "_view_module_version": "1.2.0",
      "_view_name": "LayoutView",
      "align_content": null,
      "align_items": null,
      "align_self": null,
      "border": null,
      "bottom": null,
      "display": null,
      "flex": null,
      "flex_flow": null,
      "grid_area": null,
      "grid_auto_columns": null,
      "grid_auto_flow": null,
      "grid_auto_rows": null,
      "grid_column": null,
      "grid_gap": null,
      "grid_row": null,
      "grid_template_areas": null,
      "grid_template_columns": null,
      "grid_template_rows": null,
      "height": null,
      "justify_content": null,
      "justify_items": null,
      "left": null,
      "margin": null,
      "max_height": null,
      "max_width": null,
      "min_height": null,
      "min_width": null,
      "object_fit": null,
      "object_position": null,
      "order": null,
      "overflow": null,
      "overflow_x": null,
      "overflow_y": null,
      "padding": null,
      "right": null,
      "top": null,
      "visibility": null,
      "width": null
     }
    },
    "3b5f0c8de0494edba57a23605d5c82c0": {
     "model_module": "@jupyter-widgets/controls",
     "model_module_version": "1.5.0",
     "model_name": "FloatProgressModel",
     "state": {
      "_dom_classes": [],
      "_model_module": "@jupyter-widgets/controls",
      "_model_module_version": "1.5.0",
      "_model_name": "FloatProgressModel",
      "_view_count": null,
      "_view_module": "@jupyter-widgets/controls",
      "_view_module_version": "1.5.0",
      "_view_name": "ProgressView",
      "bar_style": "",
      "description": "",
      "description_tooltip": null,
      "layout": "IPY_MODEL_3244bc72fa00482284509c5fa1cf1169",
      "max": 1,
      "min": 0,
      "orientation": "horizontal",
      "style": "IPY_MODEL_94997c1127884ba286b4d302395eba43",
      "value": 1
     }
    },
    "4103c14755ee4cf2883e5a746162c50d": {
     "model_module": "@jupyter-widgets/controls",
     "model_module_version": "1.5.0",
     "model_name": "VBoxModel",
     "state": {
      "_dom_classes": [],
      "_model_module": "@jupyter-widgets/controls",
      "_model_module_version": "1.5.0",
      "_model_name": "VBoxModel",
      "_view_count": null,
      "_view_module": "@jupyter-widgets/controls",
      "_view_module_version": "1.5.0",
      "_view_name": "VBoxView",
      "box_style": "",
      "children": [
       "IPY_MODEL_b9cd85afe9d242a28e0cc4b7be2483c1",
       "IPY_MODEL_21e0247ef0b044a4b6f2a725be0a3320"
      ],
      "layout": "IPY_MODEL_600c542dd4644f09967fd3a71b34bb2c"
     }
    },
    "4416a2e859eb46cf980340cf5fe06f3f": {
     "model_module": "@jupyter-widgets/base",
     "model_module_version": "1.2.0",
     "model_name": "LayoutModel",
     "state": {
      "_model_module": "@jupyter-widgets/base",
      "_model_module_version": "1.2.0",
      "_model_name": "LayoutModel",
      "_view_count": null,
      "_view_module": "@jupyter-widgets/base",
      "_view_module_version": "1.2.0",
      "_view_name": "LayoutView",
      "align_content": null,
      "align_items": null,
      "align_self": null,
      "border": null,
      "bottom": null,
      "display": null,
      "flex": null,
      "flex_flow": null,
      "grid_area": null,
      "grid_auto_columns": null,
      "grid_auto_flow": null,
      "grid_auto_rows": null,
      "grid_column": null,
      "grid_gap": null,
      "grid_row": null,
      "grid_template_areas": null,
      "grid_template_columns": null,
      "grid_template_rows": null,
      "height": null,
      "justify_content": null,
      "justify_items": null,
      "left": null,
      "margin": null,
      "max_height": null,
      "max_width": null,
      "min_height": null,
      "min_width": null,
      "object_fit": null,
      "object_position": null,
      "order": null,
      "overflow": null,
      "overflow_x": null,
      "overflow_y": null,
      "padding": null,
      "right": null,
      "top": null,
      "visibility": null,
      "width": null
     }
    },
    "600c542dd4644f09967fd3a71b34bb2c": {
     "model_module": "@jupyter-widgets/base",
     "model_module_version": "1.2.0",
     "model_name": "LayoutModel",
     "state": {
      "_model_module": "@jupyter-widgets/base",
      "_model_module_version": "1.2.0",
      "_model_name": "LayoutModel",
      "_view_count": null,
      "_view_module": "@jupyter-widgets/base",
      "_view_module_version": "1.2.0",
      "_view_name": "LayoutView",
      "align_content": null,
      "align_items": null,
      "align_self": null,
      "border": null,
      "bottom": null,
      "display": null,
      "flex": null,
      "flex_flow": null,
      "grid_area": null,
      "grid_auto_columns": null,
      "grid_auto_flow": null,
      "grid_auto_rows": null,
      "grid_column": null,
      "grid_gap": null,
      "grid_row": null,
      "grid_template_areas": null,
      "grid_template_columns": null,
      "grid_template_rows": null,
      "height": null,
      "justify_content": null,
      "justify_items": null,
      "left": null,
      "margin": null,
      "max_height": null,
      "max_width": null,
      "min_height": null,
      "min_width": null,
      "object_fit": null,
      "object_position": null,
      "order": null,
      "overflow": null,
      "overflow_x": null,
      "overflow_y": null,
      "padding": null,
      "right": null,
      "top": null,
      "visibility": null,
      "width": null
     }
    },
    "66ba32f847be47068377680a3f8d107e": {
     "model_module": "@jupyter-widgets/base",
     "model_module_version": "1.2.0",
     "model_name": "LayoutModel",
     "state": {
      "_model_module": "@jupyter-widgets/base",
      "_model_module_version": "1.2.0",
      "_model_name": "LayoutModel",
      "_view_count": null,
      "_view_module": "@jupyter-widgets/base",
      "_view_module_version": "1.2.0",
      "_view_name": "LayoutView",
      "align_content": null,
      "align_items": null,
      "align_self": null,
      "border": null,
      "bottom": null,
      "display": null,
      "flex": null,
      "flex_flow": null,
      "grid_area": null,
      "grid_auto_columns": null,
      "grid_auto_flow": null,
      "grid_auto_rows": null,
      "grid_column": null,
      "grid_gap": null,
      "grid_row": null,
      "grid_template_areas": null,
      "grid_template_columns": null,
      "grid_template_rows": null,
      "height": null,
      "justify_content": null,
      "justify_items": null,
      "left": null,
      "margin": null,
      "max_height": null,
      "max_width": null,
      "min_height": null,
      "min_width": null,
      "object_fit": null,
      "object_position": null,
      "order": null,
      "overflow": null,
      "overflow_x": null,
      "overflow_y": null,
      "padding": null,
      "right": null,
      "top": null,
      "visibility": null,
      "width": null
     }
    },
    "66cc61c8a6c5450e8b0fa5379bd4b5a6": {
     "model_module": "@jupyter-widgets/base",
     "model_module_version": "1.2.0",
     "model_name": "LayoutModel",
     "state": {
      "_model_module": "@jupyter-widgets/base",
      "_model_module_version": "1.2.0",
      "_model_name": "LayoutModel",
      "_view_count": null,
      "_view_module": "@jupyter-widgets/base",
      "_view_module_version": "1.2.0",
      "_view_name": "LayoutView",
      "align_content": null,
      "align_items": null,
      "align_self": null,
      "border": null,
      "bottom": null,
      "display": null,
      "flex": null,
      "flex_flow": null,
      "grid_area": null,
      "grid_auto_columns": null,
      "grid_auto_flow": null,
      "grid_auto_rows": null,
      "grid_column": null,
      "grid_gap": null,
      "grid_row": null,
      "grid_template_areas": null,
      "grid_template_columns": null,
      "grid_template_rows": null,
      "height": null,
      "justify_content": null,
      "justify_items": null,
      "left": null,
      "margin": null,
      "max_height": null,
      "max_width": null,
      "min_height": null,
      "min_width": null,
      "object_fit": null,
      "object_position": null,
      "order": null,
      "overflow": null,
      "overflow_x": null,
      "overflow_y": null,
      "padding": null,
      "right": null,
      "top": null,
      "visibility": null,
      "width": null
     }
    },
    "6b9b83b4c06449268c49a656d0ecb0d1": {
     "model_module": "@jupyter-widgets/controls",
     "model_module_version": "1.5.0",
     "model_name": "FloatProgressModel",
     "state": {
      "_dom_classes": [],
      "_model_module": "@jupyter-widgets/controls",
      "_model_module_version": "1.5.0",
      "_model_name": "FloatProgressModel",
      "_view_count": null,
      "_view_module": "@jupyter-widgets/controls",
      "_view_module_version": "1.5.0",
      "_view_name": "ProgressView",
      "bar_style": "",
      "description": "",
      "description_tooltip": null,
      "layout": "IPY_MODEL_708b5eb576ca4e09b726a1e50ff03275",
      "max": 1,
      "min": 0,
      "orientation": "horizontal",
      "style": "IPY_MODEL_6d9426a614cb4ef7a695d2d7664e0773",
      "value": 1
     }
    },
    "6d9426a614cb4ef7a695d2d7664e0773": {
     "model_module": "@jupyter-widgets/controls",
     "model_module_version": "1.5.0",
     "model_name": "ProgressStyleModel",
     "state": {
      "_model_module": "@jupyter-widgets/controls",
      "_model_module_version": "1.5.0",
      "_model_name": "ProgressStyleModel",
      "_view_count": null,
      "_view_module": "@jupyter-widgets/base",
      "_view_module_version": "1.2.0",
      "_view_name": "StyleView",
      "bar_color": null,
      "description_width": ""
     }
    },
    "708b5eb576ca4e09b726a1e50ff03275": {
     "model_module": "@jupyter-widgets/base",
     "model_module_version": "1.2.0",
     "model_name": "LayoutModel",
     "state": {
      "_model_module": "@jupyter-widgets/base",
      "_model_module_version": "1.2.0",
      "_model_name": "LayoutModel",
      "_view_count": null,
      "_view_module": "@jupyter-widgets/base",
      "_view_module_version": "1.2.0",
      "_view_name": "LayoutView",
      "align_content": null,
      "align_items": null,
      "align_self": null,
      "border": null,
      "bottom": null,
      "display": null,
      "flex": null,
      "flex_flow": null,
      "grid_area": null,
      "grid_auto_columns": null,
      "grid_auto_flow": null,
      "grid_auto_rows": null,
      "grid_column": null,
      "grid_gap": null,
      "grid_row": null,
      "grid_template_areas": null,
      "grid_template_columns": null,
      "grid_template_rows": null,
      "height": null,
      "justify_content": null,
      "justify_items": null,
      "left": null,
      "margin": null,
      "max_height": null,
      "max_width": null,
      "min_height": null,
      "min_width": null,
      "object_fit": null,
      "object_position": null,
      "order": null,
      "overflow": null,
      "overflow_x": null,
      "overflow_y": null,
      "padding": null,
      "right": null,
      "top": null,
      "visibility": null,
      "width": null
     }
    },
    "7c605a1e6ebd4f2a9b43fa1c74f96502": {
     "model_module": "@jupyter-widgets/base",
     "model_module_version": "1.2.0",
     "model_name": "LayoutModel",
     "state": {
      "_model_module": "@jupyter-widgets/base",
      "_model_module_version": "1.2.0",
      "_model_name": "LayoutModel",
      "_view_count": null,
      "_view_module": "@jupyter-widgets/base",
      "_view_module_version": "1.2.0",
      "_view_name": "LayoutView",
      "align_content": null,
      "align_items": null,
      "align_self": null,
      "border": null,
      "bottom": null,
      "display": null,
      "flex": null,
      "flex_flow": null,
      "grid_area": null,
      "grid_auto_columns": null,
      "grid_auto_flow": null,
      "grid_auto_rows": null,
      "grid_column": null,
      "grid_gap": null,
      "grid_row": null,
      "grid_template_areas": null,
      "grid_template_columns": null,
      "grid_template_rows": null,
      "height": null,
      "justify_content": null,
      "justify_items": null,
      "left": null,
      "margin": null,
      "max_height": null,
      "max_width": null,
      "min_height": null,
      "min_width": null,
      "object_fit": null,
      "object_position": null,
      "order": null,
      "overflow": null,
      "overflow_x": null,
      "overflow_y": null,
      "padding": null,
      "right": null,
      "top": null,
      "visibility": null,
      "width": null
     }
    },
    "88aa5fe752774513a1bddaf2d7732b32": {
     "model_module": "@jupyter-widgets/controls",
     "model_module_version": "1.5.0",
     "model_name": "DescriptionStyleModel",
     "state": {
      "_model_module": "@jupyter-widgets/controls",
      "_model_module_version": "1.5.0",
      "_model_name": "DescriptionStyleModel",
      "_view_count": null,
      "_view_module": "@jupyter-widgets/base",
      "_view_module_version": "1.2.0",
      "_view_name": "StyleView",
      "description_width": ""
     }
    },
    "8b9f24800ee94e0b9e530239a55759fe": {
     "model_module": "@jupyter-widgets/controls",
     "model_module_version": "1.5.0",
     "model_name": "ProgressStyleModel",
     "state": {
      "_model_module": "@jupyter-widgets/controls",
      "_model_module_version": "1.5.0",
      "_model_name": "ProgressStyleModel",
      "_view_count": null,
      "_view_module": "@jupyter-widgets/base",
      "_view_module_version": "1.2.0",
      "_view_name": "StyleView",
      "bar_color": null,
      "description_width": ""
     }
    },
    "8f322971d9934f26b6be77040419acde": {
     "model_module": "@jupyter-widgets/controls",
     "model_module_version": "1.5.0",
     "model_name": "FloatProgressModel",
     "state": {
      "_dom_classes": [],
      "_model_module": "@jupyter-widgets/controls",
      "_model_module_version": "1.5.0",
      "_model_name": "FloatProgressModel",
      "_view_count": null,
      "_view_module": "@jupyter-widgets/controls",
      "_view_module_version": "1.5.0",
      "_view_name": "ProgressView",
      "bar_style": "",
      "description": "",
      "description_tooltip": null,
      "layout": "IPY_MODEL_4416a2e859eb46cf980340cf5fe06f3f",
      "max": 1,
      "min": 0,
      "orientation": "horizontal",
      "style": "IPY_MODEL_33d3d86b6e4242dca19b7aa59f1fc446",
      "value": 1
     }
    },
    "940432c75d0d46cba7983376ae4fe584": {
     "model_module": "@jupyter-widgets/base",
     "model_module_version": "1.2.0",
     "model_name": "LayoutModel",
     "state": {
      "_model_module": "@jupyter-widgets/base",
      "_model_module_version": "1.2.0",
      "_model_name": "LayoutModel",
      "_view_count": null,
      "_view_module": "@jupyter-widgets/base",
      "_view_module_version": "1.2.0",
      "_view_name": "LayoutView",
      "align_content": null,
      "align_items": null,
      "align_self": null,
      "border": null,
      "bottom": null,
      "display": null,
      "flex": null,
      "flex_flow": null,
      "grid_area": null,
      "grid_auto_columns": null,
      "grid_auto_flow": null,
      "grid_auto_rows": null,
      "grid_column": null,
      "grid_gap": null,
      "grid_row": null,
      "grid_template_areas": null,
      "grid_template_columns": null,
      "grid_template_rows": null,
      "height": null,
      "justify_content": null,
      "justify_items": null,
      "left": null,
      "margin": null,
      "max_height": null,
      "max_width": null,
      "min_height": null,
      "min_width": null,
      "object_fit": null,
      "object_position": null,
      "order": null,
      "overflow": null,
      "overflow_x": null,
      "overflow_y": null,
      "padding": null,
      "right": null,
      "top": null,
      "visibility": null,
      "width": null
     }
    },
    "94997c1127884ba286b4d302395eba43": {
     "model_module": "@jupyter-widgets/controls",
     "model_module_version": "1.5.0",
     "model_name": "ProgressStyleModel",
     "state": {
      "_model_module": "@jupyter-widgets/controls",
      "_model_module_version": "1.5.0",
      "_model_name": "ProgressStyleModel",
      "_view_count": null,
      "_view_module": "@jupyter-widgets/base",
      "_view_module_version": "1.2.0",
      "_view_name": "StyleView",
      "bar_color": null,
      "description_width": ""
     }
    },
    "94b0e66782704480abe5bff46ac3f56f": {
     "model_module": "@jupyter-widgets/controls",
     "model_module_version": "1.5.0",
     "model_name": "VBoxModel",
     "state": {
      "_dom_classes": [],
      "_model_module": "@jupyter-widgets/controls",
      "_model_module_version": "1.5.0",
      "_model_name": "VBoxModel",
      "_view_count": null,
      "_view_module": "@jupyter-widgets/controls",
      "_view_module_version": "1.5.0",
      "_view_name": "VBoxView",
      "box_style": "",
      "children": [
       "IPY_MODEL_2f9a0609ede54a6f92eadb59f7c34d08",
       "IPY_MODEL_6b9b83b4c06449268c49a656d0ecb0d1"
      ],
      "layout": "IPY_MODEL_7c605a1e6ebd4f2a9b43fa1c74f96502"
     }
    },
    "b0dc68c636cc4d39832112b6ba7ca80c": {
     "model_module": "@jupyter-widgets/controls",
     "model_module_version": "1.5.0",
     "model_name": "DescriptionStyleModel",
     "state": {
      "_model_module": "@jupyter-widgets/controls",
      "_model_module_version": "1.5.0",
      "_model_name": "DescriptionStyleModel",
      "_view_count": null,
      "_view_module": "@jupyter-widgets/base",
      "_view_module_version": "1.2.0",
      "_view_name": "StyleView",
      "description_width": ""
     }
    },
    "b44e7f57eb6144bdad0308a54c1b3c12": {
     "model_module": "@jupyter-widgets/controls",
     "model_module_version": "1.5.0",
     "model_name": "LabelModel",
     "state": {
      "_dom_classes": [],
      "_model_module": "@jupyter-widgets/controls",
      "_model_module_version": "1.5.0",
      "_model_name": "LabelModel",
      "_view_count": null,
      "_view_module": "@jupyter-widgets/controls",
      "_view_module_version": "1.5.0",
      "_view_name": "LabelView",
      "description": "",
      "description_tooltip": null,
      "layout": "IPY_MODEL_2188fb3f695747f1b053d3159228c351",
      "placeholder": "​",
      "style": "IPY_MODEL_88aa5fe752774513a1bddaf2d7732b32",
      "value": "0.045 MB of 0.045 MB uploaded\r"
     }
    },
    "b9cd85afe9d242a28e0cc4b7be2483c1": {
     "model_module": "@jupyter-widgets/controls",
     "model_module_version": "1.5.0",
     "model_name": "LabelModel",
     "state": {
      "_dom_classes": [],
      "_model_module": "@jupyter-widgets/controls",
      "_model_module_version": "1.5.0",
      "_model_name": "LabelModel",
      "_view_count": null,
      "_view_module": "@jupyter-widgets/controls",
      "_view_module_version": "1.5.0",
      "_view_name": "LabelView",
      "description": "",
      "description_tooltip": null,
      "layout": "IPY_MODEL_f05a667d48d74c7190a1ef48ee708be8",
      "placeholder": "​",
      "style": "IPY_MODEL_1b9bf5481abf4b74b9f525d0ef517e88",
      "value": "0.011 MB of 0.011 MB uploaded\r"
     }
    },
    "bdabc5d9bc3f401bade1fadd128609df": {
     "model_module": "@jupyter-widgets/controls",
     "model_module_version": "1.5.0",
     "model_name": "ProgressStyleModel",
     "state": {
      "_model_module": "@jupyter-widgets/controls",
      "_model_module_version": "1.5.0",
      "_model_name": "ProgressStyleModel",
      "_view_count": null,
      "_view_module": "@jupyter-widgets/base",
      "_view_module_version": "1.2.0",
      "_view_name": "StyleView",
      "bar_color": null,
      "description_width": ""
     }
    },
    "cdae5e3893e847b895e398a159dfc5ae": {
     "model_module": "@jupyter-widgets/controls",
     "model_module_version": "1.5.0",
     "model_name": "VBoxModel",
     "state": {
      "_dom_classes": [],
      "_model_module": "@jupyter-widgets/controls",
      "_model_module_version": "1.5.0",
      "_model_name": "VBoxModel",
      "_view_count": null,
      "_view_module": "@jupyter-widgets/controls",
      "_view_module_version": "1.5.0",
      "_view_name": "VBoxView",
      "box_style": "",
      "children": [
       "IPY_MODEL_0c88367f4c91427e853e0c004f15bd32",
       "IPY_MODEL_eae5331de4d6430998f7ebad86f9bf00"
      ],
      "layout": "IPY_MODEL_66cc61c8a6c5450e8b0fa5379bd4b5a6"
     }
    },
    "ce191b0ee2fa42e2afa6a4ffe30d4b08": {
     "model_module": "@jupyter-widgets/base",
     "model_module_version": "1.2.0",
     "model_name": "LayoutModel",
     "state": {
      "_model_module": "@jupyter-widgets/base",
      "_model_module_version": "1.2.0",
      "_model_name": "LayoutModel",
      "_view_count": null,
      "_view_module": "@jupyter-widgets/base",
      "_view_module_version": "1.2.0",
      "_view_name": "LayoutView",
      "align_content": null,
      "align_items": null,
      "align_self": null,
      "border": null,
      "bottom": null,
      "display": null,
      "flex": null,
      "flex_flow": null,
      "grid_area": null,
      "grid_auto_columns": null,
      "grid_auto_flow": null,
      "grid_auto_rows": null,
      "grid_column": null,
      "grid_gap": null,
      "grid_row": null,
      "grid_template_areas": null,
      "grid_template_columns": null,
      "grid_template_rows": null,
      "height": null,
      "justify_content": null,
      "justify_items": null,
      "left": null,
      "margin": null,
      "max_height": null,
      "max_width": null,
      "min_height": null,
      "min_width": null,
      "object_fit": null,
      "object_position": null,
      "order": null,
      "overflow": null,
      "overflow_x": null,
      "overflow_y": null,
      "padding": null,
      "right": null,
      "top": null,
      "visibility": null,
      "width": null
     }
    },
    "dda10713dd534bb6a716d0802496725b": {
     "model_module": "@jupyter-widgets/base",
     "model_module_version": "1.2.0",
     "model_name": "LayoutModel",
     "state": {
      "_model_module": "@jupyter-widgets/base",
      "_model_module_version": "1.2.0",
      "_model_name": "LayoutModel",
      "_view_count": null,
      "_view_module": "@jupyter-widgets/base",
      "_view_module_version": "1.2.0",
      "_view_name": "LayoutView",
      "align_content": null,
      "align_items": null,
      "align_self": null,
      "border": null,
      "bottom": null,
      "display": null,
      "flex": null,
      "flex_flow": null,
      "grid_area": null,
      "grid_auto_columns": null,
      "grid_auto_flow": null,
      "grid_auto_rows": null,
      "grid_column": null,
      "grid_gap": null,
      "grid_row": null,
      "grid_template_areas": null,
      "grid_template_columns": null,
      "grid_template_rows": null,
      "height": null,
      "justify_content": null,
      "justify_items": null,
      "left": null,
      "margin": null,
      "max_height": null,
      "max_width": null,
      "min_height": null,
      "min_width": null,
      "object_fit": null,
      "object_position": null,
      "order": null,
      "overflow": null,
      "overflow_x": null,
      "overflow_y": null,
      "padding": null,
      "right": null,
      "top": null,
      "visibility": null,
      "width": null
     }
    },
    "e344a855ea53475ebf003ea472d7da0a": {
     "model_module": "@jupyter-widgets/controls",
     "model_module_version": "1.5.0",
     "model_name": "DescriptionStyleModel",
     "state": {
      "_model_module": "@jupyter-widgets/controls",
      "_model_module_version": "1.5.0",
      "_model_name": "DescriptionStyleModel",
      "_view_count": null,
      "_view_module": "@jupyter-widgets/base",
      "_view_module_version": "1.2.0",
      "_view_name": "StyleView",
      "description_width": ""
     }
    },
    "eae5331de4d6430998f7ebad86f9bf00": {
     "model_module": "@jupyter-widgets/controls",
     "model_module_version": "1.5.0",
     "model_name": "FloatProgressModel",
     "state": {
      "_dom_classes": [],
      "_model_module": "@jupyter-widgets/controls",
      "_model_module_version": "1.5.0",
      "_model_name": "FloatProgressModel",
      "_view_count": null,
      "_view_module": "@jupyter-widgets/controls",
      "_view_module_version": "1.5.0",
      "_view_name": "ProgressView",
      "bar_style": "",
      "description": "",
      "description_tooltip": null,
      "layout": "IPY_MODEL_16b0986d31f541d0a1a6d6ee654b99de",
      "max": 1,
      "min": 0,
      "orientation": "horizontal",
      "style": "IPY_MODEL_bdabc5d9bc3f401bade1fadd128609df",
      "value": 1
     }
    },
    "f05a667d48d74c7190a1ef48ee708be8": {
     "model_module": "@jupyter-widgets/base",
     "model_module_version": "1.2.0",
     "model_name": "LayoutModel",
     "state": {
      "_model_module": "@jupyter-widgets/base",
      "_model_module_version": "1.2.0",
      "_model_name": "LayoutModel",
      "_view_count": null,
      "_view_module": "@jupyter-widgets/base",
      "_view_module_version": "1.2.0",
      "_view_name": "LayoutView",
      "align_content": null,
      "align_items": null,
      "align_self": null,
      "border": null,
      "bottom": null,
      "display": null,
      "flex": null,
      "flex_flow": null,
      "grid_area": null,
      "grid_auto_columns": null,
      "grid_auto_flow": null,
      "grid_auto_rows": null,
      "grid_column": null,
      "grid_gap": null,
      "grid_row": null,
      "grid_template_areas": null,
      "grid_template_columns": null,
      "grid_template_rows": null,
      "height": null,
      "justify_content": null,
      "justify_items": null,
      "left": null,
      "margin": null,
      "max_height": null,
      "max_width": null,
      "min_height": null,
      "min_width": null,
      "object_fit": null,
      "object_position": null,
      "order": null,
      "overflow": null,
      "overflow_x": null,
      "overflow_y": null,
      "padding": null,
      "right": null,
      "top": null,
      "visibility": null,
      "width": null
     }
    },
    "f5f9d1f4ff8e4fa69392adc0580d13d5": {
     "model_module": "@jupyter-widgets/base",
     "model_module_version": "1.2.0",
     "model_name": "LayoutModel",
     "state": {
      "_model_module": "@jupyter-widgets/base",
      "_model_module_version": "1.2.0",
      "_model_name": "LayoutModel",
      "_view_count": null,
      "_view_module": "@jupyter-widgets/base",
      "_view_module_version": "1.2.0",
      "_view_name": "LayoutView",
      "align_content": null,
      "align_items": null,
      "align_self": null,
      "border": null,
      "bottom": null,
      "display": null,
      "flex": null,
      "flex_flow": null,
      "grid_area": null,
      "grid_auto_columns": null,
      "grid_auto_flow": null,
      "grid_auto_rows": null,
      "grid_column": null,
      "grid_gap": null,
      "grid_row": null,
      "grid_template_areas": null,
      "grid_template_columns": null,
      "grid_template_rows": null,
      "height": null,
      "justify_content": null,
      "justify_items": null,
      "left": null,
      "margin": null,
      "max_height": null,
      "max_width": null,
      "min_height": null,
      "min_width": null,
      "object_fit": null,
      "object_position": null,
      "order": null,
      "overflow": null,
      "overflow_x": null,
      "overflow_y": null,
      "padding": null,
      "right": null,
      "top": null,
      "visibility": null,
      "width": null
     }
    },
    "fcd28a53458347a6969cd240929d1e4f": {
     "model_module": "@jupyter-widgets/controls",
     "model_module_version": "1.5.0",
     "model_name": "DescriptionStyleModel",
     "state": {
      "_model_module": "@jupyter-widgets/controls",
      "_model_module_version": "1.5.0",
      "_model_name": "DescriptionStyleModel",
      "_view_count": null,
      "_view_module": "@jupyter-widgets/base",
      "_view_module_version": "1.2.0",
      "_view_name": "StyleView",
      "description_width": ""
     }
    }
   }
  }
 },
 "nbformat": 4,
 "nbformat_minor": 1
}
