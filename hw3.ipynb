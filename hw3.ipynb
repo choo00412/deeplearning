{
 "cells": [
  {
   "cell_type": "markdown",
   "metadata": {
    "id": "ucCNdLJecS0Z"
   },
   "source": [
    "### summary"
   ]
  },
  {
   "cell_type": "code",
   "execution_count": 8,
   "metadata": {
    "id": "Psk_BJVEcHAU"
   },
   "outputs": [
    {
     "data": {
      "text/plain": [
       "=====================================================================================================================================================================\n",
       "Layer (type:depth-idx)                   Kernel Shape              Input Shape               Output Shape              Param #                   Mult-Adds\n",
       "=====================================================================================================================================================================\n",
       "Sequential                               --                        [1, 3, 32, 32]            [1, 10]                   --                        --\n",
       "├─Conv2d: 1-1                            [3, 3]                    [1, 3, 32, 32]            [1, 64, 32, 32]           1,792                     1,835,008\n",
       "├─ReLU: 1-2                              --                        [1, 64, 32, 32]           [1, 64, 32, 32]           --                        --\n",
       "├─MaxPool2d: 1-3                         2                         [1, 64, 32, 32]           [1, 64, 16, 16]           --                        --\n",
       "├─Conv2d: 1-4                            [3, 3]                    [1, 64, 16, 16]           [1, 128, 16, 16]          73,856                    18,907,136\n",
       "├─ReLU: 1-5                              --                        [1, 128, 16, 16]          [1, 128, 16, 16]          --                        --\n",
       "├─MaxPool2d: 1-6                         2                         [1, 128, 16, 16]          [1, 128, 8, 8]            --                        --\n",
       "├─Flatten: 1-7                           --                        [1, 128, 8, 8]            [1, 8192]                 --                        --\n",
       "├─Linear: 1-8                            --                        [1, 8192]                 [1, 256]                  2,097,408                 2,097,408\n",
       "├─ReLU: 1-9                              --                        [1, 256]                  [1, 256]                  --                        --\n",
       "├─Linear: 1-10                           --                        [1, 256]                  [1, 10]                   2,570                     2,570\n",
       "=====================================================================================================================================================================\n",
       "Total params: 2,175,626\n",
       "Trainable params: 2,175,626\n",
       "Non-trainable params: 0\n",
       "Total mult-adds (M): 22.84\n",
       "=====================================================================================================================================================================\n",
       "Input size (MB): 0.01\n",
       "Forward/backward pass size (MB): 0.79\n",
       "Params size (MB): 8.70\n",
       "Estimated Total Size (MB): 9.50\n",
       "====================================================================================================================================================================="
      ]
     },
     "execution_count": 8,
     "metadata": {},
     "output_type": "execute_result"
    }
   ],
   "source": [
    "# a_cifar10_train_vgg\n",
    "\n",
    "from torchinfo import summary\n",
    "summary(\n",
    "    model=model, input_size=(1, 3, 32, 32),\n",
    "    col_names=[\"kernel_size\", \"input_size\", \"output_size\", \"num_params\", \"mult_adds\"]\n",
    ")\n"
   ]
  },
  {
   "cell_type": "code",
   "execution_count": 7,
   "metadata": {},
   "outputs": [],
   "source": [
    "import torch.nn as nn\n",
    "\n",
    "# 간단한 CNN 모델 정의\n",
    "model = nn.Sequential(\n",
    "    nn.Conv2d(3, 64, kernel_size=3, padding=1),  # Conv Layer\n",
    "    nn.ReLU(),\n",
    "    nn.MaxPool2d(kernel_size=2, stride=2),      # Pooling Layer\n",
    "    nn.Conv2d(64, 128, kernel_size=3, padding=1),\n",
    "    nn.ReLU(),\n",
    "    nn.MaxPool2d(kernel_size=2, stride=2),\n",
    "    nn.Flatten(),                              # Flatten Layer\n",
    "    nn.Linear(8 * 8 * 128, 256),               # Fully Connected Layer\n",
    "    nn.ReLU(),\n",
    "    nn.Linear(256, 10)                         # Output Layer (10 classes)\n",
    ")\n"
   ]
  },
  {
   "cell_type": "code",
   "execution_count": 9,
   "metadata": {},
   "outputs": [
    {
     "name": "stdout",
     "output_type": "stream",
     "text": [
      "Defaulting to user installation because normal site-packages is not writeable\n",
      "Looking in indexes: https://pypi.org/simple, https://pypi.ngc.nvidia.com\n",
      "Requirement already satisfied: torchinfo in /home/work/.local/lib/python3.10/site-packages (1.8.0)\n",
      "\u001b[33mDEPRECATION: devscripts 2.22.1ubuntu1 has a non-standard version number. pip 24.1 will enforce this behaviour change. A possible replacement is to upgrade to a newer version of devscripts or contact the author to suggest that they release a version with a conforming version number. Discussion can be found at https://github.com/pypa/pip/issues/12063\u001b[0m\u001b[33m\n",
      "\u001b[0m\n",
      "\u001b[1m[\u001b[0m\u001b[34;49mnotice\u001b[0m\u001b[1;39;49m]\u001b[0m\u001b[39;49m A new release of pip is available: \u001b[0m\u001b[31;49m24.0\u001b[0m\u001b[39;49m -> \u001b[0m\u001b[32;49m24.3.1\u001b[0m\n",
      "\u001b[1m[\u001b[0m\u001b[34;49mnotice\u001b[0m\u001b[1;39;49m]\u001b[0m\u001b[39;49m To update, run: \u001b[0m\u001b[32;49mpython3 -m pip install --upgrade pip\u001b[0m\n",
      "Note: you may need to restart the kernel to use updated packages.\n"
     ]
    }
   ],
   "source": [
    "pip install torchinfo\n"
   ]
  },
  {
   "cell_type": "code",
   "execution_count": 10,
   "metadata": {},
   "outputs": [],
   "source": [
    "import sys\n",
    "\n",
    "# 각 경로를 추가합니다.\n",
    "sys.path.append(r\"C:\\Users\\User\\git\\link_dl\\_00_data\")\n",
    "sys.path.append(r\"C:\\Users\\User\\git\\link_dl\\_01_code\")\n",
    "sys.path.append(r\"C:\\Users\\User\\git\\link_dl\\_02_homeworks\")\n"
   ]
  },
  {
   "cell_type": "code",
   "execution_count": 11,
   "metadata": {},
   "outputs": [
    {
     "name": "stdout",
     "output_type": "stream",
     "text": [
      "Defaulting to user installation because normal site-packages is not writeable\n",
      "Looking in indexes: https://pypi.org/simple, https://pypi.ngc.nvidia.com\n",
      "Requirement already satisfied: torchinfo in /home/work/.local/lib/python3.10/site-packages (1.8.0)\n",
      "\u001b[33mDEPRECATION: devscripts 2.22.1ubuntu1 has a non-standard version number. pip 24.1 will enforce this behaviour change. A possible replacement is to upgrade to a newer version of devscripts or contact the author to suggest that they release a version with a conforming version number. Discussion can be found at https://github.com/pypa/pip/issues/12063\u001b[0m\u001b[33m\n",
      "\u001b[0m\n",
      "\u001b[1m[\u001b[0m\u001b[34;49mnotice\u001b[0m\u001b[1;39;49m]\u001b[0m\u001b[39;49m A new release of pip is available: \u001b[0m\u001b[31;49m24.0\u001b[0m\u001b[39;49m -> \u001b[0m\u001b[32;49m24.3.1\u001b[0m\n",
      "\u001b[1m[\u001b[0m\u001b[34;49mnotice\u001b[0m\u001b[1;39;49m]\u001b[0m\u001b[39;49m To update, run: \u001b[0m\u001b[32;49mpython -m pip install --upgrade pip\u001b[0m\n"
     ]
    }
   ],
   "source": [
    "!pip install torchinfo\n"
   ]
  },
  {
   "cell_type": "markdown",
   "metadata": {
    "id": "KR5O0HbOccbA"
   },
   "source": [
    "### wandb"
   ]
  },
  {
   "cell_type": "code",
   "execution_count": 12,
   "metadata": {},
   "outputs": [
    {
     "name": "stdout",
     "output_type": "stream",
     "text": [
      "Defaulting to user installation because normal site-packages is not writeable\n",
      "Looking in indexes: https://pypi.org/simple, https://pypi.ngc.nvidia.com\n",
      "Requirement already satisfied: wandb in /home/work/.local/lib/python3.10/site-packages (0.18.7)\n",
      "Requirement already satisfied: click!=8.0.0,>=7.1 in /usr/local/lib/python3.10/dist-packages (from wandb) (8.1.7)\n",
      "Requirement already satisfied: docker-pycreds>=0.4.0 in /home/work/.local/lib/python3.10/site-packages (from wandb) (0.4.0)\n",
      "Requirement already satisfied: gitpython!=3.1.29,>=1.0.0 in /usr/local/lib/python3.10/dist-packages (from wandb) (3.1.26)\n",
      "Requirement already satisfied: platformdirs in /usr/local/lib/python3.10/dist-packages (from wandb) (4.2.0)\n",
      "Requirement already satisfied: protobuf!=4.21.0,!=5.28.0,<6,>=3.19.0 in /usr/local/lib/python3.10/dist-packages (from wandb) (3.20.3)\n",
      "Requirement already satisfied: psutil>=5.0.0 in /usr/local/lib/python3.10/dist-packages (from wandb) (5.9.4)\n",
      "Requirement already satisfied: pyyaml in /usr/local/lib/python3.10/dist-packages (from wandb) (6.0.1)\n",
      "Requirement already satisfied: requests<3,>=2.0.0 in /usr/local/lib/python3.10/dist-packages (from wandb) (2.31.0)\n",
      "Requirement already satisfied: sentry-sdk>=2.0.0 in /home/work/.local/lib/python3.10/site-packages (from wandb) (2.18.0)\n",
      "Requirement already satisfied: setproctitle in /home/work/.local/lib/python3.10/site-packages (from wandb) (1.3.3)\n",
      "Requirement already satisfied: setuptools in /usr/local/lib/python3.10/dist-packages (from wandb) (68.2.2)\n",
      "Requirement already satisfied: typing-extensions<5,>=4.4 in /usr/local/lib/python3.10/dist-packages (from wandb) (4.10.0)\n",
      "Requirement already satisfied: six>=1.4.0 in /usr/local/lib/python3.10/dist-packages (from docker-pycreds>=0.4.0->wandb) (1.16.0)\n",
      "Requirement already satisfied: gitdb<5,>=4.0.1 in /usr/local/lib/python3.10/dist-packages (from gitpython!=3.1.29,>=1.0.0->wandb) (4.0.5)\n",
      "Requirement already satisfied: charset-normalizer<4,>=2 in /usr/local/lib/python3.10/dist-packages (from requests<3,>=2.0.0->wandb) (3.3.2)\n",
      "Requirement already satisfied: idna<4,>=2.5 in /usr/local/lib/python3.10/dist-packages (from requests<3,>=2.0.0->wandb) (3.6)\n",
      "Requirement already satisfied: urllib3<3,>=1.21.1 in /usr/local/lib/python3.10/dist-packages (from requests<3,>=2.0.0->wandb) (1.26.18)\n",
      "Requirement already satisfied: certifi>=2017.4.17 in /usr/local/lib/python3.10/dist-packages (from requests<3,>=2.0.0->wandb) (2024.2.2)\n",
      "Requirement already satisfied: smmap<4,>=3.0.1 in /usr/local/lib/python3.10/dist-packages (from gitdb<5,>=4.0.1->gitpython!=3.1.29,>=1.0.0->wandb) (3.0.5)\n",
      "\u001b[33mDEPRECATION: devscripts 2.22.1ubuntu1 has a non-standard version number. pip 24.1 will enforce this behaviour change. A possible replacement is to upgrade to a newer version of devscripts or contact the author to suggest that they release a version with a conforming version number. Discussion can be found at https://github.com/pypa/pip/issues/12063\u001b[0m\u001b[33m\n",
      "\u001b[0m\n",
      "\u001b[1m[\u001b[0m\u001b[34;49mnotice\u001b[0m\u001b[1;39;49m]\u001b[0m\u001b[39;49m A new release of pip is available: \u001b[0m\u001b[31;49m24.0\u001b[0m\u001b[39;49m -> \u001b[0m\u001b[32;49m24.3.1\u001b[0m\n",
      "\u001b[1m[\u001b[0m\u001b[34;49mnotice\u001b[0m\u001b[1;39;49m]\u001b[0m\u001b[39;49m To update, run: \u001b[0m\u001b[32;49mpython3 -m pip install --upgrade pip\u001b[0m\n",
      "Note: you may need to restart the kernel to use updated packages.\n"
     ]
    }
   ],
   "source": [
    "pip install --upgrade wandb\n"
   ]
  },
  {
   "cell_type": "code",
   "execution_count": 13,
   "metadata": {
    "colab": {
     "base_uri": "https://localhost:8080/"
    },
    "executionInfo": {
     "elapsed": 8562,
     "status": "ok",
     "timestamp": 1700276834440,
     "user": {
      "displayName": "NULL JO",
      "userId": "17442773596076107047"
     },
     "user_tz": -540
    },
    "id": "C8PaxWvIoxXo",
    "outputId": "ba402cf4-eda1-4170-c115-c55670c9ce7b"
   },
   "outputs": [
    {
     "data": {
      "text/plain": [
       "True"
      ]
     },
     "execution_count": 13,
     "metadata": {},
     "output_type": "execute_result"
    }
   ],
   "source": [
    "import wandb\n",
    "wandb.login()\n"
   ]
  },
  {
   "cell_type": "markdown",
   "metadata": {
    "id": "KHrkQ_3UhAXp"
   },
   "source": [
    "##준비 코드"
   ]
  },
  {
   "cell_type": "markdown",
   "metadata": {
    "id": "xlFCh-VHhWeO"
   },
   "source": [
    "# [문제 1] Fashion MNIST 데이터 정규화를 위한 Mean과 Std.값 찾기"
   ]
  },
  {
   "cell_type": "code",
   "execution_count": 14,
   "metadata": {
    "id": "jkM9vahMnoo6"
   },
   "outputs": [],
   "source": [
    "# from _01_code._99_common_utils.utils import get_num_cpu_cores, is_linux, is_windows\n",
    "\n",
    "import os\n",
    "import sys\n",
    "\n",
    "\n",
    "def is_linux():\n",
    "    if sys.platform.startswith(\"linux\"):\n",
    "        return True\n",
    "    else:\n",
    "        return False\n",
    "\n",
    "\n",
    "def is_windows():\n",
    "    if os.name == \"nt\":\n",
    "        return True\n",
    "    else:\n",
    "        return False\n",
    "\n",
    "\n",
    "def is_mac():\n",
    "    if sys.platform == \"darwin\":\n",
    "        return True\n",
    "    else:\n",
    "        return False\n",
    "\n",
    "\n",
    "def get_num_cpu_cores():\n",
    "    import multiprocessing\n",
    "    return multiprocessing.cpu_count()\n",
    "\n",
    "\n",
    "from string import Template\n",
    "\n",
    "class DeltaTemplate(Template):\n",
    "    delimiter = \"%\"\n",
    "\n",
    "    def strfdelta(tdelta, fmt):\n",
    "        d = {\"D\": tdelta.days}\n",
    "        d[\"H\"], rem = divmod(tdelta.seconds, 3600)\n",
    "        d[\"M\"], d[\"S\"] = divmod(rem, 60)\n",
    "        t = DeltaTemplate(fmt)\n",
    "        return t.substitute(**d)\n",
    "\n",
    "\n",
    "def strfdelta(td, fmt):\n",
    "\n",
    "    # Get the timedelta’s sign and absolute number of seconds.\n",
    "    sign = \"-\" if td.days < 0 else \"+\"\n",
    "    secs = abs(td).total_seconds()\n",
    "\n",
    "    # Break the seconds into more readable quantities.\n",
    "    days, rem = divmod(secs, 86400)  # Seconds per day: 24 * 60 * 60\n",
    "    hours, rem = divmod(rem, 3600)  # Seconds per hour: 60 * 60\n",
    "    mins, secs = divmod(rem, 60)\n",
    "\n",
    "    # Format (as per above answers) and return the result string.\n",
    "    t = DeltaTemplate(fmt)\n",
    "    return t.substitute(\n",
    "        s=sign,\n",
    "        D=\"{:d}\".format(int(days)),\n",
    "        H=\"{:02d}\".format(int(hours)),\n",
    "        M=\"{:02d}\".format(int(mins)),\n",
    "        S=\"{:02d}\".format(int(secs)),\n",
    "        )"
   ]
  },
  {
   "cell_type": "code",
   "execution_count": 15,
   "metadata": {
    "colab": {
     "base_uri": "https://localhost:8080/"
    },
    "executionInfo": {
     "elapsed": 377,
     "status": "ok",
     "timestamp": 1699844691089,
     "user": {
      "displayName": "NULL JO",
      "userId": "17442773596076107047"
     },
     "user_tz": -540
    },
    "id": "EpJtaFiwif6d",
    "outputId": "0765238d-f11e-4e54-bf8f-d802c5e0ab0d"
   },
   "outputs": [
    {
     "name": "stdout",
     "output_type": "stream",
     "text": [
      "C:/Users/User/git/link_dl\n"
     ]
    }
   ],
   "source": [
    "import os\n",
    "from pathlib import Path\n",
    "import torch\n",
    "import wandb\n",
    "from torch import nn\n",
    "\n",
    "from torch.utils.data import DataLoader, random_split\n",
    "from torchvision import datasets\n",
    "from torchvision.transforms import transforms\n",
    "\n",
    "# 데이터 경로 설정\n",
    "BASE_PATH = r\"C:/Users/User/git/link_dl\"\n",
    "print(BASE_PATH)\n",
    "\n",
    "import sys\n",
    "sys.path.append(BASE_PATH)\n"
   ]
  },
  {
   "cell_type": "code",
   "execution_count": 16,
   "metadata": {
    "colab": {
     "base_uri": "https://localhost:8080/",
     "height": 542
    },
    "executionInfo": {
     "elapsed": 8440,
     "status": "ok",
     "timestamp": 1699844725810,
     "user": {
      "displayName": "NULL JO",
      "userId": "17442773596076107047"
     },
     "user_tz": -540
    },
    "id": "gcxDyVdAnsvv",
    "outputId": "455e04ea-6dc9-4ad3-d10c-09a8d34bd15d"
   },
   "outputs": [
    {
     "name": "stdout",
     "output_type": "stream",
     "text": [
      "Num Train Samples:  55000\n",
      "Num Validation Samples:  5000\n",
      "Sample Shape:  torch.Size([1, 28, 28])\n",
      "Number of Data Loading Workers: 2\n",
      "\n",
      "Num Test Samples:  10000\n",
      "Sample Shape:  torch.Size([1, 28, 28])\n"
     ]
    }
   ],
   "source": [
    "def get_fashion_mnist_data():\n",
    "  data_path = os.path.join(BASE_PATH, \"_00_data\", \"j_fashion_mnist\")\n",
    "\n",
    "\n",
    "  f_mnist_train = datasets.FashionMNIST(data_path, train=True, download=True, transform=transforms.ToTensor())\n",
    "  f_mnist_train, f_mnist_validation = random_split(f_mnist_train, [55_000, 5_000])\n",
    "\n",
    "  print(\"Num Train Samples: \", len(f_mnist_train))\n",
    "  print(\"Num Validation Samples: \", len(f_mnist_validation))\n",
    "  print(\"Sample Shape: \", f_mnist_train[0][0].shape)  # torch.Size([1, 28, 28])\n",
    "\n",
    "  num_data_loading_workers = get_num_cpu_cores() if is_linux() or is_windows() else 0\n",
    "  print(\"Number of Data Loading Workers:\", num_data_loading_workers)\n",
    "\n",
    "  train_data_loader = DataLoader(\n",
    "    dataset=f_mnist_train, batch_size=wandb.config.batch_size, shuffle=True,\n",
    "    pin_memory=True, num_workers=num_data_loading_workers\n",
    "  )\n",
    "\n",
    "  validation_data_loader = DataLoader(\n",
    "    dataset=f_mnist_validation, batch_size=wandb.config.batch_size,\n",
    "    pin_memory=True, num_workers=num_data_loading_workers\n",
    "  )\n",
    "\n",
    "  f_mnist_transforms = nn.Sequential(\n",
    "    transforms.ConvertImageDtype(torch.float),\n",
    "    transforms.Normalize(mean=0.0, std=0.1),\n",
    "  )\n",
    "\n",
    "  return train_data_loader, validation_data_loader, f_mnist_transforms\n",
    "\n",
    "\n",
    "def get_fashion_mnist_test_data():\n",
    "  data_path = os.path.join(BASE_PATH, \"_00_data\", \"j_fashion_mnist\")\n",
    "\n",
    "  f_mnist_test_images = datasets.FashionMNIST(data_path, train=False, download=True)\n",
    "  f_mnist_test = datasets.FashionMNIST(data_path, train=False, download=True, transform=transforms.ToTensor())\n",
    "\n",
    "  print(\"Num Test Samples: \", len(f_mnist_test))\n",
    "  print(\"Sample Shape: \", f_mnist_test[0][0].shape)  # torch.Size([1, 28, 28])\n",
    "\n",
    "  test_data_loader = DataLoader(dataset=f_mnist_test, batch_size=len(f_mnist_test))\n",
    "\n",
    "  f_mnist_transforms = nn.Sequential(\n",
    "    transforms.ConvertImageDtype(torch.float),\n",
    "    transforms.Normalize(mean=0.0, std=0.1),\n",
    "  )\n",
    "\n",
    "  return f_mnist_test_images, test_data_loader, f_mnist_transforms\n",
    "\n",
    "\n",
    "if __name__ == \"__main__\":\n",
    "  config = {'batch_size': 2048,}\n",
    "  wandb.init(mode=\"disabled\", config=config)\n",
    "\n",
    "  train_data_loader, validation_data_loader, f_mnist_transforms = get_fashion_mnist_data()\n",
    "  print()\n",
    "  f_mnist_test_images, test_data_loader, f_mnist_transforms = get_fashion_mnist_test_data()"
   ]
  },
  {
   "cell_type": "code",
   "execution_count": 17,
   "metadata": {
    "id": "LtkcpcBZho_p"
   },
   "outputs": [],
   "source": [
    "import torch\n",
    "from torch.utils.data import random_split, DataLoader\n",
    "from torchvision import datasets\n",
    "from torchvision.transforms import transforms"
   ]
  },
  {
   "cell_type": "code",
   "execution_count": 20,
   "metadata": {
    "colab": {
     "base_uri": "https://localhost:8080/"
    },
    "executionInfo": {
     "elapsed": 1634,
     "status": "ok",
     "timestamp": 1700033069122,
     "user": {
      "displayName": "NULL JO",
      "userId": "17442773596076107047"
     },
     "user_tz": -540
    },
    "id": "UWZdKTFL3aQw",
    "outputId": "f143e5b5-d7d4-4f85-a7f7-47cfab1ceb48"
   },
   "outputs": [],
   "source": [
    "data_path = \".\"\n",
    "\n",
    "f_mnist_train = datasets.FashionMNIST(data_path, train=True, download=True, transform=transforms.ToTensor())\n",
    "f_mnist_train, f_mnist_validation = random_split(f_mnist_train, [55_000, 5_000])"
   ]
  },
  {
   "cell_type": "code",
   "execution_count": 21,
   "metadata": {
    "colab": {
     "base_uri": "https://localhost:8080/"
    },
    "executionInfo": {
     "elapsed": 436,
     "status": "ok",
     "timestamp": 1700033896166,
     "user": {
      "displayName": "NULL JO",
      "userId": "17442773596076107047"
     },
     "user_tz": -540
    },
    "id": "RYw0F2Cf6im9",
    "outputId": "e3adcffc-f24e-4cc9-ee2b-aa1d6dc1927d"
   },
   "outputs": [
    {
     "name": "stdout",
     "output_type": "stream",
     "text": [
      "55000 5000\n",
      "<class 'torch.Tensor'>\n",
      "torch.Size([1, 28, 28])\n",
      "tensor(0.) tensor(1.)\n"
     ]
    }
   ],
   "source": [
    "print(len(f_mnist_train), len(f_mnist_validation))  # >>> 55000 5000\n",
    "\n",
    "img_t, _ = f_mnist_train[0]\n",
    "print(type(img_t))\n",
    "print(img_t.shape)\n",
    "print(img_t.min(), img_t.max())"
   ]
  },
  {
   "cell_type": "code",
   "execution_count": 22,
   "metadata": {
    "colab": {
     "base_uri": "https://localhost:8080/"
    },
    "executionInfo": {
     "elapsed": 7475,
     "status": "ok",
     "timestamp": 1700033945171,
     "user": {
      "displayName": "NULL JO",
      "userId": "17442773596076107047"
     },
     "user_tz": -540
    },
    "id": "urEpH0wf6Y0O",
    "outputId": "f834edf7-48c6-41f9-fbbd-bad7a054b8e7"
   },
   "outputs": [
    {
     "name": "stdout",
     "output_type": "stream",
     "text": [
      "torch.Size([1, 28, 28, 55000])\n",
      "tensor([0.2861])\n",
      "tensor([0.3531])\n"
     ]
    }
   ],
   "source": [
    "imgs = torch.stack([img_t for img_t, _ in f_mnist_train], dim=3)\n",
    "print(imgs.shape)\n",
    "\n",
    "print(imgs.view(1, -1).mean(dim=-1))\n",
    "\n",
    "print(imgs.view(1, -1).std(dim=-1))"
   ]
  },
  {
   "cell_type": "markdown",
   "metadata": {
    "id": "j5ho29PwbuPh"
   },
   "source": [
    "# [ 문제 2 ] Fashion MNIST 데이터에 대하여 CNN 학습시키기"
   ]
  },
  {
   "cell_type": "markdown",
   "metadata": {
    "id": "mI2_oifjktNq"
   },
   "source": [
    "### [memo]"
   ]
  },
  {
   "cell_type": "markdown",
   "metadata": {
    "id": "-jrre22fjHaR"
   },
   "source": [
    "#####\n",
    "\n",
    "[utils]\n",
    "   \n",
    "[_01_code/_06_fcn_best_practice/c_trainer]   \n",
    "class EarlyStopping   \n",
    "class ClassificationTrainer   \n",
    "    \n",
    "[_01_code/_06_fcn_best_practice/f_mnist_train_fcn.py]   \n",
    "get_mnist_data   \n",
    "get_model   \n",
    "main   \n",
    "  \n",
    "[_01_code/_06_fcn_best_practice/e_arg_parser.py]\n",
    "   \n",
    "[_01_code/_07_cnn/a_mnist_train_cnn.py]   \n",
    "get_cnn_model   \n",
    "main"
   ]
  },
  {
   "cell_type": "markdown",
   "metadata": {
    "id": "t-NRLEABkxdB"
   },
   "source": [
    "### [code]"
   ]
  },
  {
   "cell_type": "markdown",
   "metadata": {
    "id": "UPRtq9mlqcT1"
   },
   "source": [
    "#### [train code]"
   ]
  },
  {
   "cell_type": "markdown",
   "metadata": {
    "id": "HbEUhj1wlP30"
   },
   "source": [
    "##### import"
   ]
  },
  {
   "cell_type": "code",
   "execution_count": 52,
   "metadata": {
    "colab": {
     "base_uri": "https://localhost:8080/"
    },
    "executionInfo": {
     "elapsed": 6466,
     "status": "ok",
     "timestamp": 1700276868797,
     "user": {
      "displayName": "NULL JO",
      "userId": "17442773596076107047"
     },
     "user_tz": -540
    },
    "id": "Wg5IkWSZlbXr",
    "outputId": "2fb3c2a7-4b78-47e3-f3b5-8480de8d8136"
   },
   "outputs": [
    {
     "name": "stdout",
     "output_type": "stream",
     "text": [
      "C:/Users/User/git/link_dl\n"
     ]
    }
   ],
   "source": [
    "### _01_code/_06_fcn_best_practice/c_trainer.py\n",
    "\n",
    "from datetime import datetime\n",
    "import os\n",
    "import torch\n",
    "from torch import nn\n",
    "\n",
    "# BASE_PATH 설정\n",
    "BASE_PATH = r\"C:/Users/User/git/link_dl\"\n",
    "import sys\n",
    "sys.path.append(BASE_PATH)\n",
    "\n",
    "#from _01_code._99_common_utils.utils import strfdelta\n",
    "\n",
    "\n",
    "### _01_code/_06_fcn_best_practice/f_mnist_train_fcn.py\n",
    "\n",
    "import torch\n",
    "from torch import nn, optim\n",
    "from torch.utils.data import DataLoader, random_split\n",
    "from torchvision import datasets, transforms\n",
    "from datetime import datetime\n",
    "import os\n",
    "import wandb\n",
    "from pathlib import Path\n",
    "\n",
    "# BASE_PATH 설정\n",
    "BASE_PATH = r\"C:/Users/User/git/link_dl\"\n",
    "import sys\n",
    "sys.path.append(BASE_PATH)\n",
    "\n",
    "CURRENT_FILE_PATH = os.path.dirname(os.path.abspath(\"__file__\"))\n",
    "CHECKPOINT_FILE_PATH = os.path.join(CURRENT_FILE_PATH, \"checkpoints\")\n",
    "if not os.path.isdir(CHECKPOINT_FILE_PATH):\n",
    "  os.makedirs(os.path.join(CURRENT_FILE_PATH, \"checkpoints\"))\n",
    "\n",
    "#from _01_code._99_common_utils.utils import is_linux, is_windows, get_num_cpu_cores\n",
    "#from _01_code._06_fcn_best_practice.c_trainer import ClassificationTrainer\n",
    "#from _01_code._06_fcn_best_practice.e_arg_parser import get_parser\n",
    "\n",
    "\n",
    "### _01_code/_07_cnn/a_mnist_train_cnn.py\n",
    "\n",
    "import torch\n",
    "from torch import nn, optim\n",
    "from datetime import datetime\n",
    "import os\n",
    "import wandb\n",
    "from pathlib import Path\n",
    "\n",
    "# BASE_PATH 설정\n",
    "BASE_PATH = r\"C:/Users/User/git/link_dl\"\n",
    "import sys\n",
    "sys.path.append(BASE_PATH)\n",
    "\n",
    "CURRENT_FILE_PATH = os.path.dirname(os.path.abspath(\"__file__\"))\n",
    "CHECKPOINT_FILE_PATH = os.path.join(CURRENT_FILE_PATH, \"checkpoints\")\n",
    "if not os.path.isdir(CHECKPOINT_FILE_PATH):\n",
    "  os.makedirs(os.path.join(CURRENT_FILE_PATH, \"checkpoints\"))\n",
    "\n",
    "#from _01_code._06_fcn_best_practice.c_trainer import ClassificationTrainer\n",
    "#from _01_code._06_fcn_best_practice.f_mnist_train_fcn import get_mnist_data\n",
    "#from _01_code._06_fcn_best_practice.e_arg_parser import get_parser\n",
    "\n",
    "\n",
    "### _02_homeworks/_03_fashion_mnist/a_fashion_mnist_data.py\n",
    "\n",
    "import os\n",
    "from pathlib import Path\n",
    "import torch\n",
    "import wandb\n",
    "from torch import nn\n",
    "\n",
    "from torch.utils.data import DataLoader, random_split\n",
    "from torchvision import datasets\n",
    "from torchvision.transforms import transforms\n",
    "\n",
    "# BASE_PATH 설정\n",
    "BASE_PATH = r\"C:/Users/User/git/link_dl\"\n",
    "print(BASE_PATH)\n",
    "\n",
    "import sys\n",
    "sys.path.append(BASE_PATH)\n",
    "\n",
    "\n",
    "### _01_code/_06_fcn_best_practice/a_data_mnist.py for 문제 1\n",
    "\n",
    "import torch\n",
    "from torch.utils.data import random_split, DataLoader\n",
    "from torchvision import datasets\n",
    "from torchvision.transforms import transforms\n",
    "\n",
    "# BASE_PATH 설정\n",
    "BASE_PATH = r\"C:/Users/User/git/link_dl\"\n",
    "import sys\n",
    "sys.path.append(BASE_PATH)\n",
    "\n",
    "\n",
    "### _01_code/_06_fcn_best_practice/d_tester.py\n",
    "\n",
    "import os\n",
    "import torch\n",
    "\n",
    "# BASE_PATH 설정\n",
    "BASE_PATH = r\"C:/Users/User/git/link_dl\"\n",
    "import sys\n",
    "sys.path.append(BASE_PATH)\n",
    "\n",
    "\n",
    "### _01_code/_07_cnn/b_mnist_test_cnn.py\n",
    "\n",
    "import numpy as np\n",
    "import torch\n",
    "import os\n",
    "\n",
    "from matplotlib import pyplot as plt\n",
    "from pathlib import Path\n",
    "\n",
    "# BASE_PATH 설정\n",
    "BASE_PATH = r\"C:/Users/User/git/link_dl\"\n",
    "CURRENT_FILE_PATH = os.path.dirname(os.path.abspath(\"__file__\"))\n",
    "CHECKPOINT_FILE_PATH = os.path.join(CURRENT_FILE_PATH, \"checkpoints\")\n",
    "\n",
    "import sys\n",
    "sys.path.append(BASE_PATH)\n",
    "\n",
    "#from _01_code/_07_cnn/a_mnist_train_cnn import get_cnn_model\n",
    "#from _01_code._06_fcn_best_practice.d_tester import ClassificationTester\n",
    "#from _01_code._06_fcn_best_practice.g_mnist_test_fcn import get_mnist_test_data\n"
   ]
  },
  {
   "cell_type": "markdown",
   "metadata": {
    "id": "BxS2tZCmc4V9"
   },
   "source": [
    "##### utils"
   ]
  },
  {
   "cell_type": "code",
   "execution_count": 24,
   "metadata": {
    "colab": {
     "base_uri": "https://localhost:8080/"
    },
    "executionInfo": {
     "elapsed": 637,
     "status": "ok",
     "timestamp": 1700276873560,
     "user": {
      "displayName": "NULL JO",
      "userId": "17442773596076107047"
     },
     "user_tz": -540
    },
    "id": "G2e9cjPDZTAM",
    "outputId": "51ceea85-8339-48fe-d78e-6a7a3b16d910"
   },
   "outputs": [
    {
     "name": "stdout",
     "output_type": "stream",
     "text": [
      "Linux\n"
     ]
    }
   ],
   "source": [
    "# _01_code/_99_common_utils/utils.py\n",
    "\n",
    "import os\n",
    "import sys\n",
    "\n",
    "\n",
    "def is_linux():\n",
    "    if sys.platform.startswith(\"linux\"):\n",
    "        return True\n",
    "    else:\n",
    "        return False\n",
    "\n",
    "\n",
    "def is_windows():\n",
    "    if os.name == \"nt\":\n",
    "        return True\n",
    "    else:\n",
    "        return False\n",
    "\n",
    "\n",
    "def is_mac():\n",
    "    if sys.platform == \"darwin\":\n",
    "        return True\n",
    "    else:\n",
    "        return False\n",
    "\n",
    "\n",
    "def get_num_cpu_cores():\n",
    "    import multiprocessing\n",
    "    return multiprocessing.cpu_count()\n",
    "\n",
    "\n",
    "from string import Template\n",
    "\n",
    "class DeltaTemplate(Template):\n",
    "    delimiter = \"%\"\n",
    "\n",
    "    def strfdelta(tdelta, fmt):\n",
    "        d = {\"D\": tdelta.days}\n",
    "        d[\"H\"], rem = divmod(tdelta.seconds, 3600)\n",
    "        d[\"M\"], d[\"S\"] = divmod(rem, 60)\n",
    "        t = DeltaTemplate(fmt)\n",
    "        return t.substitute(**d)\n",
    "\n",
    "\n",
    "def strfdelta(td, fmt):\n",
    "\n",
    "    # Get the timedelta’s sign and absolute number of seconds.\n",
    "    sign = \"-\" if td.days < 0 else \"+\"\n",
    "    secs = abs(td).total_seconds()\n",
    "\n",
    "    # Break the seconds into more readable quantities.\n",
    "    days, rem = divmod(secs, 86400)  # Seconds per day: 24 * 60 * 60\n",
    "    hours, rem = divmod(rem, 3600)  # Seconds per hour: 60 * 60\n",
    "    mins, secs = divmod(rem, 60)\n",
    "\n",
    "    # Format (as per above answers) and return the result string.\n",
    "    t = DeltaTemplate(fmt)\n",
    "    return t.substitute(\n",
    "        s=sign,\n",
    "        D=\"{:d}\".format(int(days)),\n",
    "        H=\"{:02d}\".format(int(hours)),\n",
    "        M=\"{:02d}\".format(int(mins)),\n",
    "        S=\"{:02d}\".format(int(secs)),\n",
    "        )\n",
    "\n",
    "\n",
    "if __name__ == \"__main__\":\n",
    "    if is_linux():\n",
    "        print(\"Linux\")\n",
    "    elif is_windows():\n",
    "        print(\"Windows\")\n",
    "    elif is_mac():\n",
    "        print(\"Mac\")\n",
    "    else:\n",
    "        print(\"<unknown>\")\n"
   ]
  },
  {
   "cell_type": "markdown",
   "metadata": {
    "id": "f_YBHFC1c8_0"
   },
   "source": [
    "##### class EarlyStopping"
   ]
  },
  {
   "cell_type": "code",
   "execution_count": 25,
   "metadata": {
    "id": "IL_MrV3MZH7D"
   },
   "outputs": [],
   "source": [
    "class EarlyStopping:\n",
    "  \"\"\"Early stops the training if validation loss doesn't improve after a given patience.\"\"\"\n",
    "  def __init__(self, patience=10, delta=0.00001, project_name=None, checkpoint_file_path=None, run_time_str=None):\n",
    "    self.patience = patience\n",
    "    self.counter = 0\n",
    "    self.delta = delta\n",
    "\n",
    "    self.val_loss_min = None\n",
    "    self.file_path = os.path.join(\n",
    "      checkpoint_file_path, f\"{project_name}_checkpoint_{run_time_str}.pt\"\n",
    "    )\n",
    "    self.latest_file_path = os.path.join(\n",
    "      checkpoint_file_path, f\"{project_name}_checkpoint_latest.pt\"\n",
    "    )\n",
    "\n",
    "  def check_and_save(self, new_validation_loss, model):\n",
    "    early_stop = False\n",
    "\n",
    "    if self.val_loss_min is None:\n",
    "      self.val_loss_min = new_validation_loss\n",
    "      message = f'Early stopping is stated!'\n",
    "    elif new_validation_loss < self.val_loss_min - self.delta:\n",
    "      message = f'V_loss decreased ({self.val_loss_min:7.5f} --> {new_validation_loss:7.5f}). Saving model...'\n",
    "      self.save_checkpoint(new_validation_loss, model)\n",
    "      self.val_loss_min = new_validation_loss\n",
    "      self.counter = 0\n",
    "    else:\n",
    "      self.counter += 1\n",
    "      message = f'Early stopping counter: {self.counter} out of {self.patience}'\n",
    "      if self.counter >= self.patience:\n",
    "        early_stop = True\n",
    "        message += \" *** TRAIN EARLY STOPPED! ***\"\n",
    "\n",
    "    return message, early_stop\n",
    "\n",
    "  def save_checkpoint(self, val_loss, model):\n",
    "    '''Saves model when validation loss decrease.'''\n",
    "    torch.save(model.state_dict(), self.file_path)\n",
    "    torch.save(model.state_dict(), self.latest_file_path)\n",
    "    self.val_loss_min = val_loss\n",
    "\n",
    "\n"
   ]
  },
  {
   "cell_type": "markdown",
   "metadata": {
    "id": "IVW5Xv2ddvrs"
   },
   "source": [
    "##### class ClassificationTrainer"
   ]
  },
  {
   "cell_type": "code",
   "execution_count": 2,
   "metadata": {
    "id": "OVb1bxQkdtXx"
   },
   "outputs": [
    {
     "name": "stdout",
     "output_type": "stream",
     "text": [
      "Downloading http://fashion-mnist.s3-website.eu-central-1.amazonaws.com/train-images-idx3-ubyte.gz\n",
      "Downloading http://fashion-mnist.s3-website.eu-central-1.amazonaws.com/train-images-idx3-ubyte.gz to ./data/FashionMNIST/raw/train-images-idx3-ubyte.gz\n"
     ]
    },
    {
     "name": "stderr",
     "output_type": "stream",
     "text": [
      "100% 26421880/26421880 [00:13<00:00, 1964478.54it/s]\n"
     ]
    },
    {
     "name": "stdout",
     "output_type": "stream",
     "text": [
      "Extracting ./data/FashionMNIST/raw/train-images-idx3-ubyte.gz to ./data/FashionMNIST/raw\n",
      "\n",
      "Downloading http://fashion-mnist.s3-website.eu-central-1.amazonaws.com/train-labels-idx1-ubyte.gz\n",
      "Downloading http://fashion-mnist.s3-website.eu-central-1.amazonaws.com/train-labels-idx1-ubyte.gz to ./data/FashionMNIST/raw/train-labels-idx1-ubyte.gz\n"
     ]
    },
    {
     "name": "stderr",
     "output_type": "stream",
     "text": [
      "100% 29515/29515 [00:00<00:00, 103031.90it/s]\n"
     ]
    },
    {
     "name": "stdout",
     "output_type": "stream",
     "text": [
      "Extracting ./data/FashionMNIST/raw/train-labels-idx1-ubyte.gz to ./data/FashionMNIST/raw\n",
      "\n",
      "Downloading http://fashion-mnist.s3-website.eu-central-1.amazonaws.com/t10k-images-idx3-ubyte.gz\n",
      "Downloading http://fashion-mnist.s3-website.eu-central-1.amazonaws.com/t10k-images-idx3-ubyte.gz to ./data/FashionMNIST/raw/t10k-images-idx3-ubyte.gz\n"
     ]
    },
    {
     "name": "stderr",
     "output_type": "stream",
     "text": [
      "100% 4422102/4422102 [00:03<00:00, 1443844.33it/s]\n"
     ]
    },
    {
     "name": "stdout",
     "output_type": "stream",
     "text": [
      "Extracting ./data/FashionMNIST/raw/t10k-images-idx3-ubyte.gz to ./data/FashionMNIST/raw\n",
      "\n",
      "Downloading http://fashion-mnist.s3-website.eu-central-1.amazonaws.com/t10k-labels-idx1-ubyte.gz\n",
      "Downloading http://fashion-mnist.s3-website.eu-central-1.amazonaws.com/t10k-labels-idx1-ubyte.gz to ./data/FashionMNIST/raw/t10k-labels-idx1-ubyte.gz\n"
     ]
    },
    {
     "name": "stderr",
     "output_type": "stream",
     "text": [
      "100% 5148/5148 [00:00<00:00, 4126175.61it/s]\n"
     ]
    },
    {
     "name": "stdout",
     "output_type": "stream",
     "text": [
      "Extracting ./data/FashionMNIST/raw/t10k-labels-idx1-ubyte.gz to ./data/FashionMNIST/raw\n",
      "\n"
     ]
    },
    {
     "name": "stderr",
     "output_type": "stream",
     "text": [
      "\u001b[34m\u001b[1mwandb\u001b[0m: Using wandb-core as the SDK backend.  Please refer to https://wandb.me/wandb-core for more information.\n",
      "\u001b[34m\u001b[1mwandb\u001b[0m: Currently logged in as: \u001b[33mchoo0412\u001b[0m (\u001b[33mchoo0412-korea-university-of-technology-and-education\u001b[0m). Use \u001b[1m`wandb login --relogin`\u001b[0m to force relogin\n"
     ]
    },
    {
     "data": {
      "text/html": [
       "Tracking run with wandb version 0.18.7"
      ],
      "text/plain": [
       "<IPython.core.display.HTML object>"
      ]
     },
     "metadata": {},
     "output_type": "display_data"
    },
    {
     "data": {
      "text/html": [
       "Run data is saved locally in <code>/home/work/dl_choo/wandb/run-20241116_130322-rb3w7dbs</code>"
      ],
      "text/plain": [
       "<IPython.core.display.HTML object>"
      ]
     },
     "metadata": {},
     "output_type": "display_data"
    },
    {
     "data": {
      "text/html": [
       "Syncing run <strong><a href='https://wandb.ai/choo0412-korea-university-of-technology-and-education/fashion_mnist/runs/rb3w7dbs' target=\"_blank\">lively-armadillo-1</a></strong> to <a href='https://wandb.ai/choo0412-korea-university-of-technology-and-education/fashion_mnist' target=\"_blank\">Weights & Biases</a> (<a href='https://wandb.me/developer-guide' target=\"_blank\">docs</a>)<br/>"
      ],
      "text/plain": [
       "<IPython.core.display.HTML object>"
      ]
     },
     "metadata": {},
     "output_type": "display_data"
    },
    {
     "data": {
      "text/html": [
       " View project at <a href='https://wandb.ai/choo0412-korea-university-of-technology-and-education/fashion_mnist' target=\"_blank\">https://wandb.ai/choo0412-korea-university-of-technology-and-education/fashion_mnist</a>"
      ],
      "text/plain": [
       "<IPython.core.display.HTML object>"
      ]
     },
     "metadata": {},
     "output_type": "display_data"
    },
    {
     "data": {
      "text/html": [
       " View run at <a href='https://wandb.ai/choo0412-korea-university-of-technology-and-education/fashion_mnist/runs/rb3w7dbs' target=\"_blank\">https://wandb.ai/choo0412-korea-university-of-technology-and-education/fashion_mnist/runs/rb3w7dbs</a>"
      ],
      "text/plain": [
       "<IPython.core.display.HTML object>"
      ]
     },
     "metadata": {},
     "output_type": "display_data"
    },
    {
     "name": "stdout",
     "output_type": "stream",
     "text": [
      "[Epoch   1] T_loss: 0.87996, T_accuracy: 70.2533 | V_loss: 0.56986, V_accuracy: 79.8000 | Model saved | T_time: %H:%M:%S, T_speed: 0.111\n",
      "[Epoch   2] T_loss: 0.49276, T_accuracy: 82.9367 | V_loss: 0.46878, V_accuracy: 83.4400 | Model saved | T_time: %H:%M:%S, T_speed: 0.111\n",
      "[Epoch   3] T_loss: 0.41984, T_accuracy: 85.5100 | V_loss: 0.41516, V_accuracy: 85.5400 | Model saved | T_time: %H:%M:%S, T_speed: 0.100\n",
      "[Epoch   4] T_loss: 0.38080, T_accuracy: 87.0067 | V_loss: 0.38946, V_accuracy: 86.4300 | Model saved | T_time: %H:%M:%S, T_speed: 0.098\n",
      "[Epoch   5] T_loss: 0.35733, T_accuracy: 87.5450 | V_loss: 0.37706, V_accuracy: 86.8700 | Model saved | T_time: %H:%M:%S, T_speed: 0.100\n",
      "[Epoch   6] T_loss: 0.33642, T_accuracy: 88.3167 | V_loss: 0.35434, V_accuracy: 87.6200 | Model saved | T_time: %H:%M:%S, T_speed: 0.102\n",
      "[Epoch   7] T_loss: 0.32041, T_accuracy: 88.9700 | V_loss: 0.34478, V_accuracy: 87.7400 | Model saved | T_time: %H:%M:%S, T_speed: 0.101\n",
      "[Epoch   8] T_loss: 0.31149, T_accuracy: 89.2467 | V_loss: 0.33603, V_accuracy: 88.1300 | Model saved | T_time: %H:%M:%S, T_speed: 0.100\n",
      "[Epoch   9] T_loss: 0.30303, T_accuracy: 89.3933 | V_loss: 0.34404, V_accuracy: 87.5500 | No improvement | T_time: %H:%M:%S, T_speed: 0.098\n",
      "[Epoch  10] T_loss: 0.29850, T_accuracy: 89.6367 | V_loss: 0.33145, V_accuracy: 88.0000 | Model saved | T_time: %H:%M:%S, T_speed: 0.097\n",
      "Final training time: %H:%M:%S\n"
     ]
    }
   ],
   "source": [
    "import argparse\n",
    "import torch\n",
    "import torch.nn as nn\n",
    "import torch.optim as optim\n",
    "from torch.utils.data import DataLoader\n",
    "from torchvision import datasets, transforms\n",
    "from datetime import datetime\n",
    "\n",
    "\n",
    "# EarlyStopping 클래스 정의\n",
    "class EarlyStopping:\n",
    "    def __init__(self, patience, delta, project_name, checkpoint_file_path, run_time_str):\n",
    "        self.patience = patience\n",
    "        self.delta = delta\n",
    "        self.best_loss = None\n",
    "        self.counter = 0\n",
    "        self.early_stop = False\n",
    "        self.checkpoint_file_path = checkpoint_file_path\n",
    "\n",
    "    def check_and_save(self, validation_loss, model):\n",
    "        if self.best_loss is None or validation_loss < self.best_loss - self.delta:\n",
    "            self.best_loss = validation_loss\n",
    "            self.counter = 0\n",
    "            torch.save(model.state_dict(), self.checkpoint_file_path)\n",
    "            return \"Model saved\", False\n",
    "        else:\n",
    "            self.counter += 1\n",
    "            if self.counter >= self.patience:\n",
    "                self.early_stop = True\n",
    "                return \"Early stopping\", True\n",
    "            return \"No improvement\", False\n",
    "\n",
    "\n",
    "# strfdelta 함수 정의\n",
    "def strfdelta(delta, fmt):\n",
    "    d = {\"D\": delta.days}\n",
    "    d[\"H\"], rem = divmod(delta.seconds, 3600)\n",
    "    d[\"M\"], d[\"S\"] = divmod(rem, 60)\n",
    "    return fmt.format(**d)\n",
    "\n",
    "\n",
    "# ClassificationTrainer 클래스 정의\n",
    "class ClassificationTrainer:\n",
    "    def __init__(\n",
    "        self, project_name, model, optimizer, train_data_loader, validation_data_loader, transforms,\n",
    "        run_time_str, wandb, device, checkpoint_file_path\n",
    "    ):\n",
    "        self.project_name = project_name\n",
    "        self.model = model\n",
    "        self.optimizer = optimizer\n",
    "        self.train_data_loader = train_data_loader\n",
    "        self.validation_data_loader = validation_data_loader\n",
    "        self.transforms = transforms\n",
    "        self.run_time_str = run_time_str\n",
    "        self.wandb = wandb\n",
    "        self.device = device\n",
    "        self.checkpoint_file_path = checkpoint_file_path\n",
    "        self.loss_fn = nn.CrossEntropyLoss()\n",
    "\n",
    "    def do_train(self):\n",
    "        self.model.train()\n",
    "        loss_train = 0.0\n",
    "        num_corrects_train = 0\n",
    "        num_trained_samples = 0\n",
    "        num_trains = 0\n",
    "\n",
    "        for train_batch in self.train_data_loader:\n",
    "            input_train, target_train = train_batch\n",
    "            input_train = input_train.to(device=self.device)\n",
    "            target_train = target_train.to(device=self.device)\n",
    "\n",
    "            if self.transforms:\n",
    "                input_train = self.transforms(input_train)\n",
    "\n",
    "            output_train = self.model(input_train)\n",
    "            loss = self.loss_fn(output_train, target_train)\n",
    "            loss_train += loss.item()\n",
    "\n",
    "            predicted_train = torch.argmax(output_train, dim=1)\n",
    "            num_corrects_train += torch.sum(torch.eq(predicted_train, target_train)).item()\n",
    "\n",
    "            num_trained_samples += len(input_train)\n",
    "            num_trains += 1\n",
    "\n",
    "            self.optimizer.zero_grad()\n",
    "            loss.backward()\n",
    "            self.optimizer.step()\n",
    "\n",
    "        train_loss = loss_train / num_trains\n",
    "        train_accuracy = 100.0 * num_corrects_train / num_trained_samples\n",
    "        return train_loss, train_accuracy\n",
    "\n",
    "    def do_validation(self):\n",
    "        self.model.eval()\n",
    "        loss_validation = 0.0\n",
    "        num_corrects_validation = 0\n",
    "        num_validated_samples = 0\n",
    "        num_validations = 0\n",
    "\n",
    "        with torch.no_grad():\n",
    "            for validation_batch in self.validation_data_loader:\n",
    "                input_validation, target_validation = validation_batch\n",
    "                input_validation = input_validation.to(device=self.device)\n",
    "                target_validation = target_validation.to(device=self.device)\n",
    "\n",
    "                if self.transforms:\n",
    "                    input_validation = self.transforms(input_validation)\n",
    "\n",
    "                output_validation = self.model(input_validation)\n",
    "                loss_validation += self.loss_fn(output_validation, target_validation).item()\n",
    "\n",
    "                predicted_validation = torch.argmax(output_validation, dim=1)\n",
    "                num_corrects_validation += torch.sum(torch.eq(predicted_validation, target_validation)).item()\n",
    "\n",
    "                num_validated_samples += len(input_validation)\n",
    "                num_validations += 1\n",
    "\n",
    "        validation_loss = loss_validation / num_validations\n",
    "        validation_accuracy = 100.0 * num_corrects_validation / num_validated_samples\n",
    "        return validation_loss, validation_accuracy\n",
    "\n",
    "    def train_loop(self):\n",
    "        early_stopping = EarlyStopping(\n",
    "            patience=self.wandb.config.early_stop_patience,\n",
    "            delta=self.wandb.config.early_stop_delta,\n",
    "            project_name=self.project_name,\n",
    "            checkpoint_file_path=self.checkpoint_file_path,\n",
    "            run_time_str=self.run_time_str\n",
    "        )\n",
    "        n_epochs = self.wandb.config.epochs\n",
    "        training_start_time = datetime.now()\n",
    "\n",
    "        for epoch in range(1, n_epochs + 1):\n",
    "            train_loss, train_accuracy = self.do_train()\n",
    "\n",
    "            if epoch == 1 or epoch % self.wandb.config.validation_intervals == 0:\n",
    "                validation_loss, validation_accuracy = self.do_validation()\n",
    "                elapsed_time = datetime.now() - training_start_time\n",
    "                epoch_per_second = 0 if elapsed_time.seconds == 0 else epoch / elapsed_time.seconds\n",
    "\n",
    "                message, early_stop = early_stopping.check_and_save(validation_loss, self.model)\n",
    "\n",
    "                print(\n",
    "                    f\"[Epoch {epoch:>3}] \"\n",
    "                    f\"T_loss: {train_loss:7.5f}, \"\n",
    "                    f\"T_accuracy: {train_accuracy:6.4f} | \"\n",
    "                    f\"V_loss: {validation_loss:7.5f}, \"\n",
    "                    f\"V_accuracy: {validation_accuracy:6.4f} | \"\n",
    "                    f\"{message} | \"\n",
    "                    f\"T_time: {strfdelta(elapsed_time, '%H:%M:%S')}, \"\n",
    "                    f\"T_speed: {epoch_per_second:4.3f}\"\n",
    "                )\n",
    "\n",
    "                self.wandb.log({\n",
    "                    \"Epoch\": epoch,\n",
    "                    \"Training loss\": train_loss,\n",
    "                    \"Training accuracy (%)\": train_accuracy,\n",
    "                    \"Validation loss\": validation_loss,\n",
    "                    \"Validation accuracy (%)\": validation_accuracy,\n",
    "                    \"Training speed (epochs/sec.)\": epoch_per_second,\n",
    "                })\n",
    "\n",
    "                if early_stop:\n",
    "                    break\n",
    "\n",
    "        elapsed_time = datetime.now() - training_start_time\n",
    "        print(f\"Final training time: {strfdelta(elapsed_time, '%H:%M:%S')}\")\n",
    "\n",
    "\n",
    "# Argument parser 정의\n",
    "def get_parser():\n",
    "    parser = argparse.ArgumentParser(description=\"Train a CNN model.\")\n",
    "    parser.add_argument(\"--wandb\", action=\"store_true\", help=\"Enable WandB logging\")\n",
    "    parser.add_argument(\"-b\", \"--batch_size\", type=int, default=2048, help=\"Batch size\")\n",
    "    parser.add_argument(\"-r\", \"--learning_rate\", type=float, default=1e-3, help=\"Learning rate\")\n",
    "    parser.add_argument(\"-v\", \"--epochs\", type=int, default=10, help=\"Number of epochs\")\n",
    "    parser.add_argument(\"--validation_intervals\", type=int, default=1, help=\"Validation interval epochs\")\n",
    "    parser.add_argument(\"--early_stop_patience\", type=int, default=10, help=\"Patience for early stopping\")\n",
    "    parser.add_argument(\"--early_stop_delta\", type=float, default=1e-5, help=\"Delta for early stopping\")\n",
    "    return parser\n",
    "\n",
    "\n",
    "# Main 함수 정의\n",
    "def main(args):\n",
    "    device = torch.device(\"cuda\" if torch.cuda.is_available() else \"cpu\")\n",
    "    transform = transforms.Compose([transforms.ToTensor(), transforms.Normalize((0.5,), (0.5,))])\n",
    "    train_dataset = datasets.FashionMNIST(\"./data\", train=True, download=True, transform=transform)\n",
    "    validation_dataset = datasets.FashionMNIST(\"./data\", train=False, download=True, transform=transform)\n",
    "\n",
    "    train_data_loader = DataLoader(train_dataset, batch_size=args.batch_size, shuffle=True)\n",
    "    validation_data_loader = DataLoader(validation_dataset, batch_size=args.batch_size, shuffle=False)\n",
    "\n",
    "    model = nn.Sequential(\n",
    "        nn.Conv2d(1, 32, kernel_size=3, padding=1),\n",
    "        nn.ReLU(),\n",
    "        nn.MaxPool2d(2),\n",
    "        nn.Flatten(),\n",
    "        nn.Linear(32 * 14 * 14, 10),\n",
    "    ).to(device)\n",
    "\n",
    "    optimizer = optim.Adam(model.parameters(), lr=args.learning_rate)\n",
    "\n",
    "    # WandB 초기화\n",
    "    import wandb\n",
    "    if args.wandb:\n",
    "        wandb.init(project=\"fashion_mnist\", config=vars(args))\n",
    "\n",
    "    classification_trainer = ClassificationTrainer(\n",
    "        project_name=\"fashion_mnist\",\n",
    "        model=model,\n",
    "        optimizer=optimizer,\n",
    "        train_data_loader=train_data_loader,\n",
    "        validation_data_loader=validation_data_loader,\n",
    "        transforms=None,\n",
    "        run_time_str=datetime.now().strftime(\"%Y%m%d_%H%M%S\"),\n",
    "        wandb=wandb if args.wandb else None,\n",
    "        device=device,\n",
    "        checkpoint_file_path=\"./checkpoint.pth\"\n",
    "    )\n",
    "    classification_trainer.train_loop()\n",
    "\n",
    "\n",
    "if __name__ == \"__main__\":\n",
    "    # 명령줄 인자를 문자열로 강제 설정\n",
    "    args_str = \"--wandb -b 2048 -r 1e-3 -v 10 --validation_intervals 1 --early_stop_patience 10 --early_stop_delta 1e-5\"\n",
    "    args_list = args_str.split()\n",
    "\n",
    "    parser = get_parser()\n",
    "    args = parser.parse_args(args_list)  # 문자열로 전달된 인자 리스트를 파싱\n",
    "    main(args)\n",
    "\n"
   ]
  },
  {
   "cell_type": "markdown",
   "metadata": {
    "id": "mJMrMfQUmEWY"
   },
   "source": [
    "##### get_parser"
   ]
  },
  {
   "cell_type": "code",
   "execution_count": 4,
   "metadata": {
    "id": "G3cTUQd5mGvo"
   },
   "outputs": [],
   "source": [
    "import argparse\n",
    "\n",
    "def get_parser():\n",
    "  parser = argparse.ArgumentParser()\n",
    "\n",
    "  parser.add_argument(\n",
    "    \"--wandb\", action=argparse.BooleanOptionalAction, default=False, help=\"True or False\"\n",
    "  )\n",
    "\n",
    "  parser.add_argument(\n",
    "    \"-b\", \"--batch_size\", type=int, default=2_048, help=\"Batch size (int, default: 2_048)\"\n",
    "  )\n",
    "\n",
    "  parser.add_argument(\n",
    "    \"-e\", \"--epochs\", type=int, default=10_000, help=\"Number of training epochs (int, default:10_000)\"\n",
    "  )\n",
    "\n",
    "  parser.add_argument(\n",
    "    \"-r\", \"--learning_rate\", type=float, default=1e-3, help=\"Learning rate (float, default: 1e-3)\"\n",
    "  )\n",
    "\n",
    "  parser.add_argument(\n",
    "    \"-v\", \"--validation_intervals\", type=int, default=10,\n",
    "    help=\"Number of training epochs between validations (int, default: 10)\"\n",
    "  )\n",
    "\n",
    "  parser.add_argument(\n",
    "    \"-d\", \"--early_stop_delta\", type=float, default=0.00001,\n",
    "    help=\"Delta value of early stop (float, default: 0.00001)\"\n",
    "  )\n",
    "\n",
    "  parser.add_argument(\n",
    "    \"-p\", \"--early_stop_patience\", type=int, default=10,\n",
    "    help=\"Number of early stop patience (int, default: 10)\"\n",
    "  )\n",
    "\n",
    "  parser.add_argument(\n",
    "    \"-o\", \"--optimizer\", type=int, default=0,\n",
    "    help=\"Optimizers (0: SGD, 1: Momentum, 2: RMSProp, 4: Adam, default: 0)\"\n",
    "  )\n",
    "\n",
    "  parser.add_argument(\n",
    "    \"-w\", \"--weight_decay\", type=float, default=0.0, help=\"Weight decay (float, default: 0.0)\"\n",
    "  )\n",
    "\n",
    "  parser.add_argument(\n",
    "    \"--dropout\", action=argparse.BooleanOptionalAction, default=False, help=\"Dropout: True or False\"\n",
    "  )\n",
    "  parser.add_argument(\n",
    "    \"-n\", \"--normalization\", type=int, default=0,\n",
    "    help=\"Normalization (0: No Normalization, 1: BatchNorm, 2: LayerNorm, default: 0)\"\n",
    "  )\n",
    "\n",
    "  return parser\n"
   ]
  },
  {
   "cell_type": "markdown",
   "metadata": {
    "id": "qXJubhU5lrMz"
   },
   "source": [
    "##### get_mnist_data"
   ]
  },
  {
   "cell_type": "code",
   "execution_count": 5,
   "metadata": {
    "id": "uTS5dnnKltG6"
   },
   "outputs": [],
   "source": [
    "def get_mnist_data(flatten=False):\n",
    "    # Define the base data path using BASE_PATH\n",
    "    data_path = os.path.join(BASE_PATH, \"_00_data\", \"h_mnist\")\n",
    "\n",
    "    # Download and split MNIST dataset\n",
    "    mnist_train = datasets.MNIST(data_path, train=True, download=True, transform=transforms.ToTensor())\n",
    "    mnist_train, mnist_validation = random_split(mnist_train, [55_000, 5_000])\n",
    "\n",
    "    # Display dataset information\n",
    "    print(\"Num Train Samples:\", len(mnist_train))\n",
    "    print(\"Num Validation Samples:\", len(mnist_validation))\n",
    "\n",
    "    # Set the number of data loading workers\n",
    "    num_data_loading_workers = get_num_cpu_cores() if is_linux() or is_windows() else 0\n",
    "    print(\"Number of Data Loading Workers:\", num_data_loading_workers)\n",
    "\n",
    "    # Define data loaders\n",
    "    train_data_loader = DataLoader(\n",
    "        dataset=mnist_train, batch_size=wandb.config.batch_size, shuffle=True,\n",
    "        pin_memory=True, num_workers=num_data_loading_workers\n",
    "    )\n",
    "\n",
    "    validation_data_loader = DataLoader(\n",
    "        dataset=mnist_validation, batch_size=wandb.config.batch_size,\n",
    "        pin_memory=True, num_workers=num_data_loading_workers\n",
    "    )\n",
    "\n",
    "    # Define transforms with optional flattening\n",
    "    mnist_transforms = nn.Sequential(\n",
    "        transforms.ConvertImageDtype(torch.float),\n",
    "        transforms.Normalize(mean=0.1307, std=0.3081),\n",
    "    )\n",
    "\n",
    "    if flatten:\n",
    "        mnist_transforms.append(nn.Flatten())\n",
    "\n",
    "    return train_data_loader, validation_data_loader, mnist_transforms\n"
   ]
  },
  {
   "cell_type": "markdown",
   "metadata": {
    "id": "akj-U8cCo1Ps"
   },
   "source": [
    "##### get_fashion_mnist_data with mean, std"
   ]
  },
  {
   "cell_type": "code",
   "execution_count": 6,
   "metadata": {
    "id": "U7MzDivBsrcn"
   },
   "outputs": [],
   "source": [
    "global globalMean\n",
    "global globalStd"
   ]
  },
  {
   "cell_type": "code",
   "execution_count": 7,
   "metadata": {},
   "outputs": [],
   "source": [
    "import os\n",
    "import torch\n",
    "from torchvision import datasets, transforms\n",
    "from torch.utils.data import DataLoader, random_split\n",
    "\n",
    "def get_num_cpu_cores():\n",
    "    return os.cpu_count()\n",
    "\n",
    "def is_linux():\n",
    "    return os.name == 'posix'\n",
    "\n",
    "def is_windows():\n",
    "    return os.name == 'nt'\n"
   ]
  },
  {
   "cell_type": "code",
   "execution_count": null,
   "metadata": {
    "id": "0lLiRGf5o-_u"
   },
   "outputs": [],
   "source": [
    "def get_fashion_mnist_data():\n",
    "    import os\n",
    "    import torch\n",
    "    import torch.nn as nn\n",
    "    from torch.utils.data import DataLoader, random_split\n",
    "    from torchvision import datasets, transforms\n",
    "    import wandb\n",
    "\n",
    "    # 데이터 경로 설정\n",
    "    data_path = os.path.join(\"BASE_PATH\", \"_00_data\", \"j_fashion_mnist\")\n",
    "\n",
    "    # 기본 FashionMNIST 데이터셋 로드\n",
    "    f_mnist_train = datasets.FashionMNIST(data_path, train=True, download=True, transform=transforms.ToTensor())\n",
    "    f_mnist_train, f_mnist_validation = random_split(f_mnist_train, [55_000, 5_000])\n",
    "\n",
    "    print(\"Num Train Samples: \", len(f_mnist_train))\n",
    "    print(\"Num Validation Samples: \", len(f_mnist_validation))\n",
    "    print(\"Sample Shape: \", f_mnist_train[0][0].shape)  # torch.Size([1, 28, 28])\n",
    "\n",
    "    # 데이터 로딩 워커 설정\n",
    "    num_data_loading_workers = get_num_cpu_cores() if is_linux() or is_windows() else 0\n",
    "    print(\"Number of Data Loading Workers:\", num_data_loading_workers)\n",
    "\n",
    "    # Train 데이터셋에 증강 추가\n",
    "    train_transforms = transforms.Compose([\n",
    "        transforms.RandomHorizontalFlip(p=0.5),  # 50% 확률로 좌우 반전\n",
    "        transforms.RandomRotation(10),          # 최대 10도 회전\n",
    "        transforms.ToTensor()\n",
    "    ])\n",
    "\n",
    "    validation_transforms = transforms.Compose([\n",
    "        transforms.ToTensor()\n",
    "    ])\n",
    "\n",
    "    # Transform 적용\n",
    "    f_mnist_train.dataset.transform = train_transforms\n",
    "    f_mnist_validation.dataset.transform = validation_transforms\n",
    "\n",
    "    # 데이터 로더 설정\n",
    "    train_data_loader = DataLoader(\n",
    "        dataset=f_mnist_train, batch_size=wandb.config.batch_size, shuffle=True,\n",
    "        pin_memory=True, num_workers=num_data_loading_workers\n",
    "    )\n",
    "\n",
    "    validation_data_loader = DataLoader(\n",
    "        dataset=f_mnist_validation, batch_size=wandb.config.batch_size,\n",
    "        pin_memory=True, num_workers=num_data_loading_workers\n",
    "    )\n",
    "\n",
    "    # Normalization 계산\n",
    "    imgs = torch.stack([img_t for img_t, _ in f_mnist_train], dim=3)\n",
    "    globalMean = imgs.view(1, -1).mean(dim=-1)\n",
    "    globalStd = imgs.view(1, -1).std(dim=-1)\n",
    "\n",
    "    print(f\"Calculated Mean: {globalMean.item()}, Std: {globalStd.item()}\")\n",
    "\n",
    "    # Normalization Transform\n",
    "    f_mnist_transforms = nn.Sequential(\n",
    "        transforms.ConvertImageDtype(torch.float),\n",
    "        transforms.Normalize(mean=globalMean, std=globalStd),\n",
    "    )\n",
    "\n",
    "    return train_data_loader, validation_data_loader, f_mnist_transforms\n"
   ]
  },
  {
   "cell_type": "markdown",
   "metadata": {
    "id": "M6m1QAmp7UvH"
   },
   "source": [
    "##### get_augmented_fashion_mnist_data"
   ]
  },
  {
   "cell_type": "code",
   "execution_count": 9,
   "metadata": {
    "id": "Kmnh2MEh7cvC"
   },
   "outputs": [],
   "source": [
    "from torch.utils.data import ConcatDataset\n",
    "\n",
    "def get_augmented_fashion_mnist_data():\n",
    "  data_path = os.path.join(\"C:/Users/User/git/link_dl\", \"_00_data\", \"j_fashion_mnist\")\n",
    "\n",
    "  f_mnist_train = datasets.FashionMNIST(data_path, train=True, download=True, transform=transforms.ToTensor())\n",
    "  f_mnist_train, f_mnist_validation = random_split(f_mnist_train, [55_000, 5_000])\n",
    "\n",
    "  #####################################################################\n",
    "  f_mnist_train_transforms = nn.Sequential(\n",
    "    transforms.RandomHorizontalFlip(),\n",
    "    transforms.RandomCrop([28, 28], padding=4),\n",
    "    transforms.ColorJitter(brightness=0.2, contrast=0.2, saturation=0.2),\n",
    "  )\n",
    "\n",
    "  transformed_train_data = []\n",
    "  for image, label in f_mnist_train:\n",
    "    transformed_image = f_mnist_train_transforms(image)\n",
    "    transformed_train_data.append((transformed_image, label))\n",
    "\n",
    "  f_mnist_train = ConcatDataset([f_mnist_train, transformed_train_data])\n",
    "  #####################################################################\n",
    "\n",
    "  print(\"Num Train Samples: \", len(f_mnist_train))\n",
    "  print(\"Num Validation Samples: \", len(f_mnist_validation))\n",
    "  print(\"Sample Shape: \", f_mnist_train[0][0].shape)  # torch.Size([1, 28, 28])\n",
    "\n",
    "  num_data_loading_workers = get_num_cpu_cores() if is_linux() or is_windows() else 0\n",
    "  print(\"Number of Data Loading Workers:\", num_data_loading_workers)\n",
    "\n",
    "  train_data_loader = DataLoader(\n",
    "    dataset=f_mnist_train, batch_size=wandb.config.batch_size, shuffle=True,\n",
    "    pin_memory=True, num_workers=num_data_loading_workers\n",
    "  )\n",
    "\n",
    "  validation_data_loader = DataLoader(\n",
    "    dataset=f_mnist_validation, batch_size=wandb.config.batch_size,\n",
    "    pin_memory=True, num_workers=num_data_loading_workers\n",
    "  )\n",
    "\n",
    "  #####################################################################\n",
    "  # mean, std\n",
    "  global globalMean\n",
    "  global globalStd\n",
    "\n",
    "  imgs = torch.stack([img_t for img_t, _ in f_mnist_train], dim=3)\n",
    "  globalMean = imgs.view(1, -1).mean(dim=-1)\n",
    "  globalStd = imgs.view(1, -1).std(dim=-1)\n",
    "  #####################################################################\n",
    "\n",
    "  \"\"\"\n",
    "  f_mnist_transforms = nn.Sequential(\n",
    "    transforms.ConvertImageDtype(torch.float),\n",
    "    transforms.Normalize(mean=0.0, std=0.1),\n",
    "  )\n",
    "  \"\"\"\n",
    "  f_mnist_transforms = nn.Sequential(\n",
    "    transforms.ConvertImageDtype(torch.float),\n",
    "    transforms.Normalize(mean=globalMean, std=globalStd),\n",
    "  )\n",
    "\n",
    "  return train_data_loader, validation_data_loader, f_mnist_transforms"
   ]
  },
  {
   "cell_type": "markdown",
   "metadata": {
    "id": "qZIesXTMmOuH"
   },
   "source": [
    "##### get_cnn_model"
   ]
  },
  {
   "cell_type": "code",
   "execution_count": 10,
   "metadata": {
    "id": "X1q96PDjmRJy"
   },
   "outputs": [],
   "source": [
    "def get_cnn_model():\n",
    "  class MyModel(nn.Module):\n",
    "    def __init__(self, in_channels, n_output):\n",
    "      super().__init__()\n",
    "\n",
    "      self.model = nn.Sequential(\n",
    "        # B x 1 x 28 x 28 --> B x 6 x (28 - 5 + 1) x (28 - 5 + 1) = B x 6 x 24 x 24\n",
    "        nn.Conv2d(in_channels=in_channels, out_channels=6, kernel_size=(5, 5), stride=(1, 1)),\n",
    "        # B x 6 x 24 x 24 --> B x 6 x 12 x 12\n",
    "        nn.MaxPool2d(kernel_size=2, stride=2),\n",
    "        nn.ReLU(),\n",
    "        # B x 6 x 12 x 12 --> B x 16 x (12 - 5 + 1) x (12 - 5 + 1) = B x 16 x 8 x 8\n",
    "        nn.Conv2d(in_channels=6, out_channels=16, kernel_size=(5, 5), stride=(1, 1)),\n",
    "        # B x 16 x 8 x 8 --> B x 16 x 4 x 4\n",
    "        nn.MaxPool2d(kernel_size=2, stride=2),\n",
    "        nn.ReLU(),\n",
    "        nn.Flatten(),\n",
    "        nn.Linear(256, 128),\n",
    "        nn.ReLU(),\n",
    "        nn.Linear(128, n_output),\n",
    "      )\n",
    "\n",
    "    def forward(self, x):\n",
    "      x = self.model(x)\n",
    "      return x\n",
    "\n",
    "  # 1 * 28 * 28\n",
    "  my_model = MyModel(in_channels=1, n_output=10)\n",
    "\n",
    "  return my_model\n"
   ]
  },
  {
   "cell_type": "markdown",
   "metadata": {
    "id": "QUOiz7KgrcL5"
   },
   "source": [
    "##### get_my_cnn_model"
   ]
  },
  {
   "cell_type": "code",
   "execution_count": 11,
   "metadata": {
    "id": "ak3GFQsOrcL_"
   },
   "outputs": [],
   "source": [
    "def get_my_cnn_model():\n",
    "  class MyModel(nn.Module):\n",
    "    def __init__(self, in_channels, n_output):\n",
    "      super().__init__()\n",
    "\n",
    "      self.model = nn.Sequential(\n",
    "        # B x 1 x 28 x 28 --> B x 6 x (28 - 5 + 1) x (28 - 5 + 1) = B x 6 x 24 x 24\n",
    "        nn.Conv2d(in_channels=in_channels, out_channels=6, kernel_size=(5, 5), stride=(1, 1)),\n",
    "        # B x 6 x 24 x 24 --> B x 6 x 12 x 12\n",
    "        nn.MaxPool2d(kernel_size=2, stride=2),\n",
    "        nn.ReLU(),\n",
    "        # B x 6 x 12 x 12 --> B x 16 x (12 - 5 + 1) x (12 - 5 + 1) = B x 16 x 8 x 8\n",
    "        nn.Conv2d(in_channels=6, out_channels=16, kernel_size=(5, 5), stride=(1, 1)),\n",
    "        # B x 16 x 8 x 8 --> B x 16 x 4 x 4\n",
    "        nn.MaxPool2d(kernel_size=2, stride=2),\n",
    "        nn.ReLU(),\n",
    "        nn.Flatten(),\n",
    "        nn.Linear(256, 128),\n",
    "        nn.ReLU(),\n",
    "        nn.Linear(128, n_output),\n",
    "      )\n",
    "\n",
    "    def forward(self, x):\n",
    "      x = self.model(x)\n",
    "      return x\n",
    "\n",
    "  # 1 * 28 * 28\n",
    "  my_model = MyModel(in_channels=1, n_output=10)\n",
    "\n",
    "  return my_model\n"
   ]
  },
  {
   "cell_type": "markdown",
   "metadata": {
    "id": "0lYxkeSZ0p7e"
   },
   "source": [
    "##### get_my_cnn_model_with_dropout"
   ]
  },
  {
   "cell_type": "code",
   "execution_count": 12,
   "metadata": {
    "id": "GKQIIkG30tHb"
   },
   "outputs": [],
   "source": [
    "def get_my_cnn_model_with_dropout():\n",
    "  class MyModel(nn.Module):\n",
    "    def __init__(self, in_channels, n_output):\n",
    "      super().__init__()\n",
    "\n",
    "      self.model = nn.Sequential(\n",
    "        # B x 1 x 28 x 28 --> B x 6 x (28 - 5 + 1) x (28 - 5 + 1) = B x 6 x 24 x 24\n",
    "        nn.Conv2d(in_channels=in_channels, out_channels=6, kernel_size=(5, 5), stride=(1, 1)),\n",
    "        # B x 6 x 24 x 24 --> B x 6 x 12 x 12\n",
    "        nn.MaxPool2d(kernel_size=2, stride=2),\n",
    "        nn.ReLU(),\n",
    "        # B x 6 x 12 x 12 --> B x 16 x (12 - 5 + 1) x (12 - 5 + 1) = B x 16 x 8 x 8\n",
    "        nn.Conv2d(in_channels=6, out_channels=16, kernel_size=(5, 5), stride=(1, 1)),\n",
    "        # B x 16 x 8 x 8 --> B x 16 x 4 x 4\n",
    "        nn.MaxPool2d(kernel_size=2, stride=2),\n",
    "        nn.ReLU(),\n",
    "        nn.Flatten(),\n",
    "        nn.Dropout(p=0.5), # p: dropout probability\n",
    "        nn.Linear(256, 128),\n",
    "        nn.ReLU(),\n",
    "        nn.Dropout(p=0.5), # p: dropout probability\n",
    "        nn.Linear(128, n_output),\n",
    "      )\n",
    "\n",
    "    def forward(self, x):\n",
    "      x = self.model(x)\n",
    "      return x\n",
    "\n",
    "  # 1 * 28 * 28\n",
    "  my_model = MyModel(in_channels=1, n_output=10)\n",
    "\n",
    "  return my_model\n"
   ]
  },
  {
   "cell_type": "markdown",
   "metadata": {
    "id": "hm4iuXix3i_W"
   },
   "source": [
    "##### get_my_cnn_model_with_dropout_batchNormalization"
   ]
  },
  {
   "cell_type": "code",
   "execution_count": 15,
   "metadata": {
    "id": "028mXra23pAk"
   },
   "outputs": [],
   "source": [
    "def get_my_cnn_model_with_dropout_batchNormalization():\n",
    "    class MyModel(nn.Module):\n",
    "        def __init__(self, in_channels, n_output):\n",
    "            super().__init__()\n",
    "\n",
    "            self.model = nn.Sequential(\n",
    "                # B x 1 x 28 x 28 --> B x 32 x 24 x 24\n",
    "                nn.Conv2d(in_channels=in_channels, out_channels=32, kernel_size=5, stride=1),\n",
    "                nn.BatchNorm2d(num_features=32),\n",
    "                nn.ReLU(),\n",
    "                nn.MaxPool2d(kernel_size=2, stride=2),  # B x 32 x 12 x 12\n",
    "\n",
    "                # B x 32 x 12 x 12 --> B x 64 x 8 x 8\n",
    "                nn.Conv2d(in_channels=32, out_channels=64, kernel_size=5, stride=1),\n",
    "                nn.BatchNorm2d(num_features=64),\n",
    "                nn.ReLU(),\n",
    "                nn.MaxPool2d(kernel_size=2, stride=2),  # B x 64 x 4 x 4\n",
    "\n",
    "                nn.Flatten(),  # B x (64 * 4 * 4) = B x 1024\n",
    "\n",
    "                nn.Dropout(p=0.5),  # Fully Connected Layer 전 드롭아웃\n",
    "                nn.Linear(1024, 256),\n",
    "                nn.BatchNorm1d(num_features=256),\n",
    "                nn.ReLU(),\n",
    "\n",
    "                nn.Dropout(p=0.5),  # 드롭아웃 추가\n",
    "                nn.Linear(256, 128),\n",
    "                nn.BatchNorm1d(num_features=128),\n",
    "                nn.ReLU(),\n",
    "\n",
    "                nn.Linear(128, n_output),\n",
    "            )\n",
    "\n",
    "        def forward(self, x):\n",
    "            return self.model(x)\n",
    "\n",
    "    # 입력 채널: 1 (흑백 이미지), 출력 클래스: 10\n",
    "    return MyModel(in_channels=1, n_output=10)\n"
   ]
  },
  {
   "cell_type": "markdown",
   "metadata": {
    "id": "FalZSJC65nGD"
   },
   "source": [
    "##### get_my_cnn_model_with_dropout_layerNormalization"
   ]
  },
  {
   "cell_type": "code",
   "execution_count": 14,
   "metadata": {
    "id": "vfOkWWBp5qEj"
   },
   "outputs": [],
   "source": [
    "def get_my_cnn_model_with_dropout_layerNormalization():\n",
    "  class MyModel(nn.Module):\n",
    "    def __init__(self, in_channels, n_output):\n",
    "      super().__init__()\n",
    "\n",
    "      self.model = nn.Sequential(\n",
    "        # B x 1 x 28 x 28 --> B x 6 x (28 - 5 + 1) x (28 - 5 + 1) = B x 6 x 24 x 24\n",
    "        nn.Conv2d(in_channels=in_channels, out_channels=6, kernel_size=(5, 5), stride=(1, 1)),\n",
    "        # B x 6 x 24 x 24 --> B x 6 x 12 x 12\n",
    "        nn.MaxPool2d(kernel_size=2, stride=2),\n",
    "        nn.LayerNorm(normalized_shape=[6, 12, 12], eps=1e-05),\n",
    "        nn.ReLU(),\n",
    "        # B x 6 x 12 x 12 --> B x 16 x (12 - 5 + 1) x (12 - 5 + 1) = B x 16 x 8 x 8\n",
    "        nn.Conv2d(in_channels=6, out_channels=16, kernel_size=(5, 5), stride=(1, 1)),\n",
    "        # B x 16 x 8 x 8 --> B x 16 x 4 x 4\n",
    "        nn.MaxPool2d(kernel_size=2, stride=2),\n",
    "        nn.LayerNorm(normalized_shape=[16, 4, 4], eps=1e-05),\n",
    "        nn.ReLU(),\n",
    "        nn.Flatten(),\n",
    "        nn.Dropout(p=0.5), # p: dropout probability\n",
    "        nn.Linear(256, 128),\n",
    "        nn.LayerNorm(normalized_shape=[128], eps=1e-05),\n",
    "        nn.ReLU(),\n",
    "        nn.Dropout(p=0.5), # p: dropout probability\n",
    "        nn.Linear(128, n_output),\n",
    "      )\n",
    "\n",
    "    def forward(self, x):\n",
    "      x = self.model(x)\n",
    "      return x\n",
    "\n",
    "  # 1 * 28 * 28\n",
    "  my_model = MyModel(in_channels=1, n_output=10)\n",
    "\n",
    "  return my_model\n"
   ]
  },
  {
   "cell_type": "markdown",
   "metadata": {
    "id": "0Y8VeMVLKXSu"
   },
   "source": [
    "##### get_alexnet_model"
   ]
  },
  {
   "cell_type": "code",
   "execution_count": 15,
   "metadata": {
    "id": "3l8A9UPiKayb"
   },
   "outputs": [],
   "source": [
    "def get_alexnet_model():\n",
    "    class AlexNet(nn.Module):\n",
    "        def __init__(self, in_channels=1, n_output=10):\n",
    "            \"\"\"\n",
    "            Define and allocate layers for this neural net.\n",
    "            \"\"\"\n",
    "            super().__init__()\n",
    "            # The image in the original paper states that width and height are 224 pixels, but\n",
    "            # the correct input size should be: (B x 3 x 227 x 227)\n",
    "            self.cnn = nn.Sequential(\n",
    "                # B x 1 x 28 x 28 --> B x 96 x (28 - 11 + 4) x (28 - 11 + 4) = B x 96 x 26 x 26\n",
    "                nn.Conv2d(in_channels=in_channels, out_channels=96, kernel_size=(11, 11), stride=(4, 4)),\n",
    "                nn.ReLU(),\n",
    "                #nn.LocalResponseNorm(size=3, alpha=0.0001, beta=0.75, k=2),\n",
    "\n",
    "                # B x 96 x 26 x 26 --> B x 96 x ((26 - 2) / 2 + 1) x ((26 - 2) / 2 + 1) = B x 96 x 13 x 13\n",
    "                nn.MaxPool2d(kernel_size=3, stride=2),\n",
    "\n",
    "                # B x 96 x 13 x 13 --> B x 192 x ((13 - 3 + 2) / 1 + 1) x ((13 - 3 + 2) / 1 + 1) = B x 192 x 13 x 13\n",
    "                nn.Conv2d(96, 256, (3, 3), (1, 1), padding=1),\n",
    "                nn.ReLU(),\n",
    "                #nn.LocalResponseNorm(size=3, alpha=0.0001, beta=0.75, k=2),\n",
    "\n",
    "                # B x 192 x 13 x 13 --> B x 192 x ((13 - 3) / 2 + 1) x ((13 - 3) / 2 + 1) = B x 192 x 6 x 6\n",
    "                nn.MaxPool2d(kernel_size=3, stride=2),\n",
    "\n",
    "                # B x 192 x 6 x 6 --> B x 256 x ((6 - 3 + 2) / 1 + 1) x ((13 - 3 + 2) / 1 + 1) = B x 256 x 6 x 6\n",
    "                nn.Conv2d(256, 384, (3, 3), (1, 1), padding=1),\n",
    "                nn.ReLU(),\n",
    "\n",
    "                # B x 256 x 6 x 6 --> B x 256 x ((6 - 3 + 2) / 1 + 1) x ((13 - 3 + 2) / 1 + 1) = B x 256 x 6 x 6\n",
    "                nn.Conv2d(384, 384, (3, 3), (1, 1), padding=1),\n",
    "                nn.ReLU(),\n",
    "\n",
    "                # B x 256 x 6 x 6 --> B x 192 x ((6 - 2) / 1 + 1) x ((6 - 2) / 1 + 1) = B x 192 x 5 x 5\n",
    "                nn.Conv2d(384, 256, (2, 2), (1, 1)),\n",
    "                nn.ReLU(),\n",
    "\n",
    "                # B x 192 x 5 x 5 --> B x 192 x ((5 - 2) / 2 + 1) x ((5 - 2) / 2 + 1) = B x 192 x 2 x 2\n",
    "                nn.MaxPool2d(kernel_size=3, stride=2)\n",
    "            )\n",
    "            # classifier is just a name for linear layers\n",
    "            self.fcn = nn.Sequential(\n",
    "                nn.Dropout(p=0.5),\n",
    "                nn.Linear(in_features=192 * 2 * 2, out_features=512),\n",
    "                nn.ReLU(),\n",
    "                nn.Dropout(p=0.5),\n",
    "                nn.Linear(in_features=512, out_features=512),\n",
    "                nn.ReLU(),\n",
    "                nn.Linear(in_features=512, out_features=n_output),\n",
    "            )\n",
    "\n",
    "        def forward(self, x):\n",
    "            \"\"\"\n",
    "            Pass the input through the net.\n",
    "            \"\"\"\n",
    "            x = self.cnn(x)\n",
    "            x = x.view(-1, 192 * 2 * 2)  # reduce the dimensions for linear layer input\n",
    "            return self.fcn(x)\n",
    "\n",
    "    my_model = AlexNet(in_channels=1, n_output=10)\n",
    "\n",
    "    return my_model\n"
   ]
  },
  {
   "cell_type": "markdown",
   "metadata": {
    "id": "X6S5Cr5nOkCl"
   },
   "source": [
    "##### get_VGG_model"
   ]
  },
  {
   "cell_type": "code",
   "execution_count": 16,
   "metadata": {
    "id": "34YZEMrROlpk"
   },
   "outputs": [],
   "source": [
    "def get_vgg_model():\n",
    "  def vgg_block(num_conv_layers, out_channels):\n",
    "    layers = []\n",
    "\n",
    "    for _ in range(num_conv_layers):\n",
    "      layers.append(nn.LazyConv2d(out_channels=out_channels, kernel_size=3, padding=1))\n",
    "      layers.append(nn.ReLU())\n",
    "\n",
    "    layers.append(nn.MaxPool2d(kernel_size=2, stride=2))\n",
    "\n",
    "    block = nn.Sequential(*layers)\n",
    "    return block\n",
    "\n",
    "  class VGG(nn.Module):\n",
    "    def __init__(self, block_info, n_output=10):\n",
    "      super().__init__()\n",
    "\n",
    "      conv_blocks = []\n",
    "      for (num_conv_layers, out_channels) in block_info:\n",
    "        conv_blocks.append(vgg_block(num_conv_layers, out_channels))\n",
    "\n",
    "      self.model = nn.Sequential(\n",
    "        *conv_blocks,\n",
    "        nn.Flatten(),\n",
    "        nn.LazyLinear(out_features=512),\n",
    "        nn.ReLU(),\n",
    "        nn.Dropout(0.5),\n",
    "        nn.LazyLinear(out_features=512),\n",
    "        nn.ReLU(),\n",
    "        nn.Dropout(0.5),\n",
    "        nn.LazyLinear(n_output)\n",
    "      )\n",
    "\n",
    "    def forward(self, x):\n",
    "      x = self.model(x)\n",
    "      return x\n",
    "\n",
    "  my_model = VGG(\n",
    "    block_info=((1, 64), (1, 128), (2, 256), (2, 512), (2, 512)),\n",
    "    n_output=10\n",
    "  )\n",
    "\n",
    "  return my_model"
   ]
  },
  {
   "cell_type": "markdown",
   "metadata": {
    "id": "zzZtX2WIRv7q"
   },
   "source": [
    "##### get_googlenet_model"
   ]
  },
  {
   "cell_type": "code",
   "execution_count": 17,
   "metadata": {
    "id": "cSWMC-RHRzMj"
   },
   "outputs": [],
   "source": [
    "def get_googlenet_model():\n",
    "  class Inception(nn.Module):\n",
    "    # c1--c4 are the number of output channels for each branch\n",
    "    def __init__(self, c1, c2, c3, c4, **kwargs):\n",
    "      super(Inception, self).__init__(**kwargs)\n",
    "      # Branch 1\n",
    "      self.b1_1 = nn.LazyConv2d(out_channels=c1, kernel_size=1)\n",
    "      # Branch 2\n",
    "      self.b2_1 = nn.LazyConv2d(out_channels=c2[0], kernel_size=1)\n",
    "      self.b2_2 = nn.LazyConv2d(out_channels=c2[1], kernel_size=3, padding=1)\n",
    "      # Branch 3\n",
    "      self.b3_1 = nn.LazyConv2d(out_channels=c3[0], kernel_size=1)\n",
    "      self.b3_2 = nn.LazyConv2d(out_channels=c3[1], kernel_size=5, padding=2)\n",
    "      # Branch 4\n",
    "      self.b4_1 = nn.MaxPool2d(kernel_size=3, stride=1, padding=1)\n",
    "      self.b4_2 = nn.LazyConv2d(out_channels=c4, kernel_size=1)\n",
    "\n",
    "    def forward(self, x):\n",
    "      b1 = torch.relu(self.b1_1(x))\n",
    "      b2 = torch.relu(self.b2_2(torch.relu(self.b2_1(x))))\n",
    "      b3 = torch.relu(self.b3_2(torch.relu(self.b3_1(x))))\n",
    "      b4 = torch.relu(self.b4_2(self.b4_1(x)))\n",
    "      return torch.cat((b1, b2, b3, b4), dim=1)\n",
    "\n",
    "  class InceptionAux(nn.Module):\n",
    "    def __init__(self, n_outputs, **kwargs):\n",
    "      super(InceptionAux, self).__init__(**kwargs)\n",
    "\n",
    "      self.conv = nn.Sequential(\n",
    "        #nn.AvgPool2d(kernel_size=5, stride=3),\n",
    "        nn.LazyConv2d(out_channels=128, kernel_size=1),\n",
    "      )\n",
    "\n",
    "      self.fc = nn.Sequential(\n",
    "        nn.LazyLinear(out_features=1024),\n",
    "        nn.ReLU(),\n",
    "        nn.Dropout(),\n",
    "        nn.LazyLinear(out_features=n_outputs),\n",
    "      )\n",
    "\n",
    "    def forward(self, x):\n",
    "      x = self.conv(x)\n",
    "      x = x.view(x.shape[0], -1)\n",
    "      x = self.fc(x)\n",
    "      return x\n",
    "\n",
    "  class GoogleNet(nn.Module):\n",
    "    def __init__(self, n_outputs=10):\n",
    "      super(GoogleNet, self).__init__()\n",
    "      self.conv_block = nn.Sequential(self.conv_blk_1(), self.conv_blk_2())\n",
    "      self.inception_block_1 = self.inception_blk_1()\n",
    "      self.inception_block_2 = self.inception_blk_2()\n",
    "      self.inception_block_3 = self.inception_blk_3()\n",
    "      self.aux_1 = InceptionAux(n_outputs)\n",
    "      self.aux_2 = InceptionAux(n_outputs)\n",
    "\n",
    "    def conv_blk_1(self):\n",
    "      # LocalRespNorm is ignored\n",
    "      return nn.Sequential(\n",
    "        nn.LazyConv2d(out_channels=64, kernel_size=7, stride=2, padding=3),\n",
    "        nn.ReLU(),\n",
    "        nn.MaxPool2d(kernel_size=3, stride=2, padding=1)\n",
    "      )\n",
    "\n",
    "    def conv_blk_2(self):\n",
    "      # LocalRespNorm is ignored\n",
    "      return nn.Sequential(\n",
    "        nn.LazyConv2d(out_channels=64, kernel_size=1),\n",
    "        nn.ReLU(),\n",
    "        nn.LazyConv2d(out_channels=192, kernel_size=3, padding=1),\n",
    "        nn.ReLU(),\n",
    "        nn.MaxPool2d(kernel_size=3, stride=2, padding=1)\n",
    "      )\n",
    "\n",
    "    def inception_blk_1(self):\n",
    "      return nn.Sequential(\n",
    "        Inception(c1=64, c2=(96, 128), c3=(16, 32), c4=32),\n",
    "        Inception(c1=128, c2=(128, 192), c3=(32, 96), c4=64),\n",
    "        nn.MaxPool2d(kernel_size=3, stride=2, padding=1),\n",
    "        Inception(c1=192, c2=(96, 208), c3=(16, 48), c4=64),\n",
    "      )\n",
    "\n",
    "    def inception_blk_2(self):\n",
    "      return nn.Sequential(\n",
    "        Inception(c1=160, c2=(112, 224), c3=(24, 64), c4=64),\n",
    "        Inception(c1=128, c2=(128, 256), c3=(24, 64), c4=64),\n",
    "        Inception(c1=112, c2=(144, 288), c3=(32, 64), c4=64),\n",
    "      )\n",
    "\n",
    "    def inception_blk_3(self):\n",
    "      return nn.Sequential(\n",
    "        Inception(c1=256, c2=(160, 320), c3=(32, 128), c4=128),\n",
    "        nn.MaxPool2d(kernel_size=3, stride=2, padding=1),\n",
    "        Inception(c1=256, c2=(160, 320), c3=(32, 128), c4=128),\n",
    "        Inception(c1=384, c2=(192, 384), c3=(48, 128), c4=128),\n",
    "        nn.AdaptiveAvgPool2d((1, 1)),\n",
    "        nn.Flatten()\n",
    "      )\n",
    "\n",
    "    def forward(self, x):\n",
    "      x = self.conv_block(x)\n",
    "      inception_out_1 = self.inception_block_1(x)\n",
    "      aux_out_1 = self.aux_1(inception_out_1)\n",
    "      inception_out_2 = self.inception_block_2(inception_out_1)\n",
    "      aux_out_2 = self.aux_2(inception_out_2)\n",
    "      inception_out_3 = self.inception_block_3(inception_out_2)\n",
    "      return inception_out_3, aux_out_1, aux_out_2\n",
    "\n",
    "  my_model = GoogleNet()\n",
    "\n",
    "  return my_model"
   ]
  },
  {
   "cell_type": "markdown",
   "metadata": {
    "id": "aPa0l9grd0ju"
   },
   "source": [
    "##### main"
   ]
  },
  {
   "cell_type": "code",
   "execution_count": 35,
   "metadata": {
    "colab": {
     "base_uri": "https://localhost:8080/"
    },
    "executionInfo": {
     "elapsed": 6351,
     "status": "ok",
     "timestamp": 1700276912052,
     "user": {
      "displayName": "NULL JO",
      "userId": "17442773596076107047"
     },
     "user_tz": -540
    },
    "id": "96sXINJLzkbt",
    "outputId": "86c5041c-f054-404b-dd17-d5ba513a2359"
   },
   "outputs": [
    {
     "name": "stdout",
     "output_type": "stream",
     "text": [
      "Defaulting to user installation because normal site-packages is not writeable\n",
      "Looking in indexes: https://pypi.org/simple, https://pypi.ngc.nvidia.com\n",
      "Requirement already satisfied: torchinfo in /home/work/.local/lib/python3.10/site-packages (1.8.0)\n",
      "\u001b[33mDEPRECATION: devscripts 2.22.1ubuntu1 has a non-standard version number. pip 24.1 will enforce this behaviour change. A possible replacement is to upgrade to a newer version of devscripts or contact the author to suggest that they release a version with a conforming version number. Discussion can be found at https://github.com/pypa/pip/issues/12063\u001b[0m\u001b[33m\n",
      "\u001b[0m\n",
      "\u001b[1m[\u001b[0m\u001b[34;49mnotice\u001b[0m\u001b[1;39;49m]\u001b[0m\u001b[39;49m A new release of pip is available: \u001b[0m\u001b[31;49m24.0\u001b[0m\u001b[39;49m -> \u001b[0m\u001b[32;49m24.3.1\u001b[0m\n",
      "\u001b[1m[\u001b[0m\u001b[34;49mnotice\u001b[0m\u001b[1;39;49m]\u001b[0m\u001b[39;49m To update, run: \u001b[0m\u001b[32;49mpython3 -m pip install --upgrade pip\u001b[0m\n",
      "Note: you may need to restart the kernel to use updated packages.\n"
     ]
    }
   ],
   "source": [
    "pip install torchinfo"
   ]
  },
  {
   "cell_type": "code",
   "execution_count": 18,
   "metadata": {},
   "outputs": [
    {
     "name": "stdout",
     "output_type": "stream",
     "text": [
      "Arguments received in main function:\n",
      "Namespace(wandb=True, batch_size=2048, epochs=500, learning_rate=0.001, validation_intervals=10, early_stop_patience=10, early_stop_delta=1e-05, optimizer=0, weight_decay=0.0, dropout=False, normalization=0, augment=False)\n"
     ]
    }
   ],
   "source": [
    "import argparse\n",
    "import datetime\n",
    "\n",
    "def get_parser():\n",
    "    # 기존의 get_parser 함수 코드\n",
    "    parser = argparse.ArgumentParser()\n",
    "    parser.add_argument(\"--wandb\", action=argparse.BooleanOptionalAction, default=False, help=\"Wandb: True or False\")\n",
    "    parser.add_argument(\"-b\", \"--batch_size\", type=int, default=2_048, help=\"Batch size (int, default: 2_048)\")\n",
    "    parser.add_argument(\"-e\", \"--epochs\", type=int, default=500, help=\"Number of training epochs (int, default:10_000)\")\n",
    "    parser.add_argument(\"-r\", \"--learning_rate\", type=float, default=1e-3, help=\"Learning rate (float, default: 1e-3)\")\n",
    "    parser.add_argument(\"-v\", \"--validation_intervals\", type=int, default=10,\n",
    "                        help=\"Number of training epochs between validations (int, default: 10)\")\n",
    "    parser.add_argument(\"-p\", \"--early_stop_patience\", type=int, default=10,\n",
    "                        help=\"Number of early stop patience (int, default: 10)\")\n",
    "    parser.add_argument(\"-d\", \"--early_stop_delta\", type=float, default=0.00001,\n",
    "                        help=\"Delta value of early stop (float, default: 0.00001)\")\n",
    "    parser.add_argument(\"-o\", \"--optimizer\", type=int, default=0,\n",
    "                        help=\"Optimizers (0: SGD, 1: Momentum, 2: RMSProp, 3: Adam, default: 0)\")\n",
    "    parser.add_argument(\"-w\", \"--weight_decay\", type=float, default=0.0, help=\"Weight decay (float, default: 0.0)\")\n",
    "    parser.add_argument(\"--dropout\", action=argparse.BooleanOptionalAction, default=False, help=\"Dropout: True or False\")\n",
    "    parser.add_argument(\"-n\", \"--normalization\", type=int, default=0,\n",
    "                        help=\"Normalization (0: No Normalization, 1: BatchNorm, 2: LayerNorm, default: 0)\")\n",
    "    parser.add_argument(\"--augment\", action=argparse.BooleanOptionalAction, default=False, help=\"Image Augment: True or False\")\n",
    "    return parser\n",
    "\n",
    "def main(args):\n",
    "    print(\"Arguments received in main function:\")\n",
    "    print(args)\n",
    "\n",
    "if __name__ == \"__main__\":\n",
    "    args_str = \"--wandb -b 2048 -r 1e-3 -v 10\"\n",
    "    args_list = args_str.split()\n",
    "\n",
    "    parser = get_parser()\n",
    "    args = parser.parse_args(args_list)\n",
    "    main(args)\n"
   ]
  },
  {
   "cell_type": "markdown",
   "metadata": {
    "id": "Yo8nC9TnSgo3"
   },
   "source": [
    "###### normal main code"
   ]
  },
  {
   "cell_type": "code",
   "execution_count": 9,
   "metadata": {
    "id": "FdQGEPNyYqjW"
   },
   "outputs": [
    {
     "name": "stdout",
     "output_type": "stream",
     "text": [
      "Namespace(wandb=False, batch_size=2048, epochs=10, learning_rate=0.001, validation_intervals=10, early_stop_patience=10, early_stop_delta=1e-05)\n",
      "{'epochs': 10, 'batch_size': 2048, 'validation_intervals': 10, 'learning_rate': 0.001, 'early_stop_patience': 10, 'early_stop_delta': 1e-05}\n",
      "Training on device cuda:0.\n",
      "Epoch 1, Training Loss: 69.0214, Validation Loss: 2.2964, Validation Accuracy: 15.80%\n",
      "Epoch 2, Training Loss: 68.7716, Validation Loss: 2.2881, Validation Accuracy: 19.50%\n",
      "Epoch 3, Training Loss: 68.5297, Validation Loss: 2.2804, Validation Accuracy: 19.56%\n",
      "Epoch 4, Training Loss: 68.3088, Validation Loss: 2.2733, Validation Accuracy: 19.52%\n",
      "Epoch 5, Training Loss: 68.0947, Validation Loss: 2.2663, Validation Accuracy: 19.67%\n",
      "Epoch 6, Training Loss: 67.8860, Validation Loss: 2.2594, Validation Accuracy: 20.07%\n",
      "Epoch 7, Training Loss: 67.6736, Validation Loss: 2.2523, Validation Accuracy: 20.68%\n",
      "Epoch 8, Training Loss: 67.4552, Validation Loss: 2.2449, Validation Accuracy: 21.74%\n",
      "Epoch 9, Training Loss: 67.2303, Validation Loss: 2.2372, Validation Accuracy: 23.80%\n",
      "Epoch 10, Training Loss: 66.9859, Validation Loss: 2.2290, Validation Accuracy: 25.97%\n"
     ]
    }
   ],
   "source": [
    "import argparse\n",
    "from datetime import datetime\n",
    "import torch\n",
    "import wandb\n",
    "from torch import optim\n",
    "from torchinfo import summary\n",
    "\n",
    "def main(args):\n",
    "    run_time_str = datetime.now().astimezone().strftime('%Y-%m-%d_%H-%M-%S')\n",
    "\n",
    "    config = {\n",
    "        'epochs': args.epochs,\n",
    "        'batch_size': args.batch_size,\n",
    "        'validation_intervals': args.validation_intervals,\n",
    "        'learning_rate': args.learning_rate,\n",
    "        'early_stop_patience': args.early_stop_patience,\n",
    "        'early_stop_delta': args.early_stop_delta\n",
    "    }\n",
    "\n",
    "    project_name = \"cnn_fashion_mnist\"\n",
    "    wandb.init(\n",
    "        mode=\"online\" if args.wandb else \"disabled\",\n",
    "        project=project_name,\n",
    "        notes=\"mnist experiment with cnn\",\n",
    "        tags=[\"cnn\", \"fashion_mnist\"],\n",
    "        name=run_time_str,\n",
    "        config=config\n",
    "    )\n",
    "    print(args)\n",
    "    print(wandb.config)\n",
    "\n",
    "    device = torch.device(\"cuda:0\" if torch.cuda.is_available() else \"cpu\")\n",
    "    print(f\"Training on device {device}.\")\n",
    "\n",
    "    train_data_loader, validation_data_loader, mnist_transforms = get_fashion_mnist_data()\n",
    "    model = get_my_cnn_model()\n",
    "    model.to(device)\n",
    "    wandb.watch(model)\n",
    "\n",
    "    summary(\n",
    "        model=model, input_size=(1, 1, 28, 28),\n",
    "        col_names=[\"kernel_size\", \"input_size\", \"output_size\", \"num_params\", \"mult_adds\"]\n",
    "    )\n",
    "\n",
    "    optimizer = optim.SGD(model.parameters(), lr=wandb.config.learning_rate)\n",
    "\n",
    "    classification_trainer = ClassificationTrainer(\n",
    "        project_name, model, optimizer, train_data_loader, validation_data_loader, mnist_transforms,\n",
    "        run_time_str, wandb, device, CHECKPOINT_FILE_PATH\n",
    "    )\n",
    "    classification_trainer.train_loop()\n",
    "\n",
    "    wandb.finish()\n",
    "\n",
    "if __name__ == \"__main__\":\n",
    "    import sys\n",
    "    sys.argv = [sys.argv[0]]  # Jupyter Notebook의 인자 제거\n",
    "\n",
    "    parser = argparse.ArgumentParser(description=\"Train a CNN model on Fashion MNIST.\")\n",
    "    parser.add_argument('--wandb', action='store_true', help='Enable WandB logging')\n",
    "    parser.add_argument('--batch_size', type=int, default=2048, help='Batch size')\n",
    "    parser.add_argument('--epochs', type=int, default=10, help='Number of epochs')\n",
    "    parser.add_argument('--learning_rate', type=float, default=0.001, help='Learning rate')\n",
    "    parser.add_argument('--validation_intervals', type=int, default=10, help='Validation intervals')\n",
    "    parser.add_argument('--early_stop_patience', type=int, default=10, help='Early stop patience')\n",
    "    parser.add_argument('--early_stop_delta', type=float, default=1e-5, help='Early stop delta')\n",
    "\n",
    "    args = parser.parse_args()\n",
    "    main(args)\n"
   ]
  },
  {
   "cell_type": "markdown",
   "metadata": {
    "id": "_YzOUS2NJP6P"
   },
   "source": [
    "###### train1"
   ]
  },
  {
   "cell_type": "code",
   "execution_count": 20,
   "metadata": {
    "id": "wTMp8qZHNBvK"
   },
   "outputs": [],
   "source": [
    "def main(args):\n",
    "  run_time_str = datetime.now().astimezone().strftime('%Y-%m-%d_%H-%M-%S')\n",
    "\n",
    "  config = {\n",
    "    'epochs': args.epochs,\n",
    "    'batch_size': args.batch_size,\n",
    "    'validation_intervals': args.validation_intervals,\n",
    "    'learning_rate': args.learning_rate,\n",
    "    'early_stop_patience': args.early_stop_patience,\n",
    "    'early_stop_delta': args.early_stop_delta\n",
    "  }\n",
    "\n",
    "  project_name = \"cnn_fashion_mnist\"\n",
    "  wandb.init(\n",
    "    mode=\"online\" if args.wandb else \"disabled\",\n",
    "    project=project_name,\n",
    "    notes=\"mnist experiment with cnn\",\n",
    "    tags=[\"cnn\", \"fashion_mnist\"],\n",
    "    name=run_time_str,\n",
    "    config=config\n",
    "  )\n",
    "  print(args)\n",
    "  print(wandb.config)\n",
    "\n",
    "  device = torch.device(\"cuda:0\" if torch.cuda.is_available() else \"cpu\")\n",
    "  print(f\"Training on device {device}.\")\n",
    "\n",
    "  train_data_loader, validation_data_loader, mnist_transforms = get_fashion_mnist_data()\n",
    "  model = get_my_cnn_model()\n",
    "  model.to(device)\n",
    "  wandb.watch(model)\n",
    "\n",
    "  \"\"\"\n",
    "  from torchinfo import summary\n",
    "  summary(model=model, input_size=(1, 1, 28, 28))\n",
    "  \"\"\"\n",
    "  from torchinfo import summary\n",
    "  summary(\n",
    "    model=model, input_size=(1, 1, 28, 28),\n",
    "    col_names=[\"kernel_size\", \"input_size\", \"output_size\", \"num_params\", \"mult_adds\"]\n",
    "  )\n",
    "\n",
    "  optimizer = optim.SGD(model.parameters(), lr=wandb.config.learning_rate)\n",
    "\n",
    "  classification_trainer = ClassificationTrainer(\n",
    "    project_name, model, optimizer, train_data_loader, validation_data_loader, mnist_transforms,\n",
    "    run_time_str, wandb, device, CHECKPOINT_FILE_PATH\n",
    "  )\n",
    "  classification_trainer.train_loop()\n",
    "\n",
    "  wandb.finish()"
   ]
  },
  {
   "cell_type": "code",
   "execution_count": 49,
   "metadata": {},
   "outputs": [],
   "source": [
    "import argparse\n",
    "\n",
    "\n",
    "def get_parser():\n",
    "  parser = argparse.ArgumentParser()\n",
    "\n",
    "  parser.add_argument(\n",
    "    \"--wandb\", action=argparse.BooleanOptionalAction, default=False, help=\"Wandb: True or False\"\n",
    "  )\n",
    "\n",
    "  parser.add_argument(\n",
    "    \"-b\", \"--batch_size\", type=int, default=2_048, help=\"Batch size (int, default: 2_048)\"\n",
    "  )\n",
    "\n",
    "  parser.add_argument(\n",
    "    \"-e\", \"--epochs\", type=int, default=500, help=\"Number of training epochs (int, default:10_000)\"\n",
    "  )\n",
    "\n",
    "  parser.add_argument(\n",
    "    \"-r\", \"--learning_rate\", type=float, default=1e-3, help=\"Learning rate (float, default: 1e-3)\"\n",
    "  )\n",
    "\n",
    "  parser.add_argument(\n",
    "    \"-v\", \"--validation_intervals\", type=int, default=10,\n",
    "    help=\"Number of training epochs between validations (int, default: 10)\"\n",
    "  )\n",
    "\n",
    "  parser.add_argument(\n",
    "    \"-p\", \"--early_stop_patience\", type=int, default=10,\n",
    "    help=\"Number of early stop patience (int, default: 10)\"\n",
    "  )\n",
    "\n",
    "  parser.add_argument(\n",
    "    \"-d\", \"--early_stop_delta\", type=float, default=0.00001,\n",
    "    help=\"Delta value of early stop (float, default: 0.00001)\"\n",
    "  )\n",
    "\n",
    "  parser.add_argument(\n",
    "    \"-o\", \"--optimizer\", type=int, default=0,\n",
    "    help=\"Optimizers (0: SGD, 1: Momentum, 2: RMSProp, 3: Adam, default: 0)\"\n",
    "  )\n",
    "\n",
    "  parser.add_argument(\n",
    "    \"-w\", \"--weight_decay\", type=float, default=0.0, help=\"Weight decay (float, default: 0.0)\"\n",
    "  )\n",
    "\n",
    "  parser.add_argument(\n",
    "    \"--dropout\", action=argparse.BooleanOptionalAction, default=False, help=\"Dropout: True or False\"\n",
    "  )\n",
    "\n",
    "  parser.add_argument(\n",
    "    \"-n\", \"--normalization\", type=int, default=0,\n",
    "    help=\"Normalization (0: No Normalization, 1: BatchNorm, 2: LayerNorm, default: 0)\"\n",
    "  )\n",
    "\n",
    "  parser.add_argument(\n",
    "    \"--augment\", action=argparse.BooleanOptionalAction, default=False, help=\"Image Augment: True or False\"\n",
    "  )\n",
    "\n",
    "  return parser\n"
   ]
  },
  {
   "cell_type": "code",
   "execution_count": null,
   "metadata": {},
   "outputs": [],
   "source": [
    "from datetime import datetime\n",
    "import torch\n",
    "from torch import nn\n",
    "\n",
    "from _01_code._99_common_utils.early_stopping import EarlyStopping\n",
    "from _01_code._99_common_utils.utils import strfdelta\n",
    "\n",
    "\n",
    "class ClassificationTrainer:\n",
    "    def __init__(self, project_name, model, optimizer, train_data_loader, validation_data_loader, transforms,\n",
    "                 run_time_str, wandb, device, checkpoint_file_path):\n",
    "        self.project_name = project_name\n",
    "        self.model = model\n",
    "        self.optimizer = optimizer\n",
    "        self.train_data_loader = train_data_loader\n",
    "        self.validation_data_loader = validation_data_loader\n",
    "        self.transforms = transforms  # 더 이상 필요하지 않을 수 있습니다.\n",
    "        self.run_time_str = run_time_str\n",
    "        self.wandb = wandb\n",
    "        self.device = device\n",
    "        self.checkpoint_file_path = checkpoint_file_path\n",
    "        self.criterion = nn.CrossEntropyLoss()\n",
    "\n",
    "    def do_train(self):\n",
    "        self.model.train()\n",
    "        total_loss = 0\n",
    "        correct = 0\n",
    "        total = 0\n",
    "\n",
    "        for inputs, labels in self.train_data_loader:\n",
    "            inputs, labels = inputs.to(self.device), labels.to(self.device)\n",
    "\n",
    "            # transforms 적용 제거\n",
    "            # inputs = self.transforms(inputs)  # 불필요한 코드 제거\n",
    "\n",
    "            outputs = self.model(inputs)\n",
    "            loss = self.criterion(outputs, labels)\n",
    "\n",
    "            self.optimizer.zero_grad()\n",
    "            loss.backward()\n",
    "            self.optimizer.step()\n",
    "\n",
    "            total_loss += loss.item()\n",
    "            _, predicted = outputs.max(1)\n",
    "            correct += (predicted == labels).sum().item()\n",
    "            total += labels.size(0)\n",
    "\n",
    "        accuracy = 100 * correct / total\n",
    "        average_loss = total_loss / len(self.train_data_loader)\n",
    "        return average_loss, accuracy\n",
    "\n",
    "\n",
    "  def do_validation(self):\n",
    "    self.model.eval()   # Explained at 'Diverse Techniques' section\n",
    "\n",
    "    loss_validation = 0.0\n",
    "    num_corrects_validation = 0\n",
    "    num_validated_samples = 0\n",
    "    num_validations = 0\n",
    "\n",
    "    with torch.no_grad():\n",
    "      for validation_batch in self.validation_data_loader:\n",
    "        input_validation, target_validation = validation_batch\n",
    "        input_validation = input_validation.to(device=self.device)\n",
    "        target_validation = target_validation.to(device=self.device)\n",
    "\n",
    "        if self.transforms:\n",
    "          input_validation = self.transforms(input_validation)\n",
    "\n",
    "        output_validation = self.model(input_validation)\n",
    "        loss_validation += self.loss_fn(output_validation, target_validation).item()\n",
    "\n",
    "        predicted_validation = torch.argmax(output_validation, dim=1)\n",
    "        num_corrects_validation += torch.sum(torch.eq(predicted_validation, target_validation)).item()\n",
    "\n",
    "        num_validated_samples += len(input_validation)\n",
    "        num_validations += 1\n",
    "\n",
    "    validation_loss = loss_validation / num_validations\n",
    "    validation_accuracy = 100.0 * num_corrects_validation / num_validated_samples\n",
    "\n",
    "    return validation_loss, validation_accuracy\n",
    "\n",
    "  def train_loop(self):\n",
    "    early_stopping = EarlyStopping(\n",
    "      patience=self.wandb.config.early_stop_patience,\n",
    "      delta=self.wandb.config.early_stop_delta,\n",
    "      project_name=self.project_name,\n",
    "      checkpoint_file_path=self.checkpoint_file_path,\n",
    "      run_time_str=self.run_time_str\n",
    "    )\n",
    "    n_epochs = self.wandb.config.epochs\n",
    "    training_start_time = datetime.now()\n",
    "\n",
    "    for epoch in range(1, n_epochs + 1):\n",
    "      train_loss, train_accuracy = self.do_train()\n",
    "\n",
    "      if epoch == 1 or epoch % self.wandb.config.validation_intervals == 0:\n",
    "        validation_loss, validation_accuracy = self.do_validation()\n",
    "\n",
    "        elapsed_time = datetime.now() - training_start_time\n",
    "        epoch_per_second = 0 if elapsed_time.seconds == 0 else epoch / elapsed_time.seconds\n",
    "\n",
    "        message, early_stop = early_stopping.check_and_save(validation_loss, self.model)\n",
    "\n",
    "        print(\n",
    "          f\"[Epoch {epoch:>3}] \"\n",
    "          f\"T_loss: {train_loss:7.5f}, \"\n",
    "          f\"T_accuracy: {train_accuracy:6.4f} | \"\n",
    "          f\"V_loss: {validation_loss:7.5f}, \"\n",
    "          f\"V_accuracy: {validation_accuracy:6.4f} | \"\n",
    "          f\"{message} | \"\n",
    "          f\"T_time: {strfdelta(elapsed_time, '%H:%M:%S')}, \"\n",
    "          f\"T_speed: {epoch_per_second:4.3f}\"\n",
    "        )\n",
    "\n",
    "        self.wandb.log({\n",
    "          \"Epoch\": epoch,\n",
    "          \"Training loss\": train_loss,\n",
    "          \"Training accuracy (%)\": train_accuracy,\n",
    "          \"Validation loss\": validation_loss,\n",
    "          \"Validation accuracy (%)\": validation_accuracy,\n",
    "          \"Training speed (epochs/sec.)\": epoch_per_second,\n",
    "        })\n",
    "\n",
    "        if early_stop:\n",
    "          break\n",
    "\n",
    "    elapsed_time = datetime.now() - training_start_time\n",
    "    print(f\"Final training time: {strfdelta(elapsed_time, '%H:%M:%S')}\")\n"
   ]
  },
  {
   "cell_type": "code",
   "execution_count": 22,
   "metadata": {},
   "outputs": [],
   "source": [
    "class EarlyStopping:\n",
    "  \"\"\"Early stops the training if validation loss doesn't improve after a given patience.\"\"\"\n",
    "  def __init__(self, patience=10, delta=0.00001, project_name=None, checkpoint_file_path=None, run_time_str=None):\n",
    "    self.patience = patience\n",
    "    self.counter = 0\n",
    "    self.delta = delta\n",
    "\n",
    "    self.val_loss_min = None\n",
    "    self.file_path = os.path.join(\n",
    "      checkpoint_file_path, f\"{project_name}_checkpoint_{run_time_str}.pt\"\n",
    "    )\n",
    "    self.latest_file_path = os.path.join(\n",
    "      checkpoint_file_path, f\"{project_name}_checkpoint_latest.pt\"\n",
    "    )\n",
    "\n",
    "  def check_and_save(self, new_validation_loss, model):\n",
    "    early_stop = False\n",
    "\n",
    "    if self.val_loss_min is None:\n",
    "      self.val_loss_min = new_validation_loss\n",
    "      message = f'Early stopping is stated!'\n",
    "    elif new_validation_loss < self.val_loss_min - self.delta:\n",
    "      message = f'V_loss decreased ({self.val_loss_min:7.5f} --> {new_validation_loss:7.5f}). Saving model...'\n",
    "      self.save_checkpoint(new_validation_loss, model)\n",
    "      self.val_loss_min = new_validation_loss\n",
    "      self.counter = 0\n",
    "    else:\n",
    "      self.counter += 1\n",
    "      message = f'Early stopping counter: {self.counter} out of {self.patience}'\n",
    "      if self.counter >= self.patience:\n",
    "        early_stop = True\n",
    "        message += \" *** TRAIN EARLY STOPPED! ***\"\n",
    "\n",
    "    return message, early_stop\n",
    "\n",
    "  def save_checkpoint(self, val_loss, model):\n",
    "    '''Saves model when validation loss decrease.'''\n",
    "    torch.save(model.state_dict(), self.file_path)\n",
    "    torch.save(model.state_dict(), self.latest_file_path)\n",
    "    self.val_loss_min = val_loss\n"
   ]
  },
  {
   "cell_type": "code",
   "execution_count": null,
   "metadata": {
    "colab": {
     "base_uri": "https://localhost:8080/"
    },
    "id": "ObneUTCcx-JD",
    "outputId": "d853f55c-ea73-4b09-c6fe-7a61bbf93967"
   },
   "outputs": [
    {
     "data": {
      "text/html": [
       "Finishing last run (ID:rb3w7dbs) before initializing another..."
      ],
      "text/plain": [
       "<IPython.core.display.HTML object>"
      ]
     },
     "metadata": {},
     "output_type": "display_data"
    },
    {
     "data": {
      "text/html": [
       "\n",
       "    <style>\n",
       "        .wandb-row {\n",
       "            display: flex;\n",
       "            flex-direction: row;\n",
       "            flex-wrap: wrap;\n",
       "            justify-content: flex-start;\n",
       "            width: 100%;\n",
       "        }\n",
       "        .wandb-col {\n",
       "            display: flex;\n",
       "            flex-direction: column;\n",
       "            flex-basis: 100%;\n",
       "            flex: 1;\n",
       "            padding: 10px;\n",
       "        }\n",
       "    </style>\n",
       "<div class=\"wandb-row\"><div class=\"wandb-col\"><h3>Run history:</h3><br/><table class=\"wandb\"><tr><td>Epoch</td><td>▁▂▃▃▄▅▆▆▇█</td></tr><tr><td>Training accuracy (%)</td><td>▁▆▇▇▇█████</td></tr><tr><td>Training loss</td><td>█▃▂▂▂▁▁▁▁▁</td></tr><tr><td>Training speed (epochs/sec.)</td><td>██▂▁▂▃▃▂▁▁</td></tr><tr><td>Validation accuracy (%)</td><td>▁▄▆▇▇█████</td></tr><tr><td>Validation loss</td><td>█▅▃▃▂▂▁▁▁▁</td></tr></table><br/></div><div class=\"wandb-col\"><h3>Run summary:</h3><br/><table class=\"wandb\"><tr><td>Epoch</td><td>10</td></tr><tr><td>Training accuracy (%)</td><td>89.63667</td></tr><tr><td>Training loss</td><td>0.2985</td></tr><tr><td>Training speed (epochs/sec.)</td><td>0.09709</td></tr><tr><td>Validation accuracy (%)</td><td>88</td></tr><tr><td>Validation loss</td><td>0.33145</td></tr></table><br/></div></div>"
      ],
      "text/plain": [
       "<IPython.core.display.HTML object>"
      ]
     },
     "metadata": {},
     "output_type": "display_data"
    },
    {
     "data": {
      "text/html": [
       " View run <strong style=\"color:#cdcd00\">lively-armadillo-1</strong> at: <a href='https://wandb.ai/choo0412-korea-university-of-technology-and-education/fashion_mnist/runs/rb3w7dbs' target=\"_blank\">https://wandb.ai/choo0412-korea-university-of-technology-and-education/fashion_mnist/runs/rb3w7dbs</a><br/> View project at: <a href='https://wandb.ai/choo0412-korea-university-of-technology-and-education/fashion_mnist' target=\"_blank\">https://wandb.ai/choo0412-korea-university-of-technology-and-education/fashion_mnist</a><br/>Synced 5 W&B file(s), 0 media file(s), 0 artifact file(s) and 0 other file(s)"
      ],
      "text/plain": [
       "<IPython.core.display.HTML object>"
      ]
     },
     "metadata": {},
     "output_type": "display_data"
    },
    {
     "data": {
      "text/html": [
       "Find logs at: <code>./wandb/run-20241116_130322-rb3w7dbs/logs</code>"
      ],
      "text/plain": [
       "<IPython.core.display.HTML object>"
      ]
     },
     "metadata": {},
     "output_type": "display_data"
    },
    {
     "data": {
      "text/html": [
       "Successfully finished last run (ID:rb3w7dbs). Initializing new run:<br/>"
      ],
      "text/plain": [
       "<IPython.core.display.HTML object>"
      ]
     },
     "metadata": {},
     "output_type": "display_data"
    },
    {
     "data": {
      "text/html": [
       "Tracking run with wandb version 0.18.7"
      ],
      "text/plain": [
       "<IPython.core.display.HTML object>"
      ]
     },
     "metadata": {},
     "output_type": "display_data"
    },
    {
     "data": {
      "text/html": [
       "Run data is saved locally in <code>/home/work/dl_choo/wandb/run-20241116_130731-633o5pw4</code>"
      ],
      "text/plain": [
       "<IPython.core.display.HTML object>"
      ]
     },
     "metadata": {},
     "output_type": "display_data"
    },
    {
     "data": {
      "text/html": [
       "Syncing run <strong><a href='https://wandb.ai/choo0412-korea-university-of-technology-and-education/cnn_fashion_mnist/runs/633o5pw4' target=\"_blank\">2024-11-16_13-07-31</a></strong> to <a href='https://wandb.ai/choo0412-korea-university-of-technology-and-education/cnn_fashion_mnist' target=\"_blank\">Weights & Biases</a> (<a href='https://wandb.me/developer-guide' target=\"_blank\">docs</a>)<br/>"
      ],
      "text/plain": [
       "<IPython.core.display.HTML object>"
      ]
     },
     "metadata": {},
     "output_type": "display_data"
    },
    {
     "data": {
      "text/html": [
       " View project at <a href='https://wandb.ai/choo0412-korea-university-of-technology-and-education/cnn_fashion_mnist' target=\"_blank\">https://wandb.ai/choo0412-korea-university-of-technology-and-education/cnn_fashion_mnist</a>"
      ],
      "text/plain": [
       "<IPython.core.display.HTML object>"
      ]
     },
     "metadata": {},
     "output_type": "display_data"
    },
    {
     "data": {
      "text/html": [
       " View run at <a href='https://wandb.ai/choo0412-korea-university-of-technology-and-education/cnn_fashion_mnist/runs/633o5pw4' target=\"_blank\">https://wandb.ai/choo0412-korea-university-of-technology-and-education/cnn_fashion_mnist/runs/633o5pw4</a>"
      ],
      "text/plain": [
       "<IPython.core.display.HTML object>"
      ]
     },
     "metadata": {},
     "output_type": "display_data"
    },
    {
     "name": "stdout",
     "output_type": "stream",
     "text": [
      "Namespace(wandb=True, batch_size=2048, epochs=500, learning_rate=0.001, validation_intervals=10, early_stop_patience=10, early_stop_delta=1e-05, optimizer=0, weight_decay=0.0, dropout=False, normalization=0, augment=False)\n",
      "{'epochs': 500, 'batch_size': 2048, 'validation_intervals': 10, 'learning_rate': 0.001, 'early_stop_patience': 10, 'early_stop_delta': 1e-05}\n",
      "Training on device cuda:0.\n",
      "Num Train Samples:  55000\n",
      "Num Validation Samples:  5000\n",
      "Sample Shape:  torch.Size([1, 28, 28])\n",
      "Number of Data Loading Workers: 2\n"
     ]
    }
   ],
   "source": [
    "import torch\n",
    "\n",
    "\n",
    "\n",
    "from datetime import datetime\n",
    "\n",
    "if __name__ == \"__main__\":\n",
    "  \"\"\"\n",
    "  parser = get_parser()\n",
    "  args = parser.parse_args()\n",
    "  main(args)\n",
    "  \"\"\"\n",
    "  #args_str = \"--wandb -r 1e-3 -v 5 -b 1024 -p 10 -o 3 -w 0.005 --dropout -n 1 --augment\"\n",
    "  args_str = \"--wandb -b 2048 -r 1e-3 -v 10\"\n",
    "  args_list = args_str.split()\n",
    "\n",
    "  parser = get_parser()\n",
    "  args = parser.parse_args(args_list)\n",
    "  main(args)\n",
    "\n",
    "\n",
    "  # python _01_code/_07_cnn/a_mnist_train_cnn.py --wandb -b 2048 -r 1e-3 -v 10\n",
    "  # python _01_code/_07_cnn/a_mnist_train_cnn.py --no-wandb -b 2048 -r 1e-3 -v 10\n",
    "\n",
    "  # \"--wandb -v 10 -o 3 -w 0.002 --dropout -n 0\""
   ]
  },
  {
   "cell_type": "code",
   "execution_count": null,
   "metadata": {},
   "outputs": [],
   "source": [
    "import wandb\n",
    "\n",
    "def main(args):\n",
    "    if args.wandb:  # wandb를 사용하도록 지정된 경우\n",
    "        wandb.init(\n",
    "            project=\"your_project_name\",\n",
    "            config={\n",
    "                \"learning_rate\": args.learning_rate,\n",
    "                \"batch_size\": args.batch_size,\n",
    "                \"epochs\": args.epochs,\n",
    "                # 필요한 설정 추가\n",
    "            },\n",
    "        )\n",
    "        print(\"WandB initialized. Link:\", wandb.run.get_url())\n",
    "    else:\n",
    "        print(\"WandB is not enabled.\")\n"
   ]
  },
  {
   "cell_type": "code",
   "execution_count": 4,
   "metadata": {},
   "outputs": [],
   "source": [
    "import argparse\n",
    "\n",
    "def get_parser():\n",
    "    parser = argparse.ArgumentParser()\n",
    "    parser.add_argument(\"--wandb\", action=\"store_true\", help=\"Enable WandB logging\")\n",
    "    parser.add_argument(\"-b\", \"--batch_size\", type=int, default=32, help=\"Batch size\")\n",
    "    parser.add_argument(\"-r\", \"--learning_rate\", type=float, default=1e-3, help=\"Learning rate\")\n",
    "    parser.add_argument(\"-v\", \"--epochs\", type=int, default=10, help=\"Number of epochs\")\n",
    "    # 추가 인자 정의\n",
    "    return parser\n"
   ]
  },
  {
   "cell_type": "markdown",
   "metadata": {
    "id": "Y3qXg-SmNJhy"
   },
   "source": [
    "###### train2 - adam"
   ]
  },
  {
   "cell_type": "code",
   "execution_count": 4,
   "metadata": {
    "colab": {
     "base_uri": "https://localhost:8080/",
     "referenced_widgets": [
      "39acc7b66a8e4f3d9f1500930d46c6d1",
      "6fe95379498f4ab198321fd4f880756e",
      "896a2dacf2d34dda915b8a0b55714852",
      "b8cd0889093c46f699499638f114a02a",
      "2370d710612c4e3c9587034c917cc237",
      "1b6939c4b2d04687ac117db19fbfe90b",
      "a1b0860e866c447d873be73836c060e6",
      "6b3f5713440c4f8786f1d66669ca8304"
     ]
    },
    "executionInfo": {
     "elapsed": 541476,
     "status": "ok",
     "timestamp": 1700277603838,
     "user": {
      "displayName": "NULL JO",
      "userId": "17442773596076107047"
     },
     "user_tz": -540
    },
    "id": "ikeOBb99NLnL",
    "outputId": "e84f6497-bfa2-41b5-e188-bc046f45c217"
   },
   "outputs": [
    {
     "data": {
      "text/html": [
       "Finishing last run (ID:sw0wxfnq) before initializing another..."
      ],
      "text/plain": [
       "<IPython.core.display.HTML object>"
      ]
     },
     "metadata": {},
     "output_type": "display_data"
    },
    {
     "data": {
      "text/html": [
       "\n",
       "    <style>\n",
       "        .wandb-row {\n",
       "            display: flex;\n",
       "            flex-direction: row;\n",
       "            flex-wrap: wrap;\n",
       "            justify-content: flex-start;\n",
       "            width: 100%;\n",
       "        }\n",
       "        .wandb-col {\n",
       "            display: flex;\n",
       "            flex-direction: column;\n",
       "            flex-basis: 100%;\n",
       "            flex: 1;\n",
       "            padding: 10px;\n",
       "        }\n",
       "    </style>\n",
       "<div class=\"wandb-row\"><div class=\"wandb-col\"><h3>Run history:</h3><br/><table class=\"wandb\"><tr><td>epoch</td><td>▁▁▁▂▂▂▂▃▃▃▃▄▄▄▄▅▅▅▅▆▆▆▆▇▇▇▇███</td></tr><tr><td>train_accuracy</td><td>▁▄▅▆▆▆▇▇▇▇▇▇▇▇████████████████</td></tr><tr><td>train_loss</td><td>█▄▃▃▃▂▂▂▂▂▂▂▁▁▁▁▁▁▁▁▁▁▁▁▁▁▁▁▁▁</td></tr><tr><td>val_accuracy</td><td>▁▃▄▄▆▆▆▆▇▇▇▇▇▇███▇▇███████████</td></tr><tr><td>val_loss</td><td>█▆▅▄▃▃▃▃▂▂▂▂▂▂▂▁▁▂▂▁▁▁▁▁▁▁▁▁▁▁</td></tr></table><br/></div><div class=\"wandb-col\"><h3>Run summary:</h3><br/><table class=\"wandb\"><tr><td>epoch</td><td>30</td></tr><tr><td>train_accuracy</td><td>86.78667</td></tr><tr><td>train_loss</td><td>0.3705</td></tr><tr><td>val_accuracy</td><td>89.38</td></tr><tr><td>val_loss</td><td>0.2824</td></tr></table><br/></div></div>"
      ],
      "text/plain": [
       "<IPython.core.display.HTML object>"
      ]
     },
     "metadata": {},
     "output_type": "display_data"
    },
    {
     "data": {
      "text/html": [
       " View run <strong style=\"color:#cdcd00\">true-planet-67</strong> at: <a href='https://wandb.ai/choo0412-korea-university-of-technology-and-education/cnn_fashion_mnist/runs/sw0wxfnq' target=\"_blank\">https://wandb.ai/choo0412-korea-university-of-technology-and-education/cnn_fashion_mnist/runs/sw0wxfnq</a><br/> View project at: <a href='https://wandb.ai/choo0412-korea-university-of-technology-and-education/cnn_fashion_mnist' target=\"_blank\">https://wandb.ai/choo0412-korea-university-of-technology-and-education/cnn_fashion_mnist</a><br/>Synced 5 W&B file(s), 0 media file(s), 0 artifact file(s) and 0 other file(s)"
      ],
      "text/plain": [
       "<IPython.core.display.HTML object>"
      ]
     },
     "metadata": {},
     "output_type": "display_data"
    },
    {
     "data": {
      "text/html": [
       "Find logs at: <code>./wandb/run-20241116_135610-sw0wxfnq/logs</code>"
      ],
      "text/plain": [
       "<IPython.core.display.HTML object>"
      ]
     },
     "metadata": {},
     "output_type": "display_data"
    },
    {
     "data": {
      "text/html": [
       "Successfully finished last run (ID:sw0wxfnq). Initializing new run:<br/>"
      ],
      "text/plain": [
       "<IPython.core.display.HTML object>"
      ]
     },
     "metadata": {},
     "output_type": "display_data"
    },
    {
     "data": {
      "text/html": [
       "Tracking run with wandb version 0.18.7"
      ],
      "text/plain": [
       "<IPython.core.display.HTML object>"
      ]
     },
     "metadata": {},
     "output_type": "display_data"
    },
    {
     "data": {
      "text/html": [
       "Run data is saved locally in <code>/home/work/dl_choo/wandb/run-20241116_140836-r80ogx2y</code>"
      ],
      "text/plain": [
       "<IPython.core.display.HTML object>"
      ]
     },
     "metadata": {},
     "output_type": "display_data"
    },
    {
     "data": {
      "text/html": [
       "Syncing run <strong><a href='https://wandb.ai/choo0412-korea-university-of-technology-and-education/cnn_fashion_mnist/runs/r80ogx2y' target=\"_blank\">charmed-eon-68</a></strong> to <a href='https://wandb.ai/choo0412-korea-university-of-technology-and-education/cnn_fashion_mnist' target=\"_blank\">Weights & Biases</a> (<a href='https://wandb.me/developer-guide' target=\"_blank\">docs</a>)<br/>"
      ],
      "text/plain": [
       "<IPython.core.display.HTML object>"
      ]
     },
     "metadata": {},
     "output_type": "display_data"
    },
    {
     "data": {
      "text/html": [
       " View project at <a href='https://wandb.ai/choo0412-korea-university-of-technology-and-education/cnn_fashion_mnist' target=\"_blank\">https://wandb.ai/choo0412-korea-university-of-technology-and-education/cnn_fashion_mnist</a>"
      ],
      "text/plain": [
       "<IPython.core.display.HTML object>"
      ]
     },
     "metadata": {},
     "output_type": "display_data"
    },
    {
     "data": {
      "text/html": [
       " View run at <a href='https://wandb.ai/choo0412-korea-university-of-technology-and-education/cnn_fashion_mnist/runs/r80ogx2y' target=\"_blank\">https://wandb.ai/choo0412-korea-university-of-technology-and-education/cnn_fashion_mnist/runs/r80ogx2y</a>"
      ],
      "text/plain": [
       "<IPython.core.display.HTML object>"
      ]
     },
     "metadata": {},
     "output_type": "display_data"
    },
    {
     "name": "stdout",
     "output_type": "stream",
     "text": [
      "Epoch 1/20:\n",
      "Train Loss: 0.8152, Train Accuracy: 76.54%\n",
      "Validation Loss: 0.4129, Validation Accuracy: 86.18%\n",
      "Epoch 2/20:\n",
      "Train Loss: 0.4515, Train Accuracy: 85.45%\n",
      "Validation Loss: 0.3355, Validation Accuracy: 88.16%\n",
      "Epoch 3/20:\n",
      "Train Loss: 0.3835, Train Accuracy: 87.07%\n",
      "Validation Loss: 0.3024, Validation Accuracy: 88.98%\n",
      "Epoch 4/20:\n",
      "Train Loss: 0.3491, Train Accuracy: 88.08%\n",
      "Validation Loss: 0.2848, Validation Accuracy: 89.61%\n",
      "Epoch 5/20:\n",
      "Train Loss: 0.3261, Train Accuracy: 88.91%\n",
      "Validation Loss: 0.2665, Validation Accuracy: 90.08%\n",
      "Epoch 6/20:\n",
      "Train Loss: 0.3118, Train Accuracy: 89.29%\n",
      "Validation Loss: 0.2557, Validation Accuracy: 90.40%\n",
      "Epoch 7/20:\n",
      "Train Loss: 0.3005, Train Accuracy: 89.55%\n",
      "Validation Loss: 0.2539, Validation Accuracy: 90.76%\n",
      "Epoch 8/20:\n",
      "Train Loss: 0.2872, Train Accuracy: 90.05%\n",
      "Validation Loss: 0.2398, Validation Accuracy: 90.91%\n",
      "Epoch 9/20:\n",
      "Train Loss: 0.2792, Train Accuracy: 90.19%\n",
      "Validation Loss: 0.2422, Validation Accuracy: 91.05%\n",
      "Epoch 10/20:\n",
      "Train Loss: 0.2694, Train Accuracy: 90.57%\n",
      "Validation Loss: 0.2373, Validation Accuracy: 90.94%\n",
      "Epoch 11/20:\n",
      "Train Loss: 0.2624, Train Accuracy: 90.75%\n",
      "Validation Loss: 0.2353, Validation Accuracy: 91.44%\n",
      "Epoch 12/20:\n",
      "Train Loss: 0.2573, Train Accuracy: 91.00%\n",
      "Validation Loss: 0.2323, Validation Accuracy: 91.31%\n",
      "Epoch 13/20:\n",
      "Train Loss: 0.2541, Train Accuracy: 91.01%\n",
      "Validation Loss: 0.2294, Validation Accuracy: 91.34%\n",
      "Epoch 14/20:\n",
      "Train Loss: 0.2424, Train Accuracy: 91.43%\n",
      "Validation Loss: 0.2276, Validation Accuracy: 91.52%\n",
      "Epoch 15/20:\n",
      "Train Loss: 0.2388, Train Accuracy: 91.54%\n",
      "Validation Loss: 0.2251, Validation Accuracy: 91.76%\n",
      "Epoch 16/20:\n",
      "Train Loss: 0.2361, Train Accuracy: 91.73%\n",
      "Validation Loss: 0.2174, Validation Accuracy: 92.10%\n",
      "Epoch 17/20:\n",
      "Train Loss: 0.2317, Train Accuracy: 91.83%\n",
      "Validation Loss: 0.2171, Validation Accuracy: 92.20%\n",
      "Epoch 18/20:\n",
      "Train Loss: 0.2286, Train Accuracy: 91.88%\n",
      "Validation Loss: 0.2177, Validation Accuracy: 91.87%\n",
      "Epoch 19/20:\n",
      "Train Loss: 0.2263, Train Accuracy: 92.03%\n",
      "Validation Loss: 0.2177, Validation Accuracy: 92.02%\n",
      "Epoch 20/20:\n",
      "Train Loss: 0.2213, Train Accuracy: 92.11%\n",
      "Validation Loss: 0.2160, Validation Accuracy: 92.19%\n"
     ]
    }
   ],
   "source": [
    "import argparse\n",
    "import torch\n",
    "import torch.nn as nn\n",
    "import torch.optim as optim\n",
    "from torch.utils.data import DataLoader\n",
    "from torchvision import datasets, transforms\n",
    "from datetime import datetime\n",
    "import wandb\n",
    "\n",
    "\n",
    "def get_fashion_mnist_data():\n",
    "    transform = transforms.Compose([\n",
    "        transforms.RandomHorizontalFlip(),  # 수평 반전 추가\n",
    "        transforms.RandomRotation(10),     # 회전 추가\n",
    "        transforms.ToTensor(),\n",
    "        transforms.Normalize((0.5,), (0.5,))\n",
    "    ])\n",
    "    \n",
    "    train_dataset = datasets.FashionMNIST(root=\"./data\", train=True, download=True, transform=transform)\n",
    "    validation_dataset = datasets.FashionMNIST(root=\"./data\", train=False, download=True, transform=transforms.Compose([\n",
    "        transforms.ToTensor(),\n",
    "        transforms.Normalize((0.5,), (0.5,))\n",
    "    ]))\n",
    "    \n",
    "    train_data_loader = DataLoader(train_dataset, batch_size=512, shuffle=True)  # Batch Size 감소\n",
    "    validation_data_loader = DataLoader(validation_dataset, batch_size=512, shuffle=False)\n",
    "    \n",
    "    return train_data_loader, validation_data_loader\n",
    "\n",
    "\n",
    "def get_my_cnn_model():\n",
    "    model = nn.Sequential(\n",
    "        nn.Conv2d(1, 32, kernel_size=3, padding=1),\n",
    "        nn.BatchNorm2d(32),\n",
    "        nn.ReLU(),\n",
    "        nn.MaxPool2d(2),\n",
    "        nn.Conv2d(32, 64, kernel_size=3, padding=1),\n",
    "        nn.BatchNorm2d(64),\n",
    "        nn.ReLU(),\n",
    "        nn.MaxPool2d(2),\n",
    "        nn.Flatten(),\n",
    "        nn.Linear(64 * 7 * 7, 256),\n",
    "        nn.BatchNorm1d(256),\n",
    "        nn.ReLU(),\n",
    "        nn.Dropout(0.5),  # Dropout 추가\n",
    "        nn.Linear(256, 128),\n",
    "        nn.BatchNorm1d(128),\n",
    "        nn.ReLU(),\n",
    "        nn.Dropout(0.5),  # Dropout 추가\n",
    "        nn.Linear(128, 10)\n",
    "    )\n",
    "    return model\n",
    "\n",
    "\n",
    "class ClassificationTrainer:\n",
    "    def __init__(self, project_name, model, optimizer, train_data_loader, validation_data_loader, device):\n",
    "        self.project_name = project_name\n",
    "        self.model = model\n",
    "        self.optimizer = optimizer\n",
    "        self.train_data_loader = train_data_loader\n",
    "        self.validation_data_loader = validation_data_loader\n",
    "        self.device = device\n",
    "        self.criterion = nn.CrossEntropyLoss()\n",
    "\n",
    "    def do_train(self):\n",
    "        self.model.train()\n",
    "        total_loss = 0\n",
    "        correct = 0\n",
    "        total = 0\n",
    "\n",
    "        for inputs, labels in self.train_data_loader:\n",
    "            inputs, labels = inputs.to(self.device), labels.to(self.device)\n",
    "\n",
    "            outputs = self.model(inputs)\n",
    "            loss = self.criterion(outputs, labels)\n",
    "\n",
    "            self.optimizer.zero_grad()\n",
    "            loss.backward()\n",
    "            self.optimizer.step()\n",
    "\n",
    "            total_loss += loss.item()\n",
    "            _, predicted = outputs.max(1)\n",
    "            correct += (predicted == labels).sum().item()\n",
    "            total += labels.size(0)\n",
    "\n",
    "        accuracy = 100 * correct / total\n",
    "        average_loss = total_loss / len(self.train_data_loader)\n",
    "        return average_loss, accuracy\n",
    "\n",
    "    def do_validation(self):\n",
    "        self.model.eval()\n",
    "        total_loss = 0\n",
    "        correct = 0\n",
    "        total = 0\n",
    "\n",
    "        with torch.no_grad():\n",
    "            for inputs, labels in self.validation_data_loader:\n",
    "                inputs, labels = inputs.to(self.device), labels.to(self.device)\n",
    "                outputs = self.model(inputs)\n",
    "                loss = self.criterion(outputs, labels)\n",
    "\n",
    "                total_loss += loss.item()\n",
    "                _, predicted = outputs.max(1)\n",
    "                correct += (predicted == labels).sum().item()\n",
    "                total += labels.size(0)\n",
    "\n",
    "        accuracy = 100 * correct / total\n",
    "        average_loss = total_loss / len(self.validation_data_loader)\n",
    "        return average_loss, accuracy\n",
    "\n",
    "    def train_loop(self, epochs):\n",
    "        for epoch in range(epochs):\n",
    "            train_loss, train_accuracy = self.do_train()\n",
    "            val_loss, val_accuracy = self.do_validation()\n",
    "\n",
    "            print(f\"Epoch {epoch + 1}/{epochs}:\")\n",
    "            print(f\"Train Loss: {train_loss:.4f}, Train Accuracy: {train_accuracy:.2f}%\")\n",
    "            print(f\"Validation Loss: {val_loss:.4f}, Validation Accuracy: {val_accuracy:.2f}%\")\n",
    "\n",
    "            wandb.log({\n",
    "                \"epoch\": epoch + 1,\n",
    "                \"train_loss\": train_loss,\n",
    "                \"train_accuracy\": train_accuracy,\n",
    "                \"val_loss\": val_loss,\n",
    "                \"val_accuracy\": val_accuracy\n",
    "            })\n",
    "\n",
    "\n",
    "def main():\n",
    "    wandb.init(project=\"cnn_fashion_mnist\", config={\n",
    "        \"epochs\": 20,\n",
    "        \"batch_size\": 512,\n",
    "        \"learning_rate\": 0.0005,  # Learning Rate 감소\n",
    "        \"optimizer\": \"Adam\"\n",
    "    })\n",
    "\n",
    "    config = wandb.config\n",
    "    device = torch.device(\"cuda\" if torch.cuda.is_available() else \"cpu\")\n",
    "\n",
    "    train_data_loader, validation_data_loader = get_fashion_mnist_data()\n",
    "    model = get_my_cnn_model()\n",
    "    model.to(device)\n",
    "\n",
    "    optimizer = optim.Adam(model.parameters(), lr=config.learning_rate)\n",
    "\n",
    "    trainer = ClassificationTrainer(\n",
    "        project_name=\"cnn_fashion_mnist\",\n",
    "        model=model,\n",
    "        optimizer=optimizer,\n",
    "        train_data_loader=train_data_loader,\n",
    "        validation_data_loader=validation_data_loader,\n",
    "        device=device\n",
    "    )\n",
    "\n",
    "    trainer.train_loop(config.epochs)\n",
    "\n",
    "\n",
    "if __name__ == \"__main__\":\n",
    "    main()\n"
   ]
  },
  {
   "cell_type": "markdown",
   "metadata": {
    "id": "qDvl1rjrrsei"
   },
   "source": [
    "##### train3 - weight_decay 0.02"
   ]
  },
  {
   "cell_type": "code",
   "execution_count": 6,
   "metadata": {
    "colab": {
     "base_uri": "https://localhost:8080/",
     "referenced_widgets": [
      "757d3e8bcc9248f0a1815d310edf654e",
      "6991d8e83063405fb309a833d66d8a50",
      "563d7edd603a470c8fa312edd32e5ac0",
      "1a1254e2f0d64842bbab09982f4673fe",
      "9d4b59bc72cd482493c2d8e15fe71c67",
      "e13bd9ee42b4469b9471c99462ff5cce",
      "9d39112c554146ee9e3568857c66096f",
      "2231b64f4e774d339af18f5d7d964785"
     ]
    },
    "executionInfo": {
     "elapsed": 532395,
     "status": "ok",
     "timestamp": 1700282380857,
     "user": {
      "displayName": "NULL JO",
      "userId": "17442773596076107047"
     },
     "user_tz": -540
    },
    "id": "m36jzR1CrwN2",
    "outputId": "e52d9083-3c68-4c34-da24-7edc30b8fa4c"
   },
   "outputs": [
    {
     "data": {
      "text/html": [
       "Finishing last run (ID:r80ogx2y) before initializing another..."
      ],
      "text/plain": [
       "<IPython.core.display.HTML object>"
      ]
     },
     "metadata": {},
     "output_type": "display_data"
    },
    {
     "data": {
      "text/html": [
       "\n",
       "    <style>\n",
       "        .wandb-row {\n",
       "            display: flex;\n",
       "            flex-direction: row;\n",
       "            flex-wrap: wrap;\n",
       "            justify-content: flex-start;\n",
       "            width: 100%;\n",
       "        }\n",
       "        .wandb-col {\n",
       "            display: flex;\n",
       "            flex-direction: column;\n",
       "            flex-basis: 100%;\n",
       "            flex: 1;\n",
       "            padding: 10px;\n",
       "        }\n",
       "    </style>\n",
       "<div class=\"wandb-row\"><div class=\"wandb-col\"><h3>Run history:</h3><br/><table class=\"wandb\"><tr><td>epoch</td><td>▁▁▂▂▂▃▃▄▄▄▅▅▅▆▆▇▇▇██</td></tr><tr><td>train_accuracy</td><td>▁▅▆▆▇▇▇▇▇▇▇▇████████</td></tr><tr><td>train_loss</td><td>█▄▃▃▂▂▂▂▂▂▁▁▁▁▁▁▁▁▁▁</td></tr><tr><td>val_accuracy</td><td>▁▃▄▅▆▆▆▇▇▇▇▇▇▇▇█████</td></tr><tr><td>val_loss</td><td>█▅▄▃▃▂▂▂▂▂▂▂▁▁▁▁▁▁▁▁</td></tr></table><br/></div><div class=\"wandb-col\"><h3>Run summary:</h3><br/><table class=\"wandb\"><tr><td>epoch</td><td>20</td></tr><tr><td>train_accuracy</td><td>92.11333</td></tr><tr><td>train_loss</td><td>0.22134</td></tr><tr><td>val_accuracy</td><td>92.19</td></tr><tr><td>val_loss</td><td>0.21596</td></tr></table><br/></div></div>"
      ],
      "text/plain": [
       "<IPython.core.display.HTML object>"
      ]
     },
     "metadata": {},
     "output_type": "display_data"
    },
    {
     "data": {
      "text/html": [
       " View run <strong style=\"color:#cdcd00\">charmed-eon-68</strong> at: <a href='https://wandb.ai/choo0412-korea-university-of-technology-and-education/cnn_fashion_mnist/runs/r80ogx2y' target=\"_blank\">https://wandb.ai/choo0412-korea-university-of-technology-and-education/cnn_fashion_mnist/runs/r80ogx2y</a><br/> View project at: <a href='https://wandb.ai/choo0412-korea-university-of-technology-and-education/cnn_fashion_mnist' target=\"_blank\">https://wandb.ai/choo0412-korea-university-of-technology-and-education/cnn_fashion_mnist</a><br/>Synced 5 W&B file(s), 0 media file(s), 0 artifact file(s) and 0 other file(s)"
      ],
      "text/plain": [
       "<IPython.core.display.HTML object>"
      ]
     },
     "metadata": {},
     "output_type": "display_data"
    },
    {
     "data": {
      "text/html": [
       "Find logs at: <code>./wandb/run-20241116_140836-r80ogx2y/logs</code>"
      ],
      "text/plain": [
       "<IPython.core.display.HTML object>"
      ]
     },
     "metadata": {},
     "output_type": "display_data"
    },
    {
     "data": {
      "text/html": [
       "Successfully finished last run (ID:r80ogx2y). Initializing new run:<br/>"
      ],
      "text/plain": [
       "<IPython.core.display.HTML object>"
      ]
     },
     "metadata": {},
     "output_type": "display_data"
    },
    {
     "data": {
      "text/html": [
       "Tracking run with wandb version 0.18.7"
      ],
      "text/plain": [
       "<IPython.core.display.HTML object>"
      ]
     },
     "metadata": {},
     "output_type": "display_data"
    },
    {
     "data": {
      "text/html": [
       "Run data is saved locally in <code>/home/work/dl_choo/wandb/run-20241116_141730-mmy0bx9w</code>"
      ],
      "text/plain": [
       "<IPython.core.display.HTML object>"
      ]
     },
     "metadata": {},
     "output_type": "display_data"
    },
    {
     "data": {
      "text/html": [
       "Syncing run <strong><a href='https://wandb.ai/choo0412-korea-university-of-technology-and-education/cnn_fashion_mnist/runs/mmy0bx9w' target=\"_blank\">weight_decay_0.020__2024-11-16_14-17-30</a></strong> to <a href='https://wandb.ai/choo0412-korea-university-of-technology-and-education/cnn_fashion_mnist' target=\"_blank\">Weights & Biases</a> (<a href='https://wandb.me/developer-guide' target=\"_blank\">docs</a>)<br/>"
      ],
      "text/plain": [
       "<IPython.core.display.HTML object>"
      ]
     },
     "metadata": {},
     "output_type": "display_data"
    },
    {
     "data": {
      "text/html": [
       " View project at <a href='https://wandb.ai/choo0412-korea-university-of-technology-and-education/cnn_fashion_mnist' target=\"_blank\">https://wandb.ai/choo0412-korea-university-of-technology-and-education/cnn_fashion_mnist</a>"
      ],
      "text/plain": [
       "<IPython.core.display.HTML object>"
      ]
     },
     "metadata": {},
     "output_type": "display_data"
    },
    {
     "data": {
      "text/html": [
       " View run at <a href='https://wandb.ai/choo0412-korea-university-of-technology-and-education/cnn_fashion_mnist/runs/mmy0bx9w' target=\"_blank\">https://wandb.ai/choo0412-korea-university-of-technology-and-education/cnn_fashion_mnist/runs/mmy0bx9w</a>"
      ],
      "text/plain": [
       "<IPython.core.display.HTML object>"
      ]
     },
     "metadata": {},
     "output_type": "display_data"
    },
    {
     "name": "stdout",
     "output_type": "stream",
     "text": [
      "Training on device cuda:0.\n",
      "Optimizer: Adam (\n",
      "Parameter Group 0\n",
      "    amsgrad: False\n",
      "    betas: (0.9, 0.999)\n",
      "    capturable: False\n",
      "    differentiable: False\n",
      "    eps: 1e-08\n",
      "    foreach: None\n",
      "    fused: None\n",
      "    lr: 0.001\n",
      "    maximize: False\n",
      "    weight_decay: 0.02\n",
      ")\n",
      "Epoch 1/20:\n",
      "Train Loss: 0.7243, Train Accuracy: 77.99%\n",
      "Validation Loss: 0.4664, Validation Accuracy: 85.97%\n",
      "Epoch 2/20:\n",
      "Train Loss: 0.4772, Train Accuracy: 84.94%\n",
      "Validation Loss: 0.4826, Validation Accuracy: 83.91%\n",
      "Epoch 3/20:\n",
      "Train Loss: 0.4541, Train Accuracy: 85.92%\n",
      "Validation Loss: 0.4338, Validation Accuracy: 85.91%\n",
      "Epoch 4/20:\n",
      "Train Loss: 0.4490, Train Accuracy: 86.33%\n",
      "Validation Loss: 0.3939, Validation Accuracy: 87.52%\n",
      "Epoch 5/20:\n",
      "Train Loss: 0.4492, Train Accuracy: 86.59%\n",
      "Validation Loss: 0.5014, Validation Accuracy: 82.71%\n",
      "Epoch 6/20:\n",
      "Train Loss: 0.4504, Train Accuracy: 87.03%\n",
      "Validation Loss: 0.4323, Validation Accuracy: 86.52%\n",
      "Epoch 7/20:\n",
      "Train Loss: 0.4545, Train Accuracy: 87.02%\n",
      "Validation Loss: 0.3885, Validation Accuracy: 88.62%\n",
      "Epoch 8/20:\n",
      "Train Loss: 0.4578, Train Accuracy: 87.12%\n",
      "Validation Loss: 0.4211, Validation Accuracy: 87.90%\n",
      "Epoch 9/20:\n",
      "Train Loss: 0.4579, Train Accuracy: 87.27%\n",
      "Validation Loss: 0.4030, Validation Accuracy: 88.63%\n",
      "Epoch 10/20:\n",
      "Train Loss: 0.4567, Train Accuracy: 87.55%\n",
      "Validation Loss: 0.4634, Validation Accuracy: 87.26%\n",
      "Epoch 11/20:\n",
      "Train Loss: 0.4567, Train Accuracy: 87.48%\n",
      "Validation Loss: 0.4386, Validation Accuracy: 87.73%\n",
      "Epoch 12/20:\n",
      "Train Loss: 0.4519, Train Accuracy: 87.89%\n",
      "Validation Loss: 0.4060, Validation Accuracy: 87.14%\n",
      "Epoch 13/20:\n",
      "Train Loss: 0.4485, Train Accuracy: 87.88%\n",
      "Validation Loss: 0.3686, Validation Accuracy: 89.60%\n",
      "Epoch 14/20:\n",
      "Train Loss: 0.4462, Train Accuracy: 88.12%\n",
      "Validation Loss: 0.4098, Validation Accuracy: 87.85%\n",
      "Epoch 15/20:\n",
      "Train Loss: 0.4468, Train Accuracy: 88.09%\n",
      "Validation Loss: 0.3816, Validation Accuracy: 88.94%\n",
      "Epoch 16/20:\n",
      "Train Loss: 0.4425, Train Accuracy: 88.13%\n",
      "Validation Loss: 0.3999, Validation Accuracy: 88.73%\n",
      "Epoch 17/20:\n",
      "Train Loss: 0.4432, Train Accuracy: 88.24%\n",
      "Validation Loss: 0.3448, Validation Accuracy: 90.02%\n",
      "Epoch 18/20:\n",
      "Train Loss: 0.4415, Train Accuracy: 88.22%\n",
      "Validation Loss: 0.3864, Validation Accuracy: 89.61%\n",
      "Epoch 19/20:\n",
      "Train Loss: 0.4405, Train Accuracy: 88.31%\n",
      "Validation Loss: 0.3468, Validation Accuracy: 89.24%\n",
      "Epoch 20/20:\n",
      "Train Loss: 0.4397, Train Accuracy: 88.41%\n",
      "Validation Loss: 0.4057, Validation Accuracy: 87.52%\n"
     ]
    },
    {
     "data": {
      "text/html": [
       "\n",
       "    <style>\n",
       "        .wandb-row {\n",
       "            display: flex;\n",
       "            flex-direction: row;\n",
       "            flex-wrap: wrap;\n",
       "            justify-content: flex-start;\n",
       "            width: 100%;\n",
       "        }\n",
       "        .wandb-col {\n",
       "            display: flex;\n",
       "            flex-direction: column;\n",
       "            flex-basis: 100%;\n",
       "            flex: 1;\n",
       "            padding: 10px;\n",
       "        }\n",
       "    </style>\n",
       "<div class=\"wandb-row\"><div class=\"wandb-col\"><h3>Run history:</h3><br/><table class=\"wandb\"><tr><td>epoch</td><td>▁▁▂▂▂▃▃▄▄▄▅▅▅▆▆▇▇▇██</td></tr><tr><td>train_accuracy</td><td>▁▆▆▇▇▇▇▇▇▇▇█████████</td></tr><tr><td>train_loss</td><td>█▂▁▁▁▁▁▁▁▁▁▁▁▁▁▁▁▁▁▁</td></tr><tr><td>val_accuracy</td><td>▄▂▄▆▁▅▇▆▇▅▆▅█▆▇▇██▇▆</td></tr><tr><td>val_loss</td><td>▆▇▅▃█▅▃▄▄▆▅▄▂▄▃▃▁▃▁▄</td></tr></table><br/></div><div class=\"wandb-col\"><h3>Run summary:</h3><br/><table class=\"wandb\"><tr><td>epoch</td><td>20</td></tr><tr><td>train_accuracy</td><td>88.40667</td></tr><tr><td>train_loss</td><td>0.43974</td></tr><tr><td>val_accuracy</td><td>87.52</td></tr><tr><td>val_loss</td><td>0.40572</td></tr></table><br/></div></div>"
      ],
      "text/plain": [
       "<IPython.core.display.HTML object>"
      ]
     },
     "metadata": {},
     "output_type": "display_data"
    },
    {
     "data": {
      "text/html": [
       " View run <strong style=\"color:#cdcd00\">weight_decay_0.020__2024-11-16_14-17-30</strong> at: <a href='https://wandb.ai/choo0412-korea-university-of-technology-and-education/cnn_fashion_mnist/runs/mmy0bx9w' target=\"_blank\">https://wandb.ai/choo0412-korea-university-of-technology-and-education/cnn_fashion_mnist/runs/mmy0bx9w</a><br/> View project at: <a href='https://wandb.ai/choo0412-korea-university-of-technology-and-education/cnn_fashion_mnist' target=\"_blank\">https://wandb.ai/choo0412-korea-university-of-technology-and-education/cnn_fashion_mnist</a><br/>Synced 5 W&B file(s), 0 media file(s), 0 artifact file(s) and 0 other file(s)"
      ],
      "text/plain": [
       "<IPython.core.display.HTML object>"
      ]
     },
     "metadata": {},
     "output_type": "display_data"
    },
    {
     "data": {
      "text/html": [
       "Find logs at: <code>./wandb/run-20241116_141730-mmy0bx9w/logs</code>"
      ],
      "text/plain": [
       "<IPython.core.display.HTML object>"
      ]
     },
     "metadata": {},
     "output_type": "display_data"
    }
   ],
   "source": [
    "import argparse\n",
    "import torch\n",
    "import torch.nn as nn\n",
    "import torch.optim as optim\n",
    "from torch.utils.data import DataLoader\n",
    "from torchvision import datasets, transforms\n",
    "from datetime import datetime\n",
    "import wandb\n",
    "\n",
    "\n",
    "def get_parser():\n",
    "    parser = argparse.ArgumentParser(description=\"Train a CNN model on Fashion MNIST with weight decay.\")\n",
    "    parser.add_argument(\"--wandb\", action=\"store_true\", help=\"Enable WandB logging\")\n",
    "    parser.add_argument(\"-b\", \"--batch_size\", type=int, default=1024, help=\"Batch size\")\n",
    "    parser.add_argument(\"-r\", \"--learning_rate\", type=float, default=1e-3, help=\"Learning rate\")\n",
    "    parser.add_argument(\"-v\", \"--epochs\", type=int, default=5, help=\"Number of epochs\")\n",
    "    parser.add_argument(\"-o\", \"--optimizer\", type=int, choices=range(4), default=0, help=\"Optimizer (0: SGD, 1: Momentum, 2: RMSProp, 3: Adam)\")\n",
    "    parser.add_argument(\"-p\", \"--early_stop_patience\", type=int, default=10, help=\"Patience for early stopping\")\n",
    "    parser.add_argument(\"-d\", \"--early_stop_delta\", type=float, default=1e-5, help=\"Delta for early stopping\")\n",
    "    parser.add_argument(\"-w\", \"--weight_decay\", type=float, default=0.0, help=\"Weight decay (L2 regularization)\")\n",
    "    parser.add_argument(\"--validation_intervals\", type=int, default=1, help=\"Validation interval epochs\")\n",
    "    return parser\n",
    "\n",
    "\n",
    "def get_fashion_mnist_data():\n",
    "    transform = transforms.Compose([\n",
    "        transforms.RandomHorizontalFlip(),\n",
    "        transforms.RandomRotation(10),\n",
    "        transforms.ToTensor(),\n",
    "        transforms.Normalize((0.5,), (0.5,))\n",
    "    ])\n",
    "\n",
    "    train_dataset = datasets.FashionMNIST(root=\"./data\", train=True, download=True, transform=transform)\n",
    "    validation_dataset = datasets.FashionMNIST(root=\"./data\", train=False, download=True, transform=transforms.Compose([\n",
    "        transforms.ToTensor(),\n",
    "        transforms.Normalize((0.5,), (0.5,))\n",
    "    ]))\n",
    "\n",
    "    train_data_loader = DataLoader(train_dataset, batch_size=512, shuffle=True)\n",
    "    validation_data_loader = DataLoader(validation_dataset, batch_size=512, shuffle=False)\n",
    "\n",
    "    return train_data_loader, validation_data_loader, transform\n",
    "\n",
    "\n",
    "def get_my_cnn_model():\n",
    "    model = nn.Sequential(\n",
    "        nn.Conv2d(1, 32, kernel_size=3, padding=1),\n",
    "        nn.BatchNorm2d(32),\n",
    "        nn.ReLU(),\n",
    "        nn.MaxPool2d(2),\n",
    "        nn.Conv2d(32, 64, kernel_size=3, padding=1),\n",
    "        nn.BatchNorm2d(64),\n",
    "        nn.ReLU(),\n",
    "        nn.MaxPool2d(2),\n",
    "        nn.Flatten(),\n",
    "        nn.Linear(64 * 7 * 7, 256),\n",
    "        nn.BatchNorm1d(256),\n",
    "        nn.ReLU(),\n",
    "        nn.Dropout(0.5),\n",
    "        nn.Linear(256, 128),\n",
    "        nn.BatchNorm1d(128),\n",
    "        nn.ReLU(),\n",
    "        nn.Dropout(0.5),\n",
    "        nn.Linear(128, 10)\n",
    "    )\n",
    "    return model\n",
    "\n",
    "\n",
    "class ClassificationTrainer:\n",
    "    def __init__(self, project_name, model, optimizer, train_data_loader, validation_data_loader, transforms,\n",
    "                 run_time_str, wandb, device, checkpoint_file_path):\n",
    "        self.project_name = project_name\n",
    "        self.model = model\n",
    "        self.optimizer = optimizer\n",
    "        self.train_data_loader = train_data_loader\n",
    "        self.validation_data_loader = validation_data_loader\n",
    "        self.transforms = transforms\n",
    "        self.run_time_str = run_time_str\n",
    "        self.wandb = wandb\n",
    "        self.device = device\n",
    "        self.checkpoint_file_path = checkpoint_file_path\n",
    "        self.criterion = nn.CrossEntropyLoss()\n",
    "\n",
    "    def do_train(self):\n",
    "        self.model.train()\n",
    "        total_loss = 0\n",
    "        correct = 0\n",
    "        total = 0\n",
    "\n",
    "        for inputs, labels in self.train_data_loader:\n",
    "            inputs, labels = inputs.to(self.device), labels.to(self.device)\n",
    "\n",
    "            outputs = self.model(inputs)\n",
    "            loss = self.criterion(outputs, labels)\n",
    "\n",
    "            self.optimizer.zero_grad()\n",
    "            loss.backward()\n",
    "            self.optimizer.step()\n",
    "\n",
    "            total_loss += loss.item()\n",
    "            _, predicted = outputs.max(1)\n",
    "            correct += (predicted == labels).sum().item()\n",
    "            total += labels.size(0)\n",
    "\n",
    "        accuracy = 100 * correct / total\n",
    "        average_loss = total_loss / len(self.train_data_loader)\n",
    "        return average_loss, accuracy\n",
    "\n",
    "    def do_validation(self):\n",
    "        self.model.eval()\n",
    "        total_loss = 0\n",
    "        correct = 0\n",
    "        total = 0\n",
    "\n",
    "        with torch.no_grad():\n",
    "            for inputs, labels in self.validation_data_loader:\n",
    "                inputs, labels = inputs.to(self.device), labels.to(self.device)\n",
    "                outputs = self.model(inputs)\n",
    "                loss = self.criterion(outputs, labels)\n",
    "\n",
    "                total_loss += loss.item()\n",
    "                _, predicted = outputs.max(1)\n",
    "                correct += (predicted == labels).sum().item()\n",
    "                total += labels.size(0)\n",
    "\n",
    "        accuracy = 100 * correct / total\n",
    "        average_loss = total_loss / len(self.validation_data_loader)\n",
    "        return average_loss, accuracy\n",
    "\n",
    "    def train_loop(self):\n",
    "        for epoch in range(self.wandb.config.epochs):\n",
    "            train_loss, train_accuracy = self.do_train()\n",
    "            val_loss, val_accuracy = self.do_validation()\n",
    "\n",
    "            print(f\"Epoch {epoch + 1}/{self.wandb.config.epochs}:\")\n",
    "            print(f\"Train Loss: {train_loss:.4f}, Train Accuracy: {train_accuracy:.2f}%\")\n",
    "            print(f\"Validation Loss: {val_loss:.4f}, Validation Accuracy: {val_accuracy:.2f}%\")\n",
    "\n",
    "            self.wandb.log({\n",
    "                \"epoch\": epoch + 1,\n",
    "                \"train_loss\": train_loss,\n",
    "                \"train_accuracy\": train_accuracy,\n",
    "                \"val_loss\": val_loss,\n",
    "                \"val_accuracy\": val_accuracy\n",
    "            })\n",
    "\n",
    "\n",
    "def main(args):\n",
    "    config = {\n",
    "        'epochs': args.epochs,\n",
    "        'batch_size': args.batch_size,\n",
    "        'validation_intervals': args.validation_intervals,\n",
    "        'learning_rate': args.learning_rate,\n",
    "        'early_stop_patience': args.early_stop_patience,\n",
    "        'early_stop_delta': args.early_stop_delta,\n",
    "        'weight_decay': args.weight_decay\n",
    "    }\n",
    "\n",
    "    technique_name = f\"weight_decay_{args.weight_decay:.3f}_\"\n",
    "    run_time_str = datetime.now().astimezone().strftime('%Y-%m-%d_%H-%M-%S')\n",
    "    name = f\"{technique_name}_{run_time_str}\"\n",
    "\n",
    "    project_name = \"cnn_fashion_mnist\"\n",
    "    wandb.init(\n",
    "        mode=\"online\" if args.wandb else \"disabled\",\n",
    "        project=project_name,\n",
    "        notes=\"Experiment with weight decay\",\n",
    "        tags=[\"cnn\", \"fashion_mnist\"],\n",
    "        name=name,\n",
    "        config=config\n",
    "    )\n",
    "\n",
    "    device = torch.device(\"cuda:0\" if torch.cuda.is_available() else \"cpu\")\n",
    "    print(f\"Training on device {device}.\")\n",
    "\n",
    "    train_data_loader, validation_data_loader, fmnist_transforms = get_fashion_mnist_data()\n",
    "    model = get_my_cnn_model()\n",
    "    model.to(device)\n",
    "    wandb.watch(model)\n",
    "\n",
    "    optimizers = [\n",
    "        optim.SGD(model.parameters(), lr=wandb.config.learning_rate),\n",
    "        optim.SGD(model.parameters(), lr=wandb.config.learning_rate, momentum=0.9),\n",
    "        optim.RMSprop(model.parameters(), lr=wandb.config.learning_rate),\n",
    "        optim.Adam(model.parameters(), lr=wandb.config.learning_rate, weight_decay=args.weight_decay)\n",
    "    ]\n",
    "    print(\"Optimizer:\", optimizers[args.optimizer])\n",
    "\n",
    "    trainer = ClassificationTrainer(\n",
    "        project_name, model, optimizers[args.optimizer], train_data_loader, validation_data_loader,\n",
    "        fmnist_transforms, run_time_str, wandb, device, \"checkpoint.pth\"\n",
    "    )\n",
    "    trainer.train_loop()\n",
    "\n",
    "    wandb.finish()\n",
    "\n",
    "\n",
    "if __name__ == \"__main__\":\n",
    "    args_str = \"--wandb -v 20 -o 3 -w 0.02\"\n",
    "    args_list = args_str.split()\n",
    "\n",
    "    parser = get_parser()\n",
    "    args = parser.parse_args(args_list)\n",
    "    main(args)\n"
   ]
  },
  {
   "cell_type": "markdown",
   "metadata": {
    "id": "6yMfRNHZu6Zo"
   },
   "source": [
    "##### train 3 - weight_decay 0.002"
   ]
  },
  {
   "cell_type": "code",
   "execution_count": 7,
   "metadata": {
    "colab": {
     "base_uri": "https://localhost:8080/",
     "referenced_widgets": [
      "390e9bab219e4d1d9294eca85e439878",
      "9f5291d6304e46d894a57857ee3b9faf",
      "fff3efbbee044447b886980a1f6d31a9",
      "bf41df9671744572a3ea8366f08806b3",
      "8aa887aaacfe406fa7d5ed96dc08ce86",
      "c13c009219bc4595ac049e1e11c9d087",
      "aa72babaeeeb43e0b15f17c65e35a349",
      "29d1d0ed8bb847fe9bba6da5e211b389"
     ]
    },
    "executionInfo": {
     "elapsed": 634806,
     "status": "ok",
     "timestamp": 1700283148856,
     "user": {
      "displayName": "NULL JO",
      "userId": "17442773596076107047"
     },
     "user_tz": -540
    },
    "id": "_0LtQscLu_E8",
    "outputId": "2f91b0f1-4195-448d-b8e4-55f66b46d3dd"
   },
   "outputs": [
    {
     "data": {
      "text/html": [
       "Tracking run with wandb version 0.18.7"
      ],
      "text/plain": [
       "<IPython.core.display.HTML object>"
      ]
     },
     "metadata": {},
     "output_type": "display_data"
    },
    {
     "data": {
      "text/html": [
       "Run data is saved locally in <code>/home/work/dl_choo/wandb/run-20241116_142316-yvgcqz31</code>"
      ],
      "text/plain": [
       "<IPython.core.display.HTML object>"
      ]
     },
     "metadata": {},
     "output_type": "display_data"
    },
    {
     "data": {
      "text/html": [
       "Syncing run <strong><a href='https://wandb.ai/choo0412-korea-university-of-technology-and-education/cnn_fashion_mnist/runs/yvgcqz31' target=\"_blank\">weight_decay_0.002__2024-11-16_14-23-16</a></strong> to <a href='https://wandb.ai/choo0412-korea-university-of-technology-and-education/cnn_fashion_mnist' target=\"_blank\">Weights & Biases</a> (<a href='https://wandb.me/developer-guide' target=\"_blank\">docs</a>)<br/>"
      ],
      "text/plain": [
       "<IPython.core.display.HTML object>"
      ]
     },
     "metadata": {},
     "output_type": "display_data"
    },
    {
     "data": {
      "text/html": [
       " View project at <a href='https://wandb.ai/choo0412-korea-university-of-technology-and-education/cnn_fashion_mnist' target=\"_blank\">https://wandb.ai/choo0412-korea-university-of-technology-and-education/cnn_fashion_mnist</a>"
      ],
      "text/plain": [
       "<IPython.core.display.HTML object>"
      ]
     },
     "metadata": {},
     "output_type": "display_data"
    },
    {
     "data": {
      "text/html": [
       " View run at <a href='https://wandb.ai/choo0412-korea-university-of-technology-and-education/cnn_fashion_mnist/runs/yvgcqz31' target=\"_blank\">https://wandb.ai/choo0412-korea-university-of-technology-and-education/cnn_fashion_mnist/runs/yvgcqz31</a>"
      ],
      "text/plain": [
       "<IPython.core.display.HTML object>"
      ]
     },
     "metadata": {},
     "output_type": "display_data"
    },
    {
     "name": "stdout",
     "output_type": "stream",
     "text": [
      "Training on device cuda:0.\n",
      "Optimizer: Adam (\n",
      "Parameter Group 0\n",
      "    amsgrad: False\n",
      "    betas: (0.9, 0.999)\n",
      "    capturable: False\n",
      "    differentiable: False\n",
      "    eps: 1e-08\n",
      "    foreach: None\n",
      "    fused: None\n",
      "    lr: 0.001\n",
      "    maximize: False\n",
      "    weight_decay: 0.002\n",
      ")\n",
      "Epoch 1/20:\n",
      "Train Loss: 0.6862, Train Accuracy: 79.14%\n",
      "Validation Loss: 0.4073, Validation Accuracy: 85.58%\n",
      "Epoch 2/20:\n",
      "Train Loss: 0.4087, Train Accuracy: 86.58%\n",
      "Validation Loss: 0.3347, Validation Accuracy: 87.95%\n",
      "Epoch 3/20:\n",
      "Train Loss: 0.3679, Train Accuracy: 87.56%\n",
      "Validation Loss: 0.2974, Validation Accuracy: 89.12%\n",
      "Epoch 4/20:\n",
      "Train Loss: 0.3442, Train Accuracy: 88.35%\n",
      "Validation Loss: 0.2735, Validation Accuracy: 90.24%\n",
      "Epoch 5/20:\n",
      "Train Loss: 0.3317, Train Accuracy: 88.72%\n",
      "Validation Loss: 0.2704, Validation Accuracy: 90.05%\n",
      "Epoch 6/20:\n",
      "Train Loss: 0.3214, Train Accuracy: 89.13%\n",
      "Validation Loss: 0.2789, Validation Accuracy: 89.85%\n",
      "Epoch 7/20:\n",
      "Train Loss: 0.3172, Train Accuracy: 89.16%\n",
      "Validation Loss: 0.2547, Validation Accuracy: 90.89%\n",
      "Epoch 8/20:\n",
      "Train Loss: 0.3152, Train Accuracy: 89.31%\n",
      "Validation Loss: 0.2602, Validation Accuracy: 90.50%\n",
      "Epoch 9/20:\n",
      "Train Loss: 0.3088, Train Accuracy: 89.66%\n",
      "Validation Loss: 0.2613, Validation Accuracy: 90.56%\n",
      "Epoch 10/20:\n",
      "Train Loss: 0.3005, Train Accuracy: 89.83%\n",
      "Validation Loss: 0.2471, Validation Accuracy: 91.01%\n",
      "Epoch 11/20:\n",
      "Train Loss: 0.2985, Train Accuracy: 90.03%\n",
      "Validation Loss: 0.2436, Validation Accuracy: 91.27%\n",
      "Epoch 12/20:\n",
      "Train Loss: 0.2908, Train Accuracy: 90.11%\n",
      "Validation Loss: 0.2505, Validation Accuracy: 90.67%\n",
      "Epoch 13/20:\n",
      "Train Loss: 0.2889, Train Accuracy: 90.35%\n",
      "Validation Loss: 0.2587, Validation Accuracy: 90.73%\n",
      "Epoch 14/20:\n",
      "Train Loss: 0.2887, Train Accuracy: 90.24%\n",
      "Validation Loss: 0.2363, Validation Accuracy: 91.37%\n",
      "Epoch 15/20:\n",
      "Train Loss: 0.2871, Train Accuracy: 90.35%\n",
      "Validation Loss: 0.2366, Validation Accuracy: 91.42%\n",
      "Epoch 16/20:\n",
      "Train Loss: 0.2820, Train Accuracy: 90.63%\n",
      "Validation Loss: 0.2371, Validation Accuracy: 91.46%\n",
      "Epoch 17/20:\n",
      "Train Loss: 0.2791, Train Accuracy: 90.65%\n",
      "Validation Loss: 0.2475, Validation Accuracy: 90.80%\n",
      "Epoch 18/20:\n",
      "Train Loss: 0.2785, Train Accuracy: 90.61%\n",
      "Validation Loss: 0.2335, Validation Accuracy: 91.36%\n",
      "Epoch 19/20:\n",
      "Train Loss: 0.2787, Train Accuracy: 90.69%\n",
      "Validation Loss: 0.2430, Validation Accuracy: 91.03%\n",
      "Epoch 20/20:\n",
      "Train Loss: 0.2739, Train Accuracy: 90.88%\n",
      "Validation Loss: 0.2236, Validation Accuracy: 92.06%\n"
     ]
    },
    {
     "data": {
      "text/html": [
       "\n",
       "    <style>\n",
       "        .wandb-row {\n",
       "            display: flex;\n",
       "            flex-direction: row;\n",
       "            flex-wrap: wrap;\n",
       "            justify-content: flex-start;\n",
       "            width: 100%;\n",
       "        }\n",
       "        .wandb-col {\n",
       "            display: flex;\n",
       "            flex-direction: column;\n",
       "            flex-basis: 100%;\n",
       "            flex: 1;\n",
       "            padding: 10px;\n",
       "        }\n",
       "    </style>\n",
       "<div class=\"wandb-row\"><div class=\"wandb-col\"><h3>Run history:</h3><br/><table class=\"wandb\"><tr><td>epoch</td><td>▁▁▂▂▂▃▃▄▄▄▅▅▅▆▆▇▇▇██</td></tr><tr><td>train_accuracy</td><td>▁▅▆▆▇▇▇▇▇▇▇█████████</td></tr><tr><td>train_loss</td><td>█▃▃▂▂▂▂▂▂▁▁▁▁▁▁▁▁▁▁▁</td></tr><tr><td>val_accuracy</td><td>▁▄▅▆▆▆▇▆▆▇▇▆▇▇▇▇▇▇▇█</td></tr><tr><td>val_loss</td><td>█▅▄▃▃▃▂▂▂▂▂▂▂▁▁▂▂▁▂▁</td></tr></table><br/></div><div class=\"wandb-col\"><h3>Run summary:</h3><br/><table class=\"wandb\"><tr><td>epoch</td><td>20</td></tr><tr><td>train_accuracy</td><td>90.87833</td></tr><tr><td>train_loss</td><td>0.27386</td></tr><tr><td>val_accuracy</td><td>92.06</td></tr><tr><td>val_loss</td><td>0.22364</td></tr></table><br/></div></div>"
      ],
      "text/plain": [
       "<IPython.core.display.HTML object>"
      ]
     },
     "metadata": {},
     "output_type": "display_data"
    },
    {
     "data": {
      "text/html": [
       " View run <strong style=\"color:#cdcd00\">weight_decay_0.002__2024-11-16_14-23-16</strong> at: <a href='https://wandb.ai/choo0412-korea-university-of-technology-and-education/cnn_fashion_mnist/runs/yvgcqz31' target=\"_blank\">https://wandb.ai/choo0412-korea-university-of-technology-and-education/cnn_fashion_mnist/runs/yvgcqz31</a><br/> View project at: <a href='https://wandb.ai/choo0412-korea-university-of-technology-and-education/cnn_fashion_mnist' target=\"_blank\">https://wandb.ai/choo0412-korea-university-of-technology-and-education/cnn_fashion_mnist</a><br/>Synced 5 W&B file(s), 0 media file(s), 0 artifact file(s) and 0 other file(s)"
      ],
      "text/plain": [
       "<IPython.core.display.HTML object>"
      ]
     },
     "metadata": {},
     "output_type": "display_data"
    },
    {
     "data": {
      "text/html": [
       "Find logs at: <code>./wandb/run-20241116_142316-yvgcqz31/logs</code>"
      ],
      "text/plain": [
       "<IPython.core.display.HTML object>"
      ]
     },
     "metadata": {},
     "output_type": "display_data"
    }
   ],
   "source": [
    "import argparse\n",
    "import torch\n",
    "import torch.nn as nn\n",
    "import torch.optim as optim\n",
    "from torch.utils.data import DataLoader\n",
    "from torchvision import datasets, transforms\n",
    "from datetime import datetime\n",
    "import wandb\n",
    "\n",
    "\n",
    "def get_parser():\n",
    "    parser = argparse.ArgumentParser(description=\"Train a CNN model on Fashion MNIST with weight decay.\")\n",
    "    parser.add_argument(\"--wandb\", action=\"store_true\", help=\"Enable WandB logging\")\n",
    "    parser.add_argument(\"-b\", \"--batch_size\", type=int, default=1024, help=\"Batch size\")\n",
    "    parser.add_argument(\"-r\", \"--learning_rate\", type=float, default=1e-3, help=\"Learning rate\")\n",
    "    parser.add_argument(\"-v\", \"--epochs\", type=int, default=5, help=\"Number of epochs\")\n",
    "    parser.add_argument(\"-o\", \"--optimizer\", type=int, choices=range(4), default=0, help=\"Optimizer (0: SGD, 1: Momentum, 2: RMSProp, 3: Adam)\")\n",
    "    parser.add_argument(\"-p\", \"--early_stop_patience\", type=int, default=10, help=\"Patience for early stopping\")\n",
    "    parser.add_argument(\"-d\", \"--early_stop_delta\", type=float, default=1e-5, help=\"Delta for early stopping\")\n",
    "    parser.add_argument(\"-w\", \"--weight_decay\", type=float, default=0.0, help=\"Weight decay (L2 regularization)\")\n",
    "    parser.add_argument(\"--validation_intervals\", type=int, default=1, help=\"Validation interval epochs\")\n",
    "    return parser\n",
    "\n",
    "\n",
    "def get_fashion_mnist_data():\n",
    "    transform = transforms.Compose([\n",
    "        transforms.RandomHorizontalFlip(),\n",
    "        transforms.RandomRotation(10),\n",
    "        transforms.ToTensor(),\n",
    "        transforms.Normalize((0.5,), (0.5,))\n",
    "    ])\n",
    "\n",
    "    train_dataset = datasets.FashionMNIST(root=\"./data\", train=True, download=True, transform=transform)\n",
    "    validation_dataset = datasets.FashionMNIST(root=\"./data\", train=False, download=True, transform=transforms.Compose([\n",
    "        transforms.ToTensor(),\n",
    "        transforms.Normalize((0.5,), (0.5,))\n",
    "    ]))\n",
    "\n",
    "    train_data_loader = DataLoader(train_dataset, batch_size=512, shuffle=True)\n",
    "    validation_data_loader = DataLoader(validation_dataset, batch_size=512, shuffle=False)\n",
    "\n",
    "    return train_data_loader, validation_data_loader, transform\n",
    "\n",
    "\n",
    "def get_my_cnn_model():\n",
    "    model = nn.Sequential(\n",
    "        nn.Conv2d(1, 32, kernel_size=3, padding=1),\n",
    "        nn.BatchNorm2d(32),\n",
    "        nn.ReLU(),\n",
    "        nn.MaxPool2d(2),\n",
    "        nn.Conv2d(32, 64, kernel_size=3, padding=1),\n",
    "        nn.BatchNorm2d(64),\n",
    "        nn.ReLU(),\n",
    "        nn.MaxPool2d(2),\n",
    "        nn.Flatten(),\n",
    "        nn.Linear(64 * 7 * 7, 256),\n",
    "        nn.BatchNorm1d(256),\n",
    "        nn.ReLU(),\n",
    "        nn.Dropout(0.5),\n",
    "        nn.Linear(256, 128),\n",
    "        nn.BatchNorm1d(128),\n",
    "        nn.ReLU(),\n",
    "        nn.Dropout(0.5),\n",
    "        nn.Linear(128, 10)\n",
    "    )\n",
    "    return model\n",
    "\n",
    "\n",
    "class ClassificationTrainer:\n",
    "    def __init__(self, project_name, model, optimizer, train_data_loader, validation_data_loader, transforms,\n",
    "                 run_time_str, wandb, device, checkpoint_file_path):\n",
    "        self.project_name = project_name\n",
    "        self.model = model\n",
    "        self.optimizer = optimizer\n",
    "        self.train_data_loader = train_data_loader\n",
    "        self.validation_data_loader = validation_data_loader\n",
    "        self.transforms = transforms\n",
    "        self.run_time_str = run_time_str\n",
    "        self.wandb = wandb\n",
    "        self.device = device\n",
    "        self.checkpoint_file_path = checkpoint_file_path\n",
    "        self.criterion = nn.CrossEntropyLoss()\n",
    "\n",
    "    def do_train(self):\n",
    "        self.model.train()\n",
    "        total_loss = 0\n",
    "        correct = 0\n",
    "        total = 0\n",
    "\n",
    "        for inputs, labels in self.train_data_loader:\n",
    "            inputs, labels = inputs.to(self.device), labels.to(self.device)\n",
    "\n",
    "            outputs = self.model(inputs)\n",
    "            loss = self.criterion(outputs, labels)\n",
    "\n",
    "            self.optimizer.zero_grad()\n",
    "            loss.backward()\n",
    "            self.optimizer.step()\n",
    "\n",
    "            total_loss += loss.item()\n",
    "            _, predicted = outputs.max(1)\n",
    "            correct += (predicted == labels).sum().item()\n",
    "            total += labels.size(0)\n",
    "\n",
    "        accuracy = 100 * correct / total\n",
    "        average_loss = total_loss / len(self.train_data_loader)\n",
    "        return average_loss, accuracy\n",
    "\n",
    "    def do_validation(self):\n",
    "        self.model.eval()\n",
    "        total_loss = 0\n",
    "        correct = 0\n",
    "        total = 0\n",
    "\n",
    "        with torch.no_grad():\n",
    "            for inputs, labels in self.validation_data_loader:\n",
    "                inputs, labels = inputs.to(self.device), labels.to(self.device)\n",
    "                outputs = self.model(inputs)\n",
    "                loss = self.criterion(outputs, labels)\n",
    "\n",
    "                total_loss += loss.item()\n",
    "                _, predicted = outputs.max(1)\n",
    "                correct += (predicted == labels).sum().item()\n",
    "                total += labels.size(0)\n",
    "\n",
    "        accuracy = 100 * correct / total\n",
    "        average_loss = total_loss / len(self.validation_data_loader)\n",
    "        return average_loss, accuracy\n",
    "\n",
    "    def train_loop(self):\n",
    "        for epoch in range(self.wandb.config.epochs):\n",
    "            train_loss, train_accuracy = self.do_train()\n",
    "            val_loss, val_accuracy = self.do_validation()\n",
    "\n",
    "            print(f\"Epoch {epoch + 1}/{self.wandb.config.epochs}:\")\n",
    "            print(f\"Train Loss: {train_loss:.4f}, Train Accuracy: {train_accuracy:.2f}%\")\n",
    "            print(f\"Validation Loss: {val_loss:.4f}, Validation Accuracy: {val_accuracy:.2f}%\")\n",
    "\n",
    "            self.wandb.log({\n",
    "                \"epoch\": epoch + 1,\n",
    "                \"train_loss\": train_loss,\n",
    "                \"train_accuracy\": train_accuracy,\n",
    "                \"val_loss\": val_loss,\n",
    "                \"val_accuracy\": val_accuracy\n",
    "            })\n",
    "\n",
    "\n",
    "def main(args):\n",
    "    config = {\n",
    "        'epochs': args.epochs,\n",
    "        'batch_size': args.batch_size,\n",
    "        'validation_intervals': args.validation_intervals,\n",
    "        'learning_rate': args.learning_rate,\n",
    "        'early_stop_patience': args.early_stop_patience,\n",
    "        'early_stop_delta': args.early_stop_delta,\n",
    "        'weight_decay': args.weight_decay\n",
    "    }\n",
    "\n",
    "    technique_name = f\"weight_decay_{args.weight_decay:.3f}_\"\n",
    "    run_time_str = datetime.now().astimezone().strftime('%Y-%m-%d_%H-%M-%S')\n",
    "    name = f\"{technique_name}_{run_time_str}\"\n",
    "\n",
    "    project_name = \"cnn_fashion_mnist\"\n",
    "    wandb.init(\n",
    "        mode=\"online\" if args.wandb else \"disabled\",\n",
    "        project=project_name,\n",
    "        notes=\"Experiment with weight decay\",\n",
    "        tags=[\"cnn\", \"fashion_mnist\"],\n",
    "        name=name,\n",
    "        config=config\n",
    "    )\n",
    "\n",
    "    device = torch.device(\"cuda:0\" if torch.cuda.is_available() else \"cpu\")\n",
    "    print(f\"Training on device {device}.\")\n",
    "\n",
    "    train_data_loader, validation_data_loader, fmnist_transforms = get_fashion_mnist_data()\n",
    "    model = get_my_cnn_model()\n",
    "    model.to(device)\n",
    "    wandb.watch(model)\n",
    "\n",
    "    optimizers = [\n",
    "        optim.SGD(model.parameters(), lr=wandb.config.learning_rate),\n",
    "        optim.SGD(model.parameters(), lr=wandb.config.learning_rate, momentum=0.9),\n",
    "        optim.RMSprop(model.parameters(), lr=wandb.config.learning_rate),\n",
    "        optim.Adam(model.parameters(), lr=wandb.config.learning_rate, weight_decay=args.weight_decay)\n",
    "    ]\n",
    "    print(\"Optimizer:\", optimizers[args.optimizer])\n",
    "\n",
    "    trainer = ClassificationTrainer(\n",
    "        project_name, model, optimizers[args.optimizer], train_data_loader, validation_data_loader,\n",
    "        fmnist_transforms, run_time_str, wandb, device, \"checkpoint.pth\"\n",
    "    )\n",
    "    trainer.train_loop()\n",
    "\n",
    "    wandb.finish()\n",
    "\n",
    "\n",
    "if __name__ == \"__main__\":\n",
    "    args_str = \"--wandb -v 20 -o 3 -w 0.002\"\n",
    "    args_list = args_str.split()\n",
    "\n",
    "    parser = get_parser()\n",
    "    args = parser.parse_args(args_list)\n",
    "    main(args)\n"
   ]
  },
  {
   "cell_type": "markdown",
   "metadata": {
    "id": "eki5oLnq1dbs"
   },
   "source": [
    "##### train5 - train3(0) + dropout"
   ]
  },
  {
   "cell_type": "code",
   "execution_count": 4,
   "metadata": {
    "colab": {
     "base_uri": "https://localhost:8080/",
     "referenced_widgets": [
      "cdaa331e09be4aee87b611e8370f4e51",
      "726b7b53c41c42f7ad60d0b0b6441cb6",
      "a5727f625d81416c8c3a13786a0da543",
      "fc328ca34a7442d5a455181af80bedd6",
      "cd820a8d96204abcb0e45e57ab325614",
      "43e2397898074d1a9fe01aea75d719fa",
      "fd150774706446458ae6c09b17895525",
      "5f40613c480b4f93b3204b3f2ea31b76",
      "a7637de8a7ed4ce08b775667411c28c2",
      "ef98ee957ec947728e85cc369f63e976",
      "c49afb70f0ef4407a8b9abe695759a5b",
      "73b220b6ec5c4352bf388bd37003b346",
      "cf9b80e5f34e49a69166aeb69594dfbc",
      "040cbbcd58b542e783f069ba0594cd6c",
      "dcd2917ae08d41508cf24019664b71b2",
      "ba6052aa9b864070b26d444e88d0a2e2"
     ]
    },
    "executionInfo": {
     "elapsed": 1451343,
     "status": "ok",
     "timestamp": 1700285754322,
     "user": {
      "displayName": "NULL JO",
      "userId": "17442773596076107047"
     },
     "user_tz": -540
    },
    "id": "mcMPWmnm1n0r",
    "outputId": "c5c7de4b-34e6-4ca4-b540-c4f0dad8e6fa"
   },
   "outputs": [
    {
     "data": {
      "text/html": [
       "Finishing last run (ID:98ozbcn5) before initializing another..."
      ],
      "text/plain": [
       "<IPython.core.display.HTML object>"
      ]
     },
     "metadata": {},
     "output_type": "display_data"
    },
    {
     "data": {
      "text/html": [
       " View run <strong style=\"color:#cdcd00\">devoted-serenity-72</strong> at: <a href='https://wandb.ai/choo0412-korea-university-of-technology-and-education/cnn_fashion_mnist/runs/98ozbcn5' target=\"_blank\">https://wandb.ai/choo0412-korea-university-of-technology-and-education/cnn_fashion_mnist/runs/98ozbcn5</a><br/> View project at: <a href='https://wandb.ai/choo0412-korea-university-of-technology-and-education/cnn_fashion_mnist' target=\"_blank\">https://wandb.ai/choo0412-korea-university-of-technology-and-education/cnn_fashion_mnist</a><br/>Synced 5 W&B file(s), 0 media file(s), 0 artifact file(s) and 0 other file(s)"
      ],
      "text/plain": [
       "<IPython.core.display.HTML object>"
      ]
     },
     "metadata": {},
     "output_type": "display_data"
    },
    {
     "data": {
      "text/html": [
       "Find logs at: <code>./wandb/run-20241116_143738-98ozbcn5/logs</code>"
      ],
      "text/plain": [
       "<IPython.core.display.HTML object>"
      ]
     },
     "metadata": {},
     "output_type": "display_data"
    },
    {
     "data": {
      "text/html": [
       "Successfully finished last run (ID:98ozbcn5). Initializing new run:<br/>"
      ],
      "text/plain": [
       "<IPython.core.display.HTML object>"
      ]
     },
     "metadata": {},
     "output_type": "display_data"
    },
    {
     "data": {
      "text/html": [
       "Tracking run with wandb version 0.18.7"
      ],
      "text/plain": [
       "<IPython.core.display.HTML object>"
      ]
     },
     "metadata": {},
     "output_type": "display_data"
    },
    {
     "data": {
      "text/html": [
       "Run data is saved locally in <code>/home/work/dl_choo/wandb/run-20241116_143824-ra4k6zmp</code>"
      ],
      "text/plain": [
       "<IPython.core.display.HTML object>"
      ]
     },
     "metadata": {},
     "output_type": "display_data"
    },
    {
     "data": {
      "text/html": [
       "Syncing run <strong><a href='https://wandb.ai/choo0412-korea-university-of-technology-and-education/cnn_fashion_mnist/runs/ra4k6zmp' target=\"_blank\">dropOut_weight_decay_0.000__2024-11-16_14-38-24</a></strong> to <a href='https://wandb.ai/choo0412-korea-university-of-technology-and-education/cnn_fashion_mnist' target=\"_blank\">Weights & Biases</a> (<a href='https://wandb.me/developer-guide' target=\"_blank\">docs</a>)<br/>"
      ],
      "text/plain": [
       "<IPython.core.display.HTML object>"
      ]
     },
     "metadata": {},
     "output_type": "display_data"
    },
    {
     "data": {
      "text/html": [
       " View project at <a href='https://wandb.ai/choo0412-korea-university-of-technology-and-education/cnn_fashion_mnist' target=\"_blank\">https://wandb.ai/choo0412-korea-university-of-technology-and-education/cnn_fashion_mnist</a>"
      ],
      "text/plain": [
       "<IPython.core.display.HTML object>"
      ]
     },
     "metadata": {},
     "output_type": "display_data"
    },
    {
     "data": {
      "text/html": [
       " View run at <a href='https://wandb.ai/choo0412-korea-university-of-technology-and-education/cnn_fashion_mnist/runs/ra4k6zmp' target=\"_blank\">https://wandb.ai/choo0412-korea-university-of-technology-and-education/cnn_fashion_mnist/runs/ra4k6zmp</a>"
      ],
      "text/plain": [
       "<IPython.core.display.HTML object>"
      ]
     },
     "metadata": {},
     "output_type": "display_data"
    },
    {
     "name": "stdout",
     "output_type": "stream",
     "text": [
      "Namespace(wandb=True, batch_size=1024, learning_rate=0.001, epochs=20, optimizer=3, early_stop_patience=10, early_stop_delta=1e-05, validation_intervals=1, weight_decay=0.0)\n",
      "{'epochs': 20, 'batch_size': 1024, 'validation_intervals': 1, 'learning_rate': 0.001, 'early_stop_patience': 10, 'early_stop_delta': 1e-05, 'weight_decay': 0.0}\n",
      "Training on device cuda:0.\n",
      "Optimizer: Adam (\n",
      "Parameter Group 0\n",
      "    amsgrad: False\n",
      "    betas: (0.9, 0.999)\n",
      "    capturable: False\n",
      "    differentiable: False\n",
      "    eps: 1e-08\n",
      "    foreach: None\n",
      "    fused: None\n",
      "    lr: 0.001\n",
      "    maximize: False\n",
      "    weight_decay: 0.0\n",
      ")\n",
      "Epoch 1/20:\n",
      "Train Loss: 0.6737, Train Accuracy: 79.00%\n",
      "Validation Loss: 0.3653, Validation Accuracy: 87.40%\n",
      "Epoch 2/20:\n",
      "Train Loss: 0.3988, Train Accuracy: 86.33%\n",
      "Validation Loss: 0.3251, Validation Accuracy: 88.32%\n",
      "Epoch 3/20:\n",
      "Train Loss: 0.3498, Train Accuracy: 87.84%\n",
      "Validation Loss: 0.2863, Validation Accuracy: 89.76%\n",
      "Epoch 4/20:\n",
      "Train Loss: 0.3248, Train Accuracy: 88.72%\n",
      "Validation Loss: 0.2739, Validation Accuracy: 90.09%\n",
      "Epoch 5/20:\n",
      "Train Loss: 0.3078, Train Accuracy: 89.27%\n",
      "Validation Loss: 0.2673, Validation Accuracy: 90.43%\n",
      "Epoch 6/20:\n",
      "Train Loss: 0.2911, Train Accuracy: 89.87%\n",
      "Validation Loss: 0.2757, Validation Accuracy: 90.09%\n",
      "Epoch 7/20:\n",
      "Train Loss: 0.2803, Train Accuracy: 90.14%\n",
      "Validation Loss: 0.2454, Validation Accuracy: 91.28%\n",
      "Epoch 8/20:\n",
      "Train Loss: 0.2687, Train Accuracy: 90.55%\n",
      "Validation Loss: 0.2411, Validation Accuracy: 91.15%\n",
      "Epoch 9/20:\n",
      "Train Loss: 0.2617, Train Accuracy: 90.88%\n",
      "Validation Loss: 0.2398, Validation Accuracy: 91.39%\n",
      "Epoch 10/20:\n",
      "Train Loss: 0.2555, Train Accuracy: 90.98%\n",
      "Validation Loss: 0.2291, Validation Accuracy: 91.68%\n",
      "Epoch 11/20:\n",
      "Train Loss: 0.2482, Train Accuracy: 91.23%\n",
      "Validation Loss: 0.2382, Validation Accuracy: 91.42%\n",
      "Epoch 12/20:\n",
      "Train Loss: 0.2422, Train Accuracy: 91.47%\n",
      "Validation Loss: 0.2214, Validation Accuracy: 91.97%\n",
      "Epoch 13/20:\n",
      "Train Loss: 0.2346, Train Accuracy: 91.53%\n",
      "Validation Loss: 0.2273, Validation Accuracy: 91.91%\n",
      "Epoch 14/20:\n",
      "Train Loss: 0.2318, Train Accuracy: 91.74%\n",
      "Validation Loss: 0.2218, Validation Accuracy: 92.08%\n",
      "Epoch 15/20:\n",
      "Train Loss: 0.2289, Train Accuracy: 91.87%\n",
      "Validation Loss: 0.2227, Validation Accuracy: 91.94%\n",
      "Epoch 16/20:\n",
      "Train Loss: 0.2221, Train Accuracy: 92.03%\n",
      "Validation Loss: 0.2185, Validation Accuracy: 92.13%\n",
      "Epoch 17/20:\n",
      "Train Loss: 0.2221, Train Accuracy: 92.12%\n",
      "Validation Loss: 0.2208, Validation Accuracy: 92.12%\n",
      "Epoch 18/20:\n",
      "Train Loss: 0.2168, Train Accuracy: 92.28%\n",
      "Validation Loss: 0.2199, Validation Accuracy: 92.02%\n",
      "Epoch 19/20:\n",
      "Train Loss: 0.2138, Train Accuracy: 92.42%\n",
      "Validation Loss: 0.2067, Validation Accuracy: 92.56%\n",
      "Epoch 20/20:\n",
      "Train Loss: 0.2088, Train Accuracy: 92.60%\n",
      "Validation Loss: 0.2121, Validation Accuracy: 92.43%\n"
     ]
    },
    {
     "data": {
      "text/html": [
       "\n",
       "    <style>\n",
       "        .wandb-row {\n",
       "            display: flex;\n",
       "            flex-direction: row;\n",
       "            flex-wrap: wrap;\n",
       "            justify-content: flex-start;\n",
       "            width: 100%;\n",
       "        }\n",
       "        .wandb-col {\n",
       "            display: flex;\n",
       "            flex-direction: column;\n",
       "            flex-basis: 100%;\n",
       "            flex: 1;\n",
       "            padding: 10px;\n",
       "        }\n",
       "    </style>\n",
       "<div class=\"wandb-row\"><div class=\"wandb-col\"><h3>Run history:</h3><br/><table class=\"wandb\"><tr><td>epoch</td><td>▁▁▂▂▂▃▃▄▄▄▅▅▅▆▆▇▇▇██</td></tr><tr><td>train_accuracy</td><td>▁▅▆▆▆▇▇▇▇▇▇▇▇███████</td></tr><tr><td>train_loss</td><td>█▄▃▃▂▂▂▂▂▂▂▂▁▁▁▁▁▁▁▁</td></tr><tr><td>val_accuracy</td><td>▁▂▄▅▅▅▆▆▆▇▆▇▇▇▇▇▇▇██</td></tr><tr><td>val_loss</td><td>█▆▅▄▄▄▃▃▂▂▂▂▂▂▂▂▂▂▁▁</td></tr></table><br/></div><div class=\"wandb-col\"><h3>Run summary:</h3><br/><table class=\"wandb\"><tr><td>epoch</td><td>20</td></tr><tr><td>train_accuracy</td><td>92.60167</td></tr><tr><td>train_loss</td><td>0.20884</td></tr><tr><td>val_accuracy</td><td>92.43</td></tr><tr><td>val_loss</td><td>0.21213</td></tr></table><br/></div></div>"
      ],
      "text/plain": [
       "<IPython.core.display.HTML object>"
      ]
     },
     "metadata": {},
     "output_type": "display_data"
    },
    {
     "data": {
      "text/html": [
       " View run <strong style=\"color:#cdcd00\">dropOut_weight_decay_0.000__2024-11-16_14-38-24</strong> at: <a href='https://wandb.ai/choo0412-korea-university-of-technology-and-education/cnn_fashion_mnist/runs/ra4k6zmp' target=\"_blank\">https://wandb.ai/choo0412-korea-university-of-technology-and-education/cnn_fashion_mnist/runs/ra4k6zmp</a><br/> View project at: <a href='https://wandb.ai/choo0412-korea-university-of-technology-and-education/cnn_fashion_mnist' target=\"_blank\">https://wandb.ai/choo0412-korea-university-of-technology-and-education/cnn_fashion_mnist</a><br/>Synced 5 W&B file(s), 0 media file(s), 0 artifact file(s) and 0 other file(s)"
      ],
      "text/plain": [
       "<IPython.core.display.HTML object>"
      ]
     },
     "metadata": {},
     "output_type": "display_data"
    },
    {
     "data": {
      "text/html": [
       "Find logs at: <code>./wandb/run-20241116_143824-ra4k6zmp/logs</code>"
      ],
      "text/plain": [
       "<IPython.core.display.HTML object>"
      ]
     },
     "metadata": {},
     "output_type": "display_data"
    }
   ],
   "source": [
    "import argparse\n",
    "import torch\n",
    "import torch.nn as nn\n",
    "import torch.optim as optim\n",
    "from torch.utils.data import DataLoader\n",
    "from torchvision import datasets, transforms\n",
    "from datetime import datetime\n",
    "import wandb\n",
    "from torchinfo import summary  # Added here for clarity\n",
    "\n",
    "def get_parser():\n",
    "    parser = argparse.ArgumentParser(description=\"Train a CNN model on Fashion MNIST with dropout and weight decay.\")\n",
    "    parser.add_argument(\"--wandb\", action=\"store_true\", help=\"Enable WandB logging\")\n",
    "    parser.add_argument(\"-b\", \"--batch_size\", type=int, default=1024, help=\"Batch size\")\n",
    "    parser.add_argument(\"-r\", \"--learning_rate\", type=float, default=1e-3, help=\"Learning rate\")\n",
    "    parser.add_argument(\"-v\", \"--epochs\", type=int, default=5, help=\"Number of epochs\")\n",
    "    parser.add_argument(\"-o\", \"--optimizer\", type=int, choices=range(4), default=0, help=\"Optimizer (0: SGD, 1: Momentum, 2: RMSProp, 3: Adam)\")\n",
    "    parser.add_argument(\"-p\", \"--early_stop_patience\", type=int, default=10, help=\"Patience for early stopping\")\n",
    "    parser.add_argument(\"-d\", \"--early_stop_delta\", type=float, default=1e-5, help=\"Delta for early stopping\")\n",
    "    parser.add_argument(\"--validation_intervals\", type=int, default=1, help=\"Validation interval epochs\")\n",
    "    parser.add_argument(\"-w\", \"--weight_decay\", type=float, default=0.0, help=\"Weight decay (L2 regularization)\")\n",
    "    return parser\n",
    "\n",
    "\n",
    "def get_fashion_mnist_data():\n",
    "    transform = transforms.Compose([\n",
    "        transforms.RandomHorizontalFlip(),\n",
    "        transforms.RandomRotation(10),\n",
    "        transforms.ToTensor(),\n",
    "        transforms.Normalize((0.5,), (0.5,))\n",
    "    ])\n",
    "    train_dataset = datasets.FashionMNIST(root=\"./data\", train=True, download=True, transform=transform)\n",
    "    validation_dataset = datasets.FashionMNIST(root=\"./data\", train=False, download=True, transform=transforms.Compose([\n",
    "        transforms.ToTensor(),\n",
    "        transforms.Normalize((0.5,), (0.5,))\n",
    "    ]))\n",
    "    train_data_loader = DataLoader(train_dataset, batch_size=512, shuffle=True)\n",
    "    validation_data_loader = DataLoader(validation_dataset, batch_size=512, shuffle=False)\n",
    "    return train_data_loader, validation_data_loader\n",
    "\n",
    "\n",
    "def get_my_cnn_model_with_dropout():\n",
    "    model = nn.Sequential(\n",
    "        nn.Conv2d(1, 32, kernel_size=3, padding=1),\n",
    "        nn.BatchNorm2d(32),\n",
    "        nn.ReLU(),\n",
    "        nn.MaxPool2d(2),\n",
    "        nn.Conv2d(32, 64, kernel_size=3, padding=1),\n",
    "        nn.BatchNorm2d(64),\n",
    "        nn.ReLU(),\n",
    "        nn.MaxPool2d(2),\n",
    "        nn.Flatten(),\n",
    "        nn.Linear(64 * 7 * 7, 256),\n",
    "        nn.BatchNorm1d(256),\n",
    "        nn.ReLU(),\n",
    "        nn.Dropout(0.5),\n",
    "        nn.Linear(256, 128),\n",
    "        nn.BatchNorm1d(128),\n",
    "        nn.ReLU(),\n",
    "        nn.Dropout(0.5),\n",
    "        nn.Linear(128, 10)\n",
    "    )\n",
    "    return model\n",
    "\n",
    "\n",
    "class ClassificationTrainer:\n",
    "    def __init__(self, project_name, model, optimizer, train_data_loader, validation_data_loader, device):\n",
    "        self.project_name = project_name\n",
    "        self.model = model\n",
    "        self.optimizer = optimizer\n",
    "        self.train_data_loader = train_data_loader\n",
    "        self.validation_data_loader = validation_data_loader\n",
    "        self.device = device\n",
    "        self.criterion = nn.CrossEntropyLoss()\n",
    "\n",
    "    def do_train(self):\n",
    "        self.model.train()\n",
    "        total_loss = 0\n",
    "        correct = 0\n",
    "        total = 0\n",
    "\n",
    "        for inputs, labels in self.train_data_loader:\n",
    "            inputs, labels = inputs.to(self.device), labels.to(self.device)\n",
    "            outputs = self.model(inputs)\n",
    "            loss = self.criterion(outputs, labels)\n",
    "\n",
    "            self.optimizer.zero_grad()\n",
    "            loss.backward()\n",
    "            self.optimizer.step()\n",
    "\n",
    "            total_loss += loss.item()\n",
    "            _, predicted = outputs.max(1)\n",
    "            correct += (predicted == labels).sum().item()\n",
    "            total += labels.size(0)\n",
    "\n",
    "        accuracy = 100 * correct / total\n",
    "        average_loss = total_loss / len(self.train_data_loader)\n",
    "        return average_loss, accuracy\n",
    "\n",
    "    def do_validation(self):\n",
    "        self.model.eval()\n",
    "        total_loss = 0\n",
    "        correct = 0\n",
    "        total = 0\n",
    "\n",
    "        with torch.no_grad():\n",
    "            for inputs, labels in self.validation_data_loader:\n",
    "                inputs, labels = inputs.to(self.device), labels.to(self.device)\n",
    "                outputs = self.model(inputs)\n",
    "                loss = self.criterion(outputs, labels)\n",
    "\n",
    "                total_loss += loss.item()\n",
    "                _, predicted = outputs.max(1)\n",
    "                correct += (predicted == labels).sum().item()\n",
    "                total += labels.size(0)\n",
    "\n",
    "        accuracy = 100 * correct / total\n",
    "        average_loss = total_loss / len(self.validation_data_loader)\n",
    "        return average_loss, accuracy\n",
    "\n",
    "    def train_loop(self, epochs):\n",
    "        for epoch in range(epochs):\n",
    "            train_loss, train_accuracy = self.do_train()\n",
    "            val_loss, val_accuracy = self.do_validation()\n",
    "\n",
    "            print(f\"Epoch {epoch + 1}/{epochs}:\")\n",
    "            print(f\"Train Loss: {train_loss:.4f}, Train Accuracy: {train_accuracy:.2f}%\")\n",
    "            print(f\"Validation Loss: {val_loss:.4f}, Validation Accuracy: {val_accuracy:.2f}%\")\n",
    "\n",
    "            wandb.log({\n",
    "                \"epoch\": epoch + 1,\n",
    "                \"train_loss\": train_loss,\n",
    "                \"train_accuracy\": train_accuracy,\n",
    "                \"val_loss\": val_loss,\n",
    "                \"val_accuracy\": val_accuracy\n",
    "            })\n",
    "\n",
    "\n",
    "def main(args):\n",
    "    config = {\n",
    "        'epochs': args.epochs,\n",
    "        'batch_size': args.batch_size,\n",
    "        'validation_intervals': args.validation_intervals,\n",
    "        'learning_rate': args.learning_rate,\n",
    "        'early_stop_patience': args.early_stop_patience,\n",
    "        'early_stop_delta': args.early_stop_delta,\n",
    "        'weight_decay': args.weight_decay\n",
    "    }\n",
    "\n",
    "    technique_name = \"dropOut_weight_decay_{0:.3f}_\".format(args.weight_decay)\n",
    "    run_time_str = datetime.now().astimezone().strftime('%Y-%m-%d_%H-%M-%S')\n",
    "    name = \"{0}_{1}\".format(technique_name, run_time_str)\n",
    "\n",
    "    project_name = \"cnn_fashion_mnist\"\n",
    "    wandb.init(\n",
    "        mode=\"online\" if args.wandb else \"disabled\",\n",
    "        project=project_name,\n",
    "        notes=\"mnist experiment with cnn\",\n",
    "        tags=[\"cnn\", \"fashion_mnist\"],\n",
    "        name=name,\n",
    "        config=config\n",
    "    )\n",
    "    print(args)\n",
    "    print(wandb.config)\n",
    "\n",
    "    device = torch.device(\"cuda:0\" if torch.cuda.is_available() else \"cpu\")\n",
    "    print(f\"Training on device {device}.\")\n",
    "\n",
    "    train_data_loader, validation_data_loader = get_fashion_mnist_data()\n",
    "    model = get_my_cnn_model_with_dropout()\n",
    "    model.to(device)\n",
    "\n",
    "    # Print model summary here\n",
    "    summary(model, input_size=(1, 1, 28, 28), col_names=[\"kernel_size\", \"output_size\", \"num_params\", \"mult_adds\"])\n",
    "\n",
    "    optimizer = optim.Adam(model.parameters(), lr=args.learning_rate, weight_decay=args.weight_decay)\n",
    "    print(\"Optimizer:\", optimizer)\n",
    "\n",
    "    trainer = ClassificationTrainer(\n",
    "        project_name=project_name,\n",
    "        model=model,\n",
    "        optimizer=optimizer,\n",
    "        train_data_loader=train_data_loader,\n",
    "        validation_data_loader=validation_data_loader,\n",
    "        device=device\n",
    "    )\n",
    "    trainer.train_loop(args.epochs)\n",
    "\n",
    "    wandb.finish()\n",
    "\n",
    "\n",
    "if __name__ == \"__main__\":\n",
    "    args_str = \"--wandb -v 20 -o 3 -w 0.0\"\n",
    "    args_list = args_str.split()\n",
    "\n",
    "    parser = get_parser()\n",
    "    args = parser.parse_args(args_list)\n",
    "    main(args)\n"
   ]
  },
  {
   "cell_type": "markdown",
   "metadata": {
    "id": "hs3sH7UC9YY7"
   },
   "source": [
    "##### train6 - train5 + batchNormalization"
   ]
  },
  {
   "cell_type": "code",
   "execution_count": 8,
   "metadata": {
    "colab": {
     "base_uri": "https://localhost:8080/",
     "referenced_widgets": [
      "c1a6f0c9fc344db0b0d53369cbe816e6",
      "428b4fe4335444a694990bcf4e3913f0",
      "5823eeef50524bad9569bfeecd1f4943",
      "ba6d883f8e584828b1b23ba9983822fe",
      "3385c2ab4a46412cb9a8d0f4a8fd8bad",
      "e0226e1f222f4e99995ae848d43254b2",
      "e7785eaca8df4e29b66057ca22fef27a",
      "ed64f9d7af30435597b708eafe38767b",
      "a0278e22bb704fb9a5f53f41c9b752f6",
      "1cdf3da4f6f745618aab8bfdaeea78dd",
      "1164aa4757224a03a9f8cad9e8df5bc6",
      "03f2c8cbfaf845b785de7e4c9a19780b",
      "3a1ed78fd46d4cc68b8e2b8de2302786",
      "e811d82727e2416c83ae7430c45fb379",
      "32229cfe363b437498e0387cc17b2712",
      "cc3c635ecb124c5385032b2408b0b0c2"
     ]
    },
    "executionInfo": {
     "elapsed": 888128,
     "status": "ok",
     "timestamp": 1700287323119,
     "user": {
      "displayName": "NULL JO",
      "userId": "17442773596076107047"
     },
     "user_tz": -540
    },
    "id": "bQpfwbna9e4K",
    "outputId": "3fc0fe67-801a-4290-c30c-f356c41e4c3e"
   },
   "outputs": [
    {
     "data": {
      "text/html": [
       "Tracking run with wandb version 0.18.7"
      ],
      "text/plain": [
       "<IPython.core.display.HTML object>"
      ]
     },
     "metadata": {},
     "output_type": "display_data"
    },
    {
     "data": {
      "text/html": [
       "Run data is saved locally in <code>/home/work/dl_choo/wandb/run-20241116_144511-dt64zged</code>"
      ],
      "text/plain": [
       "<IPython.core.display.HTML object>"
      ]
     },
     "metadata": {},
     "output_type": "display_data"
    },
    {
     "data": {
      "text/html": [
       "Syncing run <strong><a href='https://wandb.ai/choo0412-korea-university-of-technology-and-education/cnn_fashion_mnist/runs/dt64zged' target=\"_blank\">batchNor_dropOut_weight_decay_0.000__2024-11-16_14-45-11</a></strong> to <a href='https://wandb.ai/choo0412-korea-university-of-technology-and-education/cnn_fashion_mnist' target=\"_blank\">Weights & Biases</a> (<a href='https://wandb.me/developer-guide' target=\"_blank\">docs</a>)<br/>"
      ],
      "text/plain": [
       "<IPython.core.display.HTML object>"
      ]
     },
     "metadata": {},
     "output_type": "display_data"
    },
    {
     "data": {
      "text/html": [
       " View project at <a href='https://wandb.ai/choo0412-korea-university-of-technology-and-education/cnn_fashion_mnist' target=\"_blank\">https://wandb.ai/choo0412-korea-university-of-technology-and-education/cnn_fashion_mnist</a>"
      ],
      "text/plain": [
       "<IPython.core.display.HTML object>"
      ]
     },
     "metadata": {},
     "output_type": "display_data"
    },
    {
     "data": {
      "text/html": [
       " View run at <a href='https://wandb.ai/choo0412-korea-university-of-technology-and-education/cnn_fashion_mnist/runs/dt64zged' target=\"_blank\">https://wandb.ai/choo0412-korea-university-of-technology-and-education/cnn_fashion_mnist/runs/dt64zged</a>"
      ],
      "text/plain": [
       "<IPython.core.display.HTML object>"
      ]
     },
     "metadata": {},
     "output_type": "display_data"
    },
    {
     "name": "stdout",
     "output_type": "stream",
     "text": [
      "Training on device cuda:0.\n",
      "Optimizer: Adam (\n",
      "Parameter Group 0\n",
      "    amsgrad: False\n",
      "    betas: (0.9, 0.999)\n",
      "    capturable: False\n",
      "    differentiable: False\n",
      "    eps: 1e-08\n",
      "    foreach: None\n",
      "    fused: None\n",
      "    lr: 0.001\n",
      "    maximize: False\n",
      "    weight_decay: 0.0\n",
      ")\n",
      "Epoch 1/20:\n",
      "Train Loss: 0.6849, Train Accuracy: 78.97%\n",
      "Validation Loss: 0.3617, Validation Accuracy: 86.96%\n",
      "Epoch 2/20:\n",
      "Train Loss: 0.4041, Train Accuracy: 86.21%\n",
      "Validation Loss: 0.3173, Validation Accuracy: 88.47%\n",
      "Epoch 3/20:\n",
      "Train Loss: 0.3553, Train Accuracy: 87.53%\n",
      "Validation Loss: 0.2868, Validation Accuracy: 89.33%\n",
      "Epoch 4/20:\n",
      "Train Loss: 0.3257, Train Accuracy: 88.75%\n",
      "Validation Loss: 0.2669, Validation Accuracy: 90.39%\n",
      "Epoch 5/20:\n",
      "Train Loss: 0.3021, Train Accuracy: 89.39%\n",
      "Validation Loss: 0.2607, Validation Accuracy: 90.32%\n",
      "Epoch 6/20:\n",
      "Train Loss: 0.2916, Train Accuracy: 89.72%\n",
      "Validation Loss: 0.2540, Validation Accuracy: 90.50%\n",
      "Epoch 7/20:\n",
      "Train Loss: 0.2789, Train Accuracy: 90.30%\n",
      "Validation Loss: 0.2490, Validation Accuracy: 90.61%\n",
      "Epoch 8/20:\n",
      "Train Loss: 0.2711, Train Accuracy: 90.52%\n",
      "Validation Loss: 0.2455, Validation Accuracy: 91.26%\n",
      "Epoch 9/20:\n",
      "Train Loss: 0.2615, Train Accuracy: 90.92%\n",
      "Validation Loss: 0.2258, Validation Accuracy: 91.56%\n",
      "Epoch 10/20:\n",
      "Train Loss: 0.2538, Train Accuracy: 91.08%\n",
      "Validation Loss: 0.2404, Validation Accuracy: 91.21%\n",
      "Epoch 11/20:\n",
      "Train Loss: 0.2477, Train Accuracy: 91.35%\n",
      "Validation Loss: 0.2321, Validation Accuracy: 91.64%\n",
      "Epoch 12/20:\n",
      "Train Loss: 0.2431, Train Accuracy: 91.41%\n",
      "Validation Loss: 0.2239, Validation Accuracy: 91.83%\n",
      "Epoch 13/20:\n",
      "Train Loss: 0.2362, Train Accuracy: 91.66%\n",
      "Validation Loss: 0.2151, Validation Accuracy: 92.52%\n",
      "Epoch 14/20:\n",
      "Train Loss: 0.2333, Train Accuracy: 91.73%\n",
      "Validation Loss: 0.2203, Validation Accuracy: 92.01%\n",
      "Epoch 15/20:\n",
      "Train Loss: 0.2311, Train Accuracy: 91.81%\n",
      "Validation Loss: 0.2122, Validation Accuracy: 92.46%\n",
      "Epoch 16/20:\n",
      "Train Loss: 0.2248, Train Accuracy: 92.05%\n",
      "Validation Loss: 0.2149, Validation Accuracy: 92.31%\n",
      "Epoch 17/20:\n",
      "Train Loss: 0.2208, Train Accuracy: 92.21%\n",
      "Validation Loss: 0.2106, Validation Accuracy: 92.29%\n",
      "Epoch 18/20:\n",
      "Train Loss: 0.2173, Train Accuracy: 92.22%\n",
      "Validation Loss: 0.2139, Validation Accuracy: 92.31%\n",
      "Epoch 19/20:\n",
      "Train Loss: 0.2150, Train Accuracy: 92.29%\n",
      "Validation Loss: 0.2117, Validation Accuracy: 92.43%\n",
      "Epoch 20/20:\n",
      "Train Loss: 0.2107, Train Accuracy: 92.51%\n",
      "Validation Loss: 0.2077, Validation Accuracy: 92.67%\n"
     ]
    },
    {
     "data": {
      "text/html": [
       "\n",
       "    <style>\n",
       "        .wandb-row {\n",
       "            display: flex;\n",
       "            flex-direction: row;\n",
       "            flex-wrap: wrap;\n",
       "            justify-content: flex-start;\n",
       "            width: 100%;\n",
       "        }\n",
       "        .wandb-col {\n",
       "            display: flex;\n",
       "            flex-direction: column;\n",
       "            flex-basis: 100%;\n",
       "            flex: 1;\n",
       "            padding: 10px;\n",
       "        }\n",
       "    </style>\n",
       "<div class=\"wandb-row\"><div class=\"wandb-col\"><h3>Run history:</h3><br/><table class=\"wandb\"><tr><td>epoch</td><td>▁▁▂▂▂▃▃▄▄▄▅▅▅▆▆▇▇▇██</td></tr><tr><td>train_accuracy</td><td>▁▅▅▆▆▇▇▇▇▇▇▇████████</td></tr><tr><td>train_loss</td><td>█▄▃▃▂▂▂▂▂▂▂▁▁▁▁▁▁▁▁▁</td></tr><tr><td>val_accuracy</td><td>▁▃▄▅▅▅▅▆▇▆▇▇█▇██████</td></tr><tr><td>val_loss</td><td>█▆▅▄▃▃▃▃▂▂▂▂▁▂▁▁▁▁▁▁</td></tr></table><br/></div><div class=\"wandb-col\"><h3>Run summary:</h3><br/><table class=\"wandb\"><tr><td>epoch</td><td>20</td></tr><tr><td>train_accuracy</td><td>92.50833</td></tr><tr><td>train_loss</td><td>0.2107</td></tr><tr><td>val_accuracy</td><td>92.67</td></tr><tr><td>val_loss</td><td>0.20766</td></tr></table><br/></div></div>"
      ],
      "text/plain": [
       "<IPython.core.display.HTML object>"
      ]
     },
     "metadata": {},
     "output_type": "display_data"
    },
    {
     "data": {
      "text/html": [
       " View run <strong style=\"color:#cdcd00\">batchNor_dropOut_weight_decay_0.000__2024-11-16_14-45-11</strong> at: <a href='https://wandb.ai/choo0412-korea-university-of-technology-and-education/cnn_fashion_mnist/runs/dt64zged' target=\"_blank\">https://wandb.ai/choo0412-korea-university-of-technology-and-education/cnn_fashion_mnist/runs/dt64zged</a><br/> View project at: <a href='https://wandb.ai/choo0412-korea-university-of-technology-and-education/cnn_fashion_mnist' target=\"_blank\">https://wandb.ai/choo0412-korea-university-of-technology-and-education/cnn_fashion_mnist</a><br/>Synced 5 W&B file(s), 0 media file(s), 0 artifact file(s) and 0 other file(s)"
      ],
      "text/plain": [
       "<IPython.core.display.HTML object>"
      ]
     },
     "metadata": {},
     "output_type": "display_data"
    },
    {
     "data": {
      "text/html": [
       "Find logs at: <code>./wandb/run-20241116_144511-dt64zged/logs</code>"
      ],
      "text/plain": [
       "<IPython.core.display.HTML object>"
      ]
     },
     "metadata": {},
     "output_type": "display_data"
    }
   ],
   "source": [
    "import argparse\n",
    "import torch\n",
    "import torch.nn as nn\n",
    "import torch.optim as optim\n",
    "from torch.utils.data import DataLoader\n",
    "from torchvision import datasets, transforms\n",
    "from datetime import datetime\n",
    "import wandb\n",
    "from torchinfo import summary\n",
    "\n",
    "\n",
    "def get_parser():\n",
    "    parser = argparse.ArgumentParser(description=\"Train a CNN model on Fashion MNIST with batch normalization and dropout.\")\n",
    "    parser.add_argument(\"--wandb\", action=\"store_true\", help=\"Enable WandB logging\")\n",
    "    parser.add_argument(\"-b\", \"--batch_size\", type=int, default=1024, help=\"Batch size\")\n",
    "    parser.add_argument(\"-r\", \"--learning_rate\", type=float, default=1e-3, help=\"Learning rate\")\n",
    "    parser.add_argument(\"-v\", \"--epochs\", type=int, default=5, help=\"Number of epochs\")\n",
    "    parser.add_argument(\"-o\", \"--optimizer\", type=int, choices=range(4), default=0, help=\"Optimizer (0: SGD, 1: Momentum, 2: RMSProp, 3: Adam)\")\n",
    "    parser.add_argument(\"--weight_decay\", type=float, default=0.0, help=\"Weight decay (L2 regularization)\")\n",
    "    return parser\n",
    "\n",
    "\n",
    "def get_fashion_mnist_data():\n",
    "    transform = transforms.Compose([\n",
    "        transforms.RandomHorizontalFlip(),\n",
    "        transforms.RandomRotation(10),\n",
    "        transforms.ToTensor(),\n",
    "        transforms.Normalize((0.5,), (0.5,))\n",
    "    ])\n",
    "    train_dataset = datasets.FashionMNIST(root=\"./data\", train=True, download=True, transform=transform)\n",
    "    validation_dataset = datasets.FashionMNIST(root=\"./data\", train=False, download=True, transform=transforms.Compose([\n",
    "        transforms.ToTensor(),\n",
    "        transforms.Normalize((0.5,), (0.5,))\n",
    "    ]))\n",
    "    train_data_loader = DataLoader(train_dataset, batch_size=512, shuffle=True)\n",
    "    validation_data_loader = DataLoader(validation_dataset, batch_size=512, shuffle=False)\n",
    "    return train_data_loader, validation_data_loader\n",
    "\n",
    "\n",
    "def get_my_cnn_model_with_dropout_batchNormalization():\n",
    "    model = nn.Sequential(\n",
    "        nn.Conv2d(1, 32, kernel_size=3, padding=1),\n",
    "        nn.BatchNorm2d(32),\n",
    "        nn.ReLU(),\n",
    "        nn.MaxPool2d(2),\n",
    "        nn.Conv2d(32, 64, kernel_size=3, padding=1),\n",
    "        nn.BatchNorm2d(64),\n",
    "        nn.ReLU(),\n",
    "        nn.MaxPool2d(2),\n",
    "        nn.Flatten(),\n",
    "        nn.Linear(64 * 7 * 7, 256),\n",
    "        nn.BatchNorm1d(256),\n",
    "        nn.ReLU(),\n",
    "        nn.Dropout(0.5),\n",
    "        nn.Linear(256, 128),\n",
    "        nn.BatchNorm1d(128),\n",
    "        nn.ReLU(),\n",
    "        nn.Dropout(0.5),\n",
    "        nn.Linear(128, 10)\n",
    "    )\n",
    "    return model\n",
    "\n",
    "\n",
    "class ClassificationTrainer:\n",
    "    def __init__(self, project_name, model, optimizer, train_data_loader, validation_data_loader, device):\n",
    "        self.project_name = project_name\n",
    "        self.model = model\n",
    "        self.optimizer = optimizer\n",
    "        self.train_data_loader = train_data_loader\n",
    "        self.validation_data_loader = validation_data_loader\n",
    "        self.device = device\n",
    "        self.criterion = nn.CrossEntropyLoss()\n",
    "\n",
    "    def do_train(self):\n",
    "        self.model.train()\n",
    "        total_loss = 0\n",
    "        correct = 0\n",
    "        total = 0\n",
    "\n",
    "        for inputs, labels in self.train_data_loader:\n",
    "            inputs, labels = inputs.to(self.device), labels.to(self.device)\n",
    "            outputs = self.model(inputs)\n",
    "            loss = self.criterion(outputs, labels)\n",
    "\n",
    "            self.optimizer.zero_grad()\n",
    "            loss.backward()\n",
    "            self.optimizer.step()\n",
    "\n",
    "            total_loss += loss.item()\n",
    "            _, predicted = outputs.max(1)\n",
    "            correct += (predicted == labels).sum().item()\n",
    "            total += labels.size(0)\n",
    "\n",
    "        accuracy = 100 * correct / total\n",
    "        average_loss = total_loss / len(self.train_data_loader)\n",
    "        return average_loss, accuracy\n",
    "\n",
    "    def do_validation(self):\n",
    "        self.model.eval()\n",
    "        total_loss = 0\n",
    "        correct = 0\n",
    "        total = 0\n",
    "\n",
    "        with torch.no_grad():\n",
    "            for inputs, labels in self.validation_data_loader:\n",
    "                inputs, labels = inputs.to(self.device), labels.to(self.device)\n",
    "                outputs = self.model(inputs)\n",
    "                loss = self.criterion(outputs, labels)\n",
    "\n",
    "                total_loss += loss.item()\n",
    "                _, predicted = outputs.max(1)\n",
    "                correct += (predicted == labels).sum().item()\n",
    "                total += labels.size(0)\n",
    "\n",
    "        accuracy = 100 * correct / total\n",
    "        average_loss = total_loss / len(self.validation_data_loader)\n",
    "        return average_loss, accuracy\n",
    "\n",
    "    def train_loop(self, epochs):\n",
    "        for epoch in range(epochs):\n",
    "            train_loss, train_accuracy = self.do_train()\n",
    "            val_loss, val_accuracy = self.do_validation()\n",
    "\n",
    "            print(f\"Epoch {epoch + 1}/{epochs}:\")\n",
    "            print(f\"Train Loss: {train_loss:.4f}, Train Accuracy: {train_accuracy:.2f}%\")\n",
    "            print(f\"Validation Loss: {val_loss:.4f}, Validation Accuracy: {val_accuracy:.2f}%\")\n",
    "\n",
    "            wandb.log({\n",
    "                \"epoch\": epoch + 1,\n",
    "                \"train_loss\": train_loss,\n",
    "                \"train_accuracy\": train_accuracy,\n",
    "                \"val_loss\": val_loss,\n",
    "                \"val_accuracy\": val_accuracy\n",
    "            })\n",
    "\n",
    "\n",
    "def main(args):\n",
    "    config = {\n",
    "        'epochs': args.epochs,\n",
    "        'batch_size': args.batch_size,\n",
    "        'learning_rate': args.learning_rate,\n",
    "        'weight_decay': args.weight_decay\n",
    "    }\n",
    "\n",
    "    technique_name = \"batchNor_dropOut_weight_decay_{0:.3f}_\".format(args.weight_decay)\n",
    "    run_time_str = datetime.now().astimezone().strftime('%Y-%m-%d_%H-%M-%S')\n",
    "    name = f\"{technique_name}_{run_time_str}\"\n",
    "\n",
    "    project_name = \"cnn_fashion_mnist\"\n",
    "    wandb.init(\n",
    "        mode=\"online\" if args.wandb else \"disabled\",\n",
    "        project=project_name,\n",
    "        notes=\"Experiment with batch normalization and dropout\",\n",
    "        tags=[\"cnn\", \"fashion_mnist\"],\n",
    "        name=name,\n",
    "        config=config\n",
    "    )\n",
    "\n",
    "    device = torch.device(\"cuda:0\" if torch.cuda.is_available() else \"cpu\")\n",
    "    print(f\"Training on device {device}.\")\n",
    "\n",
    "    train_data_loader, validation_data_loader = get_fashion_mnist_data()\n",
    "    model = get_my_cnn_model_with_dropout_batchNormalization()\n",
    "    model.to(device)\n",
    "\n",
    "    optimizer = optim.Adam(model.parameters(), lr=args.learning_rate, weight_decay=args.weight_decay)\n",
    "    print(\"Optimizer:\", optimizer)\n",
    "\n",
    "    summary(model, input_size=(1, 1, 28, 28))\n",
    "\n",
    "    trainer = ClassificationTrainer(\n",
    "        project_name=project_name,\n",
    "        model=model,\n",
    "        optimizer=optimizer,\n",
    "        train_data_loader=train_data_loader,\n",
    "        validation_data_loader=validation_data_loader,\n",
    "        device=device\n",
    "    )\n",
    "    trainer.train_loop(args.epochs)\n",
    "\n",
    "    wandb.finish()\n",
    "\n",
    "\n",
    "if __name__ == \"__main__\":\n",
    "    args_str = \"--wandb -v 20 -o 3 --weight_decay 0.0\"\n",
    "    args_list = args_str.split()\n",
    "\n",
    "    parser = get_parser()\n",
    "    args = parser.parse_args(args_list)\n",
    "    main(args)\n"
   ]
  },
  {
   "cell_type": "markdown",
   "metadata": {
    "id": "IrYUrFd99wkS"
   },
   "source": [
    "##### train7 - train5 + layerNormalization"
   ]
  },
  {
   "cell_type": "code",
   "execution_count": 10,
   "metadata": {
    "colab": {
     "base_uri": "https://localhost:8080/",
     "referenced_widgets": [
      "b13dc34992ef4716a3cd58a4fd6732bc",
      "dfac590cbcb64622b09b647a89af21a1",
      "04301cee7e364b1789187cc925924f45",
      "2b19e804b3d4408597d940d15bd1c1e7",
      "d8778d53ddc9471e8644e38c9fb24d1f",
      "3e9e0a2285a04aabb5d1fbda565c1b98",
      "7531854f47404783be9999ffe9cf5cf8",
      "dd4a8a1577c740ed8feb55297187f0ef",
      "4253a94330f24aab926137bfc27f37e9",
      "8751be9eb51f4ea69662fcf2c42665eb",
      "85e65bfee43b42c5884a045ec4f87f0d",
      "4d1e6725b8bb4ed0995ad8b4fe74b080",
      "024c7def8ba34ace87700a59944dfa82",
      "593d4049476e42bf97bfd878c351e6c2",
      "1cafe80565df4e76bfb80e7f2b046432",
      "a3e59c7ef35a4a08aef0474b56804702"
     ]
    },
    "executionInfo": {
     "elapsed": 921018,
     "status": "ok",
     "timestamp": 1700288661078,
     "user": {
      "displayName": "NULL JO",
      "userId": "17442773596076107047"
     },
     "user_tz": -540
    },
    "id": "ElIKZKif9zd3",
    "outputId": "f7ce1af9-f94a-44b2-bb91-b170dfe60a7e"
   },
   "outputs": [
    {
     "data": {
      "text/html": [
       "Finishing last run (ID:2al0j5on) before initializing another..."
      ],
      "text/plain": [
       "<IPython.core.display.HTML object>"
      ]
     },
     "metadata": {},
     "output_type": "display_data"
    },
    {
     "data": {
      "text/html": [
       " View run <strong style=\"color:#cdcd00\">layerNor_dropOut_weight_decay_0.000__2024-11-16_14-51-07</strong> at: <a href='https://wandb.ai/choo0412-korea-university-of-technology-and-education/cnn_fashion_mnist/runs/2al0j5on' target=\"_blank\">https://wandb.ai/choo0412-korea-university-of-technology-and-education/cnn_fashion_mnist/runs/2al0j5on</a><br/> View project at: <a href='https://wandb.ai/choo0412-korea-university-of-technology-and-education/cnn_fashion_mnist' target=\"_blank\">https://wandb.ai/choo0412-korea-university-of-technology-and-education/cnn_fashion_mnist</a><br/>Synced 5 W&B file(s), 0 media file(s), 0 artifact file(s) and 0 other file(s)"
      ],
      "text/plain": [
       "<IPython.core.display.HTML object>"
      ]
     },
     "metadata": {},
     "output_type": "display_data"
    },
    {
     "data": {
      "text/html": [
       "Find logs at: <code>./wandb/run-20241116_145107-2al0j5on/logs</code>"
      ],
      "text/plain": [
       "<IPython.core.display.HTML object>"
      ]
     },
     "metadata": {},
     "output_type": "display_data"
    },
    {
     "data": {
      "text/html": [
       "Successfully finished last run (ID:2al0j5on). Initializing new run:<br/>"
      ],
      "text/plain": [
       "<IPython.core.display.HTML object>"
      ]
     },
     "metadata": {},
     "output_type": "display_data"
    },
    {
     "data": {
      "text/html": [
       "Tracking run with wandb version 0.18.7"
      ],
      "text/plain": [
       "<IPython.core.display.HTML object>"
      ]
     },
     "metadata": {},
     "output_type": "display_data"
    },
    {
     "data": {
      "text/html": [
       "Run data is saved locally in <code>/home/work/dl_choo/wandb/run-20241116_145209-osfcv8mj</code>"
      ],
      "text/plain": [
       "<IPython.core.display.HTML object>"
      ]
     },
     "metadata": {},
     "output_type": "display_data"
    },
    {
     "data": {
      "text/html": [
       "Syncing run <strong><a href='https://wandb.ai/choo0412-korea-university-of-technology-and-education/cnn_fashion_mnist/runs/osfcv8mj' target=\"_blank\">layerNor_dropOut_weight_decay_0.000__2024-11-16_14-52-09</a></strong> to <a href='https://wandb.ai/choo0412-korea-university-of-technology-and-education/cnn_fashion_mnist' target=\"_blank\">Weights & Biases</a> (<a href='https://wandb.me/developer-guide' target=\"_blank\">docs</a>)<br/>"
      ],
      "text/plain": [
       "<IPython.core.display.HTML object>"
      ]
     },
     "metadata": {},
     "output_type": "display_data"
    },
    {
     "data": {
      "text/html": [
       " View project at <a href='https://wandb.ai/choo0412-korea-university-of-technology-and-education/cnn_fashion_mnist' target=\"_blank\">https://wandb.ai/choo0412-korea-university-of-technology-and-education/cnn_fashion_mnist</a>"
      ],
      "text/plain": [
       "<IPython.core.display.HTML object>"
      ]
     },
     "metadata": {},
     "output_type": "display_data"
    },
    {
     "data": {
      "text/html": [
       " View run at <a href='https://wandb.ai/choo0412-korea-university-of-technology-and-education/cnn_fashion_mnist/runs/osfcv8mj' target=\"_blank\">https://wandb.ai/choo0412-korea-university-of-technology-and-education/cnn_fashion_mnist/runs/osfcv8mj</a>"
      ],
      "text/plain": [
       "<IPython.core.display.HTML object>"
      ]
     },
     "metadata": {},
     "output_type": "display_data"
    },
    {
     "name": "stdout",
     "output_type": "stream",
     "text": [
      "Training on device cuda:0.\n",
      "Optimizer: Adam (\n",
      "Parameter Group 0\n",
      "    amsgrad: False\n",
      "    betas: (0.9, 0.999)\n",
      "    capturable: False\n",
      "    differentiable: False\n",
      "    eps: 1e-08\n",
      "    foreach: None\n",
      "    fused: None\n",
      "    lr: 0.001\n",
      "    maximize: False\n",
      "    weight_decay: 0.0\n",
      ")\n",
      "Epoch 1/20:\n",
      "Train Loss: 0.9105, Train Accuracy: 68.60%\n",
      "Validation Loss: 0.4736, Validation Accuracy: 82.50%\n",
      "Epoch 2/20:\n",
      "Train Loss: 0.5089, Train Accuracy: 82.49%\n",
      "Validation Loss: 0.4023, Validation Accuracy: 85.17%\n",
      "Epoch 3/20:\n",
      "Train Loss: 0.4407, Train Accuracy: 84.66%\n",
      "Validation Loss: 0.3522, Validation Accuracy: 87.33%\n",
      "Epoch 4/20:\n",
      "Train Loss: 0.3948, Train Accuracy: 86.28%\n",
      "Validation Loss: 0.3418, Validation Accuracy: 87.93%\n",
      "Epoch 5/20:\n",
      "Train Loss: 0.3715, Train Accuracy: 87.17%\n",
      "Validation Loss: 0.3129, Validation Accuracy: 88.81%\n",
      "Epoch 6/20:\n",
      "Train Loss: 0.3615, Train Accuracy: 87.53%\n",
      "Validation Loss: 0.2979, Validation Accuracy: 89.16%\n",
      "Epoch 7/20:\n",
      "Train Loss: 0.3351, Train Accuracy: 88.30%\n",
      "Validation Loss: 0.2854, Validation Accuracy: 89.67%\n",
      "Epoch 8/20:\n",
      "Train Loss: 0.3295, Train Accuracy: 88.54%\n",
      "Validation Loss: 0.2737, Validation Accuracy: 90.04%\n",
      "Epoch 9/20:\n",
      "Train Loss: 0.3185, Train Accuracy: 88.86%\n",
      "Validation Loss: 0.2746, Validation Accuracy: 90.09%\n",
      "Epoch 10/20:\n",
      "Train Loss: 0.3077, Train Accuracy: 89.15%\n",
      "Validation Loss: 0.2730, Validation Accuracy: 90.24%\n",
      "Epoch 11/20:\n",
      "Train Loss: 0.3029, Train Accuracy: 89.39%\n",
      "Validation Loss: 0.2609, Validation Accuracy: 90.15%\n",
      "Epoch 12/20:\n",
      "Train Loss: 0.2949, Train Accuracy: 89.66%\n",
      "Validation Loss: 0.2672, Validation Accuracy: 90.59%\n",
      "Epoch 13/20:\n",
      "Train Loss: 0.2911, Train Accuracy: 89.83%\n",
      "Validation Loss: 0.2629, Validation Accuracy: 90.67%\n",
      "Epoch 14/20:\n",
      "Train Loss: 0.2809, Train Accuracy: 90.31%\n",
      "Validation Loss: 0.2522, Validation Accuracy: 90.66%\n",
      "Epoch 15/20:\n",
      "Train Loss: 0.2808, Train Accuracy: 90.17%\n",
      "Validation Loss: 0.2494, Validation Accuracy: 90.82%\n",
      "Epoch 16/20:\n",
      "Train Loss: 0.2702, Train Accuracy: 90.46%\n",
      "Validation Loss: 0.2483, Validation Accuracy: 91.17%\n",
      "Epoch 17/20:\n",
      "Train Loss: 0.2685, Train Accuracy: 90.53%\n",
      "Validation Loss: 0.2533, Validation Accuracy: 90.72%\n",
      "Epoch 18/20:\n",
      "Train Loss: 0.2652, Train Accuracy: 90.82%\n",
      "Validation Loss: 0.2497, Validation Accuracy: 90.74%\n",
      "Epoch 19/20:\n",
      "Train Loss: 0.2615, Train Accuracy: 90.91%\n",
      "Validation Loss: 0.2449, Validation Accuracy: 91.27%\n",
      "Epoch 20/20:\n",
      "Train Loss: 0.2573, Train Accuracy: 90.88%\n",
      "Validation Loss: 0.2465, Validation Accuracy: 90.71%\n"
     ]
    },
    {
     "data": {
      "text/html": [
       "\n",
       "    <style>\n",
       "        .wandb-row {\n",
       "            display: flex;\n",
       "            flex-direction: row;\n",
       "            flex-wrap: wrap;\n",
       "            justify-content: flex-start;\n",
       "            width: 100%;\n",
       "        }\n",
       "        .wandb-col {\n",
       "            display: flex;\n",
       "            flex-direction: column;\n",
       "            flex-basis: 100%;\n",
       "            flex: 1;\n",
       "            padding: 10px;\n",
       "        }\n",
       "    </style>\n",
       "<div class=\"wandb-row\"><div class=\"wandb-col\"><h3>Run history:</h3><br/><table class=\"wandb\"><tr><td>epoch</td><td>▁▁▂▂▂▃▃▄▄▄▅▅▅▆▆▇▇▇██</td></tr><tr><td>train_accuracy</td><td>▁▅▆▇▇▇▇▇▇▇██████████</td></tr><tr><td>train_loss</td><td>█▄▃▂▂▂▂▂▂▂▁▁▁▁▁▁▁▁▁▁</td></tr><tr><td>val_accuracy</td><td>▁▃▅▅▆▆▇▇▇▇▇▇████████</td></tr><tr><td>val_loss</td><td>█▆▄▄▃▃▂▂▂▂▁▂▂▁▁▁▁▁▁▁</td></tr></table><br/></div><div class=\"wandb-col\"><h3>Run summary:</h3><br/><table class=\"wandb\"><tr><td>epoch</td><td>20</td></tr><tr><td>train_accuracy</td><td>90.87667</td></tr><tr><td>train_loss</td><td>0.25728</td></tr><tr><td>val_accuracy</td><td>90.71</td></tr><tr><td>val_loss</td><td>0.24649</td></tr></table><br/></div></div>"
      ],
      "text/plain": [
       "<IPython.core.display.HTML object>"
      ]
     },
     "metadata": {},
     "output_type": "display_data"
    },
    {
     "data": {
      "text/html": [
       " View run <strong style=\"color:#cdcd00\">layerNor_dropOut_weight_decay_0.000__2024-11-16_14-52-09</strong> at: <a href='https://wandb.ai/choo0412-korea-university-of-technology-and-education/cnn_fashion_mnist/runs/osfcv8mj' target=\"_blank\">https://wandb.ai/choo0412-korea-university-of-technology-and-education/cnn_fashion_mnist/runs/osfcv8mj</a><br/> View project at: <a href='https://wandb.ai/choo0412-korea-university-of-technology-and-education/cnn_fashion_mnist' target=\"_blank\">https://wandb.ai/choo0412-korea-university-of-technology-and-education/cnn_fashion_mnist</a><br/>Synced 5 W&B file(s), 0 media file(s), 0 artifact file(s) and 0 other file(s)"
      ],
      "text/plain": [
       "<IPython.core.display.HTML object>"
      ]
     },
     "metadata": {},
     "output_type": "display_data"
    },
    {
     "data": {
      "text/html": [
       "Find logs at: <code>./wandb/run-20241116_145209-osfcv8mj/logs</code>"
      ],
      "text/plain": [
       "<IPython.core.display.HTML object>"
      ]
     },
     "metadata": {},
     "output_type": "display_data"
    }
   ],
   "source": [
    "import argparse\n",
    "import torch\n",
    "import torch.nn as nn\n",
    "import torch.optim as optim\n",
    "from torch.utils.data import DataLoader\n",
    "from torchvision import datasets, transforms\n",
    "from datetime import datetime\n",
    "import wandb\n",
    "from torchinfo import summary\n",
    "\n",
    "\n",
    "def get_parser():\n",
    "    parser = argparse.ArgumentParser(description=\"Train a CNN model on Fashion MNIST with Layer Normalization and Dropout.\")\n",
    "    parser.add_argument(\"--wandb\", action=\"store_true\", help=\"Enable WandB logging\")\n",
    "    parser.add_argument(\"-b\", \"--batch_size\", type=int, default=1024, help=\"Batch size\")\n",
    "    parser.add_argument(\"-r\", \"--learning_rate\", type=float, default=1e-3, help=\"Learning rate\")\n",
    "    parser.add_argument(\"-v\", \"--epochs\", type=int, default=5, help=\"Number of epochs\")\n",
    "    parser.add_argument(\"-o\", \"--optimizer\", type=int, choices=range(4), default=0, help=\"Optimizer (0: SGD, 1: Momentum, 2: RMSProp, 3: Adam)\")\n",
    "    parser.add_argument(\"--weight_decay\", type=float, default=0.0, help=\"Weight decay (L2 regularization)\")\n",
    "    return parser\n",
    "\n",
    "\n",
    "def get_fashion_mnist_data():\n",
    "    transform = transforms.Compose([\n",
    "        transforms.RandomHorizontalFlip(),\n",
    "        transforms.RandomRotation(10),\n",
    "        transforms.ToTensor(),\n",
    "        transforms.Normalize((0.5,), (0.5,))\n",
    "    ])\n",
    "    train_dataset = datasets.FashionMNIST(root=\"./data\", train=True, download=True, transform=transform)\n",
    "    validation_dataset = datasets.FashionMNIST(root=\"./data\", train=False, download=True, transform=transforms.Compose([\n",
    "        transforms.ToTensor(),\n",
    "        transforms.Normalize((0.5,), (0.5,))\n",
    "    ]))\n",
    "    train_data_loader = DataLoader(train_dataset, batch_size=512, shuffle=True)\n",
    "    validation_data_loader = DataLoader(validation_dataset, batch_size=512, shuffle=False)\n",
    "    return train_data_loader, validation_data_loader\n",
    "\n",
    "\n",
    "\n",
    "def get_my_cnn_model_with_dropout_layerNormalization():\n",
    "    class LayerNorm(nn.Module):\n",
    "        def __init__(self, normalized_shape):\n",
    "            super(LayerNorm, self).__init__()\n",
    "            self.layer_norm = nn.LayerNorm(normalized_shape)\n",
    "\n",
    "        def forward(self, x):\n",
    "            if x.dim() == 4:  # For 4D tensors (batch_size, channels, height, width)\n",
    "                # Correctly handle the permute dimensions\n",
    "                x = x.permute(0, 2, 3, 1)  # Change to (batch_size, height, width, channels)\n",
    "                x = self.layer_norm(x)\n",
    "                x = x.permute(0, 3, 1, 2)  # Back to (batch_size, channels, height, width)\n",
    "            return x\n",
    "\n",
    "    model = nn.Sequential(\n",
    "        nn.Conv2d(1, 32, kernel_size=3, padding=1),\n",
    "        LayerNorm([28, 28, 32]),  # Normalized shape updated\n",
    "        nn.ReLU(),\n",
    "        nn.MaxPool2d(2),\n",
    "        nn.Conv2d(32, 64, kernel_size=3, padding=1),\n",
    "        LayerNorm([14, 14, 64]),  # Normalized shape updated\n",
    "        nn.ReLU(),\n",
    "        nn.MaxPool2d(2),\n",
    "        nn.Flatten(),\n",
    "        nn.Linear(64 * 7 * 7, 256),\n",
    "        nn.LayerNorm(256),\n",
    "        nn.ReLU(),\n",
    "        nn.Dropout(0.5),\n",
    "        nn.Linear(256, 128),\n",
    "        nn.LayerNorm(128),\n",
    "        nn.ReLU(),\n",
    "        nn.Dropout(0.5),\n",
    "        nn.Linear(128, 10)\n",
    "    )\n",
    "    return model\n",
    "\n",
    "\n",
    "\n",
    "class ClassificationTrainer:\n",
    "    def __init__(self, project_name, model, optimizer, train_data_loader, validation_data_loader, device):\n",
    "        self.project_name = project_name\n",
    "        self.model = model\n",
    "        self.optimizer = optimizer\n",
    "        self.train_data_loader = train_data_loader\n",
    "        self.validation_data_loader = validation_data_loader\n",
    "        self.device = device\n",
    "        self.criterion = nn.CrossEntropyLoss()\n",
    "\n",
    "    def do_train(self):\n",
    "        self.model.train()\n",
    "        total_loss = 0\n",
    "        correct = 0\n",
    "        total = 0\n",
    "\n",
    "        for inputs, labels in self.train_data_loader:\n",
    "            inputs, labels = inputs.to(self.device), labels.to(self.device)\n",
    "            outputs = self.model(inputs)\n",
    "            loss = self.criterion(outputs, labels)\n",
    "\n",
    "            self.optimizer.zero_grad()\n",
    "            loss.backward()\n",
    "            self.optimizer.step()\n",
    "\n",
    "            total_loss += loss.item()\n",
    "            _, predicted = outputs.max(1)\n",
    "            correct += (predicted == labels).sum().item()\n",
    "            total += labels.size(0)\n",
    "\n",
    "        accuracy = 100 * correct / total\n",
    "        average_loss = total_loss / len(self.train_data_loader)\n",
    "        return average_loss, accuracy\n",
    "\n",
    "    def do_validation(self):\n",
    "        self.model.eval()\n",
    "        total_loss = 0\n",
    "        correct = 0\n",
    "        total = 0\n",
    "\n",
    "        with torch.no_grad():\n",
    "            for inputs, labels in self.validation_data_loader:\n",
    "                inputs, labels = inputs.to(self.device), labels.to(self.device)\n",
    "                outputs = self.model(inputs)\n",
    "                loss = self.criterion(outputs, labels)\n",
    "\n",
    "                total_loss += loss.item()\n",
    "                _, predicted = outputs.max(1)\n",
    "                correct += (predicted == labels).sum().item()\n",
    "                total += labels.size(0)\n",
    "\n",
    "        accuracy = 100 * correct / total\n",
    "        average_loss = total_loss / len(self.validation_data_loader)\n",
    "        return average_loss, accuracy\n",
    "\n",
    "    def train_loop(self, epochs):\n",
    "        for epoch in range(epochs):\n",
    "            train_loss, train_accuracy = self.do_train()\n",
    "            val_loss, val_accuracy = self.do_validation()\n",
    "\n",
    "            print(f\"Epoch {epoch + 1}/{epochs}:\")\n",
    "            print(f\"Train Loss: {train_loss:.4f}, Train Accuracy: {train_accuracy:.2f}%\")\n",
    "            print(f\"Validation Loss: {val_loss:.4f}, Validation Accuracy: {val_accuracy:.2f}%\")\n",
    "\n",
    "            wandb.log({\n",
    "                \"epoch\": epoch + 1,\n",
    "                \"train_loss\": train_loss,\n",
    "                \"train_accuracy\": train_accuracy,\n",
    "                \"val_loss\": val_loss,\n",
    "                \"val_accuracy\": val_accuracy\n",
    "            })\n",
    "\n",
    "\n",
    "def main(args):\n",
    "    config = {\n",
    "        'epochs': args.epochs,\n",
    "        'batch_size': args.batch_size,\n",
    "        'learning_rate': args.learning_rate,\n",
    "        'weight_decay': args.weight_decay\n",
    "    }\n",
    "\n",
    "    technique_name = \"layerNor_dropOut_weight_decay_{0:.3f}_\".format(args.weight_decay)\n",
    "    run_time_str = datetime.now().astimezone().strftime('%Y-%m-%d_%H-%M-%S')\n",
    "    name = f\"{technique_name}_{run_time_str}\"\n",
    "\n",
    "    project_name = \"cnn_fashion_mnist\"\n",
    "    wandb.init(\n",
    "        mode=\"online\" if args.wandb else \"disabled\",\n",
    "        project=project_name,\n",
    "        notes=\"Experiment with layer normalization and dropout\",\n",
    "        tags=[\"cnn\", \"fashion_mnist\"],\n",
    "        name=name,\n",
    "        config=config\n",
    "    )\n",
    "\n",
    "    device = torch.device(\"cuda:0\" if torch.cuda.is_available() else \"cpu\")\n",
    "    print(f\"Training on device {device}.\")\n",
    "\n",
    "    train_data_loader, validation_data_loader = get_fashion_mnist_data()\n",
    "    model = get_my_cnn_model_with_dropout_layerNormalization()\n",
    "    model.to(device)\n",
    "\n",
    "    optimizer = optim.Adam(model.parameters(), lr=args.learning_rate, weight_decay=args.weight_decay)\n",
    "    print(\"Optimizer:\", optimizer)\n",
    "\n",
    "    summary(model, input_size=(1, 1, 28, 28))\n",
    "\n",
    "    trainer = ClassificationTrainer(\n",
    "        project_name=project_name,\n",
    "        model=model,\n",
    "        optimizer=optimizer,\n",
    "        train_data_loader=train_data_loader,\n",
    "        validation_data_loader=validation_data_loader,\n",
    "        device=device\n",
    "    )\n",
    "    trainer.train_loop(args.epochs)\n",
    "\n",
    "    wandb.finish()\n",
    "\n",
    "\n",
    "if __name__ == \"__main__\":\n",
    "    args_str = \"--wandb -v 20 -o 3 --weight_decay 0.0\"\n",
    "    args_list = args_str.split()\n",
    "\n",
    "    parser = get_parser()\n",
    "    args = parser.parse_args(args_list)\n",
    "    main(args)\n"
   ]
  },
  {
   "cell_type": "markdown",
   "metadata": {
    "id": "5KG7d2EB_Bbi"
   },
   "source": [
    "##### train8 - train6or7 + augmentation"
   ]
  },
  {
   "cell_type": "code",
   "execution_count": 14,
   "metadata": {
    "colab": {
     "base_uri": "https://localhost:8080/",
     "referenced_widgets": [
      "5d369aaf32554b5abf728df69de5fa64",
      "0c0e7a7c97d74942bf38282f53772f35",
      "ebd99fb18857460c90c56bf7fe24216d",
      "7aec17e955014385818b59da3b4448f7",
      "f89eb28e38bf436da0d937f5747923fe",
      "a98272bd2d104831a9577814b408dfe5",
      "27d040ecafbd4984ba1d74d671e26d4a",
      "3f008cc315924430b2ef5b643cda81ca",
      "8f00811a7d184a2a9f1c545f196409b3",
      "bd9b168f14bd4ab89ef868535379d749",
      "cc0168aa9b2e48e7b660463c93ba5171",
      "0488fbfcd2ed4358b2364e3c3ece27b9",
      "1263f6e7e20646e289d5743c8144b270",
      "430ca5f8185942d5a307c488fd49cae0",
      "2f9c3c2fe317495c904b8fa21cdd066e",
      "a0d449da929947309b4fe2dd4c7289a4"
     ]
    },
    "executionInfo": {
     "elapsed": 1119296,
     "status": "ok",
     "timestamp": 1700289939439,
     "user": {
      "displayName": "NULL JO",
      "userId": "17442773596076107047"
     },
     "user_tz": -540
    },
    "id": "rXkOuGvS_SbI",
    "outputId": "e1030aad-f59d-4a96-b606-a15f19dc4b25"
   },
   "outputs": [
    {
     "data": {
      "text/html": [
       "Tracking run with wandb version 0.18.7"
      ],
      "text/plain": [
       "<IPython.core.display.HTML object>"
      ]
     },
     "metadata": {},
     "output_type": "display_data"
    },
    {
     "data": {
      "text/html": [
       "Run data is saved locally in <code>/home/work/dl_choo/wandb/run-20241116_150258-07u3b8p2</code>"
      ],
      "text/plain": [
       "<IPython.core.display.HTML object>"
      ]
     },
     "metadata": {},
     "output_type": "display_data"
    },
    {
     "data": {
      "text/html": [
       "Syncing run <strong><a href='https://wandb.ai/choo0412-korea-university-of-technology-and-education/cnn_fashion_mnist/runs/07u3b8p2' target=\"_blank\">generous-plasma-78</a></strong> to <a href='https://wandb.ai/choo0412-korea-university-of-technology-and-education/cnn_fashion_mnist' target=\"_blank\">Weights & Biases</a> (<a href='https://wandb.me/developer-guide' target=\"_blank\">docs</a>)<br/>"
      ],
      "text/plain": [
       "<IPython.core.display.HTML object>"
      ]
     },
     "metadata": {},
     "output_type": "display_data"
    },
    {
     "data": {
      "text/html": [
       " View project at <a href='https://wandb.ai/choo0412-korea-university-of-technology-and-education/cnn_fashion_mnist' target=\"_blank\">https://wandb.ai/choo0412-korea-university-of-technology-and-education/cnn_fashion_mnist</a>"
      ],
      "text/plain": [
       "<IPython.core.display.HTML object>"
      ]
     },
     "metadata": {},
     "output_type": "display_data"
    },
    {
     "data": {
      "text/html": [
       " View run at <a href='https://wandb.ai/choo0412-korea-university-of-technology-and-education/cnn_fashion_mnist/runs/07u3b8p2' target=\"_blank\">https://wandb.ai/choo0412-korea-university-of-technology-and-education/cnn_fashion_mnist/runs/07u3b8p2</a>"
      ],
      "text/plain": [
       "<IPython.core.display.HTML object>"
      ]
     },
     "metadata": {},
     "output_type": "display_data"
    },
    {
     "name": "stdout",
     "output_type": "stream",
     "text": [
      "Epoch 1/20:\n",
      "Train Loss: 1.3785, Train Accuracy: 51.63%\n",
      "Validation Loss: 0.6906, Validation Accuracy: 74.74%\n",
      "Epoch 2/20:\n",
      "Train Loss: 0.8116, Train Accuracy: 70.91%\n",
      "Validation Loss: 0.5760, Validation Accuracy: 78.00%\n",
      "Epoch 3/20:\n",
      "Train Loss: 0.7093, Train Accuracy: 74.18%\n",
      "Validation Loss: 0.5622, Validation Accuracy: 79.01%\n",
      "Epoch 4/20:\n",
      "Train Loss: 0.6608, Train Accuracy: 75.66%\n",
      "Validation Loss: 0.5184, Validation Accuracy: 79.80%\n",
      "Epoch 5/20:\n",
      "Train Loss: 0.6240, Train Accuracy: 77.23%\n",
      "Validation Loss: 0.4794, Validation Accuracy: 81.54%\n",
      "Epoch 6/20:\n",
      "Train Loss: 0.6002, Train Accuracy: 78.16%\n",
      "Validation Loss: 0.4805, Validation Accuracy: 81.37%\n",
      "Epoch 7/20:\n",
      "Train Loss: 0.5807, Train Accuracy: 79.12%\n",
      "Validation Loss: 0.4500, Validation Accuracy: 83.43%\n",
      "Epoch 8/20:\n",
      "Train Loss: 0.5626, Train Accuracy: 79.45%\n",
      "Validation Loss: 0.4660, Validation Accuracy: 82.89%\n",
      "Epoch 9/20:\n",
      "Train Loss: 0.5514, Train Accuracy: 80.22%\n",
      "Validation Loss: 0.4176, Validation Accuracy: 84.30%\n",
      "Epoch 10/20:\n",
      "Train Loss: 0.5315, Train Accuracy: 80.85%\n",
      "Validation Loss: 0.3970, Validation Accuracy: 85.49%\n",
      "Epoch 11/20:\n",
      "Train Loss: 0.5157, Train Accuracy: 81.39%\n",
      "Validation Loss: 0.3910, Validation Accuracy: 85.22%\n",
      "Epoch 12/20:\n",
      "Train Loss: 0.5145, Train Accuracy: 81.64%\n",
      "Validation Loss: 0.3968, Validation Accuracy: 85.21%\n",
      "Epoch 13/20:\n",
      "Train Loss: 0.5058, Train Accuracy: 81.82%\n",
      "Validation Loss: 0.3963, Validation Accuracy: 84.92%\n",
      "Epoch 14/20:\n",
      "Train Loss: 0.4891, Train Accuracy: 82.42%\n",
      "Validation Loss: 0.3919, Validation Accuracy: 85.19%\n",
      "Epoch 15/20:\n",
      "Train Loss: 0.4858, Train Accuracy: 82.58%\n",
      "Validation Loss: 0.3820, Validation Accuracy: 85.89%\n",
      "Epoch 16/20:\n",
      "Train Loss: 0.4820, Train Accuracy: 82.80%\n",
      "Validation Loss: 0.3604, Validation Accuracy: 86.64%\n",
      "Epoch 17/20:\n",
      "Train Loss: 0.4710, Train Accuracy: 83.29%\n",
      "Validation Loss: 0.3722, Validation Accuracy: 86.30%\n",
      "Epoch 18/20:\n",
      "Train Loss: 0.4676, Train Accuracy: 83.08%\n",
      "Validation Loss: 0.3743, Validation Accuracy: 86.49%\n",
      "Epoch 19/20:\n",
      "Train Loss: 0.4646, Train Accuracy: 83.49%\n",
      "Validation Loss: 0.3729, Validation Accuracy: 85.78%\n",
      "Epoch 20/20:\n",
      "Train Loss: 0.4573, Train Accuracy: 83.67%\n",
      "Validation Loss: 0.3853, Validation Accuracy: 85.12%\n"
     ]
    },
    {
     "data": {
      "text/html": [
       "\n",
       "    <style>\n",
       "        .wandb-row {\n",
       "            display: flex;\n",
       "            flex-direction: row;\n",
       "            flex-wrap: wrap;\n",
       "            justify-content: flex-start;\n",
       "            width: 100%;\n",
       "        }\n",
       "        .wandb-col {\n",
       "            display: flex;\n",
       "            flex-direction: column;\n",
       "            flex-basis: 100%;\n",
       "            flex: 1;\n",
       "            padding: 10px;\n",
       "        }\n",
       "    </style>\n",
       "<div class=\"wandb-row\"><div class=\"wandb-col\"><h3>Run history:</h3><br/><table class=\"wandb\"><tr><td>epoch</td><td>▁▁▂▂▂▃▃▄▄▄▅▅▅▆▆▇▇▇██</td></tr><tr><td>train_accuracy</td><td>▁▅▆▆▇▇▇▇▇▇██████████</td></tr><tr><td>train_loss</td><td>█▄▃▃▂▂▂▂▂▂▁▁▁▁▁▁▁▁▁▁</td></tr><tr><td>val_accuracy</td><td>▁▃▄▄▅▅▆▆▇▇▇▇▇▇████▇▇</td></tr><tr><td>val_loss</td><td>█▆▅▄▄▄▃▃▂▂▂▂▂▂▁▁▁▁▁▂</td></tr></table><br/></div><div class=\"wandb-col\"><h3>Run summary:</h3><br/><table class=\"wandb\"><tr><td>epoch</td><td>20</td></tr><tr><td>train_accuracy</td><td>83.665</td></tr><tr><td>train_loss</td><td>0.45726</td></tr><tr><td>val_accuracy</td><td>85.12</td></tr><tr><td>val_loss</td><td>0.38527</td></tr></table><br/></div></div>"
      ],
      "text/plain": [
       "<IPython.core.display.HTML object>"
      ]
     },
     "metadata": {},
     "output_type": "display_data"
    },
    {
     "data": {
      "text/html": [
       " View run <strong style=\"color:#cdcd00\">generous-plasma-78</strong> at: <a href='https://wandb.ai/choo0412-korea-university-of-technology-and-education/cnn_fashion_mnist/runs/07u3b8p2' target=\"_blank\">https://wandb.ai/choo0412-korea-university-of-technology-and-education/cnn_fashion_mnist/runs/07u3b8p2</a><br/> View project at: <a href='https://wandb.ai/choo0412-korea-university-of-technology-and-education/cnn_fashion_mnist' target=\"_blank\">https://wandb.ai/choo0412-korea-university-of-technology-and-education/cnn_fashion_mnist</a><br/>Synced 5 W&B file(s), 0 media file(s), 0 artifact file(s) and 0 other file(s)"
      ],
      "text/plain": [
       "<IPython.core.display.HTML object>"
      ]
     },
     "metadata": {},
     "output_type": "display_data"
    },
    {
     "data": {
      "text/html": [
       "Find logs at: <code>./wandb/run-20241116_150258-07u3b8p2/logs</code>"
      ],
      "text/plain": [
       "<IPython.core.display.HTML object>"
      ]
     },
     "metadata": {},
     "output_type": "display_data"
    }
   ],
   "source": [
    "def main(args):\n",
    "    wandb.init(project=\"cnn_fashion_mnist\", config={\n",
    "        \"epochs\": args.epochs,\n",
    "        \"batch_size\": args.batch_size,\n",
    "        \"learning_rate\": args.learning_rate,\n",
    "        \"optimizer\": args.optimizer,\n",
    "        \"weight_decay\": args.weight_decay\n",
    "    })\n",
    "    config = wandb.config\n",
    "    device = torch.device(\"cuda\" if torch.cuda.is_available() else \"cpu\")\n",
    "\n",
    "    # 데이터 로드\n",
    "    train_data_loader, validation_data_loader = get_augmented_fashion_mnist_data()\n",
    "    model = get_my_cnn_model_with_dropout_layerNormalization()\n",
    "    model.to(device)\n",
    "\n",
    "    # Adam Optimizer에 weight_decay 적용\n",
    "    optimizer = optim.Adam(model.parameters(), lr=config.learning_rate, weight_decay=config.weight_decay)\n",
    "\n",
    "    # ClassificationTrainer 초기화\n",
    "    trainer = ClassificationTrainer(\n",
    "        model=model,\n",
    "        optimizer=optimizer,\n",
    "        train_data_loader=train_data_loader,\n",
    "        validation_data_loader=validation_data_loader,\n",
    "        device=device\n",
    "    )\n",
    "\n",
    "    \n",
    "    trainer.train_loop(epochs=20)\n",
    "\n",
    "    wandb.finish()\n",
    "\n",
    "\n",
    "if __name__ == \"__main__\":\n",
    "    import sys\n",
    "\n",
    "    # Remove Jupyter's arguments\n",
    "    sys.argv = [sys.argv[0]]\n",
    "\n",
    "    parser = get_parser()\n",
    "    args = parser.parse_args()\n",
    "    args.epochs = 20  # Epoch 수 증가\n",
    "    args.learning_rate = 0.0005  # 학습률을 약간 낮춰 안정적 학습\n",
    "    args.batch_size = 512  # Batch 크기 유지\n",
    "    main(args)\n"
   ]
  },
  {
   "cell_type": "code",
   "execution_count": 17,
   "metadata": {
    "colab": {
     "base_uri": "https://localhost:8080/",
     "referenced_widgets": [
      "b07f7ee7ac664da2a6b2950812d50861",
      "e3b25b81e82e45948f8af72ae076d1b4",
      "76ab7683874542339ec328d11c131859",
      "4a17d72adfda4025b3026b06e29d0802",
      "24efb88f70f34e678e182cc5a56d6438",
      "99283fce183445c68a0fd670b464c88f",
      "223e10eb1d7c4d16b1652307e47d3deb",
      "6330a43aad00467fab6929cdc8acdee9"
     ]
    },
    "executionInfo": {
     "elapsed": 74716,
     "status": "error",
     "timestamp": 1700290209853,
     "user": {
      "displayName": "NULL JO",
      "userId": "17442773596076107047"
     },
     "user_tz": -540
    },
    "id": "AU1OAdRgL-v3",
    "outputId": "f9631a27-040d-4a94-a52a-58c111caf7cf",
    "scrolled": true
   },
   "outputs": [
    {
     "data": {
      "text/html": [
       "Tracking run with wandb version 0.18.7"
      ],
      "text/plain": [
       "<IPython.core.display.HTML object>"
      ]
     },
     "metadata": {},
     "output_type": "display_data"
    },
    {
     "data": {
      "text/html": [
       "Run data is saved locally in <code>/home/work/dl_choo/wandb/run-20241116_151838-n37d7bxt</code>"
      ],
      "text/plain": [
       "<IPython.core.display.HTML object>"
      ]
     },
     "metadata": {},
     "output_type": "display_data"
    },
    {
     "data": {
      "text/html": [
       "Syncing run <strong><a href='https://wandb.ai/choo0412-korea-university-of-technology-and-education/cnn_fashion_mnist/runs/n37d7bxt' target=\"_blank\">stellar-dream-81</a></strong> to <a href='https://wandb.ai/choo0412-korea-university-of-technology-and-education/cnn_fashion_mnist' target=\"_blank\">Weights & Biases</a> (<a href='https://wandb.me/developer-guide' target=\"_blank\">docs</a>)<br/>"
      ],
      "text/plain": [
       "<IPython.core.display.HTML object>"
      ]
     },
     "metadata": {},
     "output_type": "display_data"
    },
    {
     "data": {
      "text/html": [
       " View project at <a href='https://wandb.ai/choo0412-korea-university-of-technology-and-education/cnn_fashion_mnist' target=\"_blank\">https://wandb.ai/choo0412-korea-university-of-technology-and-education/cnn_fashion_mnist</a>"
      ],
      "text/plain": [
       "<IPython.core.display.HTML object>"
      ]
     },
     "metadata": {},
     "output_type": "display_data"
    },
    {
     "data": {
      "text/html": [
       " View run at <a href='https://wandb.ai/choo0412-korea-university-of-technology-and-education/cnn_fashion_mnist/runs/n37d7bxt' target=\"_blank\">https://wandb.ai/choo0412-korea-university-of-technology-and-education/cnn_fashion_mnist/runs/n37d7bxt</a>"
      ],
      "text/plain": [
       "<IPython.core.display.HTML object>"
      ]
     },
     "metadata": {},
     "output_type": "display_data"
    },
    {
     "name": "stdout",
     "output_type": "stream",
     "text": [
      "Epoch 1/10:\n",
      "Train Loss: 1.0192, Train Accuracy: 62.77%\n",
      "Validation Loss: 0.5657, Validation Accuracy: 78.23%\n",
      "Epoch 2/10:\n",
      "Train Loss: 0.6570, Train Accuracy: 75.51%\n",
      "Validation Loss: 0.5047, Validation Accuracy: 81.03%\n",
      "Epoch 3/10:\n",
      "Train Loss: 0.5856, Train Accuracy: 78.28%\n",
      "Validation Loss: 0.4464, Validation Accuracy: 83.20%\n",
      "Epoch 4/10:\n",
      "Train Loss: 0.5386, Train Accuracy: 80.26%\n",
      "Validation Loss: 0.4229, Validation Accuracy: 83.93%\n",
      "Epoch 5/10:\n",
      "Train Loss: 0.5101, Train Accuracy: 81.26%\n",
      "Validation Loss: 0.4133, Validation Accuracy: 84.61%\n",
      "Epoch 6/10:\n",
      "Train Loss: 0.4786, Train Accuracy: 82.54%\n",
      "Validation Loss: 0.3718, Validation Accuracy: 86.56%\n",
      "Epoch 7/10:\n",
      "Train Loss: 0.4588, Train Accuracy: 83.25%\n",
      "Validation Loss: 0.3558, Validation Accuracy: 86.74%\n",
      "Epoch 8/10:\n",
      "Train Loss: 0.4443, Train Accuracy: 83.83%\n",
      "Validation Loss: 0.3475, Validation Accuracy: 87.29%\n",
      "Epoch 9/10:\n",
      "Train Loss: 0.4310, Train Accuracy: 84.13%\n",
      "Validation Loss: 0.3405, Validation Accuracy: 87.78%\n",
      "Epoch 10/10:\n",
      "Train Loss: 0.4212, Train Accuracy: 84.48%\n",
      "Validation Loss: 0.3344, Validation Accuracy: 87.86%\n"
     ]
    },
    {
     "data": {
      "text/html": [
       "\n",
       "    <style>\n",
       "        .wandb-row {\n",
       "            display: flex;\n",
       "            flex-direction: row;\n",
       "            flex-wrap: wrap;\n",
       "            justify-content: flex-start;\n",
       "            width: 100%;\n",
       "        }\n",
       "        .wandb-col {\n",
       "            display: flex;\n",
       "            flex-direction: column;\n",
       "            flex-basis: 100%;\n",
       "            flex: 1;\n",
       "            padding: 10px;\n",
       "        }\n",
       "    </style>\n",
       "<div class=\"wandb-row\"><div class=\"wandb-col\"><h3>Run history:</h3><br/><table class=\"wandb\"><tr><td>epoch</td><td>▁▂▃▃▄▅▆▆▇█</td></tr><tr><td>train_accuracy</td><td>▁▅▆▇▇▇████</td></tr><tr><td>train_loss</td><td>█▄▃▂▂▂▁▁▁▁</td></tr><tr><td>val_accuracy</td><td>▁▃▅▅▆▇▇███</td></tr><tr><td>val_loss</td><td>█▆▄▄▃▂▂▁▁▁</td></tr></table><br/></div><div class=\"wandb-col\"><h3>Run summary:</h3><br/><table class=\"wandb\"><tr><td>epoch</td><td>10</td></tr><tr><td>train_accuracy</td><td>84.48</td></tr><tr><td>train_loss</td><td>0.4212</td></tr><tr><td>val_accuracy</td><td>87.86</td></tr><tr><td>val_loss</td><td>0.33444</td></tr></table><br/></div></div>"
      ],
      "text/plain": [
       "<IPython.core.display.HTML object>"
      ]
     },
     "metadata": {},
     "output_type": "display_data"
    },
    {
     "data": {
      "text/html": [
       " View run <strong style=\"color:#cdcd00\">stellar-dream-81</strong> at: <a href='https://wandb.ai/choo0412-korea-university-of-technology-and-education/cnn_fashion_mnist/runs/n37d7bxt' target=\"_blank\">https://wandb.ai/choo0412-korea-university-of-technology-and-education/cnn_fashion_mnist/runs/n37d7bxt</a><br/> View project at: <a href='https://wandb.ai/choo0412-korea-university-of-technology-and-education/cnn_fashion_mnist' target=\"_blank\">https://wandb.ai/choo0412-korea-university-of-technology-and-education/cnn_fashion_mnist</a><br/>Synced 5 W&B file(s), 0 media file(s), 0 artifact file(s) and 0 other file(s)"
      ],
      "text/plain": [
       "<IPython.core.display.HTML object>"
      ]
     },
     "metadata": {},
     "output_type": "display_data"
    },
    {
     "data": {
      "text/html": [
       "Find logs at: <code>./wandb/run-20241116_151838-n37d7bxt/logs</code>"
      ],
      "text/plain": [
       "<IPython.core.display.HTML object>"
      ]
     },
     "metadata": {},
     "output_type": "display_data"
    }
   ],
   "source": [
    "import argparse\n",
    "import torch\n",
    "import torch.nn as nn\n",
    "import torch.optim as optim\n",
    "from torch.utils.data import DataLoader\n",
    "from torchvision import datasets, transforms\n",
    "from datetime import datetime\n",
    "import wandb\n",
    "\n",
    "\n",
    "def get_parser():\n",
    "    parser = argparse.ArgumentParser(description=\"Train a CNN model on Fashion MNIST with augmentation and normalization.\")\n",
    "    parser.add_argument(\"--wandb\", action=\"store_true\", help=\"Enable WandB logging\")\n",
    "    parser.add_argument(\"-b\", \"--batch_size\", type=int, default=256, help=\"Batch size\")\n",
    "    parser.add_argument(\"-r\", \"--learning_rate\", type=float, default=0.0005, help=\"Learning rate\")\n",
    "    parser.add_argument(\"-v\", \"--epochs\", type=int, default=10, help=\"Number of epochs\")\n",
    "    parser.add_argument(\"-o\", \"--optimizer\", type=int, choices=range(4), default=3, help=\"Optimizer (0: SGD, 1: Momentum, 2: RMSProp, 3: Adam)\")\n",
    "    parser.add_argument(\"-w\", \"--weight_decay\", type=float, default=0.0, help=\"Weight decay (L2 regularization)\")\n",
    "    return parser\n",
    "\n",
    "\n",
    "def get_augmented_fashion_mnist_data():\n",
    "    transform_train = transforms.Compose([\n",
    "        transforms.RandomHorizontalFlip(),\n",
    "        transforms.RandomRotation(15),\n",
    "        transforms.RandomCrop(28, padding=4),\n",
    "        transforms.ColorJitter(brightness=0.2, contrast=0.2),\n",
    "        transforms.ToTensor(),\n",
    "        transforms.Normalize((0.5,), (0.5,))\n",
    "    ])\n",
    "\n",
    "    transform_val = transforms.Compose([\n",
    "        transforms.ToTensor(),\n",
    "        transforms.Normalize((0.5,), (0.5,))\n",
    "    ])\n",
    "\n",
    "    train_dataset = datasets.FashionMNIST(root=\"./data\", train=True, download=True, transform=transform_train)\n",
    "    validation_dataset = datasets.FashionMNIST(root=\"./data\", train=False, download=True, transform=transform_val)\n",
    "\n",
    "    train_data_loader = DataLoader(train_dataset, batch_size=256, shuffle=True)\n",
    "    validation_data_loader = DataLoader(validation_dataset, batch_size=256, shuffle=False)\n",
    "\n",
    "    return train_data_loader, validation_data_loader\n",
    "\n",
    "\n",
    "def get_my_cnn_model_with_dropout_layerNormalization():\n",
    "    class LayerNorm(nn.Module):\n",
    "        def __init__(self, normalized_shape):\n",
    "            super(LayerNorm, self).__init__()\n",
    "            self.layer_norm = nn.LayerNorm(normalized_shape)\n",
    "\n",
    "        def forward(self, x):\n",
    "            if x.dim() == 4:  # For 4D tensors (batch_size, channels, height, width)\n",
    "                x = x.permute(0, 2, 3, 1)  # Change to (batch_size, height, width, channels)\n",
    "                x = self.layer_norm(x)\n",
    "                x = x.permute(0, 3, 1, 2)  # Back to (batch_size, channels, height, width)\n",
    "            return x\n",
    "\n",
    "    model = nn.Sequential(\n",
    "        nn.Conv2d(1, 64, kernel_size=3, padding=1),\n",
    "        LayerNorm([28, 28, 64]),\n",
    "        nn.ReLU(),\n",
    "        nn.MaxPool2d(2),\n",
    "        nn.Conv2d(64, 128, kernel_size=3, padding=1),\n",
    "        LayerNorm([14, 14, 128]),\n",
    "        nn.ReLU(),\n",
    "        nn.MaxPool2d(2),\n",
    "        nn.Conv2d(128, 256, kernel_size=3, padding=1),\n",
    "        LayerNorm([7, 7, 256]),\n",
    "        nn.ReLU(),\n",
    "        nn.Flatten(),\n",
    "        nn.Linear(256 * 7 * 7, 512),\n",
    "        nn.LayerNorm(512),\n",
    "        nn.ReLU(),\n",
    "        nn.Dropout(0.5),\n",
    "        nn.Linear(512, 256),\n",
    "        nn.LayerNorm(256),\n",
    "        nn.ReLU(),\n",
    "        nn.Dropout(0.5),\n",
    "        nn.Linear(256, 10)\n",
    "    )\n",
    "    return model\n",
    "\n",
    "\n",
    "class ClassificationTrainer:\n",
    "    def __init__(self, model, optimizer, train_data_loader, validation_data_loader, device):\n",
    "        self.model = model\n",
    "        self.optimizer = optimizer\n",
    "        self.train_data_loader = train_data_loader\n",
    "        self.validation_data_loader = validation_data_loader\n",
    "        self.device = device\n",
    "        self.criterion = nn.CrossEntropyLoss()\n",
    "\n",
    "    def do_train(self):\n",
    "        self.model.train()\n",
    "        total_loss = 0\n",
    "        correct = 0\n",
    "        total = 0\n",
    "\n",
    "        for inputs, labels in self.train_data_loader:\n",
    "            inputs, labels = inputs.to(self.device), labels.to(self.device)\n",
    "            outputs = self.model(inputs)\n",
    "            loss = self.criterion(outputs, labels)\n",
    "\n",
    "            self.optimizer.zero_grad()\n",
    "            loss.backward()\n",
    "            self.optimizer.step()\n",
    "\n",
    "            total_loss += loss.item()\n",
    "            _, predicted = outputs.max(1)\n",
    "            correct += (predicted == labels).sum().item()\n",
    "            total += labels.size(0)\n",
    "\n",
    "        accuracy = 100 * correct / total\n",
    "        average_loss = total_loss / len(self.train_data_loader)\n",
    "        return average_loss, accuracy\n",
    "\n",
    "    def do_validation(self):\n",
    "        self.model.eval()\n",
    "        total_loss = 0\n",
    "        correct = 0\n",
    "        total = 0\n",
    "\n",
    "        with torch.no_grad():\n",
    "            for inputs, labels in self.validation_data_loader:\n",
    "                inputs, labels = inputs.to(self.device), labels.to(self.device)\n",
    "                outputs = self.model(inputs)\n",
    "                loss = self.criterion(outputs, labels)\n",
    "\n",
    "                total_loss += loss.item()\n",
    "                _, predicted = outputs.max(1)\n",
    "                correct += (predicted == labels).sum().item()\n",
    "                total += labels.size(0)\n",
    "\n",
    "        accuracy = 100 * correct / total\n",
    "        average_loss = total_loss / len(self.validation_data_loader)\n",
    "        return average_loss, accuracy\n",
    "\n",
    "    def train_loop(self, epochs):\n",
    "        for epoch in range(epochs):\n",
    "            train_loss, train_accuracy = self.do_train()\n",
    "            val_loss, val_accuracy = self.do_validation()\n",
    "\n",
    "            print(f\"Epoch {epoch + 1}/{epochs}:\")\n",
    "            print(f\"Train Loss: {train_loss:.4f}, Train Accuracy: {train_accuracy:.2f}%\")\n",
    "            print(f\"Validation Loss: {val_loss:.4f}, Validation Accuracy: {val_accuracy:.2f}%\")\n",
    "\n",
    "            wandb.log({\n",
    "                \"epoch\": epoch + 1,\n",
    "                \"train_loss\": train_loss,\n",
    "                \"train_accuracy\": train_accuracy,\n",
    "                \"val_loss\": val_loss,\n",
    "                \"val_accuracy\": val_accuracy\n",
    "            })\n",
    "\n",
    "\n",
    "def main(args):\n",
    "    wandb.init(project=\"cnn_fashion_mnist\", config={\n",
    "        \"epochs\": args.epochs,\n",
    "        \"batch_size\": args.batch_size,\n",
    "        \"learning_rate\": args.learning_rate,\n",
    "        \"optimizer\": args.optimizer,\n",
    "        \"weight_decay\": args.weight_decay\n",
    "    })\n",
    "    config = wandb.config\n",
    "    device = torch.device(\"cuda\" if torch.cuda.is_available() else \"cpu\")\n",
    "\n",
    "    train_data_loader, validation_data_loader = get_augmented_fashion_mnist_data()\n",
    "    model = get_my_cnn_model_with_dropout_layerNormalization()\n",
    "    model.to(device)\n",
    "\n",
    "    optimizer = optim.Adam(model.parameters(), lr=config.learning_rate, weight_decay=config.weight_decay)\n",
    "\n",
    "    trainer = ClassificationTrainer(\n",
    "        model=model,\n",
    "        optimizer=optimizer,\n",
    "        train_data_loader=train_data_loader,\n",
    "        validation_data_loader=validation_data_loader,\n",
    "        device=device\n",
    "    )\n",
    "    trainer.train_loop(config.epochs)\n",
    "\n",
    "    wandb.finish()\n",
    "\n",
    "\n",
    "if __name__ == \"__main__\":\n",
    "    import sys\n",
    "\n",
    "    sys.argv = [sys.argv[0]]\n",
    "    parser = get_parser()\n",
    "    args = parser.parse_args()\n",
    "    main(args)\n"
   ]
  },
  {
   "cell_type": "markdown",
   "metadata": {
    "id": "Hrg4HSrWNXbR"
   },
   "source": [
    "##### train9 - adam + layerNormaliztion"
   ]
  },
  {
   "cell_type": "code",
   "execution_count": 4,
   "metadata": {
    "colab": {
     "base_uri": "https://localhost:8080/",
     "height": 1000,
     "referenced_widgets": [
      "b4ff61e3a2964513b6d22abb77c4c197",
      "2b59081eb1074af28db625e3fdc92ed0",
      "2ee7357b2b9440d4bcdf5dc310efc7e1",
      "7a17c28bf0184fac806781e48814dbd0",
      "47242b42045a496b9016fe8c23424ca2",
      "c12962fa1f9643889120adefa7a0ca5b",
      "023c1866eaf5452db6a59b5f32fab94c",
      "b8c00db6612b441fa7f2fa53499a7e0d",
      "ed6ec7494a534c628db084ee41ca78ce",
      "d21eb11860ba4c89b082825334552f81",
      "864d5d5a6c3c44219ff87b1534cba269",
      "374722acef4b4d5391cfb19c4ab8fda0",
      "eb2e7648098f4685bbcccb7f5190800f",
      "4e16eb65b1744b96932699768fe6af1b",
      "b8561ff80ed34cebb9e42f854edfc579",
      "eec954b3ee50455a9809f2e5fe911139"
     ]
    },
    "executionInfo": {
     "elapsed": 1346254,
     "status": "ok",
     "timestamp": 1700291964680,
     "user": {
      "displayName": "NULL JO",
      "userId": "17442773596076107047"
     },
     "user_tz": -540
    },
    "id": "822FLNNTNcyW",
    "outputId": "19b7c37a-9ba4-4940-c718-0ff145cfcb93"
   },
   "outputs": [
    {
     "name": "stderr",
     "output_type": "stream",
     "text": [
      "\u001b[34m\u001b[1mwandb\u001b[0m: Currently logged in as: \u001b[33mchoo0412\u001b[0m (\u001b[33mchoo0412-korea-university-of-technology-and-education\u001b[0m). Use \u001b[1m`wandb login --relogin`\u001b[0m to force relogin\n"
     ]
    },
    {
     "data": {
      "application/vnd.jupyter.widget-view+json": {
       "model_id": "b431df895fa04f968472d2b7046db008",
       "version_major": 2,
       "version_minor": 0
      },
      "text/plain": [
       "VBox(children=(Label(value='Waiting for wandb.init()...\\r'), FloatProgress(value=0.011113046358029047, max=1.0…"
      ]
     },
     "metadata": {},
     "output_type": "display_data"
    },
    {
     "data": {
      "text/html": [
       "Tracking run with wandb version 0.18.7"
      ],
      "text/plain": [
       "<IPython.core.display.HTML object>"
      ]
     },
     "metadata": {},
     "output_type": "display_data"
    },
    {
     "data": {
      "text/html": [
       "Run data is saved locally in <code>/home/work/dl_choo/wandb/run-20241116_153417-si1slsiz</code>"
      ],
      "text/plain": [
       "<IPython.core.display.HTML object>"
      ]
     },
     "metadata": {},
     "output_type": "display_data"
    },
    {
     "data": {
      "text/html": [
       "Syncing run <strong><a href='https://wandb.ai/choo0412-korea-university-of-technology-and-education/cnn_fashion_mnist/runs/si1slsiz' target=\"_blank\">warm-fog-83</a></strong> to <a href='https://wandb.ai/choo0412-korea-university-of-technology-and-education/cnn_fashion_mnist' target=\"_blank\">Weights & Biases</a> (<a href='https://wandb.me/developer-guide' target=\"_blank\">docs</a>)<br/>"
      ],
      "text/plain": [
       "<IPython.core.display.HTML object>"
      ]
     },
     "metadata": {},
     "output_type": "display_data"
    },
    {
     "data": {
      "text/html": [
       " View project at <a href='https://wandb.ai/choo0412-korea-university-of-technology-and-education/cnn_fashion_mnist' target=\"_blank\">https://wandb.ai/choo0412-korea-university-of-technology-and-education/cnn_fashion_mnist</a>"
      ],
      "text/plain": [
       "<IPython.core.display.HTML object>"
      ]
     },
     "metadata": {},
     "output_type": "display_data"
    },
    {
     "data": {
      "text/html": [
       " View run at <a href='https://wandb.ai/choo0412-korea-university-of-technology-and-education/cnn_fashion_mnist/runs/si1slsiz' target=\"_blank\">https://wandb.ai/choo0412-korea-university-of-technology-and-education/cnn_fashion_mnist/runs/si1slsiz</a>"
      ],
      "text/plain": [
       "<IPython.core.display.HTML object>"
      ]
     },
     "metadata": {},
     "output_type": "display_data"
    },
    {
     "name": "stdout",
     "output_type": "stream",
     "text": [
      "Epoch 1/20:\n",
      "Train Loss: 1.5797, Train Accuracy: 46.08%\n",
      "Validation Loss: 0.8678, Validation Accuracy: 72.09%\n",
      "Epoch 2/20:\n",
      "Train Loss: 1.0459, Train Accuracy: 65.09%\n",
      "Validation Loss: 0.6998, Validation Accuracy: 75.55%\n",
      "Epoch 3/20:\n",
      "Train Loss: 0.8823, Train Accuracy: 69.46%\n",
      "Validation Loss: 0.6266, Validation Accuracy: 76.70%\n",
      "Epoch 4/20:\n",
      "Train Loss: 0.8067, Train Accuracy: 71.46%\n",
      "Validation Loss: 0.5914, Validation Accuracy: 77.95%\n",
      "Epoch 5/20:\n",
      "Train Loss: 0.7590, Train Accuracy: 72.66%\n",
      "Validation Loss: 0.5558, Validation Accuracy: 79.10%\n",
      "Epoch 6/20:\n",
      "Train Loss: 0.7230, Train Accuracy: 73.96%\n",
      "Validation Loss: 0.5388, Validation Accuracy: 79.80%\n",
      "Epoch 7/20:\n",
      "Train Loss: 0.6997, Train Accuracy: 74.58%\n",
      "Validation Loss: 0.5209, Validation Accuracy: 80.37%\n",
      "Epoch 8/20:\n",
      "Train Loss: 0.6803, Train Accuracy: 75.29%\n",
      "Validation Loss: 0.5103, Validation Accuracy: 80.90%\n",
      "Epoch 9/20:\n",
      "Train Loss: 0.6605, Train Accuracy: 76.05%\n",
      "Validation Loss: 0.4942, Validation Accuracy: 81.59%\n",
      "Epoch 10/20:\n",
      "Train Loss: 0.6498, Train Accuracy: 76.33%\n",
      "Validation Loss: 0.4987, Validation Accuracy: 81.44%\n",
      "Epoch 11/20:\n",
      "Train Loss: 0.6376, Train Accuracy: 77.03%\n",
      "Validation Loss: 0.4845, Validation Accuracy: 81.93%\n",
      "Epoch 12/20:\n",
      "Train Loss: 0.6256, Train Accuracy: 77.37%\n",
      "Validation Loss: 0.4744, Validation Accuracy: 82.37%\n",
      "Epoch 13/20:\n",
      "Train Loss: 0.6125, Train Accuracy: 77.80%\n",
      "Validation Loss: 0.4586, Validation Accuracy: 82.85%\n",
      "Epoch 14/20:\n",
      "Train Loss: 0.6031, Train Accuracy: 78.06%\n",
      "Validation Loss: 0.4570, Validation Accuracy: 82.95%\n",
      "Epoch 15/20:\n",
      "Train Loss: 0.5957, Train Accuracy: 78.50%\n",
      "Validation Loss: 0.4672, Validation Accuracy: 82.49%\n",
      "Epoch 16/20:\n",
      "Train Loss: 0.5920, Train Accuracy: 78.63%\n",
      "Validation Loss: 0.4428, Validation Accuracy: 83.58%\n",
      "Epoch 17/20:\n",
      "Train Loss: 0.5826, Train Accuracy: 78.96%\n",
      "Validation Loss: 0.4439, Validation Accuracy: 83.65%\n",
      "Epoch 18/20:\n",
      "Train Loss: 0.5756, Train Accuracy: 79.30%\n",
      "Validation Loss: 0.4405, Validation Accuracy: 83.64%\n",
      "Epoch 19/20:\n",
      "Train Loss: 0.5675, Train Accuracy: 79.56%\n",
      "Validation Loss: 0.4365, Validation Accuracy: 83.98%\n",
      "Epoch 20/20:\n",
      "Train Loss: 0.5642, Train Accuracy: 79.68%\n",
      "Validation Loss: 0.4233, Validation Accuracy: 84.18%\n"
     ]
    },
    {
     "data": {
      "application/vnd.jupyter.widget-view+json": {
       "model_id": "",
       "version_major": 2,
       "version_minor": 0
      },
      "text/plain": [
       "VBox(children=(Label(value='0.009 MB of 0.009 MB uploaded\\r'), FloatProgress(value=1.0, max=1.0)))"
      ]
     },
     "metadata": {},
     "output_type": "display_data"
    },
    {
     "data": {
      "text/html": [
       "\n",
       "    <style>\n",
       "        .wandb-row {\n",
       "            display: flex;\n",
       "            flex-direction: row;\n",
       "            flex-wrap: wrap;\n",
       "            justify-content: flex-start;\n",
       "            width: 100%;\n",
       "        }\n",
       "        .wandb-col {\n",
       "            display: flex;\n",
       "            flex-direction: column;\n",
       "            flex-basis: 100%;\n",
       "            flex: 1;\n",
       "            padding: 10px;\n",
       "        }\n",
       "    </style>\n",
       "<div class=\"wandb-row\"><div class=\"wandb-col\"><h3>Run history:</h3><br/><table class=\"wandb\"><tr><td>epoch</td><td>▁▁▂▂▂▃▃▄▄▄▅▅▅▆▆▇▇▇██</td></tr><tr><td>train_accuracy</td><td>▁▅▆▆▇▇▇▇▇▇▇█████████</td></tr><tr><td>train_loss</td><td>█▄▃▃▂▂▂▂▂▂▂▁▁▁▁▁▁▁▁▁</td></tr><tr><td>val_accuracy</td><td>▁▃▄▄▅▅▆▆▇▆▇▇▇▇▇█████</td></tr><tr><td>val_loss</td><td>█▅▄▄▃▃▃▂▂▂▂▂▂▂▂▁▁▁▁▁</td></tr></table><br/></div><div class=\"wandb-col\"><h3>Run summary:</h3><br/><table class=\"wandb\"><tr><td>epoch</td><td>20</td></tr><tr><td>train_accuracy</td><td>79.68333</td></tr><tr><td>train_loss</td><td>0.56419</td></tr><tr><td>val_accuracy</td><td>84.18</td></tr><tr><td>val_loss</td><td>0.42329</td></tr></table><br/></div></div>"
      ],
      "text/plain": [
       "<IPython.core.display.HTML object>"
      ]
     },
     "metadata": {},
     "output_type": "display_data"
    },
    {
     "data": {
      "text/html": [
       " View run <strong style=\"color:#cdcd00\">warm-fog-83</strong> at: <a href='https://wandb.ai/choo0412-korea-university-of-technology-and-education/cnn_fashion_mnist/runs/si1slsiz' target=\"_blank\">https://wandb.ai/choo0412-korea-university-of-technology-and-education/cnn_fashion_mnist/runs/si1slsiz</a><br/> View project at: <a href='https://wandb.ai/choo0412-korea-university-of-technology-and-education/cnn_fashion_mnist' target=\"_blank\">https://wandb.ai/choo0412-korea-university-of-technology-and-education/cnn_fashion_mnist</a><br/>Synced 5 W&B file(s), 0 media file(s), 0 artifact file(s) and 0 other file(s)"
      ],
      "text/plain": [
       "<IPython.core.display.HTML object>"
      ]
     },
     "metadata": {},
     "output_type": "display_data"
    },
    {
     "data": {
      "text/html": [
       "Find logs at: <code>./wandb/run-20241116_153417-si1slsiz/logs</code>"
      ],
      "text/plain": [
       "<IPython.core.display.HTML object>"
      ]
     },
     "metadata": {},
     "output_type": "display_data"
    }
   ],
   "source": [
    "import argparse\n",
    "import torch\n",
    "import torch.nn as nn\n",
    "import torch.optim as optim\n",
    "from torch.utils.data import DataLoader\n",
    "from torchvision import datasets, transforms\n",
    "import wandb\n",
    "\n",
    "\n",
    "def get_parser():\n",
    "    parser = argparse.ArgumentParser(description=\"Train a CNN model on Fashion MNIST with augmentation and normalization.\")\n",
    "    parser.add_argument(\"--wandb\", action=\"store_true\", help=\"Enable WandB logging\")\n",
    "    parser.add_argument(\"-b\", \"--batch_size\", type=int, default=256, help=\"Batch size\")\n",
    "    parser.add_argument(\"-r\", \"--learning_rate\", type=float, default=1e-4, help=\"Learning rate\")\n",
    "    parser.add_argument(\"-v\", \"--epochs\", type=int, default=20, help=\"Number of epochs\")\n",
    "    parser.add_argument(\"-o\", \"--optimizer\", type=int, choices=range(4), default=3, help=\"Optimizer (0: SGD, 1: Momentum, 2: RMSProp, 3: AdamW)\")\n",
    "    return parser\n",
    "\n",
    "\n",
    "def get_fashion_mnist_data():\n",
    "    transform_train = transforms.Compose([\n",
    "        transforms.RandomHorizontalFlip(),\n",
    "        transforms.RandomRotation(15),\n",
    "        transforms.RandomCrop(28, padding=4),\n",
    "        transforms.ColorJitter(brightness=0.2, contrast=0.2, saturation=0.2, hue=0.1),\n",
    "        transforms.ToTensor(),\n",
    "        transforms.Normalize((0.5,), (0.5,))\n",
    "    ])\n",
    "\n",
    "    transform_val = transforms.Compose([\n",
    "        transforms.ToTensor(),\n",
    "        transforms.Normalize((0.5,), (0.5,))\n",
    "    ])\n",
    "\n",
    "    train_dataset = datasets.FashionMNIST(root=\"./data\", train=True, download=True, transform=transform_train)\n",
    "    validation_dataset = datasets.FashionMNIST(root=\"./data\", train=False, download=True, transform=transform_val)\n",
    "\n",
    "    train_data_loader = DataLoader(train_dataset, batch_size=256, shuffle=True)\n",
    "    validation_data_loader = DataLoader(validation_dataset, batch_size=256, shuffle=False)\n",
    "\n",
    "    return train_data_loader, validation_data_loader\n",
    "\n",
    "\n",
    "def get_my_cnn_model_with_dropout_layerNormalization():\n",
    "    class LayerNorm(nn.Module):\n",
    "        def __init__(self, normalized_shape):\n",
    "            super(LayerNorm, self).__init__()\n",
    "            self.layer_norm = nn.LayerNorm(normalized_shape)\n",
    "\n",
    "        def forward(self, x):\n",
    "            if x.dim() == 4:  # For 4D tensors (batch_size, channels, height, width)\n",
    "                x = x.permute(0, 2, 3, 1)  # Change to (batch_size, height, width, channels)\n",
    "                x = self.layer_norm(x)\n",
    "                x = x.permute(0, 3, 1, 2)  # Back to (batch_size, channels, height, width)\n",
    "            return x\n",
    "\n",
    "    model = nn.Sequential(\n",
    "        nn.Conv2d(1, 32, kernel_size=3, padding=1),\n",
    "        LayerNorm([28, 28, 32]),\n",
    "        nn.ReLU(),\n",
    "        nn.MaxPool2d(2),\n",
    "        nn.Conv2d(32, 64, kernel_size=3, padding=1),\n",
    "        LayerNorm([14, 14, 64]),\n",
    "        nn.ReLU(),\n",
    "        nn.MaxPool2d(2),\n",
    "        nn.Flatten(),\n",
    "        nn.Linear(64 * 7 * 7, 256),\n",
    "        nn.LayerNorm(256),\n",
    "        nn.ReLU(),\n",
    "        nn.Dropout(0.5),\n",
    "        nn.Linear(256, 128),\n",
    "        nn.LayerNorm(128),\n",
    "        nn.ReLU(),\n",
    "        nn.Dropout(0.5),\n",
    "        nn.Linear(128, 10)\n",
    "    )\n",
    "    return model\n",
    "\n",
    "\n",
    "def main(args):\n",
    "    wandb.init(project=\"cnn_fashion_mnist\", config={\n",
    "        \"epochs\": args.epochs,\n",
    "        \"batch_size\": args.batch_size,\n",
    "        \"learning_rate\": args.learning_rate,\n",
    "        \"optimizer\": args.optimizer,\n",
    "    })\n",
    "    config = wandb.config\n",
    "    device = torch.device(\"cuda\" if torch.cuda.is_available() else \"cpu\")\n",
    "\n",
    "    train_data_loader, validation_data_loader = get_fashion_mnist_data()\n",
    "    model = get_my_cnn_model_with_dropout_layerNormalization()\n",
    "    model.to(device)\n",
    "\n",
    "    optimizer = optim.AdamW(model.parameters(), lr=config.learning_rate)\n",
    "\n",
    "    criterion = nn.CrossEntropyLoss()\n",
    "\n",
    "    for epoch in range(config.epochs):\n",
    "        model.train()\n",
    "        train_loss = 0.0\n",
    "        train_correct = 0\n",
    "        train_total = 0\n",
    "        for inputs, labels in train_data_loader:\n",
    "            inputs, labels = inputs.to(device), labels.to(device)\n",
    "            optimizer.zero_grad()\n",
    "            outputs = model(inputs)\n",
    "            loss = criterion(outputs, labels)\n",
    "            loss.backward()\n",
    "            optimizer.step()\n",
    "\n",
    "            train_loss += loss.item()\n",
    "            _, predicted = outputs.max(1)\n",
    "            train_correct += (predicted == labels).sum().item()\n",
    "            train_total += labels.size(0)\n",
    "\n",
    "        train_accuracy = 100 * train_correct / train_total\n",
    "        train_loss /= len(train_data_loader)\n",
    "\n",
    "        model.eval()\n",
    "        val_loss = 0.0\n",
    "        val_correct = 0\n",
    "        val_total = 0\n",
    "        with torch.no_grad():\n",
    "            for inputs, labels in validation_data_loader:\n",
    "                inputs, labels = inputs.to(device), labels.to(device)\n",
    "                outputs = model(inputs)\n",
    "                loss = criterion(outputs, labels)\n",
    "\n",
    "                val_loss += loss.item()\n",
    "                _, predicted = outputs.max(1)\n",
    "                val_correct += (predicted == labels).sum().item()\n",
    "                val_total += labels.size(0)\n",
    "\n",
    "        val_accuracy = 100 * val_correct / val_total\n",
    "        val_loss /= len(validation_data_loader)\n",
    "\n",
    "        print(f\"Epoch {epoch + 1}/{config.epochs}:\")\n",
    "        print(f\"Train Loss: {train_loss:.4f}, Train Accuracy: {train_accuracy:.2f}%\")\n",
    "        print(f\"Validation Loss: {val_loss:.4f}, Validation Accuracy: {val_accuracy:.2f}%\")\n",
    "\n",
    "        wandb.log({\n",
    "            \"epoch\": epoch + 1,\n",
    "            \"train_loss\": train_loss,\n",
    "            \"train_accuracy\": train_accuracy,\n",
    "            \"val_loss\": val_loss,\n",
    "            \"val_accuracy\": val_accuracy\n",
    "        })\n",
    "\n",
    "    wandb.finish()\n",
    "\n",
    "\n",
    "if __name__ == \"__main__\":\n",
    "    import sys\n",
    "    sys.argv = [sys.argv[0]]  # Ignore Jupyter's arguments\n",
    "\n",
    "    parser = get_parser()\n",
    "    args = parser.parse_args()\n",
    "    args.epochs = 20  # Increase epochs to 20\n",
    "    args.batch_size = 256  # Reduce batch size\n",
    "    args.learning_rate = 1e-4  # Decrease learning rate for stability\n",
    "    main(args)\n"
   ]
  },
  {
   "cell_type": "markdown",
   "metadata": {
    "id": "djKuWtK4QKrQ"
   },
   "source": [
    "##### train10 - VGG"
   ]
  },
  {
   "cell_type": "code",
   "execution_count": 5,
   "metadata": {
    "colab": {
     "base_uri": "https://localhost:8080/",
     "height": 752
    },
    "executionInfo": {
     "elapsed": 47989,
     "status": "error",
     "timestamp": 1700292525686,
     "user": {
      "displayName": "NULL JO",
      "userId": "17442773596076107047"
     },
     "user_tz": -540
    },
    "id": "ZxKkRuozQNpg",
    "outputId": "b13cbf43-cec8-4013-8b4f-9e8530914f27"
   },
   "outputs": [
    {
     "name": "stdout",
     "output_type": "stream",
     "text": [
      "Training on device cuda:0.\n",
      "Epoch 1/10:\n",
      "Train Loss: 1.0345, Train Accuracy: 60.34%\n",
      "Validation Loss: 0.5769, Validation Accuracy: 76.45%\n",
      "Epoch 2/10:\n",
      "Train Loss: 0.5237, Train Accuracy: 80.72%\n",
      "Validation Loss: 0.4080, Validation Accuracy: 84.19%\n",
      "Epoch 3/10:\n",
      "Train Loss: 0.4125, Train Accuracy: 85.08%\n",
      "Validation Loss: 0.3655, Validation Accuracy: 86.44%\n",
      "Epoch 4/10:\n",
      "Train Loss: 0.3574, Train Accuracy: 87.13%\n",
      "Validation Loss: 0.3047, Validation Accuracy: 88.54%\n",
      "Epoch 5/10:\n",
      "Train Loss: 0.3189, Train Accuracy: 88.67%\n",
      "Validation Loss: 0.2878, Validation Accuracy: 89.45%\n",
      "Epoch 6/10:\n",
      "Train Loss: 0.3004, Train Accuracy: 89.22%\n",
      "Validation Loss: 0.2794, Validation Accuracy: 89.72%\n",
      "Epoch 7/10:\n",
      "Train Loss: 0.2830, Train Accuracy: 89.97%\n",
      "Validation Loss: 0.2573, Validation Accuracy: 90.49%\n",
      "Epoch 8/10:\n",
      "Train Loss: 0.2652, Train Accuracy: 90.59%\n",
      "Validation Loss: 0.2512, Validation Accuracy: 90.90%\n",
      "Epoch 9/10:\n",
      "Train Loss: 0.2521, Train Accuracy: 91.03%\n",
      "Validation Loss: 0.2503, Validation Accuracy: 91.18%\n",
      "Epoch 10/10:\n",
      "Train Loss: 0.2428, Train Accuracy: 91.45%\n",
      "Validation Loss: 0.2492, Validation Accuracy: 90.76%\n"
     ]
    }
   ],
   "source": [
    "import argparse\n",
    "import torch\n",
    "import torch.nn as nn\n",
    "import torch.optim as optim\n",
    "from torch.utils.data import DataLoader\n",
    "from torchvision import datasets, transforms\n",
    "from datetime import datetime\n",
    "import wandb\n",
    "\n",
    "\n",
    "def get_parser():\n",
    "    parser = argparse.ArgumentParser(description=\"Train a CNN model on Fashion MNIST using a VGG-like architecture.\")\n",
    "    parser.add_argument(\"--wandb\", action=\"store_true\", help=\"Enable WandB logging\")\n",
    "    parser.add_argument(\"-b\", \"--batch_size\", type=int, default=512, help=\"Batch size\")\n",
    "    parser.add_argument(\"-r\", \"--learning_rate\", type=float, default=1e-3, help=\"Learning rate\")\n",
    "    parser.add_argument(\"-v\", \"--epochs\", type=int, default=10, help=\"Number of epochs\")\n",
    "    parser.add_argument(\"-o\", \"--optimizer\", type=int, choices=range(4), default=3, help=\"Optimizer (0: SGD, 1: Momentum, 2: RMSProp, 3: Adam)\")\n",
    "    parser.add_argument(\"-p\", \"--early_stop_patience\", type=int, default=10, help=\"Patience for early stopping\")\n",
    "    parser.add_argument(\"-d\", \"--early_stop_delta\", type=float, default=1e-5, help=\"Delta for early stopping\")\n",
    "    return parser\n",
    "\n",
    "\n",
    "def get_fashion_mnist_data():\n",
    "    transform = transforms.Compose([\n",
    "        transforms.RandomHorizontalFlip(),\n",
    "        transforms.RandomRotation(10),\n",
    "        transforms.ToTensor(),\n",
    "        transforms.Normalize((0.5,), (0.5,))\n",
    "    ])\n",
    "\n",
    "    train_dataset = datasets.FashionMNIST(root=\"./data\", train=True, download=True, transform=transform)\n",
    "    validation_dataset = datasets.FashionMNIST(root=\"./data\", train=False, download=True, transform=transforms.Compose([\n",
    "        transforms.ToTensor(),\n",
    "        transforms.Normalize((0.5,), (0.5,))\n",
    "    ]))\n",
    "\n",
    "    train_data_loader = DataLoader(train_dataset, batch_size=512, shuffle=True)\n",
    "    validation_data_loader = DataLoader(validation_dataset, batch_size=512, shuffle=False)\n",
    "\n",
    "    return train_data_loader, validation_data_loader\n",
    "\n",
    "\n",
    "def get_vgg_model():\n",
    "    # VGG-like architecture\n",
    "    model = nn.Sequential(\n",
    "        nn.Conv2d(1, 64, kernel_size=3, padding=1),\n",
    "        nn.ReLU(),\n",
    "        nn.Conv2d(64, 64, kernel_size=3, padding=1),\n",
    "        nn.ReLU(),\n",
    "        nn.MaxPool2d(2),\n",
    "\n",
    "        nn.Conv2d(64, 128, kernel_size=3, padding=1),\n",
    "        nn.ReLU(),\n",
    "        nn.Conv2d(128, 128, kernel_size=3, padding=1),\n",
    "        nn.ReLU(),\n",
    "        nn.MaxPool2d(2),\n",
    "\n",
    "        nn.Conv2d(128, 256, kernel_size=3, padding=1),\n",
    "        nn.ReLU(),\n",
    "        nn.Conv2d(256, 256, kernel_size=3, padding=1),\n",
    "        nn.ReLU(),\n",
    "        nn.MaxPool2d(2),\n",
    "\n",
    "        nn.Flatten(),\n",
    "        nn.Linear(256 * 3 * 3, 512),\n",
    "        nn.ReLU(),\n",
    "        nn.Dropout(0.5),\n",
    "        nn.Linear(512, 256),\n",
    "        nn.ReLU(),\n",
    "        nn.Dropout(0.5),\n",
    "        nn.Linear(256, 10)\n",
    "    )\n",
    "    return model\n",
    "\n",
    "\n",
    "def main(args):\n",
    "    optimizer_names = [\"SGD\", \"Momentum\", \"RMSProp\", \"Adam\"]\n",
    "    run_time_str = datetime.now().astimezone().strftime('%Y-%m-%d_%H-%M-%S')\n",
    "    name = \"{0}_{1}\".format(optimizer_names[args.optimizer], run_time_str)\n",
    "\n",
    "    config = {\n",
    "        'epochs': args.epochs,\n",
    "        'batch_size': args.batch_size,\n",
    "        'learning_rate': args.learning_rate,\n",
    "        'early_stop_patience': args.early_stop_patience,\n",
    "        'early_stop_delta': args.early_stop_delta\n",
    "    }\n",
    "\n",
    "    project_name = \"cnn_fashion_mnist\"\n",
    "    wandb.init(\n",
    "        mode=\"online\" if args.wandb else \"disabled\",\n",
    "        project=project_name,\n",
    "        notes=\"Experiment with VGG-like model\",\n",
    "        tags=[\"cnn\", \"fashion_mnist\", \"vgg\"],\n",
    "        name=name,\n",
    "        config=config\n",
    "    )\n",
    "\n",
    "    device = torch.device(\"cuda:0\" if torch.cuda.is_available() else \"cpu\")\n",
    "    print(f\"Training on device {device}.\")\n",
    "\n",
    "    train_data_loader, validation_data_loader = get_fashion_mnist_data()\n",
    "    model = get_vgg_model()\n",
    "    model.to(device)\n",
    "\n",
    "    optimizer = [\n",
    "        optim.SGD(model.parameters(), lr=args.learning_rate),\n",
    "        optim.SGD(model.parameters(), lr=args.learning_rate, momentum=0.9),\n",
    "        optim.RMSprop(model.parameters(), lr=args.learning_rate),\n",
    "        optim.Adam(model.parameters(), lr=args.learning_rate)\n",
    "    ][args.optimizer]\n",
    "\n",
    "    criterion = nn.CrossEntropyLoss()\n",
    "\n",
    "    for epoch in range(args.epochs):\n",
    "        model.train()\n",
    "        train_loss = 0.0\n",
    "        train_correct = 0\n",
    "        train_total = 0\n",
    "        for inputs, labels in train_data_loader:\n",
    "            inputs, labels = inputs.to(device), labels.to(device)\n",
    "            optimizer.zero_grad()\n",
    "            outputs = model(inputs)\n",
    "            loss = criterion(outputs, labels)\n",
    "            loss.backward()\n",
    "            optimizer.step()\n",
    "\n",
    "            train_loss += loss.item()\n",
    "            _, predicted = outputs.max(1)\n",
    "            train_correct += (predicted == labels).sum().item()\n",
    "            train_total += labels.size(0)\n",
    "\n",
    "        train_accuracy = 100 * train_correct / train_total\n",
    "\n",
    "        model.eval()\n",
    "        val_loss = 0.0\n",
    "        val_correct = 0\n",
    "        val_total = 0\n",
    "        with torch.no_grad():\n",
    "            for inputs, labels in validation_data_loader:\n",
    "                inputs, labels = inputs.to(device), labels.to(device)\n",
    "                outputs = model(inputs)\n",
    "                loss = criterion(outputs, labels)\n",
    "\n",
    "                val_loss += loss.item()\n",
    "                _, predicted = outputs.max(1)\n",
    "                val_correct += (predicted == labels).sum().item()\n",
    "                val_total += labels.size(0)\n",
    "\n",
    "        val_accuracy = 100 * val_correct / val_total\n",
    "\n",
    "        print(f\"Epoch {epoch + 1}/{args.epochs}:\")\n",
    "        print(f\"Train Loss: {train_loss / len(train_data_loader):.4f}, Train Accuracy: {train_accuracy:.2f}%\")\n",
    "        print(f\"Validation Loss: {val_loss / len(validation_data_loader):.4f}, Validation Accuracy: {val_accuracy:.2f}%\")\n",
    "\n",
    "        wandb.log({\n",
    "            \"epoch\": epoch + 1,\n",
    "            \"train_loss\": train_loss / len(train_data_loader),\n",
    "            \"train_accuracy\": train_accuracy,\n",
    "            \"val_loss\": val_loss / len(validation_data_loader),\n",
    "            \"val_accuracy\": val_accuracy\n",
    "        })\n",
    "\n",
    "    wandb.finish()\n",
    "\n",
    "\n",
    "if __name__ == \"__main__\":\n",
    "    parser = get_parser()\n",
    "    args = parser.parse_args()\n",
    "    main(args)\n"
   ]
  },
  {
   "cell_type": "markdown",
   "metadata": {
    "id": "XSNrYuU_qiZC"
   },
   "source": [
    "#### [test code]"
   ]
  },
  {
   "cell_type": "markdown",
   "metadata": {
    "id": "jSrm7IiipCvA"
   },
   "source": [
    "##### get_fashion_mnist_test_data"
   ]
  },
  {
   "cell_type": "code",
   "execution_count": 3,
   "metadata": {
    "id": "SFOZO_oxo4bw"
   },
   "outputs": [],
   "source": [
    "def get_fashion_mnist_test_data():\n",
    "  data_path = os.path.join(BASE_PATH, \"_00_data\", \"j_fashion_mnist\")\n",
    "\n",
    "  f_mnist_test_images = datasets.FashionMNIST(data_path, train=False, download=True)\n",
    "  f_mnist_test = datasets.FashionMNIST(data_path, train=False, download=True, transform=transforms.ToTensor())\n",
    "\n",
    "  print(\"Num Test Samples: \", len(f_mnist_test))\n",
    "  print(\"Sample Shape: \", f_mnist_test[0][0].shape)  # torch.Size([1, 28, 28])\n",
    "\n",
    "  test_data_loader = DataLoader(dataset=f_mnist_test, batch_size=len(f_mnist_test))\n",
    "\n",
    "  \"\"\"\n",
    "  f_mnist_transforms = nn.Sequential(\n",
    "    transforms.ConvertImageDtype(torch.float),\n",
    "    transforms.Normalize(mean=0.0, std=0.1),\n",
    "  )\n",
    "  \"\"\"\n",
    "  global globalMean\n",
    "  global globalStd\n",
    "  f_mnist_transforms = nn.Sequential(\n",
    "    transforms.ConvertImageDtype(torch.float),\n",
    "    transforms.Normalize(mean=globalMean, std=globalStd),\n",
    "  )\n",
    "\n",
    "  return f_mnist_test_images, test_data_loader, f_mnist_transforms"
   ]
  },
  {
   "cell_type": "markdown",
   "metadata": {
    "id": "sm0V3zX12NIA"
   },
   "source": [
    "##### ClassificationTeste"
   ]
  },
  {
   "cell_type": "code",
   "execution_count": 2,
   "metadata": {
    "id": "UHU-Cxwn2ZGM"
   },
   "outputs": [],
   "source": [
    "class ClassificationTester:\n",
    "  def __init__(self, project_name, model, test_data_loader, transforms, checkpoint_file_path):\n",
    "    self.project_name = project_name\n",
    "    self.model = model\n",
    "    self.test_data_loader = test_data_loader\n",
    "    self.transforms = transforms\n",
    "\n",
    "    self.latest_file_path = os.path.join(\n",
    "      checkpoint_file_path, f\"{project_name}_checkpoint_latest.pt\"\n",
    "    )\n",
    "\n",
    "    print(\"MODEL FILE: {0}\".format(self.latest_file_path))\n",
    "\n",
    "    self.model.load_state_dict(torch.load(self.latest_file_path, map_location=torch.device('cpu')))\n",
    "\n",
    "  def test(self):\n",
    "    self.model.eval()    # Explained at 'Diverse Techniques' section\n",
    "\n",
    "    num_corrects_test = 0\n",
    "    num_tested_samples = 0\n",
    "\n",
    "    with torch.no_grad():\n",
    "      for test_batch in self.test_data_loader:\n",
    "        input_test, target_test = test_batch\n",
    "\n",
    "        input_test = self.transforms(input_test)\n",
    "\n",
    "        output_test = self.model(input_test)\n",
    "\n",
    "        predicted_test = torch.argmax(output_test, dim=1)\n",
    "        num_corrects_test += torch.sum(torch.eq(predicted_test, target_test))\n",
    "\n",
    "        num_tested_samples += len(input_test)\n",
    "\n",
    "      test_accuracy = 100.0 * num_corrects_test / num_tested_samples\n",
    "\n",
    "    print(f\"TEST RESULTS: {test_accuracy:6.3f}%\")\n",
    "\n",
    "  def test_single(self, input_test):\n",
    "    self.model.eval()    # Explained at 'Diverse Techniques' section\n",
    "\n",
    "    with torch.no_grad():\n",
    "      input_test = self.transforms(input_test)\n",
    "\n",
    "      output_test = self.model(input_test)\n",
    "      predicted_test = torch.argmax(output_test, dim=1)\n",
    "\n",
    "    return predicted_test.item()\n"
   ]
  },
  {
   "cell_type": "markdown",
   "metadata": {
    "id": "OyJvIohQvanM"
   },
   "source": [
    "##### test2 - 1"
   ]
  },
  {
   "cell_type": "code",
   "execution_count": 9,
   "metadata": {
    "colab": {
     "base_uri": "https://localhost:8080/"
    },
    "executionInfo": {
     "elapsed": 2231,
     "status": "ok",
     "timestamp": 1700279042967,
     "user": {
      "displayName": "NULL JO",
      "userId": "17442773596076107047"
     },
     "user_tz": -540
    },
    "id": "DfNg6hvMvdC9",
    "outputId": "36f54bad-00c8-4931-e014-8b4cdf108bd1"
   },
   "outputs": [
    {
     "name": "stdout",
     "output_type": "stream",
     "text": [
      "Checkpoint file not found. Please train the model and save a checkpoint first.\n",
      "Test Accuracy: 9.40%\n",
      "\n",
      "     LABEL: 9\n"
     ]
    },
    {
     "data": {
      "image/png": "[encoded data removed]",
      "text/plain": [
       "<Figure size 640x480 with 2 Axes>"
      ]
     },
     "metadata": {},
     "output_type": "display_data"
    },
    {
     "name": "stdout",
     "output_type": "stream",
     "text": [
      "PREDICTION: 0\n"
     ]
    }
   ],
   "source": [
    "import argparse\n",
    "import os  # os 모듈 import 추가\n",
    "import torch\n",
    "import matplotlib.pyplot as plt\n",
    "import numpy as np\n",
    "from torchvision import datasets, transforms\n",
    "\n",
    "\n",
    "def get_fashion_mnist_test_data():\n",
    "    data_path = os.path.join(\"data\", \"j_fashion_mnist\")  # 데이터 경로 설정\n",
    "    f_mnist_test_images = datasets.FashionMNIST(data_path, train=False, download=True)\n",
    "    f_mnist_test = datasets.FashionMNIST(\n",
    "        data_path, train=False, download=True, transform=transforms.ToTensor()\n",
    "    )\n",
    "\n",
    "    test_data_loader = torch.utils.data.DataLoader(f_mnist_test, batch_size=1, shuffle=False)\n",
    "\n",
    "    # 정규화를 위한 Transform\n",
    "    f_mnist_transforms = transforms.Compose([\n",
    "        transforms.ConvertImageDtype(torch.float),  # `float` 타입으로 변환\n",
    "        transforms.Normalize((0.5,), (0.5,))  # 정규화 수행 (평균=0.5, 표준편차=0.5)\n",
    "    ])\n",
    "\n",
    "    return f_mnist_test_images, test_data_loader, f_mnist_transforms\n",
    "\n",
    "\n",
    "class ClassificationTester:\n",
    "    def __init__(self, project_name, model, test_data_loader, transforms, checkpoint_file_path):\n",
    "        self.project_name = project_name\n",
    "        self.model = model\n",
    "        self.test_data_loader = test_data_loader\n",
    "        self.transforms = transforms\n",
    "        self.checkpoint_file_path = checkpoint_file_path\n",
    "\n",
    "        self.load_checkpoint()\n",
    "\n",
    "    def load_checkpoint(self):\n",
    "        try:\n",
    "            checkpoint = torch.load(self.checkpoint_file_path)\n",
    "            self.model.load_state_dict(checkpoint['model_state_dict'])\n",
    "            self.model.eval()\n",
    "            print(\"Model checkpoint loaded successfully.\")\n",
    "        except FileNotFoundError:\n",
    "            print(\"Checkpoint file not found. Please train the model and save a checkpoint first.\")\n",
    "\n",
    "    def test(self):\n",
    "        correct = 0\n",
    "        total = 0\n",
    "        with torch.no_grad():\n",
    "            for inputs, labels in self.test_data_loader:\n",
    "                inputs = self.transforms(inputs)  # 정규화 적용\n",
    "                outputs = self.model(inputs)\n",
    "                _, predicted = outputs.max(1)\n",
    "                correct += (predicted == labels).sum().item()\n",
    "                total += labels.size(0)\n",
    "\n",
    "        print(f\"Test Accuracy: {100 * correct / total:.2f}%\")\n",
    "\n",
    "    def test_single(self, image):\n",
    "        with torch.no_grad():\n",
    "            image = self.transforms(image)  # 정규화 적용\n",
    "            output = self.model(image)\n",
    "            _, predicted = output.max(1)\n",
    "            return predicted.item()\n",
    "\n",
    "\n",
    "def main():\n",
    "    fashion_mnist_test_images, test_data_loader, fashion_mnist_transforms = get_fashion_mnist_test_data()\n",
    "\n",
    "    test_model = torch.nn.Sequential(  # 간단한 모델 정의 (학습된 모델로 교체 필요)\n",
    "        torch.nn.Conv2d(1, 32, kernel_size=3, padding=1),\n",
    "        torch.nn.ReLU(),\n",
    "        torch.nn.Flatten(),\n",
    "        torch.nn.Linear(32 * 28 * 28, 10),\n",
    "    )\n",
    "    checkpoint_file_path = \"path_to_checkpoint.pth\"  # 체크포인트 파일 경로 설정\n",
    "\n",
    "    classification_tester = ClassificationTester(\n",
    "        \"cnn_fashion_mnist\", test_model, test_data_loader, fashion_mnist_transforms, checkpoint_file_path\n",
    "    )\n",
    "    classification_tester.test()\n",
    "\n",
    "    print()\n",
    "\n",
    "    img, label = fashion_mnist_test_images[0]\n",
    "    print(\"     LABEL:\", label)\n",
    "    plt.imshow(np.array(img), cmap=\"viridis\")  # 컬러맵을 viridis로 변경\n",
    "    plt.colorbar()\n",
    "    plt.show()\n",
    "\n",
    "    # torch.tensor(np.array(fashion_mnist_test_images[0][0])).unsqueeze(dim=0).unsqueeze(dim=0).shape: (1, 1, 28, 28)\n",
    "    output = classification_tester.test_single(\n",
    "        torch.tensor(np.array(fashion_mnist_test_images[0][0])).unsqueeze(dim=0).unsqueeze(dim=0)\n",
    "    )\n",
    "    print(\"PREDICTION:\", output)\n",
    "\n",
    "\n",
    "if __name__ == \"__main__\":\n",
    "    main()\n"
   ]
  },
  {
   "cell_type": "markdown",
   "metadata": {
    "id": "71UTKfgXkhTj"
   },
   "source": [
    "##### test2 - 2"
   ]
  },
  {
   "cell_type": "code",
   "execution_count": null,
   "metadata": {
    "colab": {
     "base_uri": "https://localhost:8080/"
    },
    "executionInfo": {
     "elapsed": 5050,
     "status": "ok",
     "timestamp": 1700280643343,
     "user": {
      "displayName": "NULL JO",
      "userId": "17442773596076107047"
     },
     "user_tz": -540
    },
    "id": "kKtAbZKdkmCu",
    "outputId": "79fa17f9-4b96-4e2a-a48b-40600e0aa828"
   },
   "outputs": [
    {
     "name": "stdout",
     "output_type": "stream",
     "text": [
      "Num Test Samples:  10000\n",
      "Sample Shape:  torch.Size([1, 28, 28])\n",
      "MODEL FILE: /content/checkpoints/cnn_fashion_mnist_checkpoint_latest.pt\n",
      "TEST RESULTS: 89.160%\n",
      "     LABEL: 5\n"
     ]
    },
    {
     "data": {
      "image/png": "[encoded data removed]",
      "text/plain": [
       "<Figure size 640x480 with 1 Axes>"
      ]
     },
     "metadata": {},
     "output_type": "display_data"
    },
    {
     "name": "stdout",
     "output_type": "stream",
     "text": [
      "PREDICTION: 7\n"
     ]
    }
   ],
   "source": [
    "def main():\n",
    "  fashion_mnist_test_images, test_data_loader, fashion_mnist_transforms = get_fashion_mnist_test_data()\n",
    "\n",
    "  test_model = get_my_cnn_model()\n",
    "  classification_tester = ClassificationTester(\n",
    "    \"cnn_fashion_mnist\", test_model, test_data_loader, fashion_mnist_transforms, CHECKPOINT_FILE_PATH\n",
    "  )\n",
    "  classification_tester.test()\n",
    "\n",
    "  index = 9999\n",
    "  img, label = fashion_mnist_test_images[index] # 0 ~ 9999 (10000)\n",
    "  print(\"     LABEL:\", label)\n",
    "  plt.imshow(img)\n",
    "  plt.show()\n",
    "\n",
    "  # torch.tensor(np.array(mnist_test_images[0][0])).unsqueeze(dim=0).unsqueeze(dim=0).shape: (1, 1, 28, 28)\n",
    "  output = classification_tester.test_single(\n",
    "    torch.tensor(np.array(fashion_mnist_test_images[index][0])).unsqueeze(dim=0).unsqueeze(dim=0)\n",
    "  )\n",
    "  print(\"PREDICTION:\", output)\n",
    "\n",
    "\n",
    "if __name__ == \"__main__\":\n",
    "  main()\n"
   ]
  },
  {
   "cell_type": "markdown",
   "metadata": {
    "id": "VKr6W_Le6pls"
   },
   "source": [
    "##### test5"
   ]
  },
  {
   "cell_type": "code",
   "execution_count": null,
   "metadata": {
    "colab": {
     "base_uri": "https://localhost:8080/"
    },
    "executionInfo": {
     "elapsed": 4082,
     "status": "ok",
     "timestamp": 1700286232423,
     "user": {
      "displayName": "NULL JO",
      "userId": "17442773596076107047"
     },
     "user_tz": -540
    },
    "id": "y3ndDSWO6t7u",
    "outputId": "fff62cd6-7213-44aa-e0f7-ad882dccc4a2"
   },
   "outputs": [
    {
     "name": "stdout",
     "output_type": "stream",
     "text": [
      "Num Test Samples:  10000\n",
      "Sample Shape:  torch.Size([1, 28, 28])\n",
      "MODEL FILE: /content/checkpoints/cnn_fashion_mnist_checkpoint_latest.pt\n",
      "TEST RESULTS: 89.640%\n",
      "     LABEL: 5\n"
     ]
    },
    {
     "data": {
      "image/png": "[encoded data removed]",
      "text/plain": [
       "<Figure size 640x480 with 1 Axes>"
      ]
     },
     "metadata": {},
     "output_type": "display_data"
    },
    {
     "name": "stdout",
     "output_type": "stream",
     "text": [
      "PREDICTION: 5\n"
     ]
    }
   ],
   "source": [
    "def main():\n",
    "  fashion_mnist_test_images, test_data_loader, fashion_mnist_transforms = get_fashion_mnist_test_data()\n",
    "\n",
    "  test_model = get_my_cnn_model_with_dropout()\n",
    "  classification_tester = ClassificationTester(\n",
    "    \"cnn_fashion_mnist\", test_model, test_data_loader, fashion_mnist_transforms, CHECKPOINT_FILE_PATH\n",
    "  )\n",
    "  classification_tester.test()\n",
    "\n",
    "  index = 9999\n",
    "  img, label = fashion_mnist_test_images[index] # 0 ~ 9999 (10000)\n",
    "  print(\"     LABEL:\", label)\n",
    "  plt.imshow(img)\n",
    "  plt.show()\n",
    "\n",
    "  # torch.tensor(np.array(mnist_test_images[0][0])).unsqueeze(dim=0).unsqueeze(dim=0).shape: (1, 1, 28, 28)\n",
    "  output = classification_tester.test_single(\n",
    "    torch.tensor(np.array(fashion_mnist_test_images[index][0])).unsqueeze(dim=0).unsqueeze(dim=0)\n",
    "  )\n",
    "  print(\"PREDICTION:\", output)\n",
    "\n",
    "\n",
    "if __name__ == \"__main__\":\n",
    "  main()\n"
   ]
  },
  {
   "cell_type": "markdown",
   "metadata": {
    "id": "5p0TrSdCBdRB"
   },
   "source": [
    "##### test6"
   ]
  },
  {
   "cell_type": "code",
   "execution_count": null,
   "metadata": {
    "colab": {
     "base_uri": "https://localhost:8080/"
    },
    "executionInfo": {
     "elapsed": 2665,
     "status": "ok",
     "timestamp": 1700287374090,
     "user": {
      "displayName": "NULL JO",
      "userId": "17442773596076107047"
     },
     "user_tz": -540
    },
    "id": "COvzuPUVBeqn",
    "outputId": "6885fae0-b5d4-421f-c36b-0c26df115e70"
   },
   "outputs": [
    {
     "name": "stdout",
     "output_type": "stream",
     "text": [
      "Num Test Samples:  10000\n",
      "Sample Shape:  torch.Size([1, 28, 28])\n",
      "MODEL FILE: /content/checkpoints/cnn_fashion_mnist_checkpoint_latest.pt\n",
      "TEST RESULTS: 89.500%\n",
      "     LABEL: 5\n"
     ]
    },
    {
     "data": {
      "image/png": "[encoded data removed]",
      "text/plain": [
       "<Figure size 640x480 with 1 Axes>"
      ]
     },
     "metadata": {},
     "output_type": "display_data"
    },
    {
     "name": "stdout",
     "output_type": "stream",
     "text": [
      "PREDICTION: 7\n"
     ]
    }
   ],
   "source": [
    "def main():\n",
    "  fashion_mnist_test_images, test_data_loader, fashion_mnist_transforms = get_fashion_mnist_test_data()\n",
    "\n",
    "  test_model = get_my_cnn_model_with_dropout_batchNormalization()\n",
    "  classification_tester = ClassificationTester(\n",
    "    \"cnn_fashion_mnist\", test_model, test_data_loader, fashion_mnist_transforms, CHECKPOINT_FILE_PATH\n",
    "  )\n",
    "  classification_tester.test()\n",
    "\n",
    "  index = 9999\n",
    "  img, label = fashion_mnist_test_images[index] # 0 ~ 9999 (10000)\n",
    "  print(\"     LABEL:\", label)\n",
    "  plt.imshow(img)\n",
    "  plt.show()\n",
    "\n",
    "  # torch.tensor(np.array(mnist_test_images[0][0])).unsqueeze(dim=0).unsqueeze(dim=0).shape: (1, 1, 28, 28)\n",
    "  output = classification_tester.test_single(\n",
    "    torch.tensor(np.array(fashion_mnist_test_images[index][0])).unsqueeze(dim=0).unsqueeze(dim=0)\n",
    "  )\n",
    "  print(\"PREDICTION:\", output)\n",
    "\n",
    "\n",
    "if __name__ == \"__main__\":\n",
    "  main()\n"
   ]
  },
  {
   "cell_type": "markdown",
   "metadata": {
    "id": "-EE4cHLFGnAo"
   },
   "source": [
    "##### test7"
   ]
  },
  {
   "cell_type": "code",
   "execution_count": null,
   "metadata": {
    "colab": {
     "base_uri": "https://localhost:8080/"
    },
    "executionInfo": {
     "elapsed": 3065,
     "status": "ok",
     "timestamp": 1700288710782,
     "user": {
      "displayName": "NULL JO",
      "userId": "17442773596076107047"
     },
     "user_tz": -540
    },
    "id": "lJRLITdAGpba",
    "outputId": "9c85a44a-13f0-4202-9c29-fab471ceded3"
   },
   "outputs": [
    {
     "name": "stdout",
     "output_type": "stream",
     "text": [
      "Num Test Samples:  10000\n",
      "Sample Shape:  torch.Size([1, 28, 28])\n",
      "MODEL FILE: /content/checkpoints/cnn_fashion_mnist_checkpoint_latest.pt\n",
      "TEST RESULTS: 90.030%\n",
      "     LABEL: 5\n"
     ]
    },
    {
     "data": {
      "image/png": "[encoded data removed]",
      "text/plain": [
       "<Figure size 640x480 with 1 Axes>"
      ]
     },
     "metadata": {},
     "output_type": "display_data"
    },
    {
     "name": "stdout",
     "output_type": "stream",
     "text": [
      "PREDICTION: 7\n"
     ]
    }
   ],
   "source": [
    "def main():\n",
    "  fashion_mnist_test_images, test_data_loader, fashion_mnist_transforms = get_fashion_mnist_test_data()\n",
    "\n",
    "  test_model = get_my_cnn_model_with_dropout_layerNormalization()\n",
    "  classification_tester = ClassificationTester(\n",
    "    \"cnn_fashion_mnist\", test_model, test_data_loader, fashion_mnist_transforms, CHECKPOINT_FILE_PATH\n",
    "  )\n",
    "  classification_tester.test()\n",
    "\n",
    "  index = 9999\n",
    "  img, label = fashion_mnist_test_images[index] # 0 ~ 9999 (10000)\n",
    "  print(\"     LABEL:\", label)\n",
    "  plt.imshow(img)\n",
    "  plt.show()\n",
    "\n",
    "  # torch.tensor(np.array(mnist_test_images[0][0])).unsqueeze(dim=0).unsqueeze(dim=0).shape: (1, 1, 28, 28)\n",
    "  output = classification_tester.test_single(\n",
    "    torch.tensor(np.array(fashion_mnist_test_images[index][0])).unsqueeze(dim=0).unsqueeze(dim=0)\n",
    "  )\n",
    "  print(\"PREDICTION:\", output)\n",
    "\n",
    "\n",
    "if __name__ == \"__main__\":\n",
    "  main()\n"
   ]
  },
  {
   "cell_type": "markdown",
   "metadata": {
    "id": "ojUTr0COLykZ"
   },
   "source": [
    "##### test8"
   ]
  },
  {
   "cell_type": "code",
   "execution_count": null,
   "metadata": {
    "colab": {
     "base_uri": "https://localhost:8080/"
    },
    "executionInfo": {
     "elapsed": 3738,
     "status": "ok",
     "timestamp": 1700290064031,
     "user": {
      "displayName": "NULL JO",
      "userId": "17442773596076107047"
     },
     "user_tz": -540
    },
    "id": "OsZ6XX5gL1kd",
    "outputId": "72900695-acc0-4762-88e7-c67c659d42d1"
   },
   "outputs": [
    {
     "name": "stdout",
     "output_type": "stream",
     "text": [
      "Num Test Samples:  10000\n",
      "Sample Shape:  torch.Size([1, 28, 28])\n",
      "MODEL FILE: /content/checkpoints/cnn_fashion_mnist_checkpoint_latest.pt\n",
      "TEST RESULTS: 88.090%\n",
      "     LABEL: 5\n"
     ]
    },
    {
     "data": {
      "image/png": "[encoded data removed]",
      "text/plain": [
       "<Figure size 640x480 with 1 Axes>"
      ]
     },
     "metadata": {},
     "output_type": "display_data"
    },
    {
     "name": "stdout",
     "output_type": "stream",
     "text": [
      "PREDICTION: 7\n"
     ]
    }
   ],
   "source": [
    "def main():\n",
    "  fashion_mnist_test_images, test_data_loader, fashion_mnist_transforms = get_fashion_mnist_test_data()\n",
    "\n",
    "  test_model = get_my_cnn_model_with_dropout_layerNormalization()\n",
    "  classification_tester = ClassificationTester(\n",
    "    \"cnn_fashion_mnist\", test_model, test_data_loader, fashion_mnist_transforms, CHECKPOINT_FILE_PATH\n",
    "  )\n",
    "  classification_tester.test()\n",
    "\n",
    "  index = 9999\n",
    "  img, label = fashion_mnist_test_images[index] # 0 ~ 9999 (10000)\n",
    "  print(\"     LABEL:\", label)\n",
    "  plt.imshow(img)\n",
    "  plt.show()\n",
    "\n",
    "  # torch.tensor(np.array(mnist_test_images[0][0])).unsqueeze(dim=0).unsqueeze(dim=0).shape: (1, 1, 28, 28)\n",
    "  output = classification_tester.test_single(\n",
    "    torch.tensor(np.array(fashion_mnist_test_images[index][0])).unsqueeze(dim=0).unsqueeze(dim=0)\n",
    "  )\n",
    "  print(\"PREDICTION:\", output)\n",
    "\n",
    "\n",
    "if __name__ == \"__main__\":\n",
    "  main()\n"
   ]
  },
  {
   "cell_type": "markdown",
   "metadata": {
    "id": "x44CX-KvqCX9"
   },
   "source": [
    "# [문제3]학습완료된모델로테스트데이터Accuracy확인하기"
   ]
  },
  {
   "cell_type": "markdown",
   "metadata": {
    "id": "LAEyGBE6qJwM"
   },
   "source": [
    "# [문제4]샘플테스트데이터분류예측결과확인하기"
   ]
  },
  {
   "cell_type": "code",
   "execution_count": null,
   "metadata": {},
   "outputs": [],
   "source": [
    "import os\n",
    "import glob\n",
    "import torch\n",
    "import librosa\n",
    "import argparse\n",
    "\n",
    "from utils.audio import Audio\n",
    "from utils.hparams import HParam\n",
    "from model.model import VoiceFilter\n",
    "from model.embedder import SpeechEmbedder\n",
    "\n",
    "import soundfile as sf  # Additional import\n",
    "\n",
    "\n",
    "def main(args, hp):\n",
    "    with torch.no_grad():\n",
    "        # Move model and embedder creation to CPU\n",
    "        model = VoiceFilter(hp).cpu()\n",
    "        chkpt_model = torch.load(args.checkpoint_path, map_location='cpu')['model']\n",
    "        model.load_state_dict(chkpt_model)\n",
    "        model.eval()\n",
    "\n",
    "        embedder = SpeechEmbedder(hp).cpu()\n",
    "        chkpt_embed = torch.load(args.embedder_path, map_location='cpu')\n",
    "        embedder.load_state_dict(chkpt_embed)\n",
    "        embedder.eval()\n",
    "\n",
    "        audio = Audio(hp)\n",
    "        dvec_wav, _ = librosa.load(args.reference_file, sr=16000)\n",
    "        dvec_mel = audio.get_mel(dvec_wav)\n",
    "        dvec_mel = torch.from_numpy(dvec_mel).float()  # No cuda()\n",
    "\n",
    "        dvec = embedder(dvec_mel)\n",
    "        dvec = dvec.unsqueeze(0)\n",
    "\n",
    "        mixed_wav, _ = librosa.load(args.mixed_file, sr=16000)\n",
    "        mag, phase = audio.wav2spec(mixed_wav)\n",
    "        mag = torch.from_numpy(mag).float()  # No cuda()\n",
    "\n",
    "        mag = mag.unsqueeze(0)\n",
    "        mask = model(mag, dvec)\n",
    "        est_mag = mag * mask\n",
    "\n",
    "        est_mag = est_mag[0].cpu().detach().numpy()\n",
    "        est_wav = audio.spec2wav(est_mag, phase)\n",
    "\n",
    "        os.makedirs(args.out_dir, exist_ok=True)\n",
    "        out_path = os.path.join(args.out_dir, 'result.wav')\n",
    "        sf.write(out_path, est_wav, 16000)  # No cuda() required\n",
    "\n",
    "\n",
    "if __name__ == '__main__':\n",
    "    parser = argparse.ArgumentParser()\n",
    "    parser.add_argument('-c', '--config', type=str, required=True,\n",
    "                        help=\"yaml file for configuration\")\n",
    "    parser.add_argument('-e', '--embedder_path', type=str, required=True,\n",
    "                        help=\"path of embedder model pt file\")\n",
    "    parser.add_argument('--checkpoint_path', type=str, default=None,\n",
    "                        help=\"path of checkpoint pt file\")\n",
    "    parser.add_argument('-m', '--mixed_file', type=str, required=True,\n",
    "                        help='path of mixed wav file')\n",
    "    parser.add_argument('-r', '--reference_file', type=str, required=True,\n",
    "                        help='path of reference wav file')\n",
    "    parser.add_argument('-o', '--out_dir', type=str, required=True,\n",
    "                        help='directory of output')\n",
    "\n",
    "    args = parser.parse_args()\n",
    "\n",
    "    hp = HParam(args.config)\n",
    "\n",
    "    print(args)\n",
    "\n",
    "    main(args, hp)\n"
   ]
  },
  {
   "cell_type": "markdown",
   "metadata": {},
   "source": [
    " # “숙제 후기”"
   ]
  },
  {
   "cell_type": "markdown",
   "metadata": {},
   "source": [
    "train6 - train5 + batchNormalization가 92.67%로 가장 높은 값을 얻었고 최적의 하이퍼파라미터이다"
   ]
  },
  {
   "cell_type": "markdown",
   "metadata": {},
   "source": [
    "이번 숙제를 하면서, Fashion MNIST 데이터에 대해 학습시키는 과정에서 정말 많은 것을 배웠습니다. 특히, 데이터 정규화를 위해 Mean과 Std 값을 찾는 작업부터 CNN 모델을 설계하고 학습시키는 과정까지 하나하나 경험할 수 있어 유익했습니다. Validation Accuracy와 Test Accuracy를 목표치 이상으로 달성하기 위해 다양한 최적화 기법과 데이터 증강(Augmentation)을 시도해 보면서, 모델 성능을 개선하는 방법에 대해 깊이 고민할 수 있었습니다.\n",
    "\n",
    "WandB를 사용하여 학습 과정의 그래프를 실시간으로 확인할 수 있었던 점도 흥미로웠습니다. 이전에는 이런 툴을 사용해 본 적이 없어서 익숙하지 않았지만, 이번 기회를 통해 효율적으로 학습 과정을 관리하고 분석하는 방법을 배울 수 있었습니다.\n",
    "\n",
    "다만, 과제를 하면서 가장 어려웠던 점은 Validation Accuracy와 Test Accuracy를 각각 94.0%와 93.0% 이상으로 끌어올리는 것이었습니다. 하이퍼파라미터를 조정하거나 학습률, 배치 크기, Dropout, 정규화 기법 등을 최적화하는 과정이 쉽지 않았습니다. 특히, 새로운 기법을 적용했을 때 성능이 개선되지 않을 때는 정말 답답하기도 했습니다. 그래도 포기하지 않고 다양한 시도를 해본 덕분에, 조금씩 결과가 나아지는 것을 보며 성취감을 느꼈습니다.\n",
    "\n",
    "마지막으로, 테스트 데이터에서 틀린 이미지를 분석하며 모델의 한계를 파악하는 것도 흥미로운 작업이었습니다. 학습된 모델이 단순히 정답만 맞추는 것이 아니라, 왜 틀렸는지 이해하려고 노력한 경험이 앞으로 큰 도움이 될 것 같습니다.\n",
    "\n",
    "이번 숙제를 통해, 모델 성능을 개선하기 위한 노력뿐만 아니라 결과를 분석하고 해석하는 능력도 키울 수 있었던 것 같아 뿌듯합니다. 하지만 과제가 꽤 난이도가 있어서 시간을 많이 투자해야 했다는 점은 조금 아쉽기도 했습니다. 그래도 이런 과정을 통해 많이 성장할 수 있었던 것 같아 보람찬 숙제였습니다"
   ]
  }
 ],
 "metadata": {
  "accelerator": "GPU",
  "colab": {
   "authorship_tag": "ABX9TyPYnQD3xiKVKS0P4n35XhgV",
   "collapsed_sections": [
    "ucCNdLJecS0Z",
    "xlFCh-VHhWeO",
    "mI2_oifjktNq",
    "HbEUhj1wlP30",
    "BxS2tZCmc4V9",
    "f_YBHFC1c8_0",
    "IVW5Xv2ddvrs",
    "mJMrMfQUmEWY",
    "qXJubhU5lrMz",
    "akj-U8cCo1Ps",
    "M6m1QAmp7UvH",
    "qZIesXTMmOuH",
    "QUOiz7KgrcL5",
    "0lYxkeSZ0p7e",
    "hm4iuXix3i_W",
    "FalZSJC65nGD",
    "0Y8VeMVLKXSu",
    "zzZtX2WIRv7q",
    "Yo8nC9TnSgo3",
    "_YzOUS2NJP6P",
    "Y3qXg-SmNJhy",
    "qDvl1rjrrsei",
    "6yMfRNHZu6Zo",
    "eki5oLnq1dbs",
    "hs3sH7UC9YY7",
    "IrYUrFd99wkS",
    "5KG7d2EB_Bbi",
    "Hrg4HSrWNXbR",
    "0ZSdC6FASD_c",
    "jSrm7IiipCvA",
    "sm0V3zX12NIA",
    "OyJvIohQvanM",
    "71UTKfgXkhTj",
    "VKr6W_Le6pls",
    "5p0TrSdCBdRB",
    "-EE4cHLFGnAo",
    "ojUTr0COLykZ"
   ],
   "gpuType": "T4",
   "provenance": []
  },
  "kernelspec": {
   "display_name": "PyTorch 2.3 (NGC 24.03/Python 3.10) on Backend.AI",
   "language": "python",
   "name": "python3"
  },
  "language_info": {
   "codemirror_mode": {
    "name": "ipython",
    "version": 3
   },
   "file_extension": ".py",
   "mimetype": "text/x-python",
   "name": "python",
   "nbconvert_exporter": "python",
   "pygments_lexer": "ipython3",
   "version": "3.10.12"
  },
  "widgets": {
   "application/vnd.jupyter.widget-state+json": {
    "023c1866eaf5452db6a59b5f32fab94c": {
     "model_module": "@jupyter-widgets/base",
     "model_module_version": "1.2.0",
     "model_name": "LayoutModel",
     "state": {
      "_model_module": "@jupyter-widgets/base",
      "_model_module_version": "1.2.0",
      "_model_name": "LayoutModel",
      "_view_count": null,
      "_view_module": "@jupyter-widgets/base",
      "_view_module_version": "1.2.0",
      "_view_name": "LayoutView",
      "align_content": null,
      "align_items": null,
      "align_self": null,
      "border": null,
      "bottom": null,
      "display": null,
      "flex": null,
      "flex_flow": null,
      "grid_area": null,
      "grid_auto_columns": null,
      "grid_auto_flow": null,
      "grid_auto_rows": null,
      "grid_column": null,
      "grid_gap": null,
      "grid_row": null,
      "grid_template_areas": null,
      "grid_template_columns": null,
      "grid_template_rows": null,
      "height": null,
      "justify_content": null,
      "justify_items": null,
      "left": null,
      "margin": null,
      "max_height": null,
      "max_width": null,
      "min_height": null,
      "min_width": null,
      "object_fit": null,
      "object_position": null,
      "order": null,
      "overflow": null,
      "overflow_x": null,
      "overflow_y": null,
      "padding": null,
      "right": null,
      "top": null,
      "visibility": null,
      "width": null
     }
    },
    "024c7def8ba34ace87700a59944dfa82": {
     "model_module": "@jupyter-widgets/base",
     "model_module_version": "1.2.0",
     "model_name": "LayoutModel",
     "state": {
      "_model_module": "@jupyter-widgets/base",
      "_model_module_version": "1.2.0",
      "_model_name": "LayoutModel",
      "_view_count": null,
      "_view_module": "@jupyter-widgets/base",
      "_view_module_version": "1.2.0",
      "_view_name": "LayoutView",
      "align_content": null,
      "align_items": null,
      "align_self": null,
      "border": null,
      "bottom": null,
      "display": null,
      "flex": null,
      "flex_flow": null,
      "grid_area": null,
      "grid_auto_columns": null,
      "grid_auto_flow": null,
      "grid_auto_rows": null,
      "grid_column": null,
      "grid_gap": null,
      "grid_row": null,
      "grid_template_areas": null,
      "grid_template_columns": null,
      "grid_template_rows": null,
      "height": null,
      "justify_content": null,
      "justify_items": null,
      "left": null,
      "margin": null,
      "max_height": null,
      "max_width": null,
      "min_height": null,
      "min_width": null,
      "object_fit": null,
      "object_position": null,
      "order": null,
      "overflow": null,
      "overflow_x": null,
      "overflow_y": null,
      "padding": null,
      "right": null,
      "top": null,
      "visibility": null,
      "width": null
     }
    },
    "03f2c8cbfaf845b785de7e4c9a19780b": {
     "model_module": "@jupyter-widgets/base",
     "model_module_version": "1.2.0",
     "model_name": "LayoutModel",
     "state": {
      "_model_module": "@jupyter-widgets/base",
      "_model_module_version": "1.2.0",
      "_model_name": "LayoutModel",
      "_view_count": null,
      "_view_module": "@jupyter-widgets/base",
      "_view_module_version": "1.2.0",
      "_view_name": "LayoutView",
      "align_content": null,
      "align_items": null,
      "align_self": null,
      "border": null,
      "bottom": null,
      "display": null,
      "flex": null,
      "flex_flow": null,
      "grid_area": null,
      "grid_auto_columns": null,
      "grid_auto_flow": null,
      "grid_auto_rows": null,
      "grid_column": null,
      "grid_gap": null,
      "grid_row": null,
      "grid_template_areas": null,
      "grid_template_columns": null,
      "grid_template_rows": null,
      "height": null,
      "justify_content": null,
      "justify_items": null,
      "left": null,
      "margin": null,
      "max_height": null,
      "max_width": null,
      "min_height": null,
      "min_width": null,
      "object_fit": null,
      "object_position": null,
      "order": null,
      "overflow": null,
      "overflow_x": null,
      "overflow_y": null,
      "padding": null,
      "right": null,
      "top": null,
      "visibility": null,
      "width": null
     }
    },
    "040cbbcd58b542e783f069ba0594cd6c": {
     "model_module": "@jupyter-widgets/controls",
     "model_module_version": "1.5.0",
     "model_name": "DescriptionStyleModel",
     "state": {
      "_model_module": "@jupyter-widgets/controls",
      "_model_module_version": "1.5.0",
      "_model_name": "DescriptionStyleModel",
      "_view_count": null,
      "_view_module": "@jupyter-widgets/base",
      "_view_module_version": "1.2.0",
      "_view_name": "StyleView",
      "description_width": ""
     }
    },
    "04301cee7e364b1789187cc925924f45": {
     "model_module": "@jupyter-widgets/controls",
     "model_module_version": "1.5.0",
     "model_name": "FloatProgressModel",
     "state": {
      "_dom_classes": [],
      "_model_module": "@jupyter-widgets/controls",
      "_model_module_version": "1.5.0",
      "_model_name": "FloatProgressModel",
      "_view_count": null,
      "_view_module": "@jupyter-widgets/controls",
      "_view_module_version": "1.5.0",
      "_view_name": "ProgressView",
      "bar_style": "",
      "description": "",
      "description_tooltip": null,
      "layout": "IPY_MODEL_7531854f47404783be9999ffe9cf5cf8",
      "max": 1,
      "min": 0,
      "orientation": "horizontal",
      "style": "IPY_MODEL_dd4a8a1577c740ed8feb55297187f0ef",
      "value": 1
     }
    },
    "0488fbfcd2ed4358b2364e3c3ece27b9": {
     "model_module": "@jupyter-widgets/base",
     "model_module_version": "1.2.0",
     "model_name": "LayoutModel",
     "state": {
      "_model_module": "@jupyter-widgets/base",
      "_model_module_version": "1.2.0",
      "_model_name": "LayoutModel",
      "_view_count": null,
      "_view_module": "@jupyter-widgets/base",
      "_view_module_version": "1.2.0",
      "_view_name": "LayoutView",
      "align_content": null,
      "align_items": null,
      "align_self": null,
      "border": null,
      "bottom": null,
      "display": null,
      "flex": null,
      "flex_flow": null,
      "grid_area": null,
      "grid_auto_columns": null,
      "grid_auto_flow": null,
      "grid_auto_rows": null,
      "grid_column": null,
      "grid_gap": null,
      "grid_row": null,
      "grid_template_areas": null,
      "grid_template_columns": null,
      "grid_template_rows": null,
      "height": null,
      "justify_content": null,
      "justify_items": null,
      "left": null,
      "margin": null,
      "max_height": null,
      "max_width": null,
      "min_height": null,
      "min_width": null,
      "object_fit": null,
      "object_position": null,
      "order": null,
      "overflow": null,
      "overflow_x": null,
      "overflow_y": null,
      "padding": null,
      "right": null,
      "top": null,
      "visibility": null,
      "width": null
     }
    },
    "0c0e7a7c97d74942bf38282f53772f35": {
     "model_module": "@jupyter-widgets/controls",
     "model_module_version": "1.5.0",
     "model_name": "LabelModel",
     "state": {
      "_dom_classes": [],
      "_model_module": "@jupyter-widgets/controls",
      "_model_module_version": "1.5.0",
      "_model_name": "LabelModel",
      "_view_count": null,
      "_view_module": "@jupyter-widgets/controls",
      "_view_module_version": "1.5.0",
      "_view_name": "LabelView",
      "description": "",
      "description_tooltip": null,
      "layout": "IPY_MODEL_f89eb28e38bf436da0d937f5747923fe",
      "placeholder": "​",
      "style": "IPY_MODEL_a98272bd2d104831a9577814b408dfe5",
      "value": "0.011 MB of 0.011 MB uploaded\r"
     }
    },
    "1164aa4757224a03a9f8cad9e8df5bc6": {
     "model_module": "@jupyter-widgets/controls",
     "model_module_version": "1.5.0",
     "model_name": "FloatProgressModel",
     "state": {
      "_dom_classes": [],
      "_model_module": "@jupyter-widgets/controls",
      "_model_module_version": "1.5.0",
      "_model_name": "FloatProgressModel",
      "_view_count": null,
      "_view_module": "@jupyter-widgets/controls",
      "_view_module_version": "1.5.0",
      "_view_name": "ProgressView",
      "bar_style": "",
      "description": "",
      "description_tooltip": null,
      "layout": "IPY_MODEL_32229cfe363b437498e0387cc17b2712",
      "max": 1,
      "min": 0,
      "orientation": "horizontal",
      "style": "IPY_MODEL_cc3c635ecb124c5385032b2408b0b0c2",
      "value": 1
     }
    },
    "1263f6e7e20646e289d5743c8144b270": {
     "model_module": "@jupyter-widgets/base",
     "model_module_version": "1.2.0",
     "model_name": "LayoutModel",
     "state": {
      "_model_module": "@jupyter-widgets/base",
      "_model_module_version": "1.2.0",
      "_model_name": "LayoutModel",
      "_view_count": null,
      "_view_module": "@jupyter-widgets/base",
      "_view_module_version": "1.2.0",
      "_view_name": "LayoutView",
      "align_content": null,
      "align_items": null,
      "align_self": null,
      "border": null,
      "bottom": null,
      "display": null,
      "flex": null,
      "flex_flow": null,
      "grid_area": null,
      "grid_auto_columns": null,
      "grid_auto_flow": null,
      "grid_auto_rows": null,
      "grid_column": null,
      "grid_gap": null,
      "grid_row": null,
      "grid_template_areas": null,
      "grid_template_columns": null,
      "grid_template_rows": null,
      "height": null,
      "justify_content": null,
      "justify_items": null,
      "left": null,
      "margin": null,
      "max_height": null,
      "max_width": null,
      "min_height": null,
      "min_width": null,
      "object_fit": null,
      "object_position": null,
      "order": null,
      "overflow": null,
      "overflow_x": null,
      "overflow_y": null,
      "padding": null,
      "right": null,
      "top": null,
      "visibility": null,
      "width": null
     }
    },
    "1a1254e2f0d64842bbab09982f4673fe": {
     "model_module": "@jupyter-widgets/base",
     "model_module_version": "1.2.0",
     "model_name": "LayoutModel",
     "state": {
      "_model_module": "@jupyter-widgets/base",
      "_model_module_version": "1.2.0",
      "_model_name": "LayoutModel",
      "_view_count": null,
      "_view_module": "@jupyter-widgets/base",
      "_view_module_version": "1.2.0",
      "_view_name": "LayoutView",
      "align_content": null,
      "align_items": null,
      "align_self": null,
      "border": null,
      "bottom": null,
      "display": null,
      "flex": null,
      "flex_flow": null,
      "grid_area": null,
      "grid_auto_columns": null,
      "grid_auto_flow": null,
      "grid_auto_rows": null,
      "grid_column": null,
      "grid_gap": null,
      "grid_row": null,
      "grid_template_areas": null,
      "grid_template_columns": null,
      "grid_template_rows": null,
      "height": null,
      "justify_content": null,
      "justify_items": null,
      "left": null,
      "margin": null,
      "max_height": null,
      "max_width": null,
      "min_height": null,
      "min_width": null,
      "object_fit": null,
      "object_position": null,
      "order": null,
      "overflow": null,
      "overflow_x": null,
      "overflow_y": null,
      "padding": null,
      "right": null,
      "top": null,
      "visibility": null,
      "width": null
     }
    },
    "1b6939c4b2d04687ac117db19fbfe90b": {
     "model_module": "@jupyter-widgets/controls",
     "model_module_version": "1.5.0",
     "model_name": "DescriptionStyleModel",
     "state": {
      "_model_module": "@jupyter-widgets/controls",
      "_model_module_version": "1.5.0",
      "_model_name": "DescriptionStyleModel",
      "_view_count": null,
      "_view_module": "@jupyter-widgets/base",
      "_view_module_version": "1.2.0",
      "_view_name": "StyleView",
      "description_width": ""
     }
    },
    "1cafe80565df4e76bfb80e7f2b046432": {
     "model_module": "@jupyter-widgets/base",
     "model_module_version": "1.2.0",
     "model_name": "LayoutModel",
     "state": {
      "_model_module": "@jupyter-widgets/base",
      "_model_module_version": "1.2.0",
      "_model_name": "LayoutModel",
      "_view_count": null,
      "_view_module": "@jupyter-widgets/base",
      "_view_module_version": "1.2.0",
      "_view_name": "LayoutView",
      "align_content": null,
      "align_items": null,
      "align_self": null,
      "border": null,
      "bottom": null,
      "display": null,
      "flex": null,
      "flex_flow": null,
      "grid_area": null,
      "grid_auto_columns": null,
      "grid_auto_flow": null,
      "grid_auto_rows": null,
      "grid_column": null,
      "grid_gap": null,
      "grid_row": null,
      "grid_template_areas": null,
      "grid_template_columns": null,
      "grid_template_rows": null,
      "height": null,
      "justify_content": null,
      "justify_items": null,
      "left": null,
      "margin": null,
      "max_height": null,
      "max_width": null,
      "min_height": null,
      "min_width": null,
      "object_fit": null,
      "object_position": null,
      "order": null,
      "overflow": null,
      "overflow_x": null,
      "overflow_y": null,
      "padding": null,
      "right": null,
      "top": null,
      "visibility": null,
      "width": null
     }
    },
    "1cdf3da4f6f745618aab8bfdaeea78dd": {
     "model_module": "@jupyter-widgets/controls",
     "model_module_version": "1.5.0",
     "model_name": "LabelModel",
     "state": {
      "_dom_classes": [],
      "_model_module": "@jupyter-widgets/controls",
      "_model_module_version": "1.5.0",
      "_model_name": "LabelModel",
      "_view_count": null,
      "_view_module": "@jupyter-widgets/controls",
      "_view_module_version": "1.5.0",
      "_view_name": "LabelView",
      "description": "",
      "description_tooltip": null,
      "layout": "IPY_MODEL_3a1ed78fd46d4cc68b8e2b8de2302786",
      "placeholder": "​",
      "style": "IPY_MODEL_e811d82727e2416c83ae7430c45fb379",
      "value": "0.056 MB of 0.056 MB uploaded\r"
     }
    },
    "2231b64f4e774d339af18f5d7d964785": {
     "model_module": "@jupyter-widgets/controls",
     "model_module_version": "1.5.0",
     "model_name": "ProgressStyleModel",
     "state": {
      "_model_module": "@jupyter-widgets/controls",
      "_model_module_version": "1.5.0",
      "_model_name": "ProgressStyleModel",
      "_view_count": null,
      "_view_module": "@jupyter-widgets/base",
      "_view_module_version": "1.2.0",
      "_view_name": "StyleView",
      "bar_color": null,
      "description_width": ""
     }
    },
    "223e10eb1d7c4d16b1652307e47d3deb": {
     "model_module": "@jupyter-widgets/base",
     "model_module_version": "1.2.0",
     "model_name": "LayoutModel",
     "state": {
      "_model_module": "@jupyter-widgets/base",
      "_model_module_version": "1.2.0",
      "_model_name": "LayoutModel",
      "_view_count": null,
      "_view_module": "@jupyter-widgets/base",
      "_view_module_version": "1.2.0",
      "_view_name": "LayoutView",
      "align_content": null,
      "align_items": null,
      "align_self": null,
      "border": null,
      "bottom": null,
      "display": null,
      "flex": null,
      "flex_flow": null,
      "grid_area": null,
      "grid_auto_columns": null,
      "grid_auto_flow": null,
      "grid_auto_rows": null,
      "grid_column": null,
      "grid_gap": null,
      "grid_row": null,
      "grid_template_areas": null,
      "grid_template_columns": null,
      "grid_template_rows": null,
      "height": null,
      "justify_content": null,
      "justify_items": null,
      "left": null,
      "margin": null,
      "max_height": null,
      "max_width": null,
      "min_height": null,
      "min_width": null,
      "object_fit": null,
      "object_position": null,
      "order": null,
      "overflow": null,
      "overflow_x": null,
      "overflow_y": null,
      "padding": null,
      "right": null,
      "top": null,
      "visibility": null,
      "width": null
     }
    },
    "2370d710612c4e3c9587034c917cc237": {
     "model_module": "@jupyter-widgets/base",
     "model_module_version": "1.2.0",
     "model_name": "LayoutModel",
     "state": {
      "_model_module": "@jupyter-widgets/base",
      "_model_module_version": "1.2.0",
      "_model_name": "LayoutModel",
      "_view_count": null,
      "_view_module": "@jupyter-widgets/base",
      "_view_module_version": "1.2.0",
      "_view_name": "LayoutView",
      "align_content": null,
      "align_items": null,
      "align_self": null,
      "border": null,
      "bottom": null,
      "display": null,
      "flex": null,
      "flex_flow": null,
      "grid_area": null,
      "grid_auto_columns": null,
      "grid_auto_flow": null,
      "grid_auto_rows": null,
      "grid_column": null,
      "grid_gap": null,
      "grid_row": null,
      "grid_template_areas": null,
      "grid_template_columns": null,
      "grid_template_rows": null,
      "height": null,
      "justify_content": null,
      "justify_items": null,
      "left": null,
      "margin": null,
      "max_height": null,
      "max_width": null,
      "min_height": null,
      "min_width": null,
      "object_fit": null,
      "object_position": null,
      "order": null,
      "overflow": null,
      "overflow_x": null,
      "overflow_y": null,
      "padding": null,
      "right": null,
      "top": null,
      "visibility": null,
      "width": null
     }
    },
    "24efb88f70f34e678e182cc5a56d6438": {
     "model_module": "@jupyter-widgets/base",
     "model_module_version": "1.2.0",
     "model_name": "LayoutModel",
     "state": {
      "_model_module": "@jupyter-widgets/base",
      "_model_module_version": "1.2.0",
      "_model_name": "LayoutModel",
      "_view_count": null,
      "_view_module": "@jupyter-widgets/base",
      "_view_module_version": "1.2.0",
      "_view_name": "LayoutView",
      "align_content": null,
      "align_items": null,
      "align_self": null,
      "border": null,
      "bottom": null,
      "display": null,
      "flex": null,
      "flex_flow": null,
      "grid_area": null,
      "grid_auto_columns": null,
      "grid_auto_flow": null,
      "grid_auto_rows": null,
      "grid_column": null,
      "grid_gap": null,
      "grid_row": null,
      "grid_template_areas": null,
      "grid_template_columns": null,
      "grid_template_rows": null,
      "height": null,
      "justify_content": null,
      "justify_items": null,
      "left": null,
      "margin": null,
      "max_height": null,
      "max_width": null,
      "min_height": null,
      "min_width": null,
      "object_fit": null,
      "object_position": null,
      "order": null,
      "overflow": null,
      "overflow_x": null,
      "overflow_y": null,
      "padding": null,
      "right": null,
      "top": null,
      "visibility": null,
      "width": null
     }
    },
    "27d040ecafbd4984ba1d74d671e26d4a": {
     "model_module": "@jupyter-widgets/base",
     "model_module_version": "1.2.0",
     "model_name": "LayoutModel",
     "state": {
      "_model_module": "@jupyter-widgets/base",
      "_model_module_version": "1.2.0",
      "_model_name": "LayoutModel",
      "_view_count": null,
      "_view_module": "@jupyter-widgets/base",
      "_view_module_version": "1.2.0",
      "_view_name": "LayoutView",
      "align_content": null,
      "align_items": null,
      "align_self": null,
      "border": null,
      "bottom": null,
      "display": null,
      "flex": null,
      "flex_flow": null,
      "grid_area": null,
      "grid_auto_columns": null,
      "grid_auto_flow": null,
      "grid_auto_rows": null,
      "grid_column": null,
      "grid_gap": null,
      "grid_row": null,
      "grid_template_areas": null,
      "grid_template_columns": null,
      "grid_template_rows": null,
      "height": null,
      "justify_content": null,
      "justify_items": null,
      "left": null,
      "margin": null,
      "max_height": null,
      "max_width": null,
      "min_height": null,
      "min_width": null,
      "object_fit": null,
      "object_position": null,
      "order": null,
      "overflow": null,
      "overflow_x": null,
      "overflow_y": null,
      "padding": null,
      "right": null,
      "top": null,
      "visibility": null,
      "width": null
     }
    },
    "29d1d0ed8bb847fe9bba6da5e211b389": {
     "model_module": "@jupyter-widgets/controls",
     "model_module_version": "1.5.0",
     "model_name": "ProgressStyleModel",
     "state": {
      "_model_module": "@jupyter-widgets/controls",
      "_model_module_version": "1.5.0",
      "_model_name": "ProgressStyleModel",
      "_view_count": null,
      "_view_module": "@jupyter-widgets/base",
      "_view_module_version": "1.2.0",
      "_view_name": "StyleView",
      "bar_color": null,
      "description_width": ""
     }
    },
    "2b19e804b3d4408597d940d15bd1c1e7": {
     "model_module": "@jupyter-widgets/base",
     "model_module_version": "1.2.0",
     "model_name": "LayoutModel",
     "state": {
      "_model_module": "@jupyter-widgets/base",
      "_model_module_version": "1.2.0",
      "_model_name": "LayoutModel",
      "_view_count": null,
      "_view_module": "@jupyter-widgets/base",
      "_view_module_version": "1.2.0",
      "_view_name": "LayoutView",
      "align_content": null,
      "align_items": null,
      "align_self": null,
      "border": null,
      "bottom": null,
      "display": null,
      "flex": null,
      "flex_flow": null,
      "grid_area": null,
      "grid_auto_columns": null,
      "grid_auto_flow": null,
      "grid_auto_rows": null,
      "grid_column": null,
      "grid_gap": null,
      "grid_row": null,
      "grid_template_areas": null,
      "grid_template_columns": null,
      "grid_template_rows": null,
      "height": null,
      "justify_content": null,
      "justify_items": null,
      "left": null,
      "margin": null,
      "max_height": null,
      "max_width": null,
      "min_height": null,
      "min_width": null,
      "object_fit": null,
      "object_position": null,
      "order": null,
      "overflow": null,
      "overflow_x": null,
      "overflow_y": null,
      "padding": null,
      "right": null,
      "top": null,
      "visibility": null,
      "width": null
     }
    },
    "2b59081eb1074af28db625e3fdc92ed0": {
     "model_module": "@jupyter-widgets/controls",
     "model_module_version": "1.5.0",
     "model_name": "LabelModel",
     "state": {
      "_dom_classes": [],
      "_model_module": "@jupyter-widgets/controls",
      "_model_module_version": "1.5.0",
      "_model_name": "LabelModel",
      "_view_count": null,
      "_view_module": "@jupyter-widgets/controls",
      "_view_module_version": "1.5.0",
      "_view_name": "LabelView",
      "description": "",
      "description_tooltip": null,
      "layout": "IPY_MODEL_47242b42045a496b9016fe8c23424ca2",
      "placeholder": "​",
      "style": "IPY_MODEL_c12962fa1f9643889120adefa7a0ca5b",
      "value": "0.012 MB of 0.012 MB uploaded\r"
     }
    },
    "2ee7357b2b9440d4bcdf5dc310efc7e1": {
     "model_module": "@jupyter-widgets/controls",
     "model_module_version": "1.5.0",
     "model_name": "FloatProgressModel",
     "state": {
      "_dom_classes": [],
      "_model_module": "@jupyter-widgets/controls",
      "_model_module_version": "1.5.0",
      "_model_name": "FloatProgressModel",
      "_view_count": null,
      "_view_module": "@jupyter-widgets/controls",
      "_view_module_version": "1.5.0",
      "_view_name": "ProgressView",
      "bar_style": "",
      "description": "",
      "description_tooltip": null,
      "layout": "IPY_MODEL_023c1866eaf5452db6a59b5f32fab94c",
      "max": 1,
      "min": 0,
      "orientation": "horizontal",
      "style": "IPY_MODEL_b8c00db6612b441fa7f2fa53499a7e0d",
      "value": 1
     }
    },
    "2f9c3c2fe317495c904b8fa21cdd066e": {
     "model_module": "@jupyter-widgets/base",
     "model_module_version": "1.2.0",
     "model_name": "LayoutModel",
     "state": {
      "_model_module": "@jupyter-widgets/base",
      "_model_module_version": "1.2.0",
      "_model_name": "LayoutModel",
      "_view_count": null,
      "_view_module": "@jupyter-widgets/base",
      "_view_module_version": "1.2.0",
      "_view_name": "LayoutView",
      "align_content": null,
      "align_items": null,
      "align_self": null,
      "border": null,
      "bottom": null,
      "display": null,
      "flex": null,
      "flex_flow": null,
      "grid_area": null,
      "grid_auto_columns": null,
      "grid_auto_flow": null,
      "grid_auto_rows": null,
      "grid_column": null,
      "grid_gap": null,
      "grid_row": null,
      "grid_template_areas": null,
      "grid_template_columns": null,
      "grid_template_rows": null,
      "height": null,
      "justify_content": null,
      "justify_items": null,
      "left": null,
      "margin": null,
      "max_height": null,
      "max_width": null,
      "min_height": null,
      "min_width": null,
      "object_fit": null,
      "object_position": null,
      "order": null,
      "overflow": null,
      "overflow_x": null,
      "overflow_y": null,
      "padding": null,
      "right": null,
      "top": null,
      "visibility": null,
      "width": null
     }
    },
    "32229cfe363b437498e0387cc17b2712": {
     "model_module": "@jupyter-widgets/base",
     "model_module_version": "1.2.0",
     "model_name": "LayoutModel",
     "state": {
      "_model_module": "@jupyter-widgets/base",
      "_model_module_version": "1.2.0",
      "_model_name": "LayoutModel",
      "_view_count": null,
      "_view_module": "@jupyter-widgets/base",
      "_view_module_version": "1.2.0",
      "_view_name": "LayoutView",
      "align_content": null,
      "align_items": null,
      "align_self": null,
      "border": null,
      "bottom": null,
      "display": null,
      "flex": null,
      "flex_flow": null,
      "grid_area": null,
      "grid_auto_columns": null,
      "grid_auto_flow": null,
      "grid_auto_rows": null,
      "grid_column": null,
      "grid_gap": null,
      "grid_row": null,
      "grid_template_areas": null,
      "grid_template_columns": null,
      "grid_template_rows": null,
      "height": null,
      "justify_content": null,
      "justify_items": null,
      "left": null,
      "margin": null,
      "max_height": null,
      "max_width": null,
      "min_height": null,
      "min_width": null,
      "object_fit": null,
      "object_position": null,
      "order": null,
      "overflow": null,
      "overflow_x": null,
      "overflow_y": null,
      "padding": null,
      "right": null,
      "top": null,
      "visibility": null,
      "width": null
     }
    },
    "3385c2ab4a46412cb9a8d0f4a8fd8bad": {
     "model_module": "@jupyter-widgets/base",
     "model_module_version": "1.2.0",
     "model_name": "LayoutModel",
     "state": {
      "_model_module": "@jupyter-widgets/base",
      "_model_module_version": "1.2.0",
      "_model_name": "LayoutModel",
      "_view_count": null,
      "_view_module": "@jupyter-widgets/base",
      "_view_module_version": "1.2.0",
      "_view_name": "LayoutView",
      "align_content": null,
      "align_items": null,
      "align_self": null,
      "border": null,
      "bottom": null,
      "display": null,
      "flex": null,
      "flex_flow": null,
      "grid_area": null,
      "grid_auto_columns": null,
      "grid_auto_flow": null,
      "grid_auto_rows": null,
      "grid_column": null,
      "grid_gap": null,
      "grid_row": null,
      "grid_template_areas": null,
      "grid_template_columns": null,
      "grid_template_rows": null,
      "height": null,
      "justify_content": null,
      "justify_items": null,
      "left": null,
      "margin": null,
      "max_height": null,
      "max_width": null,
      "min_height": null,
      "min_width": null,
      "object_fit": null,
      "object_position": null,
      "order": null,
      "overflow": null,
      "overflow_x": null,
      "overflow_y": null,
      "padding": null,
      "right": null,
      "top": null,
      "visibility": null,
      "width": null
     }
    },
    "374722acef4b4d5391cfb19c4ab8fda0": {
     "model_module": "@jupyter-widgets/base",
     "model_module_version": "1.2.0",
     "model_name": "LayoutModel",
     "state": {
      "_model_module": "@jupyter-widgets/base",
      "_model_module_version": "1.2.0",
      "_model_name": "LayoutModel",
      "_view_count": null,
      "_view_module": "@jupyter-widgets/base",
      "_view_module_version": "1.2.0",
      "_view_name": "LayoutView",
      "align_content": null,
      "align_items": null,
      "align_self": null,
      "border": null,
      "bottom": null,
      "display": null,
      "flex": null,
      "flex_flow": null,
      "grid_area": null,
      "grid_auto_columns": null,
      "grid_auto_flow": null,
      "grid_auto_rows": null,
      "grid_column": null,
      "grid_gap": null,
      "grid_row": null,
      "grid_template_areas": null,
      "grid_template_columns": null,
      "grid_template_rows": null,
      "height": null,
      "justify_content": null,
      "justify_items": null,
      "left": null,
      "margin": null,
      "max_height": null,
      "max_width": null,
      "min_height": null,
      "min_width": null,
      "object_fit": null,
      "object_position": null,
      "order": null,
      "overflow": null,
      "overflow_x": null,
      "overflow_y": null,
      "padding": null,
      "right": null,
      "top": null,
      "visibility": null,
      "width": null
     }
    },
    "390e9bab219e4d1d9294eca85e439878": {
     "model_module": "@jupyter-widgets/controls",
     "model_module_version": "1.5.0",
     "model_name": "VBoxModel",
     "state": {
      "_dom_classes": [],
      "_model_module": "@jupyter-widgets/controls",
      "_model_module_version": "1.5.0",
      "_model_name": "VBoxModel",
      "_view_count": null,
      "_view_module": "@jupyter-widgets/controls",
      "_view_module_version": "1.5.0",
      "_view_name": "VBoxView",
      "box_style": "",
      "children": [
       "IPY_MODEL_9f5291d6304e46d894a57857ee3b9faf",
       "IPY_MODEL_fff3efbbee044447b886980a1f6d31a9"
      ],
      "layout": "IPY_MODEL_bf41df9671744572a3ea8366f08806b3"
     }
    },
    "39acc7b66a8e4f3d9f1500930d46c6d1": {
     "model_module": "@jupyter-widgets/controls",
     "model_module_version": "1.5.0",
     "model_name": "VBoxModel",
     "state": {
      "_dom_classes": [],
      "_model_module": "@jupyter-widgets/controls",
      "_model_module_version": "1.5.0",
      "_model_name": "VBoxModel",
      "_view_count": null,
      "_view_module": "@jupyter-widgets/controls",
      "_view_module_version": "1.5.0",
      "_view_name": "VBoxView",
      "box_style": "",
      "children": [
       "IPY_MODEL_6fe95379498f4ab198321fd4f880756e",
       "IPY_MODEL_896a2dacf2d34dda915b8a0b55714852"
      ],
      "layout": "IPY_MODEL_b8cd0889093c46f699499638f114a02a"
     }
    },
    "3a1ed78fd46d4cc68b8e2b8de2302786": {
     "model_module": "@jupyter-widgets/base",
     "model_module_version": "1.2.0",
     "model_name": "LayoutModel",
     "state": {
      "_model_module": "@jupyter-widgets/base",
      "_model_module_version": "1.2.0",
      "_model_name": "LayoutModel",
      "_view_count": null,
      "_view_module": "@jupyter-widgets/base",
      "_view_module_version": "1.2.0",
      "_view_name": "LayoutView",
      "align_content": null,
      "align_items": null,
      "align_self": null,
      "border": null,
      "bottom": null,
      "display": null,
      "flex": null,
      "flex_flow": null,
      "grid_area": null,
      "grid_auto_columns": null,
      "grid_auto_flow": null,
      "grid_auto_rows": null,
      "grid_column": null,
      "grid_gap": null,
      "grid_row": null,
      "grid_template_areas": null,
      "grid_template_columns": null,
      "grid_template_rows": null,
      "height": null,
      "justify_content": null,
      "justify_items": null,
      "left": null,
      "margin": null,
      "max_height": null,
      "max_width": null,
      "min_height": null,
      "min_width": null,
      "object_fit": null,
      "object_position": null,
      "order": null,
      "overflow": null,
      "overflow_x": null,
      "overflow_y": null,
      "padding": null,
      "right": null,
      "top": null,
      "visibility": null,
      "width": null
     }
    },
    "3e9e0a2285a04aabb5d1fbda565c1b98": {
     "model_module": "@jupyter-widgets/controls",
     "model_module_version": "1.5.0",
     "model_name": "DescriptionStyleModel",
     "state": {
      "_model_module": "@jupyter-widgets/controls",
      "_model_module_version": "1.5.0",
      "_model_name": "DescriptionStyleModel",
      "_view_count": null,
      "_view_module": "@jupyter-widgets/base",
      "_view_module_version": "1.2.0",
      "_view_name": "StyleView",
      "description_width": ""
     }
    },
    "3f008cc315924430b2ef5b643cda81ca": {
     "model_module": "@jupyter-widgets/controls",
     "model_module_version": "1.5.0",
     "model_name": "ProgressStyleModel",
     "state": {
      "_model_module": "@jupyter-widgets/controls",
      "_model_module_version": "1.5.0",
      "_model_name": "ProgressStyleModel",
      "_view_count": null,
      "_view_module": "@jupyter-widgets/base",
      "_view_module_version": "1.2.0",
      "_view_name": "StyleView",
      "bar_color": null,
      "description_width": ""
     }
    },
    "4253a94330f24aab926137bfc27f37e9": {
     "model_module": "@jupyter-widgets/controls",
     "model_module_version": "1.5.0",
     "model_name": "VBoxModel",
     "state": {
      "_dom_classes": [],
      "_model_module": "@jupyter-widgets/controls",
      "_model_module_version": "1.5.0",
      "_model_name": "VBoxModel",
      "_view_count": null,
      "_view_module": "@jupyter-widgets/controls",
      "_view_module_version": "1.5.0",
      "_view_name": "VBoxView",
      "box_style": "",
      "children": [
       "IPY_MODEL_8751be9eb51f4ea69662fcf2c42665eb",
       "IPY_MODEL_85e65bfee43b42c5884a045ec4f87f0d"
      ],
      "layout": "IPY_MODEL_4d1e6725b8bb4ed0995ad8b4fe74b080"
     }
    },
    "428b4fe4335444a694990bcf4e3913f0": {
     "model_module": "@jupyter-widgets/controls",
     "model_module_version": "1.5.0",
     "model_name": "LabelModel",
     "state": {
      "_dom_classes": [],
      "_model_module": "@jupyter-widgets/controls",
      "_model_module_version": "1.5.0",
      "_model_name": "LabelModel",
      "_view_count": null,
      "_view_module": "@jupyter-widgets/controls",
      "_view_module_version": "1.5.0",
      "_view_name": "LabelView",
      "description": "",
      "description_tooltip": null,
      "layout": "IPY_MODEL_3385c2ab4a46412cb9a8d0f4a8fd8bad",
      "placeholder": "​",
      "style": "IPY_MODEL_e0226e1f222f4e99995ae848d43254b2",
      "value": "0.011 MB of 0.011 MB uploaded\r"
     }
    },
    "430ca5f8185942d5a307c488fd49cae0": {
     "model_module": "@jupyter-widgets/controls",
     "model_module_version": "1.5.0",
     "model_name": "DescriptionStyleModel",
     "state": {
      "_model_module": "@jupyter-widgets/controls",
      "_model_module_version": "1.5.0",
      "_model_name": "DescriptionStyleModel",
      "_view_count": null,
      "_view_module": "@jupyter-widgets/base",
      "_view_module_version": "1.2.0",
      "_view_name": "StyleView",
      "description_width": ""
     }
    },
    "43e2397898074d1a9fe01aea75d719fa": {
     "model_module": "@jupyter-widgets/controls",
     "model_module_version": "1.5.0",
     "model_name": "DescriptionStyleModel",
     "state": {
      "_model_module": "@jupyter-widgets/controls",
      "_model_module_version": "1.5.0",
      "_model_name": "DescriptionStyleModel",
      "_view_count": null,
      "_view_module": "@jupyter-widgets/base",
      "_view_module_version": "1.2.0",
      "_view_name": "StyleView",
      "description_width": ""
     }
    },
    "47242b42045a496b9016fe8c23424ca2": {
     "model_module": "@jupyter-widgets/base",
     "model_module_version": "1.2.0",
     "model_name": "LayoutModel",
     "state": {
      "_model_module": "@jupyter-widgets/base",
      "_model_module_version": "1.2.0",
      "_model_name": "LayoutModel",
      "_view_count": null,
      "_view_module": "@jupyter-widgets/base",
      "_view_module_version": "1.2.0",
      "_view_name": "LayoutView",
      "align_content": null,
      "align_items": null,
      "align_self": null,
      "border": null,
      "bottom": null,
      "display": null,
      "flex": null,
      "flex_flow": null,
      "grid_area": null,
      "grid_auto_columns": null,
      "grid_auto_flow": null,
      "grid_auto_rows": null,
      "grid_column": null,
      "grid_gap": null,
      "grid_row": null,
      "grid_template_areas": null,
      "grid_template_columns": null,
      "grid_template_rows": null,
      "height": null,
      "justify_content": null,
      "justify_items": null,
      "left": null,
      "margin": null,
      "max_height": null,
      "max_width": null,
      "min_height": null,
      "min_width": null,
      "object_fit": null,
      "object_position": null,
      "order": null,
      "overflow": null,
      "overflow_x": null,
      "overflow_y": null,
      "padding": null,
      "right": null,
      "top": null,
      "visibility": null,
      "width": null
     }
    },
    "4a17d72adfda4025b3026b06e29d0802": {
     "model_module": "@jupyter-widgets/base",
     "model_module_version": "1.2.0",
     "model_name": "LayoutModel",
     "state": {
      "_model_module": "@jupyter-widgets/base",
      "_model_module_version": "1.2.0",
      "_model_name": "LayoutModel",
      "_view_count": null,
      "_view_module": "@jupyter-widgets/base",
      "_view_module_version": "1.2.0",
      "_view_name": "LayoutView",
      "align_content": null,
      "align_items": null,
      "align_self": null,
      "border": null,
      "bottom": null,
      "display": null,
      "flex": null,
      "flex_flow": null,
      "grid_area": null,
      "grid_auto_columns": null,
      "grid_auto_flow": null,
      "grid_auto_rows": null,
      "grid_column": null,
      "grid_gap": null,
      "grid_row": null,
      "grid_template_areas": null,
      "grid_template_columns": null,
      "grid_template_rows": null,
      "height": null,
      "justify_content": null,
      "justify_items": null,
      "left": null,
      "margin": null,
      "max_height": null,
      "max_width": null,
      "min_height": null,
      "min_width": null,
      "object_fit": null,
      "object_position": null,
      "order": null,
      "overflow": null,
      "overflow_x": null,
      "overflow_y": null,
      "padding": null,
      "right": null,
      "top": null,
      "visibility": null,
      "width": null
     }
    },
    "4d1e6725b8bb4ed0995ad8b4fe74b080": {
     "model_module": "@jupyter-widgets/base",
     "model_module_version": "1.2.0",
     "model_name": "LayoutModel",
     "state": {
      "_model_module": "@jupyter-widgets/base",
      "_model_module_version": "1.2.0",
      "_model_name": "LayoutModel",
      "_view_count": null,
      "_view_module": "@jupyter-widgets/base",
      "_view_module_version": "1.2.0",
      "_view_name": "LayoutView",
      "align_content": null,
      "align_items": null,
      "align_self": null,
      "border": null,
      "bottom": null,
      "display": null,
      "flex": null,
      "flex_flow": null,
      "grid_area": null,
      "grid_auto_columns": null,
      "grid_auto_flow": null,
      "grid_auto_rows": null,
      "grid_column": null,
      "grid_gap": null,
      "grid_row": null,
      "grid_template_areas": null,
      "grid_template_columns": null,
      "grid_template_rows": null,
      "height": null,
      "justify_content": null,
      "justify_items": null,
      "left": null,
      "margin": null,
      "max_height": null,
      "max_width": null,
      "min_height": null,
      "min_width": null,
      "object_fit": null,
      "object_position": null,
      "order": null,
      "overflow": null,
      "overflow_x": null,
      "overflow_y": null,
      "padding": null,
      "right": null,
      "top": null,
      "visibility": null,
      "width": null
     }
    },
    "4e16eb65b1744b96932699768fe6af1b": {
     "model_module": "@jupyter-widgets/controls",
     "model_module_version": "1.5.0",
     "model_name": "DescriptionStyleModel",
     "state": {
      "_model_module": "@jupyter-widgets/controls",
      "_model_module_version": "1.5.0",
      "_model_name": "DescriptionStyleModel",
      "_view_count": null,
      "_view_module": "@jupyter-widgets/base",
      "_view_module_version": "1.2.0",
      "_view_name": "StyleView",
      "description_width": ""
     }
    },
    "563d7edd603a470c8fa312edd32e5ac0": {
     "model_module": "@jupyter-widgets/controls",
     "model_module_version": "1.5.0",
     "model_name": "FloatProgressModel",
     "state": {
      "_dom_classes": [],
      "_model_module": "@jupyter-widgets/controls",
      "_model_module_version": "1.5.0",
      "_model_name": "FloatProgressModel",
      "_view_count": null,
      "_view_module": "@jupyter-widgets/controls",
      "_view_module_version": "1.5.0",
      "_view_name": "ProgressView",
      "bar_style": "",
      "description": "",
      "description_tooltip": null,
      "layout": "IPY_MODEL_9d39112c554146ee9e3568857c66096f",
      "max": 1,
      "min": 0,
      "orientation": "horizontal",
      "style": "IPY_MODEL_2231b64f4e774d339af18f5d7d964785",
      "value": 1
     }
    },
    "5823eeef50524bad9569bfeecd1f4943": {
     "model_module": "@jupyter-widgets/controls",
     "model_module_version": "1.5.0",
     "model_name": "FloatProgressModel",
     "state": {
      "_dom_classes": [],
      "_model_module": "@jupyter-widgets/controls",
      "_model_module_version": "1.5.0",
      "_model_name": "FloatProgressModel",
      "_view_count": null,
      "_view_module": "@jupyter-widgets/controls",
      "_view_module_version": "1.5.0",
      "_view_name": "ProgressView",
      "bar_style": "",
      "description": "",
      "description_tooltip": null,
      "layout": "IPY_MODEL_e7785eaca8df4e29b66057ca22fef27a",
      "max": 1,
      "min": 0,
      "orientation": "horizontal",
      "style": "IPY_MODEL_ed64f9d7af30435597b708eafe38767b",
      "value": 1
     }
    },
    "593d4049476e42bf97bfd878c351e6c2": {
     "model_module": "@jupyter-widgets/controls",
     "model_module_version": "1.5.0",
     "model_name": "DescriptionStyleModel",
     "state": {
      "_model_module": "@jupyter-widgets/controls",
      "_model_module_version": "1.5.0",
      "_model_name": "DescriptionStyleModel",
      "_view_count": null,
      "_view_module": "@jupyter-widgets/base",
      "_view_module_version": "1.2.0",
      "_view_name": "StyleView",
      "description_width": ""
     }
    },
    "5d369aaf32554b5abf728df69de5fa64": {
     "model_module": "@jupyter-widgets/controls",
     "model_module_version": "1.5.0",
     "model_name": "VBoxModel",
     "state": {
      "_dom_classes": [],
      "_model_module": "@jupyter-widgets/controls",
      "_model_module_version": "1.5.0",
      "_model_name": "VBoxModel",
      "_view_count": null,
      "_view_module": "@jupyter-widgets/controls",
      "_view_module_version": "1.5.0",
      "_view_name": "VBoxView",
      "box_style": "",
      "children": [
       "IPY_MODEL_0c0e7a7c97d74942bf38282f53772f35",
       "IPY_MODEL_ebd99fb18857460c90c56bf7fe24216d"
      ],
      "layout": "IPY_MODEL_7aec17e955014385818b59da3b4448f7"
     }
    },
    "5f40613c480b4f93b3204b3f2ea31b76": {
     "model_module": "@jupyter-widgets/controls",
     "model_module_version": "1.5.0",
     "model_name": "ProgressStyleModel",
     "state": {
      "_model_module": "@jupyter-widgets/controls",
      "_model_module_version": "1.5.0",
      "_model_name": "ProgressStyleModel",
      "_view_count": null,
      "_view_module": "@jupyter-widgets/base",
      "_view_module_version": "1.2.0",
      "_view_name": "StyleView",
      "bar_color": null,
      "description_width": ""
     }
    },
    "6330a43aad00467fab6929cdc8acdee9": {
     "model_module": "@jupyter-widgets/controls",
     "model_module_version": "1.5.0",
     "model_name": "ProgressStyleModel",
     "state": {
      "_model_module": "@jupyter-widgets/controls",
      "_model_module_version": "1.5.0",
      "_model_name": "ProgressStyleModel",
      "_view_count": null,
      "_view_module": "@jupyter-widgets/base",
      "_view_module_version": "1.2.0",
      "_view_name": "StyleView",
      "bar_color": null,
      "description_width": ""
     }
    },
    "6991d8e83063405fb309a833d66d8a50": {
     "model_module": "@jupyter-widgets/controls",
     "model_module_version": "1.5.0",
     "model_name": "LabelModel",
     "state": {
      "_dom_classes": [],
      "_model_module": "@jupyter-widgets/controls",
      "_model_module_version": "1.5.0",
      "_model_name": "LabelModel",
      "_view_count": null,
      "_view_module": "@jupyter-widgets/controls",
      "_view_module_version": "1.5.0",
      "_view_name": "LabelView",
      "description": "",
      "description_tooltip": null,
      "layout": "IPY_MODEL_9d4b59bc72cd482493c2d8e15fe71c67",
      "placeholder": "​",
      "style": "IPY_MODEL_e13bd9ee42b4469b9471c99462ff5cce",
      "value": "0.038 MB of 0.038 MB uploaded\r"
     }
    },
    "6b3f5713440c4f8786f1d66669ca8304": {
     "model_module": "@jupyter-widgets/controls",
     "model_module_version": "1.5.0",
     "model_name": "ProgressStyleModel",
     "state": {
      "_model_module": "@jupyter-widgets/controls",
      "_model_module_version": "1.5.0",
      "_model_name": "ProgressStyleModel",
      "_view_count": null,
      "_view_module": "@jupyter-widgets/base",
      "_view_module_version": "1.2.0",
      "_view_name": "StyleView",
      "bar_color": null,
      "description_width": ""
     }
    },
    "6fe95379498f4ab198321fd4f880756e": {
     "model_module": "@jupyter-widgets/controls",
     "model_module_version": "1.5.0",
     "model_name": "LabelModel",
     "state": {
      "_dom_classes": [],
      "_model_module": "@jupyter-widgets/controls",
      "_model_module_version": "1.5.0",
      "_model_name": "LabelModel",
      "_view_count": null,
      "_view_module": "@jupyter-widgets/controls",
      "_view_module_version": "1.5.0",
      "_view_name": "LabelView",
      "description": "",
      "description_tooltip": null,
      "layout": "IPY_MODEL_2370d710612c4e3c9587034c917cc237",
      "placeholder": "​",
      "style": "IPY_MODEL_1b6939c4b2d04687ac117db19fbfe90b",
      "value": "0.040 MB of 0.040 MB uploaded\r"
     }
    },
    "726b7b53c41c42f7ad60d0b0b6441cb6": {
     "model_module": "@jupyter-widgets/controls",
     "model_module_version": "1.5.0",
     "model_name": "LabelModel",
     "state": {
      "_dom_classes": [],
      "_model_module": "@jupyter-widgets/controls",
      "_model_module_version": "1.5.0",
      "_model_name": "LabelModel",
      "_view_count": null,
      "_view_module": "@jupyter-widgets/controls",
      "_view_module_version": "1.5.0",
      "_view_name": "LabelView",
      "description": "",
      "description_tooltip": null,
      "layout": "IPY_MODEL_cd820a8d96204abcb0e45e57ab325614",
      "placeholder": "​",
      "style": "IPY_MODEL_43e2397898074d1a9fe01aea75d719fa",
      "value": "0.011 MB of 0.011 MB uploaded\r"
     }
    },
    "73b220b6ec5c4352bf388bd37003b346": {
     "model_module": "@jupyter-widgets/base",
     "model_module_version": "1.2.0",
     "model_name": "LayoutModel",
     "state": {
      "_model_module": "@jupyter-widgets/base",
      "_model_module_version": "1.2.0",
      "_model_name": "LayoutModel",
      "_view_count": null,
      "_view_module": "@jupyter-widgets/base",
      "_view_module_version": "1.2.0",
      "_view_name": "LayoutView",
      "align_content": null,
      "align_items": null,
      "align_self": null,
      "border": null,
      "bottom": null,
      "display": null,
      "flex": null,
      "flex_flow": null,
      "grid_area": null,
      "grid_auto_columns": null,
      "grid_auto_flow": null,
      "grid_auto_rows": null,
      "grid_column": null,
      "grid_gap": null,
      "grid_row": null,
      "grid_template_areas": null,
      "grid_template_columns": null,
      "grid_template_rows": null,
      "height": null,
      "justify_content": null,
      "justify_items": null,
      "left": null,
      "margin": null,
      "max_height": null,
      "max_width": null,
      "min_height": null,
      "min_width": null,
      "object_fit": null,
      "object_position": null,
      "order": null,
      "overflow": null,
      "overflow_x": null,
      "overflow_y": null,
      "padding": null,
      "right": null,
      "top": null,
      "visibility": null,
      "width": null
     }
    },
    "7531854f47404783be9999ffe9cf5cf8": {
     "model_module": "@jupyter-widgets/base",
     "model_module_version": "1.2.0",
     "model_name": "LayoutModel",
     "state": {
      "_model_module": "@jupyter-widgets/base",
      "_model_module_version": "1.2.0",
      "_model_name": "LayoutModel",
      "_view_count": null,
      "_view_module": "@jupyter-widgets/base",
      "_view_module_version": "1.2.0",
      "_view_name": "LayoutView",
      "align_content": null,
      "align_items": null,
      "align_self": null,
      "border": null,
      "bottom": null,
      "display": null,
      "flex": null,
      "flex_flow": null,
      "grid_area": null,
      "grid_auto_columns": null,
      "grid_auto_flow": null,
      "grid_auto_rows": null,
      "grid_column": null,
      "grid_gap": null,
      "grid_row": null,
      "grid_template_areas": null,
      "grid_template_columns": null,
      "grid_template_rows": null,
      "height": null,
      "justify_content": null,
      "justify_items": null,
      "left": null,
      "margin": null,
      "max_height": null,
      "max_width": null,
      "min_height": null,
      "min_width": null,
      "object_fit": null,
      "object_position": null,
      "order": null,
      "overflow": null,
      "overflow_x": null,
      "overflow_y": null,
      "padding": null,
      "right": null,
      "top": null,
      "visibility": null,
      "width": null
     }
    },
    "757d3e8bcc9248f0a1815d310edf654e": {
     "model_module": "@jupyter-widgets/controls",
     "model_module_version": "1.5.0",
     "model_name": "VBoxModel",
     "state": {
      "_dom_classes": [],
      "_model_module": "@jupyter-widgets/controls",
      "_model_module_version": "1.5.0",
      "_model_name": "VBoxModel",
      "_view_count": null,
      "_view_module": "@jupyter-widgets/controls",
      "_view_module_version": "1.5.0",
      "_view_name": "VBoxView",
      "box_style": "",
      "children": [
       "IPY_MODEL_6991d8e83063405fb309a833d66d8a50",
       "IPY_MODEL_563d7edd603a470c8fa312edd32e5ac0"
      ],
      "layout": "IPY_MODEL_1a1254e2f0d64842bbab09982f4673fe"
     }
    },
    "76ab7683874542339ec328d11c131859": {
     "model_module": "@jupyter-widgets/controls",
     "model_module_version": "1.5.0",
     "model_name": "FloatProgressModel",
     "state": {
      "_dom_classes": [],
      "_model_module": "@jupyter-widgets/controls",
      "_model_module_version": "1.5.0",
      "_model_name": "FloatProgressModel",
      "_view_count": null,
      "_view_module": "@jupyter-widgets/controls",
      "_view_module_version": "1.5.0",
      "_view_name": "ProgressView",
      "bar_style": "",
      "description": "",
      "description_tooltip": null,
      "layout": "IPY_MODEL_223e10eb1d7c4d16b1652307e47d3deb",
      "max": 1,
      "min": 0,
      "orientation": "horizontal",
      "style": "IPY_MODEL_6330a43aad00467fab6929cdc8acdee9",
      "value": 1
     }
    },
    "7a17c28bf0184fac806781e48814dbd0": {
     "model_module": "@jupyter-widgets/base",
     "model_module_version": "1.2.0",
     "model_name": "LayoutModel",
     "state": {
      "_model_module": "@jupyter-widgets/base",
      "_model_module_version": "1.2.0",
      "_model_name": "LayoutModel",
      "_view_count": null,
      "_view_module": "@jupyter-widgets/base",
      "_view_module_version": "1.2.0",
      "_view_name": "LayoutView",
      "align_content": null,
      "align_items": null,
      "align_self": null,
      "border": null,
      "bottom": null,
      "display": null,
      "flex": null,
      "flex_flow": null,
      "grid_area": null,
      "grid_auto_columns": null,
      "grid_auto_flow": null,
      "grid_auto_rows": null,
      "grid_column": null,
      "grid_gap": null,
      "grid_row": null,
      "grid_template_areas": null,
      "grid_template_columns": null,
      "grid_template_rows": null,
      "height": null,
      "justify_content": null,
      "justify_items": null,
      "left": null,
      "margin": null,
      "max_height": null,
      "max_width": null,
      "min_height": null,
      "min_width": null,
      "object_fit": null,
      "object_position": null,
      "order": null,
      "overflow": null,
      "overflow_x": null,
      "overflow_y": null,
      "padding": null,
      "right": null,
      "top": null,
      "visibility": null,
      "width": null
     }
    },
    "7aec17e955014385818b59da3b4448f7": {
     "model_module": "@jupyter-widgets/base",
     "model_module_version": "1.2.0",
     "model_name": "LayoutModel",
     "state": {
      "_model_module": "@jupyter-widgets/base",
      "_model_module_version": "1.2.0",
      "_model_name": "LayoutModel",
      "_view_count": null,
      "_view_module": "@jupyter-widgets/base",
      "_view_module_version": "1.2.0",
      "_view_name": "LayoutView",
      "align_content": null,
      "align_items": null,
      "align_self": null,
      "border": null,
      "bottom": null,
      "display": null,
      "flex": null,
      "flex_flow": null,
      "grid_area": null,
      "grid_auto_columns": null,
      "grid_auto_flow": null,
      "grid_auto_rows": null,
      "grid_column": null,
      "grid_gap": null,
      "grid_row": null,
      "grid_template_areas": null,
      "grid_template_columns": null,
      "grid_template_rows": null,
      "height": null,
      "justify_content": null,
      "justify_items": null,
      "left": null,
      "margin": null,
      "max_height": null,
      "max_width": null,
      "min_height": null,
      "min_width": null,
      "object_fit": null,
      "object_position": null,
      "order": null,
      "overflow": null,
      "overflow_x": null,
      "overflow_y": null,
      "padding": null,
      "right": null,
      "top": null,
      "visibility": null,
      "width": null
     }
    },
    "85e65bfee43b42c5884a045ec4f87f0d": {
     "model_module": "@jupyter-widgets/controls",
     "model_module_version": "1.5.0",
     "model_name": "FloatProgressModel",
     "state": {
      "_dom_classes": [],
      "_model_module": "@jupyter-widgets/controls",
      "_model_module_version": "1.5.0",
      "_model_name": "FloatProgressModel",
      "_view_count": null,
      "_view_module": "@jupyter-widgets/controls",
      "_view_module_version": "1.5.0",
      "_view_name": "ProgressView",
      "bar_style": "",
      "description": "",
      "description_tooltip": null,
      "layout": "IPY_MODEL_1cafe80565df4e76bfb80e7f2b046432",
      "max": 1,
      "min": 0,
      "orientation": "horizontal",
      "style": "IPY_MODEL_a3e59c7ef35a4a08aef0474b56804702",
      "value": 1
     }
    },
    "864d5d5a6c3c44219ff87b1534cba269": {
     "model_module": "@jupyter-widgets/controls",
     "model_module_version": "1.5.0",
     "model_name": "FloatProgressModel",
     "state": {
      "_dom_classes": [],
      "_model_module": "@jupyter-widgets/controls",
      "_model_module_version": "1.5.0",
      "_model_name": "FloatProgressModel",
      "_view_count": null,
      "_view_module": "@jupyter-widgets/controls",
      "_view_module_version": "1.5.0",
      "_view_name": "ProgressView",
      "bar_style": "",
      "description": "",
      "description_tooltip": null,
      "layout": "IPY_MODEL_b8561ff80ed34cebb9e42f854edfc579",
      "max": 1,
      "min": 0,
      "orientation": "horizontal",
      "style": "IPY_MODEL_eec954b3ee50455a9809f2e5fe911139",
      "value": 1
     }
    },
    "8751be9eb51f4ea69662fcf2c42665eb": {
     "model_module": "@jupyter-widgets/controls",
     "model_module_version": "1.5.0",
     "model_name": "LabelModel",
     "state": {
      "_dom_classes": [],
      "_model_module": "@jupyter-widgets/controls",
      "_model_module_version": "1.5.0",
      "_model_name": "LabelModel",
      "_view_count": null,
      "_view_module": "@jupyter-widgets/controls",
      "_view_module_version": "1.5.0",
      "_view_name": "LabelView",
      "description": "",
      "description_tooltip": null,
      "layout": "IPY_MODEL_024c7def8ba34ace87700a59944dfa82",
      "placeholder": "​",
      "style": "IPY_MODEL_593d4049476e42bf97bfd878c351e6c2",
      "value": "0.059 MB of 0.059 MB uploaded\r"
     }
    },
    "896a2dacf2d34dda915b8a0b55714852": {
     "model_module": "@jupyter-widgets/controls",
     "model_module_version": "1.5.0",
     "model_name": "FloatProgressModel",
     "state": {
      "_dom_classes": [],
      "_model_module": "@jupyter-widgets/controls",
      "_model_module_version": "1.5.0",
      "_model_name": "FloatProgressModel",
      "_view_count": null,
      "_view_module": "@jupyter-widgets/controls",
      "_view_module_version": "1.5.0",
      "_view_name": "ProgressView",
      "bar_style": "",
      "description": "",
      "description_tooltip": null,
      "layout": "IPY_MODEL_a1b0860e866c447d873be73836c060e6",
      "max": 1,
      "min": 0,
      "orientation": "horizontal",
      "style": "IPY_MODEL_6b3f5713440c4f8786f1d66669ca8304",
      "value": 1
     }
    },
    "8aa887aaacfe406fa7d5ed96dc08ce86": {
     "model_module": "@jupyter-widgets/base",
     "model_module_version": "1.2.0",
     "model_name": "LayoutModel",
     "state": {
      "_model_module": "@jupyter-widgets/base",
      "_model_module_version": "1.2.0",
      "_model_name": "LayoutModel",
      "_view_count": null,
      "_view_module": "@jupyter-widgets/base",
      "_view_module_version": "1.2.0",
      "_view_name": "LayoutView",
      "align_content": null,
      "align_items": null,
      "align_self": null,
      "border": null,
      "bottom": null,
      "display": null,
      "flex": null,
      "flex_flow": null,
      "grid_area": null,
      "grid_auto_columns": null,
      "grid_auto_flow": null,
      "grid_auto_rows": null,
      "grid_column": null,
      "grid_gap": null,
      "grid_row": null,
      "grid_template_areas": null,
      "grid_template_columns": null,
      "grid_template_rows": null,
      "height": null,
      "justify_content": null,
      "justify_items": null,
      "left": null,
      "margin": null,
      "max_height": null,
      "max_width": null,
      "min_height": null,
      "min_width": null,
      "object_fit": null,
      "object_position": null,
      "order": null,
      "overflow": null,
      "overflow_x": null,
      "overflow_y": null,
      "padding": null,
      "right": null,
      "top": null,
      "visibility": null,
      "width": null
     }
    },
    "8f00811a7d184a2a9f1c545f196409b3": {
     "model_module": "@jupyter-widgets/controls",
     "model_module_version": "1.5.0",
     "model_name": "VBoxModel",
     "state": {
      "_dom_classes": [],
      "_model_module": "@jupyter-widgets/controls",
      "_model_module_version": "1.5.0",
      "_model_name": "VBoxModel",
      "_view_count": null,
      "_view_module": "@jupyter-widgets/controls",
      "_view_module_version": "1.5.0",
      "_view_name": "VBoxView",
      "box_style": "",
      "children": [
       "IPY_MODEL_bd9b168f14bd4ab89ef868535379d749",
       "IPY_MODEL_cc0168aa9b2e48e7b660463c93ba5171"
      ],
      "layout": "IPY_MODEL_0488fbfcd2ed4358b2364e3c3ece27b9"
     }
    },
    "99283fce183445c68a0fd670b464c88f": {
     "model_module": "@jupyter-widgets/controls",
     "model_module_version": "1.5.0",
     "model_name": "DescriptionStyleModel",
     "state": {
      "_model_module": "@jupyter-widgets/controls",
      "_model_module_version": "1.5.0",
      "_model_name": "DescriptionStyleModel",
      "_view_count": null,
      "_view_module": "@jupyter-widgets/base",
      "_view_module_version": "1.2.0",
      "_view_name": "StyleView",
      "description_width": ""
     }
    },
    "9d39112c554146ee9e3568857c66096f": {
     "model_module": "@jupyter-widgets/base",
     "model_module_version": "1.2.0",
     "model_name": "LayoutModel",
     "state": {
      "_model_module": "@jupyter-widgets/base",
      "_model_module_version": "1.2.0",
      "_model_name": "LayoutModel",
      "_view_count": null,
      "_view_module": "@jupyter-widgets/base",
      "_view_module_version": "1.2.0",
      "_view_name": "LayoutView",
      "align_content": null,
      "align_items": null,
      "align_self": null,
      "border": null,
      "bottom": null,
      "display": null,
      "flex": null,
      "flex_flow": null,
      "grid_area": null,
      "grid_auto_columns": null,
      "grid_auto_flow": null,
      "grid_auto_rows": null,
      "grid_column": null,
      "grid_gap": null,
      "grid_row": null,
      "grid_template_areas": null,
      "grid_template_columns": null,
      "grid_template_rows": null,
      "height": null,
      "justify_content": null,
      "justify_items": null,
      "left": null,
      "margin": null,
      "max_height": null,
      "max_width": null,
      "min_height": null,
      "min_width": null,
      "object_fit": null,
      "object_position": null,
      "order": null,
      "overflow": null,
      "overflow_x": null,
      "overflow_y": null,
      "padding": null,
      "right": null,
      "top": null,
      "visibility": null,
      "width": null
     }
    },
    "9d4b59bc72cd482493c2d8e15fe71c67": {
     "model_module": "@jupyter-widgets/base",
     "model_module_version": "1.2.0",
     "model_name": "LayoutModel",
     "state": {
      "_model_module": "@jupyter-widgets/base",
      "_model_module_version": "1.2.0",
      "_model_name": "LayoutModel",
      "_view_count": null,
      "_view_module": "@jupyter-widgets/base",
      "_view_module_version": "1.2.0",
      "_view_name": "LayoutView",
      "align_content": null,
      "align_items": null,
      "align_self": null,
      "border": null,
      "bottom": null,
      "display": null,
      "flex": null,
      "flex_flow": null,
      "grid_area": null,
      "grid_auto_columns": null,
      "grid_auto_flow": null,
      "grid_auto_rows": null,
      "grid_column": null,
      "grid_gap": null,
      "grid_row": null,
      "grid_template_areas": null,
      "grid_template_columns": null,
      "grid_template_rows": null,
      "height": null,
      "justify_content": null,
      "justify_items": null,
      "left": null,
      "margin": null,
      "max_height": null,
      "max_width": null,
      "min_height": null,
      "min_width": null,
      "object_fit": null,
      "object_position": null,
      "order": null,
      "overflow": null,
      "overflow_x": null,
      "overflow_y": null,
      "padding": null,
      "right": null,
      "top": null,
      "visibility": null,
      "width": null
     }
    },
    "9f5291d6304e46d894a57857ee3b9faf": {
     "model_module": "@jupyter-widgets/controls",
     "model_module_version": "1.5.0",
     "model_name": "LabelModel",
     "state": {
      "_dom_classes": [],
      "_model_module": "@jupyter-widgets/controls",
      "_model_module_version": "1.5.0",
      "_model_name": "LabelModel",
      "_view_count": null,
      "_view_module": "@jupyter-widgets/controls",
      "_view_module_version": "1.5.0",
      "_view_name": "LabelView",
      "description": "",
      "description_tooltip": null,
      "layout": "IPY_MODEL_8aa887aaacfe406fa7d5ed96dc08ce86",
      "placeholder": "​",
      "style": "IPY_MODEL_c13c009219bc4595ac049e1e11c9d087",
      "value": "0.041 MB of 0.041 MB uploaded\r"
     }
    },
    "a0278e22bb704fb9a5f53f41c9b752f6": {
     "model_module": "@jupyter-widgets/controls",
     "model_module_version": "1.5.0",
     "model_name": "VBoxModel",
     "state": {
      "_dom_classes": [],
      "_model_module": "@jupyter-widgets/controls",
      "_model_module_version": "1.5.0",
      "_model_name": "VBoxModel",
      "_view_count": null,
      "_view_module": "@jupyter-widgets/controls",
      "_view_module_version": "1.5.0",
      "_view_name": "VBoxView",
      "box_style": "",
      "children": [
       "IPY_MODEL_1cdf3da4f6f745618aab8bfdaeea78dd",
       "IPY_MODEL_1164aa4757224a03a9f8cad9e8df5bc6"
      ],
      "layout": "IPY_MODEL_03f2c8cbfaf845b785de7e4c9a19780b"
     }
    },
    "a0d449da929947309b4fe2dd4c7289a4": {
     "model_module": "@jupyter-widgets/controls",
     "model_module_version": "1.5.0",
     "model_name": "ProgressStyleModel",
     "state": {
      "_model_module": "@jupyter-widgets/controls",
      "_model_module_version": "1.5.0",
      "_model_name": "ProgressStyleModel",
      "_view_count": null,
      "_view_module": "@jupyter-widgets/base",
      "_view_module_version": "1.2.0",
      "_view_name": "StyleView",
      "bar_color": null,
      "description_width": ""
     }
    },
    "a1b0860e866c447d873be73836c060e6": {
     "model_module": "@jupyter-widgets/base",
     "model_module_version": "1.2.0",
     "model_name": "LayoutModel",
     "state": {
      "_model_module": "@jupyter-widgets/base",
      "_model_module_version": "1.2.0",
      "_model_name": "LayoutModel",
      "_view_count": null,
      "_view_module": "@jupyter-widgets/base",
      "_view_module_version": "1.2.0",
      "_view_name": "LayoutView",
      "align_content": null,
      "align_items": null,
      "align_self": null,
      "border": null,
      "bottom": null,
      "display": null,
      "flex": null,
      "flex_flow": null,
      "grid_area": null,
      "grid_auto_columns": null,
      "grid_auto_flow": null,
      "grid_auto_rows": null,
      "grid_column": null,
      "grid_gap": null,
      "grid_row": null,
      "grid_template_areas": null,
      "grid_template_columns": null,
      "grid_template_rows": null,
      "height": null,
      "justify_content": null,
      "justify_items": null,
      "left": null,
      "margin": null,
      "max_height": null,
      "max_width": null,
      "min_height": null,
      "min_width": null,
      "object_fit": null,
      "object_position": null,
      "order": null,
      "overflow": null,
      "overflow_x": null,
      "overflow_y": null,
      "padding": null,
      "right": null,
      "top": null,
      "visibility": null,
      "width": null
     }
    },
    "a3e59c7ef35a4a08aef0474b56804702": {
     "model_module": "@jupyter-widgets/controls",
     "model_module_version": "1.5.0",
     "model_name": "ProgressStyleModel",
     "state": {
      "_model_module": "@jupyter-widgets/controls",
      "_model_module_version": "1.5.0",
      "_model_name": "ProgressStyleModel",
      "_view_count": null,
      "_view_module": "@jupyter-widgets/base",
      "_view_module_version": "1.2.0",
      "_view_name": "StyleView",
      "bar_color": null,
      "description_width": ""
     }
    },
    "a5727f625d81416c8c3a13786a0da543": {
     "model_module": "@jupyter-widgets/controls",
     "model_module_version": "1.5.0",
     "model_name": "FloatProgressModel",
     "state": {
      "_dom_classes": [],
      "_model_module": "@jupyter-widgets/controls",
      "_model_module_version": "1.5.0",
      "_model_name": "FloatProgressModel",
      "_view_count": null,
      "_view_module": "@jupyter-widgets/controls",
      "_view_module_version": "1.5.0",
      "_view_name": "ProgressView",
      "bar_style": "",
      "description": "",
      "description_tooltip": null,
      "layout": "IPY_MODEL_fd150774706446458ae6c09b17895525",
      "max": 1,
      "min": 0,
      "orientation": "horizontal",
      "style": "IPY_MODEL_5f40613c480b4f93b3204b3f2ea31b76",
      "value": 1
     }
    },
    "a7637de8a7ed4ce08b775667411c28c2": {
     "model_module": "@jupyter-widgets/controls",
     "model_module_version": "1.5.0",
     "model_name": "VBoxModel",
     "state": {
      "_dom_classes": [],
      "_model_module": "@jupyter-widgets/controls",
      "_model_module_version": "1.5.0",
      "_model_name": "VBoxModel",
      "_view_count": null,
      "_view_module": "@jupyter-widgets/controls",
      "_view_module_version": "1.5.0",
      "_view_name": "VBoxView",
      "box_style": "",
      "children": [
       "IPY_MODEL_ef98ee957ec947728e85cc369f63e976",
       "IPY_MODEL_c49afb70f0ef4407a8b9abe695759a5b"
      ],
      "layout": "IPY_MODEL_73b220b6ec5c4352bf388bd37003b346"
     }
    },
    "a98272bd2d104831a9577814b408dfe5": {
     "model_module": "@jupyter-widgets/controls",
     "model_module_version": "1.5.0",
     "model_name": "DescriptionStyleModel",
     "state": {
      "_model_module": "@jupyter-widgets/controls",
      "_model_module_version": "1.5.0",
      "_model_name": "DescriptionStyleModel",
      "_view_count": null,
      "_view_module": "@jupyter-widgets/base",
      "_view_module_version": "1.2.0",
      "_view_name": "StyleView",
      "description_width": ""
     }
    },
    "aa72babaeeeb43e0b15f17c65e35a349": {
     "model_module": "@jupyter-widgets/base",
     "model_module_version": "1.2.0",
     "model_name": "LayoutModel",
     "state": {
      "_model_module": "@jupyter-widgets/base",
      "_model_module_version": "1.2.0",
      "_model_name": "LayoutModel",
      "_view_count": null,
      "_view_module": "@jupyter-widgets/base",
      "_view_module_version": "1.2.0",
      "_view_name": "LayoutView",
      "align_content": null,
      "align_items": null,
      "align_self": null,
      "border": null,
      "bottom": null,
      "display": null,
      "flex": null,
      "flex_flow": null,
      "grid_area": null,
      "grid_auto_columns": null,
      "grid_auto_flow": null,
      "grid_auto_rows": null,
      "grid_column": null,
      "grid_gap": null,
      "grid_row": null,
      "grid_template_areas": null,
      "grid_template_columns": null,
      "grid_template_rows": null,
      "height": null,
      "justify_content": null,
      "justify_items": null,
      "left": null,
      "margin": null,
      "max_height": null,
      "max_width": null,
      "min_height": null,
      "min_width": null,
      "object_fit": null,
      "object_position": null,
      "order": null,
      "overflow": null,
      "overflow_x": null,
      "overflow_y": null,
      "padding": null,
      "right": null,
      "top": null,
      "visibility": null,
      "width": null
     }
    },
    "b07f7ee7ac664da2a6b2950812d50861": {
     "model_module": "@jupyter-widgets/controls",
     "model_module_version": "1.5.0",
     "model_name": "VBoxModel",
     "state": {
      "_dom_classes": [],
      "_model_module": "@jupyter-widgets/controls",
      "_model_module_version": "1.5.0",
      "_model_name": "VBoxModel",
      "_view_count": null,
      "_view_module": "@jupyter-widgets/controls",
      "_view_module_version": "1.5.0",
      "_view_name": "VBoxView",
      "box_style": "",
      "children": [
       "IPY_MODEL_e3b25b81e82e45948f8af72ae076d1b4",
       "IPY_MODEL_76ab7683874542339ec328d11c131859"
      ],
      "layout": "IPY_MODEL_4a17d72adfda4025b3026b06e29d0802"
     }
    },
    "b13dc34992ef4716a3cd58a4fd6732bc": {
     "model_module": "@jupyter-widgets/controls",
     "model_module_version": "1.5.0",
     "model_name": "VBoxModel",
     "state": {
      "_dom_classes": [],
      "_model_module": "@jupyter-widgets/controls",
      "_model_module_version": "1.5.0",
      "_model_name": "VBoxModel",
      "_view_count": null,
      "_view_module": "@jupyter-widgets/controls",
      "_view_module_version": "1.5.0",
      "_view_name": "VBoxView",
      "box_style": "",
      "children": [
       "IPY_MODEL_dfac590cbcb64622b09b647a89af21a1",
       "IPY_MODEL_04301cee7e364b1789187cc925924f45"
      ],
      "layout": "IPY_MODEL_2b19e804b3d4408597d940d15bd1c1e7"
     }
    },
    "b4ff61e3a2964513b6d22abb77c4c197": {
     "model_module": "@jupyter-widgets/controls",
     "model_module_version": "1.5.0",
     "model_name": "VBoxModel",
     "state": {
      "_dom_classes": [],
      "_model_module": "@jupyter-widgets/controls",
      "_model_module_version": "1.5.0",
      "_model_name": "VBoxModel",
      "_view_count": null,
      "_view_module": "@jupyter-widgets/controls",
      "_view_module_version": "1.5.0",
      "_view_name": "VBoxView",
      "box_style": "",
      "children": [
       "IPY_MODEL_2b59081eb1074af28db625e3fdc92ed0",
       "IPY_MODEL_2ee7357b2b9440d4bcdf5dc310efc7e1"
      ],
      "layout": "IPY_MODEL_7a17c28bf0184fac806781e48814dbd0"
     }
    },
    "b8561ff80ed34cebb9e42f854edfc579": {
     "model_module": "@jupyter-widgets/base",
     "model_module_version": "1.2.0",
     "model_name": "LayoutModel",
     "state": {
      "_model_module": "@jupyter-widgets/base",
      "_model_module_version": "1.2.0",
      "_model_name": "LayoutModel",
      "_view_count": null,
      "_view_module": "@jupyter-widgets/base",
      "_view_module_version": "1.2.0",
      "_view_name": "LayoutView",
      "align_content": null,
      "align_items": null,
      "align_self": null,
      "border": null,
      "bottom": null,
      "display": null,
      "flex": null,
      "flex_flow": null,
      "grid_area": null,
      "grid_auto_columns": null,
      "grid_auto_flow": null,
      "grid_auto_rows": null,
      "grid_column": null,
      "grid_gap": null,
      "grid_row": null,
      "grid_template_areas": null,
      "grid_template_columns": null,
      "grid_template_rows": null,
      "height": null,
      "justify_content": null,
      "justify_items": null,
      "left": null,
      "margin": null,
      "max_height": null,
      "max_width": null,
      "min_height": null,
      "min_width": null,
      "object_fit": null,
      "object_position": null,
      "order": null,
      "overflow": null,
      "overflow_x": null,
      "overflow_y": null,
      "padding": null,
      "right": null,
      "top": null,
      "visibility": null,
      "width": null
     }
    },
    "b8c00db6612b441fa7f2fa53499a7e0d": {
     "model_module": "@jupyter-widgets/controls",
     "model_module_version": "1.5.0",
     "model_name": "ProgressStyleModel",
     "state": {
      "_model_module": "@jupyter-widgets/controls",
      "_model_module_version": "1.5.0",
      "_model_name": "ProgressStyleModel",
      "_view_count": null,
      "_view_module": "@jupyter-widgets/base",
      "_view_module_version": "1.2.0",
      "_view_name": "StyleView",
      "bar_color": null,
      "description_width": ""
     }
    },
    "b8cd0889093c46f699499638f114a02a": {
     "model_module": "@jupyter-widgets/base",
     "model_module_version": "1.2.0",
     "model_name": "LayoutModel",
     "state": {
      "_model_module": "@jupyter-widgets/base",
      "_model_module_version": "1.2.0",
      "_model_name": "LayoutModel",
      "_view_count": null,
      "_view_module": "@jupyter-widgets/base",
      "_view_module_version": "1.2.0",
      "_view_name": "LayoutView",
      "align_content": null,
      "align_items": null,
      "align_self": null,
      "border": null,
      "bottom": null,
      "display": null,
      "flex": null,
      "flex_flow": null,
      "grid_area": null,
      "grid_auto_columns": null,
      "grid_auto_flow": null,
      "grid_auto_rows": null,
      "grid_column": null,
      "grid_gap": null,
      "grid_row": null,
      "grid_template_areas": null,
      "grid_template_columns": null,
      "grid_template_rows": null,
      "height": null,
      "justify_content": null,
      "justify_items": null,
      "left": null,
      "margin": null,
      "max_height": null,
      "max_width": null,
      "min_height": null,
      "min_width": null,
      "object_fit": null,
      "object_position": null,
      "order": null,
      "overflow": null,
      "overflow_x": null,
      "overflow_y": null,
      "padding": null,
      "right": null,
      "top": null,
      "visibility": null,
      "width": null
     }
    },
    "ba6052aa9b864070b26d444e88d0a2e2": {
     "model_module": "@jupyter-widgets/controls",
     "model_module_version": "1.5.0",
     "model_name": "ProgressStyleModel",
     "state": {
      "_model_module": "@jupyter-widgets/controls",
      "_model_module_version": "1.5.0",
      "_model_name": "ProgressStyleModel",
      "_view_count": null,
      "_view_module": "@jupyter-widgets/base",
      "_view_module_version": "1.2.0",
      "_view_name": "StyleView",
      "bar_color": null,
      "description_width": ""
     }
    },
    "ba6d883f8e584828b1b23ba9983822fe": {
     "model_module": "@jupyter-widgets/base",
     "model_module_version": "1.2.0",
     "model_name": "LayoutModel",
     "state": {
      "_model_module": "@jupyter-widgets/base",
      "_model_module_version": "1.2.0",
      "_model_name": "LayoutModel",
      "_view_count": null,
      "_view_module": "@jupyter-widgets/base",
      "_view_module_version": "1.2.0",
      "_view_name": "LayoutView",
      "align_content": null,
      "align_items": null,
      "align_self": null,
      "border": null,
      "bottom": null,
      "display": null,
      "flex": null,
      "flex_flow": null,
      "grid_area": null,
      "grid_auto_columns": null,
      "grid_auto_flow": null,
      "grid_auto_rows": null,
      "grid_column": null,
      "grid_gap": null,
      "grid_row": null,
      "grid_template_areas": null,
      "grid_template_columns": null,
      "grid_template_rows": null,
      "height": null,
      "justify_content": null,
      "justify_items": null,
      "left": null,
      "margin": null,
      "max_height": null,
      "max_width": null,
      "min_height": null,
      "min_width": null,
      "object_fit": null,
      "object_position": null,
      "order": null,
      "overflow": null,
      "overflow_x": null,
      "overflow_y": null,
      "padding": null,
      "right": null,
      "top": null,
      "visibility": null,
      "width": null
     }
    },
    "bd9b168f14bd4ab89ef868535379d749": {
     "model_module": "@jupyter-widgets/controls",
     "model_module_version": "1.5.0",
     "model_name": "LabelModel",
     "state": {
      "_dom_classes": [],
      "_model_module": "@jupyter-widgets/controls",
      "_model_module_version": "1.5.0",
      "_model_name": "LabelModel",
      "_view_count": null,
      "_view_module": "@jupyter-widgets/controls",
      "_view_module_version": "1.5.0",
      "_view_name": "LabelView",
      "description": "",
      "description_tooltip": null,
      "layout": "IPY_MODEL_1263f6e7e20646e289d5743c8144b270",
      "placeholder": "​",
      "style": "IPY_MODEL_430ca5f8185942d5a307c488fd49cae0",
      "value": "0.058 MB of 0.058 MB uploaded\r"
     }
    },
    "bf41df9671744572a3ea8366f08806b3": {
     "model_module": "@jupyter-widgets/base",
     "model_module_version": "1.2.0",
     "model_name": "LayoutModel",
     "state": {
      "_model_module": "@jupyter-widgets/base",
      "_model_module_version": "1.2.0",
      "_model_name": "LayoutModel",
      "_view_count": null,
      "_view_module": "@jupyter-widgets/base",
      "_view_module_version": "1.2.0",
      "_view_name": "LayoutView",
      "align_content": null,
      "align_items": null,
      "align_self": null,
      "border": null,
      "bottom": null,
      "display": null,
      "flex": null,
      "flex_flow": null,
      "grid_area": null,
      "grid_auto_columns": null,
      "grid_auto_flow": null,
      "grid_auto_rows": null,
      "grid_column": null,
      "grid_gap": null,
      "grid_row": null,
      "grid_template_areas": null,
      "grid_template_columns": null,
      "grid_template_rows": null,
      "height": null,
      "justify_content": null,
      "justify_items": null,
      "left": null,
      "margin": null,
      "max_height": null,
      "max_width": null,
      "min_height": null,
      "min_width": null,
      "object_fit": null,
      "object_position": null,
      "order": null,
      "overflow": null,
      "overflow_x": null,
      "overflow_y": null,
      "padding": null,
      "right": null,
      "top": null,
      "visibility": null,
      "width": null
     }
    },
    "c12962fa1f9643889120adefa7a0ca5b": {
     "model_module": "@jupyter-widgets/controls",
     "model_module_version": "1.5.0",
     "model_name": "DescriptionStyleModel",
     "state": {
      "_model_module": "@jupyter-widgets/controls",
      "_model_module_version": "1.5.0",
      "_model_name": "DescriptionStyleModel",
      "_view_count": null,
      "_view_module": "@jupyter-widgets/base",
      "_view_module_version": "1.2.0",
      "_view_name": "StyleView",
      "description_width": ""
     }
    },
    "c13c009219bc4595ac049e1e11c9d087": {
     "model_module": "@jupyter-widgets/controls",
     "model_module_version": "1.5.0",
     "model_name": "DescriptionStyleModel",
     "state": {
      "_model_module": "@jupyter-widgets/controls",
      "_model_module_version": "1.5.0",
      "_model_name": "DescriptionStyleModel",
      "_view_count": null,
      "_view_module": "@jupyter-widgets/base",
      "_view_module_version": "1.2.0",
      "_view_name": "StyleView",
      "description_width": ""
     }
    },
    "c1a6f0c9fc344db0b0d53369cbe816e6": {
     "model_module": "@jupyter-widgets/controls",
     "model_module_version": "1.5.0",
     "model_name": "VBoxModel",
     "state": {
      "_dom_classes": [],
      "_model_module": "@jupyter-widgets/controls",
      "_model_module_version": "1.5.0",
      "_model_name": "VBoxModel",
      "_view_count": null,
      "_view_module": "@jupyter-widgets/controls",
      "_view_module_version": "1.5.0",
      "_view_name": "VBoxView",
      "box_style": "",
      "children": [
       "IPY_MODEL_428b4fe4335444a694990bcf4e3913f0",
       "IPY_MODEL_5823eeef50524bad9569bfeecd1f4943"
      ],
      "layout": "IPY_MODEL_ba6d883f8e584828b1b23ba9983822fe"
     }
    },
    "c49afb70f0ef4407a8b9abe695759a5b": {
     "model_module": "@jupyter-widgets/controls",
     "model_module_version": "1.5.0",
     "model_name": "FloatProgressModel",
     "state": {
      "_dom_classes": [],
      "_model_module": "@jupyter-widgets/controls",
      "_model_module_version": "1.5.0",
      "_model_name": "FloatProgressModel",
      "_view_count": null,
      "_view_module": "@jupyter-widgets/controls",
      "_view_module_version": "1.5.0",
      "_view_name": "ProgressView",
      "bar_style": "",
      "description": "",
      "description_tooltip": null,
      "layout": "IPY_MODEL_dcd2917ae08d41508cf24019664b71b2",
      "max": 1,
      "min": 0,
      "orientation": "horizontal",
      "style": "IPY_MODEL_ba6052aa9b864070b26d444e88d0a2e2",
      "value": 1
     }
    },
    "cc0168aa9b2e48e7b660463c93ba5171": {
     "model_module": "@jupyter-widgets/controls",
     "model_module_version": "1.5.0",
     "model_name": "FloatProgressModel",
     "state": {
      "_dom_classes": [],
      "_model_module": "@jupyter-widgets/controls",
      "_model_module_version": "1.5.0",
      "_model_name": "FloatProgressModel",
      "_view_count": null,
      "_view_module": "@jupyter-widgets/controls",
      "_view_module_version": "1.5.0",
      "_view_name": "ProgressView",
      "bar_style": "",
      "description": "",
      "description_tooltip": null,
      "layout": "IPY_MODEL_2f9c3c2fe317495c904b8fa21cdd066e",
      "max": 1,
      "min": 0,
      "orientation": "horizontal",
      "style": "IPY_MODEL_a0d449da929947309b4fe2dd4c7289a4",
      "value": 1
     }
    },
    "cc3c635ecb124c5385032b2408b0b0c2": {
     "model_module": "@jupyter-widgets/controls",
     "model_module_version": "1.5.0",
     "model_name": "ProgressStyleModel",
     "state": {
      "_model_module": "@jupyter-widgets/controls",
      "_model_module_version": "1.5.0",
      "_model_name": "ProgressStyleModel",
      "_view_count": null,
      "_view_module": "@jupyter-widgets/base",
      "_view_module_version": "1.2.0",
      "_view_name": "StyleView",
      "bar_color": null,
      "description_width": ""
     }
    },
    "cd820a8d96204abcb0e45e57ab325614": {
     "model_module": "@jupyter-widgets/base",
     "model_module_version": "1.2.0",
     "model_name": "LayoutModel",
     "state": {
      "_model_module": "@jupyter-widgets/base",
      "_model_module_version": "1.2.0",
      "_model_name": "LayoutModel",
      "_view_count": null,
      "_view_module": "@jupyter-widgets/base",
      "_view_module_version": "1.2.0",
      "_view_name": "LayoutView",
      "align_content": null,
      "align_items": null,
      "align_self": null,
      "border": null,
      "bottom": null,
      "display": null,
      "flex": null,
      "flex_flow": null,
      "grid_area": null,
      "grid_auto_columns": null,
      "grid_auto_flow": null,
      "grid_auto_rows": null,
      "grid_column": null,
      "grid_gap": null,
      "grid_row": null,
      "grid_template_areas": null,
      "grid_template_columns": null,
      "grid_template_rows": null,
      "height": null,
      "justify_content": null,
      "justify_items": null,
      "left": null,
      "margin": null,
      "max_height": null,
      "max_width": null,
      "min_height": null,
      "min_width": null,
      "object_fit": null,
      "object_position": null,
      "order": null,
      "overflow": null,
      "overflow_x": null,
      "overflow_y": null,
      "padding": null,
      "right": null,
      "top": null,
      "visibility": null,
      "width": null
     }
    },
    "cdaa331e09be4aee87b611e8370f4e51": {
     "model_module": "@jupyter-widgets/controls",
     "model_module_version": "1.5.0",
     "model_name": "VBoxModel",
     "state": {
      "_dom_classes": [],
      "_model_module": "@jupyter-widgets/controls",
      "_model_module_version": "1.5.0",
      "_model_name": "VBoxModel",
      "_view_count": null,
      "_view_module": "@jupyter-widgets/controls",
      "_view_module_version": "1.5.0",
      "_view_name": "VBoxView",
      "box_style": "",
      "children": [
       "IPY_MODEL_726b7b53c41c42f7ad60d0b0b6441cb6",
       "IPY_MODEL_a5727f625d81416c8c3a13786a0da543"
      ],
      "layout": "IPY_MODEL_fc328ca34a7442d5a455181af80bedd6"
     }
    },
    "cf9b80e5f34e49a69166aeb69594dfbc": {
     "model_module": "@jupyter-widgets/base",
     "model_module_version": "1.2.0",
     "model_name": "LayoutModel",
     "state": {
      "_model_module": "@jupyter-widgets/base",
      "_model_module_version": "1.2.0",
      "_model_name": "LayoutModel",
      "_view_count": null,
      "_view_module": "@jupyter-widgets/base",
      "_view_module_version": "1.2.0",
      "_view_name": "LayoutView",
      "align_content": null,
      "align_items": null,
      "align_self": null,
      "border": null,
      "bottom": null,
      "display": null,
      "flex": null,
      "flex_flow": null,
      "grid_area": null,
      "grid_auto_columns": null,
      "grid_auto_flow": null,
      "grid_auto_rows": null,
      "grid_column": null,
      "grid_gap": null,
      "grid_row": null,
      "grid_template_areas": null,
      "grid_template_columns": null,
      "grid_template_rows": null,
      "height": null,
      "justify_content": null,
      "justify_items": null,
      "left": null,
      "margin": null,
      "max_height": null,
      "max_width": null,
      "min_height": null,
      "min_width": null,
      "object_fit": null,
      "object_position": null,
      "order": null,
      "overflow": null,
      "overflow_x": null,
      "overflow_y": null,
      "padding": null,
      "right": null,
      "top": null,
      "visibility": null,
      "width": null
     }
    },
    "d21eb11860ba4c89b082825334552f81": {
     "model_module": "@jupyter-widgets/controls",
     "model_module_version": "1.5.0",
     "model_name": "LabelModel",
     "state": {
      "_dom_classes": [],
      "_model_module": "@jupyter-widgets/controls",
      "_model_module_version": "1.5.0",
      "_model_name": "LabelModel",
      "_view_count": null,
      "_view_module": "@jupyter-widgets/controls",
      "_view_module_version": "1.5.0",
      "_view_name": "LabelView",
      "description": "",
      "description_tooltip": null,
      "layout": "IPY_MODEL_eb2e7648098f4685bbcccb7f5190800f",
      "placeholder": "​",
      "style": "IPY_MODEL_4e16eb65b1744b96932699768fe6af1b",
      "value": "0.061 MB of 0.061 MB uploaded\r"
     }
    },
    "d8778d53ddc9471e8644e38c9fb24d1f": {
     "model_module": "@jupyter-widgets/base",
     "model_module_version": "1.2.0",
     "model_name": "LayoutModel",
     "state": {
      "_model_module": "@jupyter-widgets/base",
      "_model_module_version": "1.2.0",
      "_model_name": "LayoutModel",
      "_view_count": null,
      "_view_module": "@jupyter-widgets/base",
      "_view_module_version": "1.2.0",
      "_view_name": "LayoutView",
      "align_content": null,
      "align_items": null,
      "align_self": null,
      "border": null,
      "bottom": null,
      "display": null,
      "flex": null,
      "flex_flow": null,
      "grid_area": null,
      "grid_auto_columns": null,
      "grid_auto_flow": null,
      "grid_auto_rows": null,
      "grid_column": null,
      "grid_gap": null,
      "grid_row": null,
      "grid_template_areas": null,
      "grid_template_columns": null,
      "grid_template_rows": null,
      "height": null,
      "justify_content": null,
      "justify_items": null,
      "left": null,
      "margin": null,
      "max_height": null,
      "max_width": null,
      "min_height": null,
      "min_width": null,
      "object_fit": null,
      "object_position": null,
      "order": null,
      "overflow": null,
      "overflow_x": null,
      "overflow_y": null,
      "padding": null,
      "right": null,
      "top": null,
      "visibility": null,
      "width": null
     }
    },
    "dcd2917ae08d41508cf24019664b71b2": {
     "model_module": "@jupyter-widgets/base",
     "model_module_version": "1.2.0",
     "model_name": "LayoutModel",
     "state": {
      "_model_module": "@jupyter-widgets/base",
      "_model_module_version": "1.2.0",
      "_model_name": "LayoutModel",
      "_view_count": null,
      "_view_module": "@jupyter-widgets/base",
      "_view_module_version": "1.2.0",
      "_view_name": "LayoutView",
      "align_content": null,
      "align_items": null,
      "align_self": null,
      "border": null,
      "bottom": null,
      "display": null,
      "flex": null,
      "flex_flow": null,
      "grid_area": null,
      "grid_auto_columns": null,
      "grid_auto_flow": null,
      "grid_auto_rows": null,
      "grid_column": null,
      "grid_gap": null,
      "grid_row": null,
      "grid_template_areas": null,
      "grid_template_columns": null,
      "grid_template_rows": null,
      "height": null,
      "justify_content": null,
      "justify_items": null,
      "left": null,
      "margin": null,
      "max_height": null,
      "max_width": null,
      "min_height": null,
      "min_width": null,
      "object_fit": null,
      "object_position": null,
      "order": null,
      "overflow": null,
      "overflow_x": null,
      "overflow_y": null,
      "padding": null,
      "right": null,
      "top": null,
      "visibility": null,
      "width": null
     }
    },
    "dd4a8a1577c740ed8feb55297187f0ef": {
     "model_module": "@jupyter-widgets/controls",
     "model_module_version": "1.5.0",
     "model_name": "ProgressStyleModel",
     "state": {
      "_model_module": "@jupyter-widgets/controls",
      "_model_module_version": "1.5.0",
      "_model_name": "ProgressStyleModel",
      "_view_count": null,
      "_view_module": "@jupyter-widgets/base",
      "_view_module_version": "1.2.0",
      "_view_name": "StyleView",
      "bar_color": null,
      "description_width": ""
     }
    },
    "dfac590cbcb64622b09b647a89af21a1": {
     "model_module": "@jupyter-widgets/controls",
     "model_module_version": "1.5.0",
     "model_name": "LabelModel",
     "state": {
      "_dom_classes": [],
      "_model_module": "@jupyter-widgets/controls",
      "_model_module_version": "1.5.0",
      "_model_name": "LabelModel",
      "_view_count": null,
      "_view_module": "@jupyter-widgets/controls",
      "_view_module_version": "1.5.0",
      "_view_name": "LabelView",
      "description": "",
      "description_tooltip": null,
      "layout": "IPY_MODEL_d8778d53ddc9471e8644e38c9fb24d1f",
      "placeholder": "​",
      "style": "IPY_MODEL_3e9e0a2285a04aabb5d1fbda565c1b98",
      "value": "0.011 MB of 0.011 MB uploaded\r"
     }
    },
    "e0226e1f222f4e99995ae848d43254b2": {
     "model_module": "@jupyter-widgets/controls",
     "model_module_version": "1.5.0",
     "model_name": "DescriptionStyleModel",
     "state": {
      "_model_module": "@jupyter-widgets/controls",
      "_model_module_version": "1.5.0",
      "_model_name": "DescriptionStyleModel",
      "_view_count": null,
      "_view_module": "@jupyter-widgets/base",
      "_view_module_version": "1.2.0",
      "_view_name": "StyleView",
      "description_width": ""
     }
    },
    "e13bd9ee42b4469b9471c99462ff5cce": {
     "model_module": "@jupyter-widgets/controls",
     "model_module_version": "1.5.0",
     "model_name": "DescriptionStyleModel",
     "state": {
      "_model_module": "@jupyter-widgets/controls",
      "_model_module_version": "1.5.0",
      "_model_name": "DescriptionStyleModel",
      "_view_count": null,
      "_view_module": "@jupyter-widgets/base",
      "_view_module_version": "1.2.0",
      "_view_name": "StyleView",
      "description_width": ""
     }
    },
    "e3b25b81e82e45948f8af72ae076d1b4": {
     "model_module": "@jupyter-widgets/controls",
     "model_module_version": "1.5.0",
     "model_name": "LabelModel",
     "state": {
      "_dom_classes": [],
      "_model_module": "@jupyter-widgets/controls",
      "_model_module_version": "1.5.0",
      "_model_name": "LabelModel",
      "_view_count": null,
      "_view_module": "@jupyter-widgets/controls",
      "_view_module_version": "1.5.0",
      "_view_name": "LabelView",
      "description": "",
      "description_tooltip": null,
      "layout": "IPY_MODEL_24efb88f70f34e678e182cc5a56d6438",
      "placeholder": "​",
      "style": "IPY_MODEL_99283fce183445c68a0fd670b464c88f",
      "value": "0.011 MB of 0.011 MB uploaded\r"
     }
    },
    "e7785eaca8df4e29b66057ca22fef27a": {
     "model_module": "@jupyter-widgets/base",
     "model_module_version": "1.2.0",
     "model_name": "LayoutModel",
     "state": {
      "_model_module": "@jupyter-widgets/base",
      "_model_module_version": "1.2.0",
      "_model_name": "LayoutModel",
      "_view_count": null,
      "_view_module": "@jupyter-widgets/base",
      "_view_module_version": "1.2.0",
      "_view_name": "LayoutView",
      "align_content": null,
      "align_items": null,
      "align_self": null,
      "border": null,
      "bottom": null,
      "display": null,
      "flex": null,
      "flex_flow": null,
      "grid_area": null,
      "grid_auto_columns": null,
      "grid_auto_flow": null,
      "grid_auto_rows": null,
      "grid_column": null,
      "grid_gap": null,
      "grid_row": null,
      "grid_template_areas": null,
      "grid_template_columns": null,
      "grid_template_rows": null,
      "height": null,
      "justify_content": null,
      "justify_items": null,
      "left": null,
      "margin": null,
      "max_height": null,
      "max_width": null,
      "min_height": null,
      "min_width": null,
      "object_fit": null,
      "object_position": null,
      "order": null,
      "overflow": null,
      "overflow_x": null,
      "overflow_y": null,
      "padding": null,
      "right": null,
      "top": null,
      "visibility": null,
      "width": null
     }
    },
    "e811d82727e2416c83ae7430c45fb379": {
     "model_module": "@jupyter-widgets/controls",
     "model_module_version": "1.5.0",
     "model_name": "DescriptionStyleModel",
     "state": {
      "_model_module": "@jupyter-widgets/controls",
      "_model_module_version": "1.5.0",
      "_model_name": "DescriptionStyleModel",
      "_view_count": null,
      "_view_module": "@jupyter-widgets/base",
      "_view_module_version": "1.2.0",
      "_view_name": "StyleView",
      "description_width": ""
     }
    },
    "eb2e7648098f4685bbcccb7f5190800f": {
     "model_module": "@jupyter-widgets/base",
     "model_module_version": "1.2.0",
     "model_name": "LayoutModel",
     "state": {
      "_model_module": "@jupyter-widgets/base",
      "_model_module_version": "1.2.0",
      "_model_name": "LayoutModel",
      "_view_count": null,
      "_view_module": "@jupyter-widgets/base",
      "_view_module_version": "1.2.0",
      "_view_name": "LayoutView",
      "align_content": null,
      "align_items": null,
      "align_self": null,
      "border": null,
      "bottom": null,
      "display": null,
      "flex": null,
      "flex_flow": null,
      "grid_area": null,
      "grid_auto_columns": null,
      "grid_auto_flow": null,
      "grid_auto_rows": null,
      "grid_column": null,
      "grid_gap": null,
      "grid_row": null,
      "grid_template_areas": null,
      "grid_template_columns": null,
      "grid_template_rows": null,
      "height": null,
      "justify_content": null,
      "justify_items": null,
      "left": null,
      "margin": null,
      "max_height": null,
      "max_width": null,
      "min_height": null,
      "min_width": null,
      "object_fit": null,
      "object_position": null,
      "order": null,
      "overflow": null,
      "overflow_x": null,
      "overflow_y": null,
      "padding": null,
      "right": null,
      "top": null,
      "visibility": null,
      "width": null
     }
    },
    "ebd99fb18857460c90c56bf7fe24216d": {
     "model_module": "@jupyter-widgets/controls",
     "model_module_version": "1.5.0",
     "model_name": "FloatProgressModel",
     "state": {
      "_dom_classes": [],
      "_model_module": "@jupyter-widgets/controls",
      "_model_module_version": "1.5.0",
      "_model_name": "FloatProgressModel",
      "_view_count": null,
      "_view_module": "@jupyter-widgets/controls",
      "_view_module_version": "1.5.0",
      "_view_name": "ProgressView",
      "bar_style": "",
      "description": "",
      "description_tooltip": null,
      "layout": "IPY_MODEL_27d040ecafbd4984ba1d74d671e26d4a",
      "max": 1,
      "min": 0,
      "orientation": "horizontal",
      "style": "IPY_MODEL_3f008cc315924430b2ef5b643cda81ca",
      "value": 1
     }
    },
    "ed64f9d7af30435597b708eafe38767b": {
     "model_module": "@jupyter-widgets/controls",
     "model_module_version": "1.5.0",
     "model_name": "ProgressStyleModel",
     "state": {
      "_model_module": "@jupyter-widgets/controls",
      "_model_module_version": "1.5.0",
      "_model_name": "ProgressStyleModel",
      "_view_count": null,
      "_view_module": "@jupyter-widgets/base",
      "_view_module_version": "1.2.0",
      "_view_name": "StyleView",
      "bar_color": null,
      "description_width": ""
     }
    },
    "ed6ec7494a534c628db084ee41ca78ce": {
     "model_module": "@jupyter-widgets/controls",
     "model_module_version": "1.5.0",
     "model_name": "VBoxModel",
     "state": {
      "_dom_classes": [],
      "_model_module": "@jupyter-widgets/controls",
      "_model_module_version": "1.5.0",
      "_model_name": "VBoxModel",
      "_view_count": null,
      "_view_module": "@jupyter-widgets/controls",
      "_view_module_version": "1.5.0",
      "_view_name": "VBoxView",
      "box_style": "",
      "children": [
       "IPY_MODEL_d21eb11860ba4c89b082825334552f81",
       "IPY_MODEL_864d5d5a6c3c44219ff87b1534cba269"
      ],
      "layout": "IPY_MODEL_374722acef4b4d5391cfb19c4ab8fda0"
     }
    },
    "eec954b3ee50455a9809f2e5fe911139": {
     "model_module": "@jupyter-widgets/controls",
     "model_module_version": "1.5.0",
     "model_name": "ProgressStyleModel",
     "state": {
      "_model_module": "@jupyter-widgets/controls",
      "_model_module_version": "1.5.0",
      "_model_name": "ProgressStyleModel",
      "_view_count": null,
      "_view_module": "@jupyter-widgets/base",
      "_view_module_version": "1.2.0",
      "_view_name": "StyleView",
      "bar_color": null,
      "description_width": ""
     }
    },
    "ef98ee957ec947728e85cc369f63e976": {
     "model_module": "@jupyter-widgets/controls",
     "model_module_version": "1.5.0",
     "model_name": "LabelModel",
     "state": {
      "_dom_classes": [],
      "_model_module": "@jupyter-widgets/controls",
      "_model_module_version": "1.5.0",
      "_model_name": "LabelModel",
      "_view_count": null,
      "_view_module": "@jupyter-widgets/controls",
      "_view_module_version": "1.5.0",
      "_view_name": "LabelView",
      "description": "",
      "description_tooltip": null,
      "layout": "IPY_MODEL_cf9b80e5f34e49a69166aeb69594dfbc",
      "placeholder": "​",
      "style": "IPY_MODEL_040cbbcd58b542e783f069ba0594cd6c",
      "value": "0.058 MB of 0.058 MB uploaded\r"
     }
    },
    "f89eb28e38bf436da0d937f5747923fe": {
     "model_module": "@jupyter-widgets/base",
     "model_module_version": "1.2.0",
     "model_name": "LayoutModel",
     "state": {
      "_model_module": "@jupyter-widgets/base",
      "_model_module_version": "1.2.0",
      "_model_name": "LayoutModel",
      "_view_count": null,
      "_view_module": "@jupyter-widgets/base",
      "_view_module_version": "1.2.0",
      "_view_name": "LayoutView",
      "align_content": null,
      "align_items": null,
      "align_self": null,
      "border": null,
      "bottom": null,
      "display": null,
      "flex": null,
      "flex_flow": null,
      "grid_area": null,
      "grid_auto_columns": null,
      "grid_auto_flow": null,
      "grid_auto_rows": null,
      "grid_column": null,
      "grid_gap": null,
      "grid_row": null,
      "grid_template_areas": null,
      "grid_template_columns": null,
      "grid_template_rows": null,
      "height": null,
      "justify_content": null,
      "justify_items": null,
      "left": null,
      "margin": null,
      "max_height": null,
      "max_width": null,
      "min_height": null,
      "min_width": null,
      "object_fit": null,
      "object_position": null,
      "order": null,
      "overflow": null,
      "overflow_x": null,
      "overflow_y": null,
      "padding": null,
      "right": null,
      "top": null,
      "visibility": null,
      "width": null
     }
    },
    "fc328ca34a7442d5a455181af80bedd6": {
     "model_module": "@jupyter-widgets/base",
     "model_module_version": "1.2.0",
     "model_name": "LayoutModel",
     "state": {
      "_model_module": "@jupyter-widgets/base",
      "_model_module_version": "1.2.0",
      "_model_name": "LayoutModel",
      "_view_count": null,
      "_view_module": "@jupyter-widgets/base",
      "_view_module_version": "1.2.0",
      "_view_name": "LayoutView",
      "align_content": null,
      "align_items": null,
      "align_self": null,
      "border": null,
      "bottom": null,
      "display": null,
      "flex": null,
      "flex_flow": null,
      "grid_area": null,
      "grid_auto_columns": null,
      "grid_auto_flow": null,
      "grid_auto_rows": null,
      "grid_column": null,
      "grid_gap": null,
      "grid_row": null,
      "grid_template_areas": null,
      "grid_template_columns": null,
      "grid_template_rows": null,
      "height": null,
      "justify_content": null,
      "justify_items": null,
      "left": null,
      "margin": null,
      "max_height": null,
      "max_width": null,
      "min_height": null,
      "min_width": null,
      "object_fit": null,
      "object_position": null,
      "order": null,
      "overflow": null,
      "overflow_x": null,
      "overflow_y": null,
      "padding": null,
      "right": null,
      "top": null,
      "visibility": null,
      "width": null
     }
    },
    "fd150774706446458ae6c09b17895525": {
     "model_module": "@jupyter-widgets/base",
     "model_module_version": "1.2.0",
     "model_name": "LayoutModel",
     "state": {
      "_model_module": "@jupyter-widgets/base",
      "_model_module_version": "1.2.0",
      "_model_name": "LayoutModel",
      "_view_count": null,
      "_view_module": "@jupyter-widgets/base",
      "_view_module_version": "1.2.0",
      "_view_name": "LayoutView",
      "align_content": null,
      "align_items": null,
      "align_self": null,
      "border": null,
      "bottom": null,
      "display": null,
      "flex": null,
      "flex_flow": null,
      "grid_area": null,
      "grid_auto_columns": null,
      "grid_auto_flow": null,
      "grid_auto_rows": null,
      "grid_column": null,
      "grid_gap": null,
      "grid_row": null,
      "grid_template_areas": null,
      "grid_template_columns": null,
      "grid_template_rows": null,
      "height": null,
      "justify_content": null,
      "justify_items": null,
      "left": null,
      "margin": null,
      "max_height": null,
      "max_width": null,
      "min_height": null,
      "min_width": null,
      "object_fit": null,
      "object_position": null,
      "order": null,
      "overflow": null,
      "overflow_x": null,
      "overflow_y": null,
      "padding": null,
      "right": null,
      "top": null,
      "visibility": null,
      "width": null
     }
    },
    "fff3efbbee044447b886980a1f6d31a9": {
     "model_module": "@jupyter-widgets/controls",
     "model_module_version": "1.5.0",
     "model_name": "FloatProgressModel",
     "state": {
      "_dom_classes": [],
      "_model_module": "@jupyter-widgets/controls",
      "_model_module_version": "1.5.0",
      "_model_name": "FloatProgressModel",
      "_view_count": null,
      "_view_module": "@jupyter-widgets/controls",
      "_view_module_version": "1.5.0",
      "_view_name": "ProgressView",
      "bar_style": "",
      "description": "",
      "description_tooltip": null,
      "layout": "IPY_MODEL_aa72babaeeeb43e0b15f17c65e35a349",
      "max": 1,
      "min": 0,
      "orientation": "horizontal",
      "style": "IPY_MODEL_29d1d0ed8bb847fe9bba6da5e211b389",
      "value": 1
     }
    }
   }
  }
 },
 "nbformat": 4,
 "nbformat_minor": 4
}
